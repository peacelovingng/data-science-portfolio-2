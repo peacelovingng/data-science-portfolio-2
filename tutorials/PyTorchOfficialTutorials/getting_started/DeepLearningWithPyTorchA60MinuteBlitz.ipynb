{
 "cells": [
  {
   "cell_type": "markdown",
   "metadata": {},
   "source": [
    "__Deep learning with PyTorch: A 60 minute blitz__\n",
    "\n",
    "1. [Load tools](#Load-tools)\n",
    "1. [What is PyTorch?](#What-is-PyTorch?)\n",
    "    1. [Tensors](#Tensors)\n",
    "    1. [Operations](#Operations)\n",
    "    1. [Numpy bridge](#Numpy-bridge)    \n",
    "    1. [CUDA tensors](#CUDA-tensors)\n",
    "1. [Autograd - automatic differentiation](#Autograd-automatic-differentiation)\n",
    "    1. [](#)\n",
    "    1. [](#)\n",
    "1. [Neural networks](#Neural-networks)\n",
    "    1. [](#)\n",
    "    1. [](#)\n",
    "1. [Training a classifier](#Training-a-classifier)\n",
    "    1. [](#)\n",
    "    1. [](#)\n",
    "1. [Data parallelism](#Data-parallelism)\n",
    "    1. [](#)\n",
    "    1. [](#)"
   ]
  },
  {
   "cell_type": "markdown",
   "metadata": {
    "heading_collapsed": true
   },
   "source": [
    "# Load tools"
   ]
  },
  {
   "cell_type": "markdown",
   "metadata": {
    "hidden": true
   },
   "source": [
    "<a id = 'Load-tools'></a>"
   ]
  },
  {
   "cell_type": "code",
   "execution_count": 2,
   "metadata": {
    "ExecuteTime": {
     "end_time": "2019-05-02T12:51:47.058742Z",
     "start_time": "2019-05-02T12:51:47.046618Z"
    },
    "hidden": true
   },
   "outputs": [
    {
     "data": {
      "text/html": [
       "<style>.container { width:95% !important; }</style>"
      ],
      "text/plain": [
       "<IPython.core.display.HTML object>"
      ]
     },
     "metadata": {},
     "output_type": "display_data"
    }
   ],
   "source": [
    "# Standard libary and settings\n",
    "import os\n",
    "import sys\n",
    "import warnings; warnings.simplefilter('ignore')\n",
    "from IPython.core.display import display, HTML; display(HTML(\"<style>.container { width:95% !important; }</style>\"))\n",
    "\n",
    "# Data extensions and settings\n",
    "import numpy as np\n",
    "np.set_printoptions(threshold = np.inf, suppress = True)\n",
    "import pandas as pd\n",
    "pd.set_option('display.max_rows', 500)\n",
    "pd.set_option('display.max_columns', 500)\n",
    "pd.options.display.float_format = '{:,.6f}'.format\n",
    "\n",
    "# import PyTorch\n",
    "import torch\n",
    "from torch.utils.data import Dataset, DataLoader\n",
    "import torch. autograd as autograd\n",
    "from torch.autograd import Variable\n",
    "import torch.nn as nn\n",
    "import torch.nn.functional as F\n",
    "import torch.optim as optim\n",
    "from torch.jit import script, trace\n",
    "\n",
    "# Visualization extensions and settings\n",
    "import seaborn as sns\n",
    "import matplotlib.pyplot as plt\n",
    "\n",
    "# Magic functions\n",
    "%matplotlib inline\n"
   ]
  },
  {
   "cell_type": "markdown",
   "metadata": {},
   "source": [
    "# What is PyTorch?"
   ]
  },
  {
   "cell_type": "markdown",
   "metadata": {},
   "source": [
    "<a id = 'What-is-PyTorch?'></a>"
   ]
  },
  {
   "cell_type": "markdown",
   "metadata": {},
   "source": [
    "## Tensors"
   ]
  },
  {
   "cell_type": "markdown",
   "metadata": {},
   "source": [
    "<a id = 'Tensors'></a>"
   ]
  },
  {
   "cell_type": "code",
   "execution_count": 3,
   "metadata": {
    "ExecuteTime": {
     "end_time": "2019-05-02T12:55:21.008772Z",
     "start_time": "2019-05-02T12:55:20.525821Z"
    }
   },
   "outputs": [
    {
     "data": {
      "text/plain": [
       "tensor([[-9.7300e+11,  4.5652e-41,  3.6386e+24],\n",
       "        [ 3.0714e-41,  1.3563e-19,  1.3563e-19],\n",
       "        [ 1.3563e-19,  9.8439e-12,  7.1390e+31],\n",
       "        [ 1.8037e+28,  2.0706e-19,  1.9349e-19],\n",
       "        [ 3.0263e+29,  1.1728e-19,  2.7487e+20]])"
      ]
     },
     "execution_count": 3,
     "metadata": {},
     "output_type": "execute_result"
    }
   ],
   "source": [
    "# uninitialized 3 by 3 matrix\n",
    "x = torch.empty(5, 3)\n",
    "x \n"
   ]
  },
  {
   "cell_type": "code",
   "execution_count": 6,
   "metadata": {
    "ExecuteTime": {
     "end_time": "2019-05-02T12:56:07.225389Z",
     "start_time": "2019-05-02T12:56:07.219572Z"
    }
   },
   "outputs": [
    {
     "data": {
      "text/plain": [
       "tensor([[0.8276, 0.7862, 0.5358],\n",
       "        [0.2691, 0.0500, 0.1871],\n",
       "        [0.4402, 0.6702, 0.9650],\n",
       "        [0.5082, 0.3722, 0.9869],\n",
       "        [0.5659, 0.7176, 0.0205]])"
      ]
     },
     "execution_count": 6,
     "metadata": {},
     "output_type": "execute_result"
    }
   ],
   "source": [
    "# randomly initialized matrix\n",
    "x = torch.rand(5, 3)\n",
    "x\n"
   ]
  },
  {
   "cell_type": "code",
   "execution_count": 7,
   "metadata": {
    "ExecuteTime": {
     "end_time": "2019-05-02T12:56:44.890348Z",
     "start_time": "2019-05-02T12:56:44.884283Z"
    }
   },
   "outputs": [
    {
     "data": {
      "text/plain": [
       "tensor([[0, 0, 0],\n",
       "        [0, 0, 0],\n",
       "        [0, 0, 0],\n",
       "        [0, 0, 0],\n",
       "        [0, 0, 0]])"
      ]
     },
     "execution_count": 7,
     "metadata": {},
     "output_type": "execute_result"
    }
   ],
   "source": [
    "# initialize matrix filled with zeros and of data type long\n",
    "x = torch.zeros(5, 3, dtype = torch.long)\n",
    "x\n"
   ]
  },
  {
   "cell_type": "code",
   "execution_count": 11,
   "metadata": {
    "ExecuteTime": {
     "end_time": "2019-05-02T13:05:17.939000Z",
     "start_time": "2019-05-02T13:05:17.932569Z"
    }
   },
   "outputs": [
    {
     "data": {
      "text/plain": [
       "tensor([5.5000, 3.0000])"
      ]
     },
     "execution_count": 11,
     "metadata": {},
     "output_type": "execute_result"
    }
   ],
   "source": [
    "# construct tensor directly from input data\n",
    "x = torch.tensor([5.5, 3])\n",
    "x\n"
   ]
  },
  {
   "cell_type": "code",
   "execution_count": 12,
   "metadata": {
    "ExecuteTime": {
     "end_time": "2019-05-02T13:05:19.492231Z",
     "start_time": "2019-05-02T13:05:19.484925Z"
    }
   },
   "outputs": [
    {
     "data": {
      "text/plain": [
       "tensor([[1., 1., 1., 1., 1.],\n",
       "        [1., 1., 1., 1., 1.],\n",
       "        [1., 1., 1., 1., 1.],\n",
       "        [1., 1., 1., 1., 1.],\n",
       "        [1., 1., 1., 1., 1.]], dtype=torch.float64)"
      ]
     },
     "execution_count": 12,
     "metadata": {},
     "output_type": "execute_result"
    }
   ],
   "source": [
    "# construct tensor based on existing tensor\n",
    "# reuses properties of input tensor such as datatype, unless overridden\n",
    "x = x.new_ones(5, 5, dtype = torch.double)\n",
    "x\n"
   ]
  },
  {
   "cell_type": "code",
   "execution_count": 13,
   "metadata": {
    "ExecuteTime": {
     "end_time": "2019-05-02T13:05:50.378988Z",
     "start_time": "2019-05-02T13:05:50.333330Z"
    }
   },
   "outputs": [
    {
     "data": {
      "text/plain": [
       "tensor([[ 1.0522, -1.0460,  0.4419, -0.1849, -0.1907],\n",
       "        [ 1.6835,  1.6386, -0.8171, -1.1147, -0.0928],\n",
       "        [-0.9165, -1.4796, -0.7995,  0.9421, -1.2656],\n",
       "        [-1.2507, -1.1456, -0.0069,  1.6657,  0.5465],\n",
       "        [ 0.4836,  0.9832,  0.3220,  0.8043,  0.7400]])"
      ]
     },
     "execution_count": 13,
     "metadata": {},
     "output_type": "execute_result"
    }
   ],
   "source": [
    "#\n",
    "x = torch.randn_like(x, dtype = torch.float)\n",
    "x\n"
   ]
  },
  {
   "cell_type": "code",
   "execution_count": 14,
   "metadata": {
    "ExecuteTime": {
     "end_time": "2019-05-02T13:06:13.833394Z",
     "start_time": "2019-05-02T13:06:13.827723Z"
    }
   },
   "outputs": [
    {
     "data": {
      "text/plain": [
       "torch.Size([5, 3])"
      ]
     },
     "execution_count": 14,
     "metadata": {},
     "output_type": "execute_result"
    }
   ],
   "source": [
    "#\n",
    "torch.Size([5, 3])"
   ]
  },
  {
   "cell_type": "markdown",
   "metadata": {},
   "source": [
    "## Operations"
   ]
  },
  {
   "cell_type": "markdown",
   "metadata": {},
   "source": [
    "<a id = 'Operations'></a>"
   ]
  },
  {
   "cell_type": "code",
   "execution_count": 16,
   "metadata": {
    "ExecuteTime": {
     "end_time": "2019-05-02T13:07:05.887040Z",
     "start_time": "2019-05-02T13:07:05.877066Z"
    }
   },
   "outputs": [
    {
     "name": "stdout",
     "output_type": "stream",
     "text": [
      "tensor([[1.1701, 0.9582, 1.7936],\n",
      "        [0.7377, 0.3268, 0.3625],\n",
      "        [1.3486, 1.0652, 1.0988],\n",
      "        [1.4752, 1.4661, 0.5582],\n",
      "        [0.9773, 1.0988, 0.9155]])\n"
     ]
    }
   ],
   "source": [
    "# add two tensors\n",
    "x = torch.rand(5, 3)\n",
    "y = torch.rand(5, 3)\n",
    "print(x + y)\n"
   ]
  },
  {
   "cell_type": "code",
   "execution_count": 17,
   "metadata": {
    "ExecuteTime": {
     "end_time": "2019-05-02T13:07:30.412091Z",
     "start_time": "2019-05-02T13:07:30.347451Z"
    }
   },
   "outputs": [
    {
     "name": "stdout",
     "output_type": "stream",
     "text": [
      "tensor([[1.1701, 0.9582, 1.7936],\n",
      "        [0.7377, 0.3268, 0.3625],\n",
      "        [1.3486, 1.0652, 1.0988],\n",
      "        [1.4752, 1.4661, 0.5582],\n",
      "        [0.9773, 1.0988, 0.9155]])\n"
     ]
    }
   ],
   "source": [
    "# alternative addition syntax\n",
    "print(torch.add(x, y))\n"
   ]
  },
  {
   "cell_type": "code",
   "execution_count": 19,
   "metadata": {
    "ExecuteTime": {
     "end_time": "2019-05-02T13:11:38.739679Z",
     "start_time": "2019-05-02T13:11:38.731703Z"
    }
   },
   "outputs": [
    {
     "data": {
      "text/plain": [
       "tensor([[1.1701, 0.9582, 1.7936],\n",
       "        [0.7377, 0.3268, 0.3625],\n",
       "        [1.3486, 1.0652, 1.0988],\n",
       "        [1.4752, 1.4661, 0.5582],\n",
       "        [0.9773, 1.0988, 0.9155]])"
      ]
     },
     "execution_count": 19,
     "metadata": {},
     "output_type": "execute_result"
    }
   ],
   "source": [
    "# provide an output tensor as an argument\n",
    "result = torch.empty(5, 3)\n",
    "torch.add(x, y, out = result)\n",
    "result\n"
   ]
  },
  {
   "cell_type": "code",
   "execution_count": 20,
   "metadata": {
    "ExecuteTime": {
     "end_time": "2019-05-02T13:11:58.065973Z",
     "start_time": "2019-05-02T13:11:58.055152Z"
    }
   },
   "outputs": [
    {
     "data": {
      "text/plain": [
       "tensor([[1.1701, 0.9582, 1.7936],\n",
       "        [0.7377, 0.3268, 0.3625],\n",
       "        [1.3486, 1.0652, 1.0988],\n",
       "        [1.4752, 1.4661, 0.5582],\n",
       "        [0.9773, 1.0988, 0.9155]])"
      ]
     },
     "execution_count": 20,
     "metadata": {},
     "output_type": "execute_result"
    }
   ],
   "source": [
    "# in-place addition. in-place operators have an underscore suffix\n",
    "y.add_(x)\n",
    "y\n"
   ]
  },
  {
   "cell_type": "code",
   "execution_count": 23,
   "metadata": {
    "ExecuteTime": {
     "end_time": "2019-05-02T13:13:26.702818Z",
     "start_time": "2019-05-02T13:13:26.698224Z"
    }
   },
   "outputs": [
    {
     "data": {
      "text/plain": [
       "tensor([0.9582, 0.3268, 1.0652, 1.4661, 1.0988])"
      ]
     },
     "execution_count": 23,
     "metadata": {},
     "output_type": "execute_result"
    }
   ],
   "source": [
    "# numpy-esque slicing\n",
    "y[:, 1]\n"
   ]
  },
  {
   "cell_type": "code",
   "execution_count": 25,
   "metadata": {
    "ExecuteTime": {
     "end_time": "2019-05-02T13:15:23.126624Z",
     "start_time": "2019-05-02T13:15:23.115153Z"
    }
   },
   "outputs": [
    {
     "name": "stdout",
     "output_type": "stream",
     "text": [
      "4 by 4\n",
      "\n",
      "tensor([[-0.1141,  0.5764, -0.1237, -0.7859],\n",
      "        [-1.8387,  0.4665, -0.6362, -0.1919],\n",
      "        [ 0.0670,  0.1599, -0.2152, -0.1759],\n",
      "        [ 0.7113, -1.2659, -0.7085, -0.5246]])\n",
      "\n",
      "1 by 16\n",
      "\n",
      "tensor([-0.1141,  0.5764, -0.1237, -0.7859, -1.8387,  0.4665, -0.6362, -0.1919,\n",
      "         0.0670,  0.1599, -0.2152, -0.1759,  0.7113, -1.2659, -0.7085, -0.5246])\n",
      "\n",
      "2 by 8\n",
      "\n",
      "tensor([[-0.1141,  0.5764, -0.1237, -0.7859, -1.8387,  0.4665, -0.6362, -0.1919],\n",
      "        [ 0.0670,  0.1599, -0.2152, -0.1759,  0.7113, -1.2659, -0.7085, -0.5246]])\n"
     ]
    }
   ],
   "source": [
    "# resize/reshape\n",
    "x = torch.randn(4, 4)\n",
    "y = x.view(16)\n",
    "z = x.view(-1, 8) # -1 is inferred from other dimensions\n",
    "\n",
    "print('4 by 4\\n')\n",
    "print(x)\n",
    "print('\\n1 by 16\\n')\n",
    "print(y)\n",
    "print('\\n2 by 8\\n')\n",
    "print(z)\n"
   ]
  },
  {
   "cell_type": "code",
   "execution_count": 26,
   "metadata": {
    "ExecuteTime": {
     "end_time": "2019-05-02T13:18:59.649240Z",
     "start_time": "2019-05-02T13:18:59.641707Z"
    }
   },
   "outputs": [
    {
     "name": "stdout",
     "output_type": "stream",
     "text": [
      "tensor([-0.6776])\n",
      "-0.6775725483894348\n"
     ]
    }
   ],
   "source": [
    "# access data point in one element tensor\n",
    "x = torch.randn(1)\n",
    "print(x)\n",
    "print(x.item())\n"
   ]
  },
  {
   "cell_type": "markdown",
   "metadata": {},
   "source": [
    "## Numpy bridge"
   ]
  },
  {
   "cell_type": "markdown",
   "metadata": {},
   "source": [
    "<a id = 'Numpy-bridge'></a>"
   ]
  },
  {
   "cell_type": "code",
   "execution_count": 28,
   "metadata": {
    "ExecuteTime": {
     "end_time": "2019-05-02T13:26:04.975515Z",
     "start_time": "2019-05-02T13:26:04.963792Z"
    }
   },
   "outputs": [
    {
     "name": "stdout",
     "output_type": "stream",
     "text": [
      "tensor([1., 1., 1., 1., 1.])\n",
      "[1. 1. 1. 1. 1.]\n"
     ]
    }
   ],
   "source": [
    "# convery torch tensor to numpy array\n",
    "a = torch.ones(5)\n",
    "print(a)\n",
    "\n",
    "b = a.numpy()\n",
    "print(b)\n"
   ]
  },
  {
   "cell_type": "code",
   "execution_count": 29,
   "metadata": {
    "ExecuteTime": {
     "end_time": "2019-05-02T13:26:45.163383Z",
     "start_time": "2019-05-02T13:26:45.154331Z"
    }
   },
   "outputs": [
    {
     "name": "stdout",
     "output_type": "stream",
     "text": [
      "tensor([2., 2., 2., 2., 2.])\n",
      "[2. 2. 2. 2. 2.]\n"
     ]
    }
   ],
   "source": [
    "# value update reflected in both the tensor and array\n",
    "a.add_(1)\n",
    "print(a)\n",
    "print(b)\n"
   ]
  },
  {
   "cell_type": "code",
   "execution_count": 32,
   "metadata": {
    "ExecuteTime": {
     "end_time": "2019-05-02T13:27:46.092121Z",
     "start_time": "2019-05-02T13:27:46.080610Z"
    }
   },
   "outputs": [
    {
     "name": "stdout",
     "output_type": "stream",
     "text": [
      "[2. 2. 2. 2. 2.]\n",
      "tensor([2., 2., 2., 2., 2.], dtype=torch.float64)\n"
     ]
    }
   ],
   "source": [
    "# convert numpy array to torch tensor\n",
    "a = np.ones(5)\n",
    "b = torch.from_numpy(a)\n",
    "np.add(a, 1, out = a)\n",
    "print(a)\n",
    "print(b)\n"
   ]
  },
  {
   "cell_type": "markdown",
   "metadata": {},
   "source": [
    "## CUDA tensors"
   ]
  },
  {
   "cell_type": "markdown",
   "metadata": {},
   "source": [
    "<a id = 'CUDA-tensors'></a>"
   ]
  },
  {
   "cell_type": "code",
   "execution_count": null,
   "metadata": {},
   "outputs": [],
   "source": [
    "#\n"
   ]
  },
  {
   "cell_type": "markdown",
   "metadata": {},
   "source": [
    "# Autograd - automatic differentiation"
   ]
  },
  {
   "cell_type": "markdown",
   "metadata": {},
   "source": [
    "<a id = 'Autograd-automatic-differentiation'></a>"
   ]
  },
  {
   "cell_type": "code",
   "execution_count": null,
   "metadata": {},
   "outputs": [],
   "source": []
  },
  {
   "cell_type": "markdown",
   "metadata": {},
   "source": [
    "# Neural networks"
   ]
  },
  {
   "cell_type": "markdown",
   "metadata": {},
   "source": [
    "<a id = 'Neural-networks'></a>"
   ]
  },
  {
   "cell_type": "code",
   "execution_count": null,
   "metadata": {},
   "outputs": [],
   "source": []
  },
  {
   "cell_type": "markdown",
   "metadata": {},
   "source": [
    "# Training a classifier"
   ]
  },
  {
   "cell_type": "markdown",
   "metadata": {},
   "source": [
    "<a id = 'Training-a-classifier'></a>"
   ]
  },
  {
   "cell_type": "code",
   "execution_count": null,
   "metadata": {},
   "outputs": [],
   "source": []
  },
  {
   "cell_type": "markdown",
   "metadata": {},
   "source": [
    "# Data parallelism"
   ]
  },
  {
   "cell_type": "markdown",
   "metadata": {},
   "source": [
    "<a id = 'Data-parallelism'></a>"
   ]
  },
  {
   "cell_type": "code",
   "execution_count": null,
   "metadata": {},
   "outputs": [],
   "source": []
  }
 ],
 "metadata": {
  "kernelspec": {
   "display_name": "Python 3",
   "language": "python",
   "name": "python3"
  },
  "language_info": {
   "codemirror_mode": {
    "name": "ipython",
    "version": 3
   },
   "file_extension": ".py",
   "mimetype": "text/x-python",
   "name": "python",
   "nbconvert_exporter": "python",
   "pygments_lexer": "ipython3",
   "version": "3.6.7"
  },
  "toc": {
   "base_numbering": 1,
   "nav_menu": {},
   "number_sections": true,
   "sideBar": true,
   "skip_h1_title": false,
   "title_cell": "Table of Contents",
   "title_sidebar": "Contents",
   "toc_cell": false,
   "toc_position": {},
   "toc_section_display": true,
   "toc_window_display": false
  }
 },
 "nbformat": 4,
 "nbformat_minor": 2
}
