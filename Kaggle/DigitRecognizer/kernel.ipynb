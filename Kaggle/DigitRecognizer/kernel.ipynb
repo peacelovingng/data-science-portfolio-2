{
 "cells": [
  {
   "cell_type": "markdown",
   "metadata": {},
   "source": [
    "__Kaggle competition - digit recognizer__\n",
    "\n",
    "1. [Kaggle competition - digit recognizer](#Kaggle-competition-digit-recognizer)\n",
    "1. [Import](#Import)\n",
    "    1. [Tools](#Tools)\n",
    "    1. [Data](#Data)    \n",
    "1. [Initial EDA](#Initial-EDA)\n",
    "    1. [Target variable evaluation](#Target-variable-evaluation)    \n",
    "1. [Modeling](#Modeling)\n",
    "    1. [Prepare training data](#Prepare-training-data)\n",
    "    1. [Prepare validation data](#Prepare-validation-data)\n",
    "    1. [GridSearch](#GridSearch)\n",
    "        1. [Evaluation](#Evaluation)\n",
    "1. [Submission](#Submission)\n",
    "    1. [Stack](#Stack)\n",
    "    1. [Standard](#Standard)\n"
   ]
  },
  {
   "cell_type": "markdown",
   "metadata": {},
   "source": [
    "# Kaggle competition - digit recognizer\n",
    "\n"
   ]
  },
  {
   "cell_type": "markdown",
   "metadata": {},
   "source": [
    "<a id = 'Kaggle-competition-digit-recognizer'></a>"
   ]
  },
  {
   "cell_type": "markdown",
   "metadata": {},
   "source": [
    "# Import"
   ]
  },
  {
   "cell_type": "markdown",
   "metadata": {},
   "source": [
    "<a id = 'Import'></a>"
   ]
  },
  {
   "cell_type": "markdown",
   "metadata": {},
   "source": [
    "## Tools"
   ]
  },
  {
   "cell_type": "markdown",
   "metadata": {},
   "source": [
    "<a id = 'Tools'></a>"
   ]
  },
  {
   "cell_type": "code",
   "execution_count": 2,
   "metadata": {
    "ExecuteTime": {
     "end_time": "2019-04-21T04:22:23.532795Z",
     "start_time": "2019-04-21T04:22:22.020754Z"
    }
   },
   "outputs": [
    {
     "data": {
      "text/html": [
       "<style>.container { width:95% !important; }</style>"
      ],
      "text/plain": [
       "<IPython.core.display.HTML object>"
      ]
     },
     "metadata": {},
     "output_type": "display_data"
    },
    {
     "data": {
      "text/plain": [
       "<Figure size 432x288 with 0 Axes>"
      ]
     },
     "metadata": {},
     "output_type": "display_data"
    }
   ],
   "source": [
    "# Standard libary and settings\n",
    "import os\n",
    "import sys\n",
    "import importlib\n",
    "import itertools\n",
    "import csv\n",
    "import ast\n",
    "from timeit import default_timer as timer\n",
    "global ITERATION\n",
    "import time\n",
    "rundate = time.strftime('%Y%m%d')\n",
    "comp = 'digits'\n",
    "\n",
    "import warnings; warnings.simplefilter('ignore')\n",
    "from IPython.core.display import display, HTML; display(HTML(\"<style>.container { width:95% !important; }</style>\"))\n",
    "\n",
    "# Data extensions and settings\n",
    "import numpy as np\n",
    "np.set_printoptions(threshold = np.inf, suppress = True)\n",
    "import pandas as pd\n",
    "pd.set_option('display.max_rows', 500)\n",
    "pd.set_option('display.max_columns', 500)\n",
    "pd.options.display.float_format = '{:,.6f}'.format\n",
    "\n",
    "# Modeling extensions\n",
    "import sklearn.base as base\n",
    "import sklearn.cluster as cluster\n",
    "import sklearn.datasets as datasets\n",
    "import sklearn.decomposition as decomposition\n",
    "import sklearn.discriminant_analysis as discriminant_analysis\n",
    "import sklearn.ensemble as ensemble\n",
    "import sklearn.feature_extraction as feature_extraction\n",
    "import sklearn.feature_selection as feature_selection\n",
    "import sklearn.gaussian_process as gaussian_process\n",
    "import sklearn.linear_model as linear_model\n",
    "import sklearn.kernel_ridge as kernel_ridge\n",
    "import sklearn.metrics as metrics\n",
    "import sklearn.model_selection as model_selection\n",
    "import sklearn.naive_bayes as naive_bayes\n",
    "import sklearn.neighbors as neighbors\n",
    "import sklearn.pipeline as pipeline\n",
    "import sklearn.preprocessing as preprocessing\n",
    "import sklearn.svm as svm\n",
    "import sklearn.tree as tree\n",
    "import sklearn.utils as utils\n",
    "\n",
    "from scipy import stats, special\n",
    "import xgboost\n",
    "import lightgbm\n",
    "import catboost\n",
    "\n",
    "from hyperopt import hp, tpe, Trials, fmin, STATUS_OK\n",
    "from hyperopt.pyll.stochastic import sample\n",
    "\n",
    "# Visualization extensions and settings\n",
    "import seaborn as sns\n",
    "sns.set_style('whitegrid')\n",
    "import matplotlib.pyplot as plt\n",
    "%matplotlib inline\n",
    "\n",
    "# Custom extensions and settings\n",
    "sys.path.append('/main') if '/main' not in sys.path else None\n",
    "# sys.path.append('C:/Users/petersont/Atheneum/dev') if 'C:/Users/petersont/Atheneum/dev' not in sys.path else None\n",
    "sys.path.append('U:\\\\') if 'U:\\\\' not in sys.path else None\n",
    "\n",
    "import mlmachine as mlm\n",
    "import quickplot as qp\n"
   ]
  },
  {
   "cell_type": "markdown",
   "metadata": {},
   "source": [
    "## Data"
   ]
  },
  {
   "cell_type": "markdown",
   "metadata": {},
   "source": [
    "<a id = 'Data'></a>"
   ]
  },
  {
   "cell_type": "code",
   "execution_count": 8,
   "metadata": {
    "ExecuteTime": {
     "end_time": "2019-04-21T04:22:23.607027Z",
     "start_time": "2019-04-21T04:22:23.537993Z"
    },
    "scrolled": true
   },
   "outputs": [
    {
     "name": "stdout",
     "output_type": "stream",
     "text": [
      "Training data dimensions: (42000, 785)\n",
      "Validation data dimensions: (28000, 784)\n"
     ]
    }
   ],
   "source": [
    "# Load data and print dimensions\n",
    "dfTrain = pd.read_csv('data/train.csv', sep = ',')\n",
    "dfValid = pd.read_csv('data/test.csv', sep = ',')\n",
    "\n",
    "print('Training data dimensions: {}'.format(dfTrain.shape))\n",
    "print('Validation data dimensions: {}'.format(dfValid.shape))\n"
   ]
  },
  {
   "cell_type": "code",
   "execution_count": 10,
   "metadata": {},
   "outputs": [],
   "source": [
    "#\n",
    "label = dfTrain['label']\n",
    "dfTrain = dfTrain.drop(labels = 'label', axis = 1)\n"
   ]
  },
  {
   "cell_type": "code",
   "execution_count": 31,
   "metadata": {},
   "outputs": [
    {
     "data": {
      "image/png": "[encoded data removed]",
      "text/plain": [
       "<Figure size 1440x720 with 1 Axes>"
      ]
     },
     "metadata": {
      "needs_background": "light"
     },
     "output_type": "display_data"
    }
   ],
   "source": [
    "cats, counts = np.unique(label, return_counts = True)\n",
    "\n",
    "p = qp.plotter.QuickPlot(fig = plt.figure(), chartProp = 20)\n",
    "ax = p.makeCanvas(title = 'Category counts', xLabel = '', yLabel = ''\n",
    "                ,yShift = 0.8, position = 221)\n",
    "p.qpBarV(x = cats\n",
    "        ,counts = counts\n",
    "        ,labelRotate = 0\n",
    "        ,color = qp.style.styleHexMid[2]\n",
    "        ,yUnits = 'f'\n",
    "        ,ax = ax)"
   ]
  },
  {
   "cell_type": "code",
   "execution_count": 13,
   "metadata": {},
   "outputs": [
    {
     "data": {
      "text/plain": [
       "1    4684\n",
       "7    4401\n",
       "3    4351\n",
       "9    4188\n",
       "2    4177\n",
       "6    4137\n",
       "0    4132\n",
       "4    4072\n",
       "8    4063\n",
       "5    3795\n",
       "Name: label, dtype: int64"
      ]
     },
     "execution_count": 13,
     "metadata": {},
     "output_type": "execute_result"
    }
   ],
   "source": [
    "label.value_counts()"
   ]
  },
  {
   "cell_type": "code",
   "execution_count": 14,
   "metadata": {},
   "outputs": [
    {
     "data": {
      "text/plain": [
       "<matplotlib.axes._subplots.AxesSubplot at 0x259cca77710>"
      ]
     },
     "execution_count": 14,
     "metadata": {},
     "output_type": "execute_result"
    },
    {
     "data": {
      "image/png": "[encoded data removed]",
      "text/plain": [
       "<Figure size 432x288 with 1 Axes>"
      ]
     },
     "metadata": {
      "needs_background": "light"
     },
     "output_type": "display_data"
    }
   ],
   "source": [
    "sns.countplot(label)"
   ]
  },
  {
   "cell_type": "markdown",
   "metadata": {},
   "source": [
    "# Initial EDA"
   ]
  },
  {
   "cell_type": "markdown",
   "metadata": {},
   "source": [
    "<a id = 'Initial-EDA'></a>"
   ]
  },
  {
   "cell_type": "markdown",
   "metadata": {},
   "source": [
    "## Target variable evaluation"
   ]
  },
  {
   "cell_type": "markdown",
   "metadata": {},
   "source": [
    "<a id = 'Target-variable-evaluation'></a>"
   ]
  },
  {
   "cell_type": "code",
   "execution_count": null,
   "metadata": {
    "ExecuteTime": {
     "end_time": "2019-04-21T04:22:36.303301Z",
     "start_time": "2019-04-21T04:22:36.285595Z"
    }
   },
   "outputs": [],
   "source": [
    "# null score\n",
    "pd.Series(train.y_).value_counts(normalize = True)\n"
   ]
  },
  {
   "cell_type": "markdown",
   "metadata": {},
   "source": [
    "# Modeling"
   ]
  },
  {
   "cell_type": "markdown",
   "metadata": {},
   "source": [
    "<a id = 'Modeling'></a>"
   ]
  },
  {
   "cell_type": "markdown",
   "metadata": {},
   "source": [
    "## Prepare training data"
   ]
  },
  {
   "cell_type": "markdown",
   "metadata": {},
   "source": [
    "<a id = 'Prepare-training-data'></a>"
   ]
  },
  {
   "cell_type": "code",
   "execution_count": null,
   "metadata": {
    "ExecuteTime": {
     "end_time": "2019-04-21T04:34:47.470321Z",
     "start_time": "2019-04-21T04:34:46.704576Z"
    }
   },
   "outputs": [],
   "source": []
  },
  {
   "cell_type": "markdown",
   "metadata": {},
   "source": [
    "## Prepare validation data"
   ]
  },
  {
   "cell_type": "markdown",
   "metadata": {},
   "source": [
    "<a id = 'Prepare-validation-data'></a>"
   ]
  },
  {
   "cell_type": "code",
   "execution_count": null,
   "metadata": {
    "ExecuteTime": {
     "end_time": "2019-04-21T04:22:47.649554Z",
     "start_time": "2019-04-21T04:22:47.423277Z"
    }
   },
   "outputs": [],
   "source": []
  },
  {
   "cell_type": "markdown",
   "metadata": {},
   "source": [
    "## GridSearch"
   ]
  },
  {
   "cell_type": "markdown",
   "metadata": {},
   "source": [
    "<a id = 'GridSearch'></a>"
   ]
  },
  {
   "cell_type": "code",
   "execution_count": null,
   "metadata": {
    "ExecuteTime": {
     "end_time": "2019-04-21T04:27:03.319083Z",
     "start_time": "2019-04-21T04:27:03.187953Z"
    },
    "code_folding": []
   },
   "outputs": [],
   "source": [
    " # parameter space\n",
    "allSpace = {\n",
    "            'lightgbm.LGBMClassifier' : {\n",
    "                'class_weight' : hp.choice('class_weight', [None])\n",
    "                ,'colsample_bytree': hp.uniform('colsample_bytree', 0.4, 0.7)\n",
    "                ,'boosting_type' : hp.choice('boosting_type', ['dart'])                \n",
    "                ,'subsample': hp.uniform('subsample', 0.5, 1)\n",
    "                ,'learning_rate' : hp.uniform('learning_rate', 0.15, 0.25)\n",
    "                ,'max_depth' : hp.choice('max_depth', np.arange(4, 20, dtype = int))\n",
    "                ,'min_child_samples' : hp.quniform('min_child_samples', 50, 150, 5)\n",
    "                ,'n_estimators' : hp.choice('n_estimators', np.arange(100, 4000, 10, dtype = int))\n",
    "                ,'num_leaves': hp.quniform('num_leaves', 30, 70, 1)\n",
    "                ,'reg_alpha': hp.uniform('reg_alpha', 0.75, 1.25)\n",
    "                ,'reg_lambda': hp.uniform('reg_lambda', 0.0, 1.0)\n",
    "                ,'subsample_for_bin': hp.quniform('subsample_for_bin', 100000, 350000, 20000)\n",
    "            }\n",
    "}\n"
   ]
  },
  {
   "cell_type": "code",
   "execution_count": null,
   "metadata": {
    "ExecuteTime": {
     "end_time": "2019-04-21T04:35:54.027572Z",
     "start_time": "2019-04-21T04:34:49.115652Z"
    },
    "scrolled": true
   },
   "outputs": [],
   "source": [
    "# execute bayesian optimization grid search\n",
    "analysis = 'digit'\n",
    "train.execBayesOptimSearch(allSpace = allSpace\n",
    "                           ,resultsDir = 'data/{}_hyperopt_{}.csv'.format(rundate, analysis)\n",
    "#                            ,model = ''\n",
    "                           ,X = train.X_\n",
    "                           ,y = train.y_\n",
    "                           ,scoring = 'accuracy'\n",
    "                           ,n_folds = 8\n",
    "                           ,n_jobs = 16\n",
    "                           ,iters = 1000\n",
    "                           ,verbose = 0)\n"
   ]
  },
  {
   "cell_type": "markdown",
   "metadata": {},
   "source": [
    "### Evaluation"
   ]
  },
  {
   "cell_type": "code",
   "execution_count": null,
   "metadata": {
    "ExecuteTime": {
     "end_time": "2019-04-21T21:40:36.984359Z",
     "start_time": "2019-04-21T21:40:22.684177Z"
    }
   },
   "outputs": [],
   "source": [
    "# read scores summary table\n",
    "resultsDf = pd.read_csv('data/20190423_hyperopt_titanic.csv', na_values = 'nan')\n",
    "results = train.unpackParams(resultsDf)\n"
   ]
  },
  {
   "cell_type": "code",
   "execution_count": null,
   "metadata": {
    "ExecuteTime": {
     "end_time": "2019-04-21T02:36:41.656988Z",
     "start_time": "2019-04-21T02:36:36.436713Z"
    }
   },
   "outputs": [],
   "source": [
    "# loss plot\n",
    "train.lossPlot(resultsDf = results)\n"
   ]
  },
  {
   "cell_type": "code",
   "execution_count": null,
   "metadata": {
    "ExecuteTime": {
     "end_time": "2019-04-21T03:06:35.854272Z",
     "start_time": "2019-04-21T03:05:05.987237Z"
    },
    "scrolled": true
   },
   "outputs": [],
   "source": [
    "# estimator parameter plots\n",
    "train.paramPlot(results = results, allSpace = allSpace, nIter = 100)\n"
   ]
  },
  {
   "cell_type": "code",
   "execution_count": null,
   "metadata": {
    "ExecuteTime": {
     "end_time": "2019-04-21T02:56:09.932551Z",
     "start_time": "2019-04-21T02:56:08.917473Z"
    }
   },
   "outputs": [],
   "source": [
    "sampleSpace = {\n",
    "#             'param': hp.uniform('param', np.log(0.4), np.log(0.6))\n",
    "            '' : 0.000001 + hp.uniform('gamma', 0.000001, 10)\n",
    "#             'param2': hp.loguniform('param2', np.log(0.001), np.log(0.01))\n",
    "        }\n",
    "\n",
    "train.samplePlot(sampleSpace, 1000)\n"
   ]
  },
  {
   "cell_type": "markdown",
   "metadata": {},
   "source": [
    "<a id = 'Evaluation'></a>"
   ]
  },
  {
   "cell_type": "markdown",
   "metadata": {},
   "source": [
    "# Submission"
   ]
  },
  {
   "cell_type": "markdown",
   "metadata": {},
   "source": [
    "<a id = 'Submission'></a>"
   ]
  },
  {
   "cell_type": "markdown",
   "metadata": {},
   "source": [
    "## Standard"
   ]
  },
  {
   "cell_type": "markdown",
   "metadata": {},
   "source": [
    "<a id = 'Standard'></a>"
   ]
  },
  {
   "cell_type": "code",
   "execution_count": null,
   "metadata": {
    "ExecuteTime": {
     "end_time": "2019-04-21T05:28:25.009926Z",
     "start_time": "2019-04-21T05:28:24.956970Z"
    }
   },
   "outputs": [],
   "source": [
    "## standard model fit and predict\n",
    "\n",
    "# select estimator and iteration\n",
    "estimator = 'lightgbm.LGBMClassifier'\n",
    "iteration = 2264\n",
    "\n",
    "# extract params and instantiate model\n",
    "params = train.paramExtractor(resultsDf = resultsDf, estimator = estimator, iteration = iteration)\n",
    "model = eval('{0}(**{1})'.format(estimator, params))\n",
    "\n",
    "# fit model and make predictions\n",
    "model.fit(train.X_, train.y_)\n",
    "yPred = model.predict(valid.X_)\n"
   ]
  },
  {
   "cell_type": "code",
   "execution_count": null,
   "metadata": {
    "ExecuteTime": {
     "end_time": "2019-04-21T04:14:43.023400Z",
     "start_time": "2019-04-21T04:14:42.757009Z"
    }
   },
   "outputs": [],
   "source": [
    "# generate prediction submission file\n",
    "my_submission = pd.DataFrame({'PassengerId': dfValid.PassengerId, 'Survived': yPred})\n",
    "my_submission.to_csv('data/submission.csv', index = False)\n"
   ]
  }
 ],
 "metadata": {
  "kernelspec": {
   "display_name": "Python 3",
   "language": "python",
   "name": "python3"
  },
  "language_info": {
   "codemirror_mode": {
    "name": "ipython",
    "version": 3
   },
   "file_extension": ".py",
   "mimetype": "text/x-python",
   "name": "python",
   "nbconvert_exporter": "python",
   "pygments_lexer": "ipython3",
   "version": "3.7.3"
  },
  "toc": {
   "base_numbering": 1,
   "nav_menu": {},
   "number_sections": true,
   "sideBar": true,
   "skip_h1_title": false,
   "title_cell": "Table of Contents",
   "title_sidebar": "Contents",
   "toc_cell": false,
   "toc_position": {},
   "toc_section_display": true,
   "toc_window_display": false
  }
 },
 "nbformat": 4,
 "nbformat_minor": 2
}
