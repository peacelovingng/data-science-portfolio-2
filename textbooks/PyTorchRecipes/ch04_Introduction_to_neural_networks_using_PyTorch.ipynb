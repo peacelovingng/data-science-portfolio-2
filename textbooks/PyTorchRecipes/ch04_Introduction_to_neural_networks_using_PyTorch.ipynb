{
 "cells": [
  {
   "cell_type": "markdown",
   "metadata": {},
   "source": [
    "# TOC"
   ]
  },
  {
   "cell_type": "markdown",
   "metadata": {},
   "source": [
    "__Chapter 4 - Introduction to neural networks using PyTorch__\n",
    "\n",
    "1. [Import](#Import)\n",
    "1. [Recipe 4-1 : Working with Activation Functions](#Recipe-4-1-:-Working-with-activation-functions)\n",
    "1. [Recipe 4-2 : Visualizing the shape of activation functions](#Recipe-4-2-:-Visualizing-the-shape-of-activation-functions)\n",
    "1. [Recipe 4-3 : Basic neural network model](#Recipe-4-3-:-Basic-neural-network-model)\n",
    "1. [Recipe 4-4 : Tensor differentiation](#Recipe-4-4-:-Tensor-differentiation)\n"
   ]
  },
  {
   "cell_type": "markdown",
   "metadata": {},
   "source": [
    "# Import"
   ]
  },
  {
   "cell_type": "markdown",
   "metadata": {},
   "source": [
    "<a id = 'Import'></a>"
   ]
  },
  {
   "cell_type": "code",
   "execution_count": 5,
   "metadata": {},
   "outputs": [
    {
     "data": {
      "text/html": [
       "<style>.container { width:95% !important; }</style>"
      ],
      "text/plain": [
       "<IPython.core.display.HTML object>"
      ]
     },
     "metadata": {},
     "output_type": "display_data"
    }
   ],
   "source": [
    "# standard libary and settings\n",
    "import os\n",
    "import sys\n",
    "import importlib\n",
    "import itertools\n",
    "import warnings\n",
    "\n",
    "warnings.simplefilter(\"ignore\")\n",
    "from IPython.core.display import display, HTML\n",
    "\n",
    "display(HTML(\"<style>.container { width:95% !important; }</style>\"))\n",
    "\n",
    "# data extensions and settings\n",
    "import numpy as np\n",
    "\n",
    "np.set_printoptions(threshold=np.inf, suppress=True)\n",
    "import pandas as pd\n",
    "\n",
    "pd.set_option(\"display.max_rows\", 500)\n",
    "pd.set_option(\"display.max_columns\", 500)\n",
    "pd.options.display.float_format = \"{:,.6f}\".format\n",
    "\n",
    "import torch\n",
    "import torch.nn as nn\n",
    "import torch.optim as optim\n",
    "import torch.nn.init as init\n",
    "import torch.nn.functional as F\n",
    "from torch.autograd import Variable\n",
    "\n",
    "# visualization extensions and settings\n",
    "import seaborn as sns\n",
    "import matplotlib.pyplot as plt\n",
    "\n",
    "# magic functions\n",
    "%matplotlib inline"
   ]
  },
  {
   "cell_type": "markdown",
   "metadata": {},
   "source": [
    "# Recipe 4-1 : Working with activation functions\n",
    "\n",
    "__Problem__: What are the activation functions and how do they work in real projects? How do we implement an activation function using PyTorch?\n",
    "\n",
    "__Solution__: Activation functions are mathematical formulas that transform a vector to another representation of that vector. These functions act upon data as it moves through the neural network. All activation functions can be broudly classified as linear and nonlinear.\n"
   ]
  },
  {
   "cell_type": "markdown",
   "metadata": {},
   "source": [
    "<a id = 'Recipe-4-1-:-Working-with-activation-functions'></a>"
   ]
  },
  {
   "cell_type": "code",
   "execution_count": 7,
   "metadata": {},
   "outputs": [
    {
     "name": "stdout",
     "output_type": "stream",
     "text": [
      "Output size : torch.Size([100, 5])\n",
      "Output size : torch.Size([100, 5])\n"
     ]
    }
   ],
   "source": [
    "# linear function - typically used to transfer information from the last hidden layer to the output layer. y = x * A + b\n",
    "# bilinear function - a simple function typically used to transfer information. y = x_1 * A * x2 + b\n",
    "x = Variable(torch.randn(100, 10))\n",
    "y = Variable(torch.randn(100, 30))\n",
    "\n",
    "linear = nn.Linear(in_features=10, out_features=5, bias=True)\n",
    "output_linear = linear(x)\n",
    "print(\"Output size : {}\".format(output_linear.size()))\n",
    "\n",
    "bilinear = nn.Bilinear(in1_features=10, in2_features=30, out_features=5, bias=True)\n",
    "output_bilinear = bilinear(x, y)\n",
    "print(\"Output size : {}\".format(output_bilinear.size()))"
   ]
  },
  {
   "cell_type": "code",
   "execution_count": null,
   "metadata": {},
   "outputs": [],
   "source": [
    "# sigmoid function - this nonlinear activation function is frequently used because it is easy to explain an implement. Its output is confined to the range (0,1).\n",
    "# it provides a probability of belonging to a class. It is mostly used in performing classification-based tasks. It may get stuck in local minima during gradient descent\n",
    "x = Variable(torch.randn(100, 10))\n",
    "y = Variable(torch.randn(100, 30))\n",
    "\n",
    "print(\"Output size : {}\".format(output_.size()))\n",
    "print(\"Output size : {}\".format(output_.size()))"
   ]
  },
  {
   "cell_type": "code",
   "execution_count": null,
   "metadata": {},
   "outputs": [],
   "source": [
    "# hyperbolic tangent function - better known as tanh, this function transforms information as it moves from the mapping layer to the\n",
    "# hidden layer, and between hidden layers. it can take on values in the range -1 and +1\n",
    "x = Variable(torch.randn(100, 10))\n",
    "y = Variable(torch.randn(100, 30))\n",
    "\n",
    "print(\"Output size : {}\".format(output_.size()))\n",
    "print(\"Output size : {}\".format(output_.size()))"
   ]
  },
  {
   "cell_type": "code",
   "execution_count": null,
   "metadata": {},
   "outputs": [],
   "source": [
    "# log sigmoid transfer function - this function is generally used when mapping th einput layer to the hidden layer. it is frequently\n",
    "# applied when the data entering this activation function is non-binary is of the data type float, and contains many outliers.\n",
    "x = Variable(torch.randn(100, 10))\n",
    "y = Variable(torch.randn(100, 30))\n",
    "\n",
    "print(\"Output size : {}\".format(output_.size()))\n",
    "print(\"Output size : {}\".format(output_.size()))"
   ]
  },
  {
   "cell_type": "code",
   "execution_count": null,
   "metadata": {},
   "outputs": [],
   "source": [
    "# rectified linear unit - better known as ReLU, this function is used when transferring information from the input layer to the output\n",
    "# layer. it is mostly used in convolutional neural networks. it produces values in the range (o, inf). It is mainly used between hidden layers.\n",
    "x = Variable(torch.randn(100, 10))\n",
    "y = Variable(torch.randn(100, 30))\n",
    "\n",
    "print(\"Output size : {}\".format(output_.size()))\n",
    "print(\"Output size : {}\".format(output_.size()))"
   ]
  },
  {
   "cell_type": "code",
   "execution_count": null,
   "metadata": {},
   "outputs": [],
   "source": [
    "# leady ReLU - a variant of ReLU that aims to address the problem of a 'dying gradient'. this activation function avoids this problem\n",
    "# by allowing a small and non-zero gradient when the unit is not active\n",
    "x = Variable(torch.randn(100, 10))\n",
    "y = Variable(torch.randn(100, 30))\n",
    "\n",
    "print(\"Output size : {}\".format(output_.size()))\n",
    "print(\"Output size : {}\".format(output_.size()))"
   ]
  },
  {
   "cell_type": "markdown",
   "metadata": {},
   "source": [
    "# Recipe 4-2 : Visualizing the shape of activation functions\n",
    "\n",
    "\n",
    "__Problem__: How do we visualize activation functions?\n",
    "\n",
    "__Solution__: The data transformed by an activation function can be plotted against the actual tensor. For illustrative purposes, we can use a sample tensor, converted to a PyTorch variable. We will apply an activation function and store the result as another tensor, and plot the result"
   ]
  },
  {
   "cell_type": "markdown",
   "metadata": {},
   "source": [
    "<a id = 'Recipe-4-2-:-Visualizing-the-shape-of-activation-functions'></a>"
   ]
  },
  {
   "cell_type": "code",
   "execution_count": null,
   "metadata": {},
   "outputs": [],
   "source": [
    "#"
   ]
  },
  {
   "cell_type": "markdown",
   "metadata": {},
   "source": [
    "# Recipe 4-3 : Basic neural network model\n",
    "\n",
    "\n",
    "__Problem__: How do we build a basic neural network model using PyTorch\n",
    "\n",
    "__Solution__: A basic neural network model in PyTorch requires six steps: preparing training data, initializing weights, creating a basic network model, calculating the loss function, selecting the learning rate, and optimizing the loss function with respect to the model’s parameters.\n",
    "\n"
   ]
  },
  {
   "cell_type": "markdown",
   "metadata": {},
   "source": [
    "<a id = 'Recipe-4-3-:-Basic-neural-network-model'></a>"
   ]
  },
  {
   "cell_type": "code",
   "execution_count": null,
   "metadata": {},
   "outputs": [],
   "source": [
    "#"
   ]
  },
  {
   "cell_type": "markdown",
   "metadata": {},
   "source": [
    "# Recipe 4-4 : Tensor differentiation\n",
    "\n",
    "__Problem__: What is tensor differentiation and how is it relevant in compuation graph execution in PyTorch\n",
    "\n",
    "__Solution__: "
   ]
  },
  {
   "cell_type": "markdown",
   "metadata": {},
   "source": [
    "<a id = 'Recipe-4-4-:-Tensor-differentiation'></a>"
   ]
  },
  {
   "cell_type": "code",
   "execution_count": null,
   "metadata": {},
   "outputs": [],
   "source": [
    "#"
   ]
  }
 ],
 "metadata": {
  "kernelspec": {
   "display_name": "Python 3",
   "language": "python",
   "name": "python3"
  },
  "language_info": {
   "codemirror_mode": {
    "name": "ipython",
    "version": 3
   },
   "file_extension": ".py",
   "mimetype": "text/x-python",
   "name": "python",
   "nbconvert_exporter": "python",
   "pygments_lexer": "ipython3",
   "version": "3.6.8"
  },
  "toc": {
   "base_numbering": 1,
   "nav_menu": {},
   "number_sections": true,
   "sideBar": true,
   "skip_h1_title": false,
   "title_cell": "Table of Contents",
   "title_sidebar": "Contents",
   "toc_cell": false,
   "toc_position": {},
   "toc_section_display": true,
   "toc_window_display": false
  }
 },
 "nbformat": 4,
 "nbformat_minor": 2
}
