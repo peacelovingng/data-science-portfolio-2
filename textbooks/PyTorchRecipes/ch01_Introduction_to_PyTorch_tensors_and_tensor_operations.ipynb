{
 "cells": [
  {
   "cell_type": "markdown",
   "metadata": {},
   "source": [
    "# TOC"
   ]
  },
  {
   "cell_type": "markdown",
   "metadata": {},
   "source": [
    "__Chapter 1 - Introduction to PyTorch tensors and tensor operations__\n",
    "\n",
    "1. [Import](#Import)\n",
    "1. [Recipe 1-1 : Using tensors](#Recipe-1-1-:-Using-tensors)"
   ]
  },
  {
   "cell_type": "markdown",
   "metadata": {},
   "source": [
    "# Import"
   ]
  },
  {
   "cell_type": "markdown",
   "metadata": {},
   "source": [
    "<a id = 'Import'></a>"
   ]
  },
  {
   "cell_type": "code",
   "execution_count": 1,
   "metadata": {},
   "outputs": [
    {
     "data": {
      "text/html": [
       "<style>.container { width:95% !important; }</style>"
      ],
      "text/plain": [
       "<IPython.core.display.HTML object>"
      ]
     },
     "metadata": {},
     "output_type": "display_data"
    }
   ],
   "source": [
    "# standard libary and settings\n",
    "import os\n",
    "import sys\n",
    "import importlib\n",
    "import itertools\n",
    "import warnings\n",
    "\n",
    "warnings.simplefilter(\"ignore\")\n",
    "from IPython.core.display import display, HTML\n",
    "\n",
    "display(HTML(\"<style>.container { width:95% !important; }</style>\"))\n",
    "\n",
    "# data extensions and settings\n",
    "import numpy as np\n",
    "\n",
    "np.set_printoptions(threshold=np.inf, suppress=True)\n",
    "import pandas as pd\n",
    "\n",
    "pd.set_option(\"display.max_rows\", 500)\n",
    "pd.set_option(\"display.max_columns\", 500)\n",
    "pd.options.display.float_format = \"{:,.6f}\".format\n",
    "\n",
    "import torch\n",
    "\n",
    "# visualization extensions and settings\n",
    "import seaborn as sns\n",
    "import matplotlib.pyplot as plt\n",
    "\n",
    "# magic functions\n",
    "%matplotlib inline"
   ]
  },
  {
   "cell_type": "code",
   "execution_count": 2,
   "metadata": {},
   "outputs": [
    {
     "data": {
      "text/plain": [
       "'1.0.1'"
      ]
     },
     "execution_count": 2,
     "metadata": {},
     "output_type": "execute_result"
    }
   ],
   "source": [
    "torch.version.__version__"
   ]
  },
  {
   "cell_type": "markdown",
   "metadata": {},
   "source": [
    "# Recipe 1-1 : Using tensors\n",
    "\n",
    "__Problem__: The data structure in PyTorch is graph and tensor based, so it's important to understand basic tensor operations .\n",
    "\n",
    "__Solution__: Practice various operations to learn PyTorch basics"
   ]
  },
  {
   "cell_type": "markdown",
   "metadata": {},
   "source": [
    "<a id = 'Recipe-1-1-:-Using-tensors'></a>"
   ]
  },
  {
   "cell_type": "code",
   "execution_count": 4,
   "metadata": {},
   "outputs": [
    {
     "name": "stdout",
     "output_type": "stream",
     "text": [
      "False\n",
      "False\n"
     ]
    }
   ],
   "source": [
    "# check whether the Python list is a tensor object\n",
    "x = [12, 23, 34, 45, 56, 78]\n",
    "print(torch.is_tensor(x))\n",
    "print(torch.is_storage(x))"
   ]
  },
  {
   "cell_type": "code",
   "execution_count": 6,
   "metadata": {},
   "outputs": [
    {
     "name": "stdout",
     "output_type": "stream",
     "text": [
      "True\n",
      "False\n",
      "120\n"
     ]
    }
   ],
   "source": [
    "# create an PyTorch object that contains random numbers and check\n",
    "# if tensor, if storage, and show total # of elements\n",
    "y = torch.randn(1, 2, 3, 4, 5)\n",
    "print(torch.is_tensor(y))\n",
    "print(torch.is_storage(x))\n",
    "print(torch.numel(y))"
   ]
  },
  {
   "cell_type": "code",
   "execution_count": 8,
   "metadata": {},
   "outputs": [
    {
     "data": {
      "text/plain": [
       "16"
      ]
     },
     "execution_count": 8,
     "metadata": {},
     "output_type": "execute_result"
    }
   ],
   "source": [
    "# create a matri and show # of elements\n",
    "torch.zeros(4, 4)\n",
    "torch.numel(torch.zeros(4, 4))"
   ]
  },
  {
   "cell_type": "code",
   "execution_count": 9,
   "metadata": {},
   "outputs": [
    {
     "name": "stdout",
     "output_type": "stream",
     "text": [
      "tensor([[1., 0., 0., 0.],\n",
      "        [0., 1., 0., 0.],\n",
      "        [0., 0., 1., 0.]])\n",
      "tensor([[1., 0., 0., 0.],\n",
      "        [0., 1., 0., 0.],\n",
      "        [0., 0., 1., 0.],\n",
      "        [0., 0., 0., 1.],\n",
      "        [0., 0., 0., 0.]])\n"
     ]
    }
   ],
   "source": [
    "# create eye matrices\n",
    "print(torch.eye(3, 4))\n",
    "print(torch.eye(5, 4))"
   ]
  },
  {
   "cell_type": "code",
   "execution_count": 10,
   "metadata": {},
   "outputs": [
    {
     "name": "stdout",
     "output_type": "stream",
     "text": [
      "[12 23 34 45 56 78]\n",
      "tensor([12, 23, 34, 45, 56, 78], dtype=torch.int32)\n"
     ]
    }
   ],
   "source": [
    "# convert list to numpy array, array to tensor\n",
    "x1 = np.array(x)\n",
    "print(x1)\n",
    "print(torch.from_numpy(x1))"
   ]
  },
  {
   "cell_type": "code",
   "execution_count": 11,
   "metadata": {},
   "outputs": [
    {
     "name": "stdout",
     "output_type": "stream",
     "text": [
      "tensor([ 2.0000,  2.3333,  2.6667,  3.0000,  3.3333,  3.6667,  4.0000,  4.3333,\n",
      "         4.6667,  5.0000,  5.3333,  5.6667,  6.0000,  6.3333,  6.6667,  7.0000,\n",
      "         7.3333,  7.6667,  8.0000,  8.3333,  8.6667,  9.0000,  9.3333,  9.6667,\n",
      "        10.0000])\n"
     ]
    }
   ],
   "source": [
    "# create linear space tensor\n",
    "print(torch.linspace(2, 10, steps=25))"
   ]
  },
  {
   "cell_type": "code",
   "execution_count": 12,
   "metadata": {},
   "outputs": [
    {
     "data": {
      "text/plain": [
       "tensor([0.7530, 0.2944, 0.6050, 0.8143, 0.1549, 0.6544, 0.0131, 0.8060, 0.0938,\n",
       "        0.4854])"
      ]
     },
     "execution_count": 12,
     "metadata": {},
     "output_type": "execute_result"
    }
   ],
   "source": [
    "# create tensor of random numbers fro uniform distribution\n",
    "torch.rand(10)"
   ]
  },
  {
   "cell_type": "code",
   "execution_count": 18,
   "metadata": {},
   "outputs": [
    {
     "data": {
      "text/plain": [
       "tensor([[0.2969, 0.6612, 0.9421, 0.6067, 0.7865],\n",
       "        [0.9169, 0.2195, 0.1074, 0.1302, 0.2437],\n",
       "        [0.6398, 0.1287, 0.2454, 0.4561, 0.8758],\n",
       "        [0.2170, 0.8286, 0.8198, 0.8776, 0.4365]])"
      ]
     },
     "execution_count": 18,
     "metadata": {},
     "output_type": "execute_result"
    }
   ],
   "source": [
    "# create tensor of random numbers from uniform distribution\n",
    "# reshape into a matrix\n",
    "torch.rand(4, 5)"
   ]
  },
  {
   "cell_type": "code",
   "execution_count": 19,
   "metadata": {},
   "outputs": [
    {
     "name": "stdout",
     "output_type": "stream",
     "text": [
      "tensor([-0.4673,  1.4152, -0.5462,  2.2342, -0.0873,  0.3099, -1.3707, -0.1404,\n",
      "         0.0120, -0.6288])\n",
      "tensor([[ 1.0763, -0.4663, -1.0329, -0.9713, -1.3553],\n",
      "        [-0.1807, -0.3559, -0.1414,  0.5992,  1.1845],\n",
      "        [-0.5061, -1.2895,  0.3020,  1.1136, -0.4574],\n",
      "        [ 1.7592,  0.3094, -0.2382, -0.8532, -0.5233]])\n"
     ]
    }
   ],
   "source": [
    "# create tensor of random numbers drawn from a random\n",
    "# distribution with a mean of 0 and std of 1\n",
    "print(torch.randn(10))\n",
    "print(torch.randn(4, 5))"
   ]
  },
  {
   "cell_type": "code",
   "execution_count": 20,
   "metadata": {},
   "outputs": [
    {
     "data": {
      "text/plain": [
       "tensor([4, 3, 5, 6, 7, 2, 8, 9, 1, 0])"
      ]
     },
     "execution_count": 20,
     "metadata": {},
     "output_type": "execute_result"
    }
   ],
   "source": [
    "# randomly select values from a range of values\n",
    "torch.randperm(10)"
   ]
  },
  {
   "cell_type": "code",
   "execution_count": 21,
   "metadata": {},
   "outputs": [
    {
     "data": {
      "text/plain": [
       "tensor([10, 12, 14, 16, 18, 20, 22, 24, 26, 28, 30, 32, 34, 36, 38])"
      ]
     },
     "execution_count": 21,
     "metadata": {},
     "output_type": "execute_result"
    }
   ],
   "source": [
    "# torch's arange function\n",
    "torch.arange(10, 40, 2)"
   ]
  },
  {
   "cell_type": "code",
   "execution_count": 23,
   "metadata": {},
   "outputs": [
    {
     "data": {
      "text/plain": [
       "tensor([4, 0, 2, 1])"
      ]
     },
     "execution_count": 23,
     "metadata": {},
     "output_type": "execute_result"
    }
   ],
   "source": [
    "# min/max. the dim argument is required if the input is a matrix and then min/max is drawn from the rows or columns\n",
    "d = torch.randn(4, 5)\n",
    "torch.argmin(d, dim=1)\n",
    "torch.argmax(d, dim=1)"
   ]
  },
  {
   "cell_type": "code",
   "execution_count": 24,
   "metadata": {},
   "outputs": [
    {
     "data": {
      "text/plain": [
       "tensor([[-0.4195,  1.3210, -2.3474, -1.3669,  1.4421],\n",
       "        [-0.4975,  0.7090,  0.4747, -0.5935,  1.1285],\n",
       "        [-0.3521, -0.2824,  0.5955, -1.0892,  0.5155],\n",
       "        [ 1.5931,  0.5624, -0.0434,  0.1085, -0.3073],\n",
       "        [-0.4195,  1.3210, -2.3474, -1.3669,  1.4421],\n",
       "        [-0.4975,  0.7090,  0.4747, -0.5935,  1.1285],\n",
       "        [-0.3521, -0.2824,  0.5955, -1.0892,  0.5155],\n",
       "        [ 1.5931,  0.5624, -0.0434,  0.1085, -0.3073]])"
      ]
     },
     "execution_count": 24,
     "metadata": {},
     "output_type": "execute_result"
    }
   ],
   "source": [
    "# concatenate tensors\n",
    "x = torch.randn(4, 5)\n",
    "torch.cat((x, x))"
   ]
  },
  {
   "cell_type": "code",
   "execution_count": 25,
   "metadata": {},
   "outputs": [
    {
     "name": "stdout",
     "output_type": "stream",
     "text": [
      "tensor([[-0.7811,  1.9552, -1.4225, -0.2837],\n",
      "        [-0.0360, -1.5801, -0.0917,  0.4939],\n",
      "        [-1.1010,  0.4755, -0.3136,  0.1668],\n",
      "        [ 1.0221,  1.3428,  0.3092,  2.1407]])\n",
      "(tensor([[-0.7811,  1.9552, -1.4225, -0.2837],\n",
      "        [-0.0360, -1.5801, -0.0917,  0.4939]]), tensor([[-1.1010,  0.4755, -0.3136,  0.1668],\n",
      "        [ 1.0221,  1.3428,  0.3092,  2.1407]]))\n",
      "(tensor([[-0.7811,  1.9552, -1.4225, -0.2837],\n",
      "        [-0.0360, -1.5801, -0.0917,  0.4939]]), tensor([[-1.1010,  0.4755, -0.3136,  0.1668],\n",
      "        [ 1.0221,  1.3428,  0.3092,  2.1407]]))\n"
     ]
    }
   ],
   "source": [
    "# separate and input matrix into chunks, row-wise\n",
    "# 2 different options\n",
    "a = torch.randn(4, 4)\n",
    "print(a)\n",
    "print(torch.chunk(a, 2))\n",
    "print(torch.chunk(a, 2, 0))"
   ]
  },
  {
   "cell_type": "code",
   "execution_count": 26,
   "metadata": {},
   "outputs": [
    {
     "name": "stdout",
     "output_type": "stream",
     "text": [
      "(tensor([[-0.7811,  1.9552],\n",
      "        [-0.0360, -1.5801],\n",
      "        [-1.1010,  0.4755],\n",
      "        [ 1.0221,  1.3428]]), tensor([[-1.4225, -0.2837],\n",
      "        [-0.0917,  0.4939],\n",
      "        [-0.3136,  0.1668],\n",
      "        [ 0.3092,  2.1407]]))\n"
     ]
    }
   ],
   "source": [
    "# separate and input matrix into chunks, column-wise\n",
    "print(torch.chunk(a, 2, 1))"
   ]
  },
  {
   "cell_type": "code",
   "execution_count": 27,
   "metadata": {},
   "outputs": [
    {
     "name": "stdout",
     "output_type": "stream",
     "text": [
      "tensor([[-0.3430, -0.2768, -2.0120, -0.8449],\n",
      "        [ 0.4486,  0.2183, -0.6365,  0.8927],\n",
      "        [-0.5289, -0.3575, -0.1382, -0.3390],\n",
      "        [ 0.1891,  0.4728,  0.5133,  0.5057]])\n",
      "tensor([[-0.3430, -0.2768, -2.0120, -0.8449],\n",
      "        [-0.5289, -0.3575, -0.1382, -0.3390]])\n"
     ]
    }
   ],
   "source": [
    "# use LongTensor to select relevant rows from tensor\n",
    "a = torch.randn(4, 4)\n",
    "print(a)\n",
    "indices = torch.LongTensor([0, 2])\n",
    "print(torch.index_select(a, 0, indices))"
   ]
  },
  {
   "cell_type": "code",
   "execution_count": 28,
   "metadata": {},
   "outputs": [
    {
     "name": "stdout",
     "output_type": "stream",
     "text": [
      "tensor([[-0.3430, -2.0120],\n",
      "        [ 0.4486, -0.6365],\n",
      "        [-0.5289, -0.1382],\n",
      "        [ 0.1891,  0.5133]])\n"
     ]
    }
   ],
   "source": [
    "# select relevant columns from tensor\n",
    "print(torch.index_select(a, 1, indices))"
   ]
  },
  {
   "cell_type": "code",
   "execution_count": 29,
   "metadata": {},
   "outputs": [
    {
     "name": "stdout",
     "output_type": "stream",
     "text": [
      "tensor([[0],\n",
      "        [2]])\n",
      "tensor([[0],\n",
      "        [2]])\n"
     ]
    }
   ],
   "source": [
    "# check for non-zero values\n",
    "print(torch.nonzero(torch.tensor([10, 00, 23, 0, 0.0])))\n",
    "print(torch.nonzero(torch.Tensor([10, 00, 23, 0, 0.0])))"
   ]
  },
  {
   "cell_type": "code",
   "execution_count": 32,
   "metadata": {},
   "outputs": [
    {
     "name": "stdout",
     "output_type": "stream",
     "text": [
      "(tensor([12, 21]), tensor([34, 32]), tensor([45, 54]), tensor([56, 54]))\n",
      "(tensor([12, 21, 34]), tensor([32, 45, 54]), tensor([56, 54]))\n"
     ]
    }
   ],
   "source": [
    "# split a long tensor into smaller tensors\n",
    "print(torch.split(torch.tensor([12, 21, 34, 32, 45, 54, 56, 54]), 2))\n",
    "print(torch.split(torch.tensor([12, 21, 34, 32, 45, 54, 56, 54]), 3))"
   ]
  },
  {
   "cell_type": "code",
   "execution_count": 36,
   "metadata": {},
   "outputs": [
    {
     "name": "stdout",
     "output_type": "stream",
     "text": [
      "tensor([[-0.4195,  1.3210, -2.3474, -1.3669,  1.4421],\n",
      "        [-0.4975,  0.7090,  0.4747, -0.5935,  1.1285],\n",
      "        [-0.3521, -0.2824,  0.5955, -1.0892,  0.5155],\n",
      "        [ 1.5931,  0.5624, -0.0434,  0.1085, -0.3073]])\n",
      "tensor([[-0.4195, -0.4975, -0.3521,  1.5931],\n",
      "        [ 1.3210,  0.7090, -0.2824,  0.5624],\n",
      "        [-2.3474,  0.4747,  0.5955, -0.0434],\n",
      "        [-1.3669, -0.5935, -1.0892,  0.1085],\n",
      "        [ 1.4421,  1.1285,  0.5155, -0.3073]])\n",
      "tensor([[-0.4195, -0.4975, -0.3521,  1.5931],\n",
      "        [ 1.3210,  0.7090, -0.2824,  0.5624],\n",
      "        [-2.3474,  0.4747,  0.5955, -0.0434],\n",
      "        [-1.3669, -0.5935, -1.0892,  0.1085],\n",
      "        [ 1.4421,  1.1285,  0.5155, -0.3073]])\n"
     ]
    }
   ],
   "source": [
    "# reshape tensors using transpose\n",
    "print(x)\n",
    "print(x.t())\n",
    "print(x.transpose(1, 0))"
   ]
  },
  {
   "cell_type": "code",
   "execution_count": 38,
   "metadata": {},
   "outputs": [
    {
     "name": "stdout",
     "output_type": "stream",
     "text": [
      "tensor([[-0.4195,  1.3210, -2.3474, -1.3669,  1.4421],\n",
      "        [-0.4975,  0.7090,  0.4747, -0.5935,  1.1285],\n",
      "        [-0.3521, -0.2824,  0.5955, -1.0892,  0.5155],\n",
      "        [ 1.5931,  0.5624, -0.0434,  0.1085, -0.3073]])\n",
      "(tensor([-0.4195, -0.4975, -0.3521,  1.5931]), tensor([ 1.3210,  0.7090, -0.2824,  0.5624]), tensor([-2.3474,  0.4747,  0.5955, -0.0434]), tensor([-1.3669, -0.5935, -1.0892,  0.1085]), tensor([ 1.4421,  1.1285,  0.5155, -0.3073]))\n"
     ]
    }
   ],
   "source": [
    "# use unbind function to remove a column from a tensor\n",
    "print(x)\n",
    "print(torch.unbind(x, 1))"
   ]
  },
  {
   "cell_type": "code",
   "execution_count": 39,
   "metadata": {},
   "outputs": [
    {
     "name": "stdout",
     "output_type": "stream",
     "text": [
      "tensor([[-0.4195,  1.3210, -2.3474, -1.3669,  1.4421],\n",
      "        [-0.4975,  0.7090,  0.4747, -0.5935,  1.1285],\n",
      "        [-0.3521, -0.2824,  0.5955, -1.0892,  0.5155],\n",
      "        [ 1.5931,  0.5624, -0.0434,  0.1085, -0.3073]])\n",
      "(tensor([-0.4195,  1.3210, -2.3474, -1.3669,  1.4421]), tensor([-0.4975,  0.7090,  0.4747, -0.5935,  1.1285]), tensor([-0.3521, -0.2824,  0.5955, -1.0892,  0.5155]), tensor([ 1.5931,  0.5624, -0.0434,  0.1085, -0.3073]))\n"
     ]
    }
   ],
   "source": [
    "# use unbind function to remove a row from a tensor\n",
    "print(x)\n",
    "print(torch.unbind(x, 0))"
   ]
  },
  {
   "cell_type": "code",
   "execution_count": 40,
   "metadata": {},
   "outputs": [
    {
     "name": "stdout",
     "output_type": "stream",
     "text": [
      "tensor([[-0.4195,  1.3210, -2.3474, -1.3669,  1.4421],\n",
      "        [-0.4975,  0.7090,  0.4747, -0.5935,  1.1285],\n",
      "        [-0.3521, -0.2824,  0.5955, -1.0892,  0.5155],\n",
      "        [ 1.5931,  0.5624, -0.0434,  0.1085, -0.3073]])\n",
      "tensor([[19.5805, 21.3210, 17.6526, 18.6331, 21.4421],\n",
      "        [19.5025, 20.7090, 20.4747, 19.4065, 21.1285],\n",
      "        [19.6479, 19.7176, 20.5955, 18.9108, 20.5155],\n",
      "        [21.5931, 20.5624, 19.9566, 20.1085, 19.6927]])\n"
     ]
    }
   ],
   "source": [
    "# basic addition of a scalar to a matrix\n",
    "print(x)\n",
    "print(torch.add(x, 20))"
   ]
  },
  {
   "cell_type": "code",
   "execution_count": 41,
   "metadata": {},
   "outputs": [
    {
     "name": "stdout",
     "output_type": "stream",
     "text": [
      "tensor([[-0.4195,  1.3210, -2.3474, -1.3669,  1.4421],\n",
      "        [-0.4975,  0.7090,  0.4747, -0.5935,  1.1285],\n",
      "        [-0.3521, -0.2824,  0.5955, -1.0892,  0.5155],\n",
      "        [ 1.5931,  0.5624, -0.0434,  0.1085, -0.3073]])\n",
      "tensor([[-0.8391,  2.6420, -4.6949, -2.7337,  2.8842],\n",
      "        [-0.9951,  1.4179,  0.9495, -1.1869,  2.2569],\n",
      "        [-0.7042, -0.5648,  1.1909, -2.1784,  1.0310],\n",
      "        [ 3.1862,  1.1248, -0.0868,  0.2170, -0.6146]])\n"
     ]
    }
   ],
   "source": [
    "# basic multiplication of a matrix by a scalr\n",
    "print(x)\n",
    "print(torch.mul(x, 2))"
   ]
  },
  {
   "cell_type": "code",
   "execution_count": 46,
   "metadata": {},
   "outputs": [
    {
     "name": "stdout",
     "output_type": "stream",
     "text": [
      "tensor([[ 1.2627,  1.0525],\n",
      "        [-0.0292, -0.4568]])\n",
      "tensor([[ 1.2074,  1.0064],\n",
      "        [-0.0279, -0.4368]])\n",
      "tensor([[ 2.4702,  2.0589],\n",
      "        [-0.0570, -0.8936]])\n"
     ]
    }
   ],
   "source": [
    "# express linear equation using tensor operations\n",
    "intercept = torch.randn(1)\n",
    "x = torch.randn(2, 2)\n",
    "beta = 0.7456\n",
    "\n",
    "print(torch.mul(intercept, x))\n",
    "print(torch.mul(x, beta))\n",
    "\n",
    "# y = intercept + (beta * x)\n",
    "print(torch.add(torch.mul(intercept, x), torch.mul(x, beta)))"
   ]
  },
  {
   "cell_type": "code",
   "execution_count": 49,
   "metadata": {},
   "outputs": [
    {
     "name": "stdout",
     "output_type": "stream",
     "text": [
      "tensor([[-0., -0.,  1., -0.,  1.],\n",
      "        [ 1., -0., -0., -0., -0.],\n",
      "        [-1., -0.,  1., -0.,  2.],\n",
      "        [ 1., -1.,  2., -0., -0.],\n",
      "        [-1.,  1., -0.,  1.,  1.]])\n",
      "tensor([[-1., -1.,  0., -1.,  0.],\n",
      "        [ 0., -1., -1., -1., -1.],\n",
      "        [-2., -1.,  0., -1.,  1.],\n",
      "        [ 0., -2.,  1., -1., -1.],\n",
      "        [-2.,  0., -1.,  0.,  0.]])\n"
     ]
    }
   ],
   "source": [
    "# round using floor and ceil\n",
    "torch.manual_seed(1234)\n",
    "x = torch.randn(5, 5)\n",
    "print(torch.ceil(x))\n",
    "print(torch.floor(x))"
   ]
  },
  {
   "cell_type": "code",
   "execution_count": 50,
   "metadata": {},
   "outputs": [
    {
     "data": {
      "text/plain": [
       "tensor([[-0.3000, -0.3000,  0.0000, -0.3000,  0.0000],\n",
       "        [ 0.0000, -0.3000, -0.3000, -0.3000, -0.3000],\n",
       "        [-0.3000, -0.3000,  0.0000, -0.3000,  0.4000],\n",
       "        [ 0.0000, -0.3000,  0.4000, -0.3000, -0.3000],\n",
       "        [-0.3000,  0.0000, -0.3000,  0.0000,  0.0000]])"
      ]
     },
     "execution_count": 50,
     "metadata": {},
     "output_type": "execute_result"
    }
   ],
   "source": [
    "# limit the values of a tensor to be within a certain range using the\n",
    "# minimum and maximum arguments along with the clamp function.\n",
    "torch.clamp(torch.floor(x), min=-0.3, max=0.4)"
   ]
  },
  {
   "cell_type": "code",
   "execution_count": 51,
   "metadata": {},
   "outputs": [
    {
     "data": {
      "text/plain": [
       "tensor([[-0.3000, -0.3000,  0.0000, -0.3000,  0.0000],\n",
       "        [ 0.0000, -0.3000, -0.3000, -0.3000, -0.3000],\n",
       "        [-0.3000, -0.3000,  0.0000, -0.3000,  1.0000],\n",
       "        [ 0.0000, -0.3000,  1.0000, -0.3000, -0.3000],\n",
       "        [-0.3000,  0.0000, -0.3000,  0.0000,  0.0000]])"
      ]
     },
     "execution_count": 51,
     "metadata": {},
     "output_type": "execute_result"
    }
   ],
   "source": [
    "# truncate with only lower limit\n",
    "\n",
    "torch.clamp(torch.floor(x), min=-0.3)"
   ]
  },
  {
   "cell_type": "code",
   "execution_count": 53,
   "metadata": {},
   "outputs": [
    {
     "data": {
      "text/plain": [
       "tensor([[-1.0000, -1.0000,  0.0000, -1.0000,  0.0000],\n",
       "        [ 0.0000, -1.0000, -1.0000, -1.0000, -1.0000],\n",
       "        [-2.0000, -1.0000,  0.0000, -1.0000,  0.3000],\n",
       "        [ 0.0000, -2.0000,  0.3000, -1.0000, -1.0000],\n",
       "        [-2.0000,  0.0000, -1.0000,  0.0000,  0.0000]])"
      ]
     },
     "execution_count": 53,
     "metadata": {},
     "output_type": "execute_result"
    }
   ],
   "source": [
    "# truncate with only upper limit\n",
    "torch.clamp(torch.floor(x), max=0.3)"
   ]
  },
  {
   "cell_type": "code",
   "execution_count": 56,
   "metadata": {},
   "outputs": [
    {
     "data": {
      "text/plain": [
       "tensor([[0.5295, 1.1467],\n",
       "        [1.5830, 1.5994]])"
      ]
     },
     "execution_count": 56,
     "metadata": {},
     "output_type": "execute_result"
    }
   ],
   "source": [
    "# compute the exponential of a tensor\n",
    "x = torch.randn(2, 2)\n",
    "torch.exp(x)"
   ]
  },
  {
   "cell_type": "code",
   "execution_count": 58,
   "metadata": {},
   "outputs": [
    {
     "name": "stdout",
     "output_type": "stream",
     "text": [
      "tensor([[-0.6359,  0.1369],\n",
      "        [ 0.4593,  0.4696]])\n",
      "tensor([[    nan, -1.9886],\n",
      "        [-0.7780, -0.7559]])\n"
     ]
    }
   ],
   "source": [
    "# compute the log of the values in the tensor\n",
    "print(x)\n",
    "print(torch.log(x))"
   ]
  },
  {
   "cell_type": "code",
   "execution_count": 59,
   "metadata": {},
   "outputs": [
    {
     "name": "stdout",
     "output_type": "stream",
     "text": [
      "tensor([[0.4043, 0.0187],\n",
      "        [0.2110, 0.2205]])\n"
     ]
    }
   ],
   "source": [
    "# take tensor values to a specified power\n",
    "print(torch.pow(x, 2))"
   ]
  },
  {
   "cell_type": "code",
   "execution_count": 60,
   "metadata": {},
   "outputs": [
    {
     "data": {
      "text/plain": [
       "tensor([[0.3462, 0.5342],\n",
       "        [0.6129, 0.6153]])"
      ]
     },
     "execution_count": 60,
     "metadata": {},
     "output_type": "execute_result"
    }
   ],
   "source": [
    "# apply sigmoid function to a tensor\n",
    "torch.sigmoid(x)"
   ]
  },
  {
   "cell_type": "code",
   "execution_count": 61,
   "metadata": {},
   "outputs": [
    {
     "data": {
      "text/plain": [
       "tensor([[   nan, 0.3700],\n",
       "        [0.6777, 0.6853]])"
      ]
     },
     "execution_count": 61,
     "metadata": {},
     "output_type": "execute_result"
    }
   ],
   "source": [
    "# take square root of tensor\n",
    "torch.sqrt(x)"
   ]
  }
 ],
 "metadata": {
  "kernelspec": {
   "display_name": "Python 3",
   "language": "python",
   "name": "python3"
  },
  "language_info": {
   "codemirror_mode": {
    "name": "ipython",
    "version": 3
   },
   "file_extension": ".py",
   "mimetype": "text/x-python",
   "name": "python",
   "nbconvert_exporter": "python",
   "pygments_lexer": "ipython3",
   "version": "3.6.8"
  },
  "toc": {
   "base_numbering": 1,
   "nav_menu": {},
   "number_sections": true,
   "sideBar": true,
   "skip_h1_title": false,
   "title_cell": "Table of Contents",
   "title_sidebar": "Contents",
   "toc_cell": false,
   "toc_position": {},
   "toc_section_display": true,
   "toc_window_display": false
  }
 },
 "nbformat": 4,
 "nbformat_minor": 2
}
