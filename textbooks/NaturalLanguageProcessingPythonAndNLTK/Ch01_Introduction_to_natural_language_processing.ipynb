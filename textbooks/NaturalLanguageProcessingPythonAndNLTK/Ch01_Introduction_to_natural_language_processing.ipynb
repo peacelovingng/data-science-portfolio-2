{
 "cells": [
  {
   "cell_type": "markdown",
   "metadata": {},
   "source": [
    "# TOC"
   ]
  },
  {
   "cell_type": "markdown",
   "metadata": {},
   "source": [
    "  __Chapter 1 - Introduction to natural language processing__\n",
    "\n",
    "1. [Import](#Import)\n",
    "1. [Basic tokenization](#Basic-tokenization)"
   ]
  },
  {
   "cell_type": "markdown",
   "metadata": {},
   "source": [
    "# Import"
   ]
  },
  {
   "cell_type": "markdown",
   "metadata": {},
   "source": [
    "<a id = 'Import'></a>"
   ]
  },
  {
   "cell_type": "code",
   "execution_count": 1,
   "metadata": {},
   "outputs": [
    {
     "data": {
      "text/html": [
       "<style>.container { width:95% !important; }</style>"
      ],
      "text/plain": [
       "<IPython.core.display.HTML object>"
      ]
     },
     "metadata": {},
     "output_type": "display_data"
    }
   ],
   "source": [
    "# Standard libary and settings\n",
    "import os\n",
    "import sys\n",
    "import importlib\n",
    "import itertools\n",
    "import warnings\n",
    "\n",
    "warnings.simplefilter(\"ignore\")\n",
    "from IPython.core.display import display, HTML\n",
    "\n",
    "display(HTML(\"<style>.container { width:95% !important; }</style>\"))\n",
    "\n",
    "# Data extensions and settings\n",
    "import numpy as np\n",
    "\n",
    "np.set_printoptions(threshold=np.inf, suppress=True)\n",
    "import pandas as pd\n",
    "\n",
    "pd.set_option(\"display.max_rows\", 500)\n",
    "pd.set_option(\"display.max_columns\", 500)\n",
    "pd.options.display.float_format = \"{:,.6f}\".format\n",
    "\n",
    "# Modeling extensions\n",
    "import nltk\n",
    "\n",
    "# Visualization extensions and settings\n",
    "import seaborn as sns\n",
    "import matplotlib.pyplot as plt\n",
    "\n",
    "%matplotlib inline\n",
    "sns.set_style(\"whitegrid\")"
   ]
  },
  {
   "cell_type": "markdown",
   "metadata": {},
   "source": [
    "# Basic tokenization\n"
   ]
  },
  {
   "cell_type": "markdown",
   "metadata": {},
   "source": [
    "<a id = 'Basic-tokenization'></a>"
   ]
  },
  {
   "cell_type": "code",
   "execution_count": 7,
   "metadata": {},
   "outputs": [
    {
     "name": "stdout",
     "output_type": "stream",
     "text": [
      "49350\n"
     ]
    }
   ],
   "source": [
    "# read text of python's homepage\n",
    "from urllib.request import urlopen\n",
    "\n",
    "response = urlopen(\"http://python.org\")\n",
    "html = response.read().decode(\"utf-8\")\n",
    "print(len(html))"
   ]
  },
  {
   "cell_type": "code",
   "execution_count": 8,
   "metadata": {},
   "outputs": [
    {
     "name": "stdout",
     "output_type": "stream",
     "text": [
      "['<!doctype', 'html>', '<!--[if', 'lt', 'IE', '7]>', '<html', 'class=\"no-js', 'ie6', 'lt-ie7', 'lt-ie8', 'lt-ie9\">', '<![endif]-->', '<!--[if', 'IE', '7]>', '<html', 'class=\"no-js', 'ie7', 'lt-ie8', 'lt-ie9\">', '<![endif]-->', '<!--[if', 'IE', '8]>', '<html', 'class=\"no-js', 'ie8', 'lt-ie9\">', '<![endif]-->', '<!--[if', 'gt', 'IE', '8]><!--><html', 'class=\"no-js\"', 'lang=\"en\"', 'dir=\"ltr\">', '<!--<![endif]-->', '<head>', '<meta', 'charset=\"utf-8\">', '<meta', 'http-equiv=\"X-UA-Compatible\"', 'content=\"IE=edge\">', '<link', 'rel=\"prefetch\"', 'href=\"//ajax.googleapis.com/ajax/libs/jquery/1.8.2/jquery.min.js\">', '<meta', 'name=\"application-name\"', 'content=\"Python.org\">', '<meta', 'name=\"msapplication-tooltip\"', 'content=\"The', 'official', 'home', 'of', 'the', 'Python', 'Programming', 'Language\">', '<meta', 'name=\"apple-mobile-web-app-title\"', 'content=\"Python.org\">', '<meta', 'name=\"apple-mobile-web-app-capable\"', 'content=\"yes\">', '<meta', 'name=\"apple-mobile-web-app-status-bar-style\"', 'content=\"black\">', '<meta', 'name=\"viewport\"', 'content=\"width=device-width,', 'initial-scale=1.0\">', '<meta', 'name=\"HandheldFriendly\"', 'content=\"True\">', '<meta', 'name=\"format-detection\"', 'content=\"telephone=no\">', '<meta', 'http-equiv=\"cleartype\"', 'content=\"on\">', '<meta', 'http-equiv=\"imagetoolbar\"', 'content=\"false\">', '<script', 'src=\"/static/js/libs/modernizr.js\"></script>', '<link', 'href=\"/static/stylesheets/style.67f4b30f7483.css\"', 'rel=\"stylesheet\"', 'type=\"text/css\"', 'title=\"default\"', '/>', '<link', 'href=\"/static/stylesheets/mq.3ae8e02ece5b.css\"', 'rel=\"stylesheet\"', 'type=\"text/css\"', 'media=\"not', 'print,', 'braille,']\n"
     ]
    }
   ],
   "source": [
    "# split text into individual tokens\n",
    "tokens = [tok for tok in html.split()]\n",
    "print(tokens[:100])"
   ]
  },
  {
   "cell_type": "code",
   "execution_count": 9,
   "metadata": {},
   "outputs": [
    {
     "name": "stdout",
     "output_type": "stream",
     "text": [
      "['', 'doctype', 'html', 'if', 'lt', 'IE', '7', 'html', 'class', 'no', 'js', 'ie6', 'lt', 'ie7', 'lt', 'ie8', 'lt', 'ie9', 'endif', 'if', 'IE', '7', 'html', 'class', 'no', 'js', 'ie7', 'lt', 'ie8', 'lt', 'ie9', 'endif', 'if', 'IE', '8', 'html', 'class', 'no', 'js', 'ie8', 'lt', 'ie9', 'endif', 'if', 'gt', 'IE', '8', 'html', 'class', 'no', 'js', 'lang', 'en', 'dir', 'ltr', 'endif', 'head', 'meta', 'charset', 'utf', '8', 'meta', 'http', 'equiv', 'X', 'UA', 'Compatible', 'content', 'IE', 'edge', 'link', 'rel', 'prefetch', 'href', 'ajax', 'googleapis', 'com', 'ajax', 'libs', 'jquery', '1', '8', '2', 'jquery', 'min', 'js', 'meta', 'name', 'application', 'name', 'content', 'Python', 'org', 'meta', 'name', 'msapplication', 'tooltip', 'content', 'The', 'official']\n"
     ]
    }
   ],
   "source": [
    "# use regex to parse input\n",
    "import re\n",
    "\n",
    "tokens = re.split(\"\\W+\", html)\n",
    "print(tokens[:100])"
   ]
  },
  {
   "cell_type": "code",
   "execution_count": 21,
   "metadata": {},
   "outputs": [
    {
     "data": {
      "text/plain": [
       "' \\n\\n\\n\\n\\n\\n\\n\\n\\n\\n\\n\\n\\n\\n\\n\\n\\n\\n\\n\\n\\n\\n\\n\\n\\n\\n\\n\\nWelcome to Python.org\\n\\n\\n\\n\\n\\n\\n\\n\\n\\n\\n\\n\\n\\n\\n\\n     {\\n       \"@context\": \"https://schema.org\",\\n       \"@type\": \"WebSite\",\\n       \"url\": \"https://www.python.org/\",\\n       \"potentialA'"
      ]
     },
     "execution_count": 21,
     "metadata": {},
     "output_type": "execute_result"
    }
   ],
   "source": [
    "# use BeautifulSoup to parse html\n",
    "from bs4 import BeautifulSoup\n",
    "\n",
    "soup = BeautifulSoup(html)\n",
    "text2 = soup.get_text()\n",
    "text2[:200]"
   ]
  },
  {
   "cell_type": "code",
   "execution_count": 20,
   "metadata": {},
   "outputs": [
    {
     "name": "stdout",
     "output_type": "stream",
     "text": [
      "<FreqDist with 1042 samples and 6229 outcomes>\n",
      " : 2\n",
      "doctype : 1\n",
      "html : 19\n",
      "if : 10\n",
      "lt : 8\n",
      "IE : 10\n",
      "7 : 14\n",
      "class : 363\n",
      "no : 20\n",
      "js : 21\n",
      "ie6 : 1\n",
      "ie7 : 2\n",
      "ie8 : 3\n",
      "ie9 : 3\n",
      "endif : 9\n",
      "8 : 20\n",
      "gt : 8\n",
      "lang : 1\n",
      "en : 1\n",
      "dir : 1\n",
      "ltr : 1\n",
      "head : 2\n",
      "meta : 31\n",
      "charset : 4\n",
      "utf : 4\n"
     ]
    }
   ],
   "source": [
    "#\n",
    "freq_dist = nltk.FreqDist(tokens)\n",
    "print(freq_dist)\n",
    "count = 0\n",
    "for k, v in freq_dist.items():\n",
    "    print(\"{0} : {1}\".format(k, v))\n",
    "    count += 1\n",
    "    if count == 25:\n",
    "        break"
   ]
  }
 ],
 "metadata": {
  "kernelspec": {
   "display_name": "Python 3",
   "language": "python",
   "name": "python3"
  },
  "language_info": {
   "codemirror_mode": {
    "name": "ipython",
    "version": 3
   },
   "file_extension": ".py",
   "mimetype": "text/x-python",
   "name": "python",
   "nbconvert_exporter": "python",
   "pygments_lexer": "ipython3",
   "version": "3.6.8"
  },
  "toc": {
   "base_numbering": 1,
   "nav_menu": {},
   "number_sections": true,
   "sideBar": true,
   "skip_h1_title": false,
   "title_cell": "Table of Contents",
   "title_sidebar": "Contents",
   "toc_cell": false,
   "toc_position": {},
   "toc_section_display": true,
   "toc_window_display": false
  }
 },
 "nbformat": 4,
 "nbformat_minor": 2
}
