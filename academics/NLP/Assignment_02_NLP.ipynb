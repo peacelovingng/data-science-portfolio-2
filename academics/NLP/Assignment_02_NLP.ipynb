{
 "cells": [
  {
   "cell_type": "markdown",
   "metadata": {},
   "source": [
    "__Assignment 2: Command line file inspections__"
   ]
  },
  {
   "cell_type": "markdown",
   "metadata": {},
   "source": [
    "# Assignment 2"
   ]
  },
  {
   "cell_type": "code",
   "execution_count": 11,
   "metadata": {
    "ExecuteTime": {
     "end_time": "2019-06-28T21:53:37.871688Z",
     "start_time": "2019-06-28T21:53:37.493533Z"
    }
   },
   "outputs": [
    {
     "name": "stdout",
     "output_type": "stream",
     "text": [
      "7 s3://tdp-ml-datasets/misc/NLP_Assignment2.txt\r\n"
     ]
    }
   ],
   "source": [
    "# Question 1: find the number of lines in the file (use wc)\n",
    "# Because there actually 8 lines of text, I assume 7 is equal to the number of newline characters\n",
    "! wc -l 's3://tdp-ml-datasets/misc/NLP_Assignment2.txt'\n"
   ]
  },
  {
   "cell_type": "code",
   "execution_count": 12,
   "metadata": {
    "ExecuteTime": {
     "end_time": "2019-06-28T21:53:48.472984Z",
     "start_time": "2019-06-28T21:53:48.102861Z"
    }
   },
   "outputs": [
    {
     "name": "stdout",
     "output_type": "stream",
     "text": [
      "Ironman is cool.\r",
      "\r\n"
     ]
    }
   ],
   "source": [
    "# Question 2: check the first line of the file using head.\n",
    "! head -1 's3://tdp-ml-datasets/misc/NLP_Assignment2.txt'\n"
   ]
  },
  {
   "cell_type": "code",
   "execution_count": 13,
   "metadata": {
    "ExecuteTime": {
     "end_time": "2019-06-28T21:53:52.383217Z",
     "start_time": "2019-06-28T21:53:52.017998Z"
    }
   },
   "outputs": [
    {
     "name": "stdout",
     "output_type": "stream",
     "text": [
      "Ironman is cool.\r",
      "\r\n",
      "Ironman is smart\r",
      "\r\n",
      "Ironman is intelligent.\r",
      "\r\n",
      "Ironman is good.\r",
      "\r\n",
      "Ironman is strong.\r",
      "\r\n"
     ]
    }
   ],
   "source": [
    "# Question 3: check the lines 1 to 5 using the head file\n",
    "! head -5 's3://tdp-ml-datasets/misc/NLP_Assignment2.txt'\n"
   ]
  },
  {
   "cell_type": "code",
   "execution_count": 14,
   "metadata": {
    "ExecuteTime": {
     "end_time": "2019-06-28T21:53:56.265842Z",
     "start_time": "2019-06-28T21:53:55.885320Z"
    }
   },
   "outputs": [
    {
     "name": "stdout",
     "output_type": "stream",
     "text": [
      "Everyday is a new day\r",
      "\r\n",
      "Ironman is cool.\r",
      "\r\n",
      "Ironman is good.\r",
      "\r\n",
      "Ironman is goood\r",
      "\r\n",
      "Ironman is intelligent.\r",
      "\r\n",
      "Ironman is smart\r",
      "\r\n",
      "Ironman is smarter\r\n",
      "Ironman is strong.\r",
      "\r\n"
     ]
    }
   ],
   "source": [
    "# Question 4: sort the lines using Sort command\n",
    "! sort 's3://tdp-ml-datasets/misc/NLP_Assignment2.txt'\n"
   ]
  },
  {
   "cell_type": "code",
   "execution_count": 15,
   "metadata": {
    "ExecuteTime": {
     "end_time": "2019-06-28T21:54:00.162711Z",
     "start_time": "2019-06-28T21:53:59.773590Z"
    }
   },
   "outputs": [
    {
     "name": "stdout",
     "output_type": "stream",
     "text": [
      "      1 Ironman is cool.\r",
      "\r\n",
      "      1 Ironman is smart\r",
      "\r\n",
      "      1 Ironman is intelligent.\r",
      "\r\n",
      "      1 Ironman is good.\r",
      "\r\n",
      "      1 Ironman is strong.\r",
      "\r\n",
      "      1 Everyday is a new day\r",
      "\r\n",
      "      1 Ironman is goood\r",
      "\r\n",
      "      1 Ironman is smarter\r\n"
     ]
    }
   ],
   "source": [
    "# Question 5: Rrmove duplicates using Uniq command\n",
    "! uniq -c 's3://tdp-ml-datasets/misc/NLP_Assignment2.txt'\n"
   ]
  },
  {
   "cell_type": "code",
   "execution_count": 16,
   "metadata": {
    "ExecuteTime": {
     "end_time": "2019-06-28T21:54:03.879106Z",
     "start_time": "2019-06-28T21:54:03.507781Z"
    }
   },
   "outputs": [
    {
     "name": "stdout",
     "output_type": "stream",
     "text": [
      "Ironman is smart\r",
      "\r\n"
     ]
    }
   ],
   "source": [
    "# Question 6: use grep to search for lines that have the word \"smart\" \n",
    "! grep -w \"smart\" 's3://tdp-ml-datasets/misc/NLP_Assignment2.txt'\n"
   ]
  },
  {
   "cell_type": "code",
   "execution_count": 17,
   "metadata": {
    "ExecuteTime": {
     "end_time": "2019-06-28T21:54:09.360488Z",
     "start_time": "2019-06-28T21:54:08.998281Z"
    }
   },
   "outputs": [
    {
     "name": "stdout",
     "output_type": "stream",
     "text": [
      "Everyday is a new day\r",
      "\r\n"
     ]
    }
   ],
   "source": [
    "# Question 7: use grep to get lines that do not have the word \"Ironman\"\n",
    "! grep -v 'Ironman' 's3://tdp-ml-datasets/misc/NLP_Assignment2.txt'\n"
   ]
  }
 ],
 "metadata": {
  "kernelspec": {
   "display_name": "Python 3",
   "language": "python",
   "name": "python3"
  },
  "language_info": {
   "codemirror_mode": {
    "name": "ipython",
    "version": 3
   },
   "file_extension": ".py",
   "mimetype": "text/x-python",
   "name": "python",
   "nbconvert_exporter": "python",
   "pygments_lexer": "ipython3",
   "version": "3.6.8"
  },
  "toc": {
   "base_numbering": 1,
   "nav_menu": {},
   "number_sections": true,
   "sideBar": true,
   "skip_h1_title": false,
   "title_cell": "Table of Contents",
   "title_sidebar": "Contents",
   "toc_cell": false,
   "toc_position": {},
   "toc_section_display": true,
   "toc_window_display": false
  }
 },
 "nbformat": 4,
 "nbformat_minor": 2
}
