{
 "cells": [
  {
   "cell_type": "markdown",
   "metadata": {},
   "source": [
    "# TOC"
   ]
  },
  {
   "cell_type": "markdown",
   "metadata": {},
   "source": [
    "__Chapter 07 - Feature learning__\n",
    "\n",
    "1. [Import](#Import)\n",
    "1. [Parametric assumptions of data](#Parametric-assumptions-of-data)\n",
    "1. [Restricted Boltzmann Machines](#Restricted-Boltzmann-Machines)\n",
    "    1. [BernoulliRBM](#BernoulliRBM)\n",
    "    1. [Experiment - Extracting PCA components from MNIST](#Extracting-PCA-components-from-MNIST)\n",
    "1. [](#)\n",
    "1. [](#)\n",
    "1. [](#)\n"
   ]
  },
  {
   "cell_type": "markdown",
   "metadata": {},
   "source": [
    "<a id = 'Import'></a>"
   ]
  },
  {
   "cell_type": "markdown",
   "metadata": {
    "heading_collapsed": true
   },
   "source": [
    "# Import"
   ]
  },
  {
   "cell_type": "code",
   "execution_count": 19,
   "metadata": {
    "ExecuteTime": {
     "end_time": "2019-01-12T18:16:55.076718Z",
     "start_time": "2019-01-12T18:16:52.396783Z"
    },
    "hidden": true
   },
   "outputs": [
    {
     "data": {
      "text/html": [
       "<style>.container { width:95% !important; }</style>"
      ],
      "text/plain": [
       "<IPython.core.display.HTML object>"
      ]
     },
     "metadata": {},
     "output_type": "display_data"
    }
   ],
   "source": [
    "# Standard libary and settings\n",
    "import os\n",
    "import sys\n",
    "import importlib\n",
    "import itertools\n",
    "import warnings; warnings.simplefilter('ignore')\n",
    "modulePath = os.path.abspath(os.path.join('../../CustomModules'))\n",
    "sys.path.append(modulePath) if modulePath not in sys.path else None\n",
    "from IPython.core.display import display, HTML; display(HTML(\"<style>.container { width:95% !important; }</style>\"))\n",
    "\n",
    "\n",
    "# Data extensions and settings\n",
    "import numpy as np\n",
    "np.set_printoptions(threshold = np.inf, suppress = True)\n",
    "import pandas as pd\n",
    "pd.set_option('display.max_rows', 500)\n",
    "pd.options.display.float_format = '{:,.6f}'.format\n",
    "\n",
    "\n",
    "# Modeling extensions\n",
    "import sklearn.neural_network as neural_network\n",
    "import sklearn.preprocessing as preprocessing\n",
    "import sklearn.pipeline as pipeline\n",
    "import sklearn.neighbors as neighbors\n",
    "import sklearn.model_selection as model_selection\n",
    "\n",
    "\n",
    "\n",
    "# Visualization extensions and settings\n",
    "import seaborn as sns\n",
    "import matplotlib.pyplot as plt\n",
    "\n",
    "\n",
    "# Custom extensions and settings\n",
    "from quickplot import qp, qpUtil, qpStyle\n",
    "import mlmachine as mlm\n",
    "sns.set(rc = qpStyle.rcGrey)\n",
    "\n",
    "\n",
    "# Magic functions\n",
    "%matplotlib inline\n"
   ]
  },
  {
   "cell_type": "markdown",
   "metadata": {
    "hidden": true
   },
   "source": [
    "<a id = 'Parametric-assumptions-of-data'></a>"
   ]
  },
  {
   "cell_type": "markdown",
   "metadata": {
    "heading_collapsed": true
   },
   "source": [
    "# Parametric assumptions of data\n",
    "\n",
    "Feature learning algorithms remove the parametric assumption of data that PCA and LDA make. Rather than making assumptions about the shape of the data, these feature learning techniques rely on stochastic learning - that is, an iterative process is performed on the data rather than a well-defined linear transformation.\n",
    "\n",
    "That being said, non-parametric techniques that will be discussed here still make assumptions about the data, just not the shape. Here are some examples of non-parametric feature extraction techniques:\n",
    "\n",
    "- Restricted Boltzmann Machine (RBM)\n",
    "- Word embeddings"
   ]
  },
  {
   "cell_type": "markdown",
   "metadata": {
    "hidden": true
   },
   "source": [
    "<a id = 'Restricted-Boltzmann-Machines'></a>"
   ]
  },
  {
   "cell_type": "markdown",
   "metadata": {},
   "source": [
    "# Restricted Boltzmann Machines\n",
    "\n",
    "RBMs are a family of unsupervised feature learning algorithms that use probabilistic models to learn new features. Just as with PCA and LDA, RBMs extract new features from raw data. These new features tend to work best when followed by linear models.\n",
    "\n",
    "Conceptually, RBMs can be thought of as shallow neural networks, having only two layers. It is an unsupervised method, so there is only a visible layer and a hidden layer. The (first) visible layer contains as many nodes as there are input features. The number of nodes in the hidden layer is a parameter chosen by the user, and represents the number of features we wish to learn. There is theoretically no limit to the number of features that RBMs can learn - this number can be fewer than the number of features we start with, and can also be more than the number of features we start with.\n",
    "\n",
    "Each node in the the visible layer is connected to each node in the hidden layer, and these connections have a weight. The dot product of the input values and the weights (plus bias) generates a value that is pass into an activation function.\n",
    "\n",
    "The 'Restriction' aspect of RBMs means there aren't any connections between nodes in the same layer. This allows for nodes to independently create weights and end up being independent features.\n",
    "\n",
    "After one forward pass is completed, the direction of information flow reverses. The previously activated values are the input values and are multiplied by the same weights, but new biases, that connect the hidden layer nodes to all nodes in the visible layer. This backwards pass is effectively an approximation of the original input. After one full forward/backward cycle, the weights are adjusted with the intention of minimizing the distance between the original input and the approximations. This process is repeated for many iterarions, and in this process the network is trying to obtain an approximation of the original input.\n",
    "\n",
    "As an example, suppose we are trying to pass in a grid of pixels representing a digit between 0 and 9. We pass in the pixels with the question, \"What digit is this?\". On the reverse pass, we are in a way passing in a digit and asking \"What pixels should I expect?\" More formally, this is a joint probability, which is the simultaneous probability of y given x and x given y"
   ]
  },
  {
   "cell_type": "code",
   "execution_count": 22,
   "metadata": {},
   "outputs": [],
   "source": [
    "# Read image files into numpy arrays\n",
    "\n",
    "import struct\n",
    "import os\n",
    "\n",
    "def load_mnist(path, kind = 'train'):\n",
    "    \"\"\"\n",
    "    This returns two arrays. images is an n x m dimensional array, where n is the\n",
    "    number of samples and m is the number of features, which is this context is the\n",
    "    number of pixels. The training data includes 60,000 digits and the test data includes\n",
    "    10,000 digits. The second array labels includes the target variable, which takes on\n",
    "    an integer value between 0 and 9.    \n",
    "    \n",
    "    The images in this dataset are 28 x 28 pixels in size, and each pixel is represented\n",
    "    by a gray scale intensity value. This function unrolls the 28 x 28 pixels into a\n",
    "    one-dimensional row vector of length 784, which is represented in the images array.\n",
    "    \"\"\"    \n",
    "    labels_path = os.path.join(path, '%s-labels-idx1-ubyte' % kind)\n",
    "    images_path = os.path.join(path, '%s-images-idx3-ubyte' % kind)\n",
    "    with open(labels_path, 'rb') as lbpath:\n",
    "        magic, n = struct.unpack('>II', lbpath.read(8))\n",
    "        labels = np.fromfile(lbpath, dtype = np.uint8)\n",
    "    with open(images_path, 'rb') as imgpath:\n",
    "        magic, num, rows, cols = struct.unpack('>IIII', imgpath.read(16))\n",
    "        images = np.fromfile(imgpath, dtype = np.uint8).reshape(len(labels), 784)\n",
    "        \n",
    "        # Normalize pixel values to range from -1 to 1 rather than 0 to 255\n",
    "        #images = ((images / 255.) - 0.5) * 2\n",
    "    return images, labels\n"
   ]
  },
  {
   "cell_type": "code",
   "execution_count": 23,
   "metadata": {},
   "outputs": [
    {
     "name": "stdout",
     "output_type": "stream",
     "text": [
      "Rows: 60000, columns: 784\n",
      "Rows: 10000, columns: 784\n"
     ]
    }
   ],
   "source": [
    "# \n",
    "\n",
    "dataPath = '..\\\\PythonMachineLearning2ndEd'\n",
    "XData, yData = load_mnist(path = os.path.join(dataPath,'MNISTDigits')\n",
    "                            , kind = 'train')\n",
    "print('Rows: {}, columns: {}'.format(XData.shape[0], XData.shape[1]))\n",
    "\n",
    "XTest, yTest = load_mnist(path = os.path.join(dataPath,'MNISTDigits')\n",
    "                          , kind = 't10k')\n",
    "print('Rows: {}, columns: {}'.format(XTest.shape[0], XTest.shape[1]))\n"
   ]
  },
  {
   "cell_type": "code",
   "execution_count": 24,
   "metadata": {},
   "outputs": [
    {
     "data": {
      "text/plain": [
       "<matplotlib.image.AxesImage at 0xc478940>"
      ]
     },
     "execution_count": 24,
     "metadata": {},
     "output_type": "execute_result"
    },
    {
     "data": {
      "image/png": "[encoded data removed]",
      "text/plain": [
       "<Figure size 432x288 with 1 Axes>"
      ]
     },
     "metadata": {
      "needs_background": "light"
     },
     "output_type": "display_data"
    }
   ],
   "source": [
    "# sample\n",
    "\n",
    "plt.imshow(XData[0].reshape(28,28), cmap = plt.cm.gray_r)\n"
   ]
  },
  {
   "cell_type": "code",
   "execution_count": 25,
   "metadata": {},
   "outputs": [
    {
     "data": {
      "image/png": "[encoded data removed]",
      "text/plain": [
       "<Figure size 432x288 with 10 Axes>"
      ]
     },
     "metadata": {},
     "output_type": "display_data"
    }
   ],
   "source": [
    "# Visualize samples digits\n",
    "\n",
    "fig, ax = plt.subplots(nrows = 2, ncols = 5, sharex = True, sharey = True)\n",
    "\n",
    "ax = ax.flatten()\n",
    "for i in range(10):\n",
    "    img = XData[yData == i][0].reshape(28,28)\n",
    "    ax[i].imshow(img, cmap = 'Greys')\n",
    "    \n",
    "ax[0].set_xticks([])\n",
    "ax[0].set_yticks([])\n",
    "plt.tight_layout()\n",
    "plt.show()\n"
   ]
  },
  {
   "cell_type": "markdown",
   "metadata": {},
   "source": [
    "<a id = 'BernoulliRBM'></a>"
   ]
  },
  {
   "cell_type": "markdown",
   "metadata": {},
   "source": [
    "## BernoulliRBM\n",
    "\n",
    "The only scikit-learn implemented RBM is the BernoulliRBM module. It allows for values between zero and one because the node values represent a probability that the node is activated or not, which allows for quicker learning of feature sets. To preprocess the data, we need to:\n",
    "\n",
    "- Scale the values of pixels to values between zero and one\n",
    "- Change the pixel values in place to be true if the value is over 0.5, and false otherwise."
   ]
  },
  {
   "cell_type": "code",
   "execution_count": 26,
   "metadata": {},
   "outputs": [
    {
     "data": {
      "text/plain": [
       "(0.0, 1.0)"
      ]
     },
     "execution_count": 26,
     "metadata": {},
     "output_type": "execute_result"
    }
   ],
   "source": [
    "# Scale to 0 and 1\n",
    "\n",
    "XData = XData / 255.\n",
    "XData = (XData > 0.5).astype(float)\n",
    "np.min(XData), np.max(XData)\n"
   ]
  },
  {
   "cell_type": "code",
   "execution_count": 27,
   "metadata": {},
   "outputs": [
    {
     "data": {
      "text/plain": [
       "<matplotlib.image.AxesImage at 0xce9d8d0>"
      ]
     },
     "execution_count": 27,
     "metadata": {},
     "output_type": "execute_result"
    },
    {
     "data": {
      "image/png": "[encoded data removed]",
      "text/plain": [
       "<Figure size 432x288 with 1 Axes>"
      ]
     },
     "metadata": {
      "needs_background": "light"
     },
     "output_type": "display_data"
    }
   ],
   "source": [
    "# sample\n",
    "\n",
    "plt.imshow(XData[0].reshape(28,28), cmap = plt.cm.gray_r)"
   ]
  },
  {
   "cell_type": "markdown",
   "metadata": {},
   "source": [
    "> Note that this image is less fuzzy than the output above."
   ]
  },
  {
   "cell_type": "markdown",
   "metadata": {},
   "source": [
    "<a id = ''></a>"
   ]
  },
  {
   "cell_type": "markdown",
   "metadata": {},
   "source": [
    "## Experiment - Extracting PCA components from MNIST"
   ]
  },
  {
   "cell_type": "code",
   "execution_count": null,
   "metadata": {},
   "outputs": [],
   "source": []
  },
  {
   "cell_type": "code",
   "execution_count": null,
   "metadata": {},
   "outputs": [],
   "source": []
  },
  {
   "cell_type": "markdown",
   "metadata": {},
   "source": [
    "<a id = ''></a>"
   ]
  },
  {
   "cell_type": "markdown",
   "metadata": {},
   "source": [
    "## a"
   ]
  },
  {
   "cell_type": "code",
   "execution_count": null,
   "metadata": {},
   "outputs": [],
   "source": []
  },
  {
   "cell_type": "code",
   "execution_count": null,
   "metadata": {},
   "outputs": [],
   "source": []
  },
  {
   "cell_type": "markdown",
   "metadata": {},
   "source": [
    "<a id = ''></a>"
   ]
  },
  {
   "cell_type": "markdown",
   "metadata": {},
   "source": [
    "## a"
   ]
  },
  {
   "cell_type": "code",
   "execution_count": null,
   "metadata": {},
   "outputs": [],
   "source": []
  },
  {
   "cell_type": "code",
   "execution_count": null,
   "metadata": {},
   "outputs": [],
   "source": []
  },
  {
   "cell_type": "markdown",
   "metadata": {},
   "source": [
    "<a id = ''></a>"
   ]
  },
  {
   "cell_type": "markdown",
   "metadata": {},
   "source": [
    "## a"
   ]
  },
  {
   "cell_type": "code",
   "execution_count": null,
   "metadata": {},
   "outputs": [],
   "source": []
  },
  {
   "cell_type": "code",
   "execution_count": null,
   "metadata": {},
   "outputs": [],
   "source": []
  },
  {
   "cell_type": "markdown",
   "metadata": {},
   "source": [
    "<a id = ''></a>"
   ]
  },
  {
   "cell_type": "markdown",
   "metadata": {},
   "source": [
    "## a"
   ]
  },
  {
   "cell_type": "code",
   "execution_count": null,
   "metadata": {},
   "outputs": [],
   "source": []
  },
  {
   "cell_type": "code",
   "execution_count": null,
   "metadata": {},
   "outputs": [],
   "source": []
  }
 ],
 "metadata": {
  "kernelspec": {
   "display_name": "Python 3",
   "language": "python",
   "name": "python3"
  },
  "language_info": {
   "codemirror_mode": {
    "name": "ipython",
    "version": 3
   },
   "file_extension": ".py",
   "mimetype": "text/x-python",
   "name": "python",
   "nbconvert_exporter": "python",
   "pygments_lexer": "ipython3",
   "version": "3.7.1"
  },
  "toc": {
   "base_numbering": 1,
   "nav_menu": {},
   "number_sections": true,
   "sideBar": true,
   "skip_h1_title": false,
   "title_cell": "Table of Contents",
   "title_sidebar": "Contents",
   "toc_cell": false,
   "toc_position": {},
   "toc_section_display": true,
   "toc_window_display": false
  }
 },
 "nbformat": 4,
 "nbformat_minor": 2
}
