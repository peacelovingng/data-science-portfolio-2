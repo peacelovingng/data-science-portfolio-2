{
 "cells": [
  {
   "cell_type": "markdown",
   "metadata": {},
   "source": [
    "__Chapter 5 - Compressing Data via Dimensionality Reduction__\n",
    "\n",
    "1. [Learning with ensembles](#Learning-with-ensembles)\n",
    "    1. [Implementing a simple majority vote classifier](#Implementing-a-simple-majority-vote-classifier)\n",
    "    1. [Homegrown implementation](#Homegrown-implementation-ens)\n",
    "1. [](#)\n",
    "1. [](#)\n",
    "1. [](#)\n",
    "1. [](#)\n"
   ]
  },
  {
   "cell_type": "code",
   "execution_count": 2,
   "metadata": {
    "ExecuteTime": {
     "end_time": "2018-11-05T23:55:05.616558Z",
     "start_time": "2018-11-05T23:54:45.048127Z"
    }
   },
   "outputs": [
    {
     "data": {
      "text/html": [
       "<style>.container { width:95% !important; }</style>"
      ],
      "text/plain": [
       "<IPython.core.display.HTML object>"
      ]
     },
     "metadata": {},
     "output_type": "display_data"
    }
   ],
   "source": [
    "# Standard libary and settings\n",
    "import os\n",
    "import sys\n",
    "import importlib\n",
    "import itertools\n",
    "import warnings; warnings.simplefilter('ignore')\n",
    "dataPath = os.path.abspath(os.path.join('../../Data'))\n",
    "modulePath = os.path.abspath(os.path.join('../../CustomModules'))\n",
    "sys.path.append(modulePath) if modulePath not in sys.path else None\n",
    "from IPython.core.display import display, HTML; display(HTML(\"<style>.container { width:95% !important; }</style>\"))\n",
    "\n",
    "\n",
    "# Data extensions and settings\n",
    "import numpy as np\n",
    "np.set_printoptions(threshold = np.inf, suppress = True)\n",
    "import pandas as pd\n",
    "pd.set_option('display.max_rows', 500)\n",
    "pd.options.display.float_format = '{:,.6f}'.format\n",
    "\n",
    "\n",
    "# Modeling extensions\n",
    "import sklearn.base as base\n",
    "import sklearn.cluster as cluster\n",
    "import sklearn.datasets as datasets\n",
    "import sklearn.decomposition as decomposition\n",
    "import sklearn.discriminant_analysis as discriminant_analysis\n",
    "import sklearn.ensemble as ensemble\n",
    "import sklearn.feature_extraction as feature_extraction\n",
    "import sklearn.feature_selection as feature_selection\n",
    "import sklearn.linear_model as linear_model\n",
    "import sklearn.metrics as metrics\n",
    "import sklearn.model_selection as model_selection\n",
    "import sklearn.neighbors as neighbors\n",
    "import sklearn.pipeline as pipeline\n",
    "import sklearn.preprocessing as preprocessing\n",
    "import sklearn.svm as svm\n",
    "import sklearn.tree as tree\n",
    "import sklearn.utils as utils\n",
    "\n",
    "\n",
    "# Visualization extensions and settings\n",
    "import seaborn as sns\n",
    "import matplotlib.pyplot as plt\n",
    "\n",
    "\n",
    "# Custom extensions and settings\n",
    "from quickplot import qp, qpUtil, qpStyle\n",
    "from mlTools import powerGridSearch\n",
    "sns.set(rc = qpStyle.rcGrey)\n",
    "\n",
    "\n",
    "# Magic functions\n",
    "%matplotlib inline\n"
   ]
  },
  {
   "cell_type": "markdown",
   "metadata": {},
   "source": [
    "<a id = 'Learning-with-ensembles'></a>"
   ]
  },
  {
   "cell_type": "markdown",
   "metadata": {},
   "source": [
    "# Learning with ensembles\n",
    "\n",
    "An ensemble is a meta-classifier that consists of several different models tuned trained on a problem. Rather than evaluating the performance of one model on its own, an ensemble enlists all models to evaluate the test data and predictions are made based on majority voting. The aim is to achieve better generalization through all models being used simultaneously.\n",
    "\n",
    "For binary class labels, majority vote among the ensemble methods determines the prediction. For multi-class labels, plurality (the most votes, or mode) determines the prediction.\n",
    "\n",
    "$$\n",
    "\\hat{y} = mode\\{C_1(x), C_2(x),...,C_m(x)\\}\n",
    "$$\n",
    "\n",
    "where $C_i$ is one of $m$ distinct models, and each makes a prediction for obseration $x$."
   ]
  },
  {
   "cell_type": "markdown",
   "metadata": {},
   "source": [
    "<a id = 'Implementing-a-simple-majority-vote-classifier'></a>"
   ]
  },
  {
   "cell_type": "markdown",
   "metadata": {},
   "source": [
    "## Implementing a simple majority vote classifier\n",
    "\n",
    "It's possible to implement a majority vote classifier where each model has an associated weight pertaining to our confidence in that model.\n",
    "\n",
    "$$\n",
    "\\hat{y} = \\mbox{arg max}\\sum_{j=1}^{m}w_j\\chi_A(C_j(x)=i)\n",
    "$$\n",
    "\n",
    "$w_j$ is the weight associated with model $C_j$, $\\hat{y}$ is the predicted class label of the whole ensemble, $\\chi_A$ is the characteristic function $[C_j(x)=i\\in A]$, and $A$ is the set containing the unique class labels. If all model weights are equal, then the equation is effectively the same as the 'mode' function above.\n",
    "\n",
    "As an example, we have 3 base classifiers and we're predicting the class label of a single instance $\\textbf{x}$. $C_1$ and $C_2$ predict class 0, and $C_3$ predicts class 1. Under equal weighting:\n",
    "\n",
    "$$\n",
    "\\hat{y} = mode\\{0,0,1\\} = 0\n",
    "$$\n",
    "\n",
    "Now let's model $C_3$ a weight of 0.6 and models $C_1$ and $C_2$ weights of 0.2\n",
    "\n",
    "$$\n",
    "\\hat{y} = \\mbox{arg max} [0.2 \\times i_0 + 0.2 \\times i_0 + 0.6 \\times i_i] = 1\n",
    "$$"
   ]
  },
  {
   "cell_type": "code",
   "execution_count": 3,
   "metadata": {
    "ExecuteTime": {
     "end_time": "2018-11-05T23:55:26.509885Z",
     "start_time": "2018-11-05T23:55:26.505037Z"
    }
   },
   "outputs": [
    {
     "data": {
      "text/plain": [
       "1"
      ]
     },
     "execution_count": 3,
     "metadata": {},
     "output_type": "execute_result"
    }
   ],
   "source": [
    "# \n",
    "\n",
    "np.argmax(np.bincount([0,0,1], weights = [0.2, 0.2, 0.6]))\n"
   ]
  },
  {
   "cell_type": "markdown",
   "metadata": {},
   "source": [
    "Additionally, ensembles can consider probabilities associated with predicted class labels returned by predict_probas.\n",
    "\n",
    "$$\n",
    "\\hat{y} = \\mbox{arg max}\\sum_{j=1}^{m}w_jp_{ij}\n",
    "$$\n",
    "\n",
    "where $p_{ij}$ is the predicted probability of the $j$th classifier for class label $i$.\n",
    "\n",
    "Let's again use our example where we have a binary classification problem with labels $i = \\{0,1\\}$ and an ensembles of three classifiers $C_j(j = \\{0,1,2\\})$. Suppose one sample $\\textbf{x}$ return the following probablities for each of the 3 classifiers:\n",
    "\n",
    "$$\n",
    "C_1(x) \\rightarrow [0.9,0.1], C_2(x) \\rightarrow [0.8,0.2], C_3(x) \\rightarrow [0.4,0.4 ],\n",
    "$$\n",
    "\n",
    "The individual class probabilities are then calculated as:\n",
    "$$\n",
    "p(i_0|\\textbf{x}) = 0.2 \\times 0.9 + 0.2 \\times 0.8 + 0.6 \\times 0.4 = 0.58\n",
    "$$\n",
    "$$\n",
    "p(i_1|\\textbf{x}) = 0.2 \\times 0.1 + 0.2 \\times 0.2 + 0.6 \\times 0.6 = 0.42\n",
    "$$\n",
    "$$\n",
    "\\hat{y} = \\mbox{arg max} [p(i_0|\\textbf{x}),p(i_1|\\textbf{x})] = 0\n",
    "$$"
   ]
  },
  {
   "cell_type": "code",
   "execution_count": 9,
   "metadata": {
    "ExecuteTime": {
     "end_time": "2018-11-06T00:07:42.663861Z",
     "start_time": "2018-11-06T00:07:42.658879Z"
    }
   },
   "outputs": [
    {
     "name": "stdout",
     "output_type": "stream",
     "text": [
      "[0.58 0.42]\n",
      "0\n"
     ]
    }
   ],
   "source": [
    "# \n",
    "\n",
    "ex = np.array([[0.9,0.1]\n",
    "             ,[0.8,0.2]\n",
    "             ,[0.4,0.6]])\n",
    "p = np.average(ex, axis = 0, weights = [0.2, 0.2, 0.6])\n",
    "print(p)\n",
    "print(np.argmax(p))\n"
   ]
  },
  {
   "cell_type": "markdown",
   "metadata": {},
   "source": [
    "<a id = 'Homegrown-implementation-ens'></a>"
   ]
  },
  {
   "cell_type": "markdown",
   "metadata": {},
   "source": [
    "## Homegrown implementation"
   ]
  },
  {
   "cell_type": "code",
   "execution_count": 12,
   "metadata": {
    "ExecuteTime": {
     "end_time": "2018-11-06T04:00:03.943744Z",
     "start_time": "2018-11-06T04:00:03.933984Z"
    }
   },
   "outputs": [],
   "source": [
    "#\n",
    "\n",
    "import sklearn.externals as externals\n",
    "import operator\n",
    "\n",
    "class MajorityVoteClassifier(base.BaseEstimator, base.ClassifierMixin):\n",
    "    \n",
    "    \n",
    "    def __init__(self, classifiers, vote = 'classlabel', weights = None):\n",
    "        \"\"\"\n",
    "        Info:\n",
    "            Description:\n",
    "                Classifier for performing ensemble majority vote.\n",
    "            Parameters:\n",
    "                classifiers : array\n",
    "                    Classifier of the ensemble\n",
    "                vote : str\n",
    "                    a\n",
    "                weights : array\n",
    "                    a\n",
    "        \"\"\"\n",
    "        self.classifiers = classifiers\n",
    "        self.named_classifiers = {key : value for key, value in _name_estimators(classifiers)}\n",
    "        self.vote = vote\n",
    "        self.weights = weights\n",
    "        \n",
    "    def fit(self, X, y):\n",
    "        \"\"\"\n",
    "        Info:\n",
    "            Description:\n",
    "                Fit classifiers.\n",
    "            Parameters:\n",
    "                X : array\n",
    "                    Training data\n",
    "                y : array\n",
    "                    Labels for training data\n",
    "        \"\"\"\n",
    "        self.lablenc_ = preprocessing.LabelEncoder()\n",
    "        self.lablenc_.fit(y)\n",
    "        self.classes_ = self.lablenc_.classes_\n",
    "        self.classifiers_ = []\n",
    "        for clf in self.classifiers:\n",
    "            fitted_clf = clone(clf).fit(X, self.lablenc_.transform(y))\n",
    "            self.classifiers_.append(fitted_clf)\n",
    "        return self\n",
    "        \n",
    "    def predict(self, X):\n",
    "        \"\"\"\n",
    "        Info:\n",
    "            Description:\n",
    "                Generate predictions for X.\n",
    "            Parameters:\n",
    "                X : array\n",
    "                    Training data\n",
    "        \"\"\"\n",
    "        if self.vote == 'probability':\n",
    "            maj_vote = np.argmax(self.predict_proba(X), axis = 1)\n",
    "        else:\n",
    "            predictions = np.asarray([clf.predict(X) for clf in clf.classifiers_]).T\n",
    "            \n",
    "            maj_vote = np.apply_along_axis(lambda x: \\\n",
    "                                           np.argmax(np.bincount(x, weights = self.weights))\n",
    "                                          ,axis = 1\n",
    "                                          ,arr = predictions)\n",
    "            maj_vote = self.lablenc_.inverse_transform(maj_vote)\n",
    "            return maj_vote\n",
    "        \n",
    "            \n",
    "    def predict_proba(self, X):\n",
    "        \"\"\"\n",
    "        Info:\n",
    "            Description:\n",
    "                Predict class probabilities for X.\n",
    "            Parameters:\n",
    "                X : array\n",
    "                    Training data\n",
    "        \"\"\"\n",
    "        probas = np.asarray([clf.predict_proba(X) for clf in self.classifiers_])\n",
    "        avg_proba = np.average(probas, axis = 0, weights = self.weights)\n",
    "        return avg_proba\n",
    "        \n",
    "    def get_params(self, deep = True):\n",
    "        \"\"\"\n",
    "        Info:\n",
    "            Description:\n",
    "                Get classifier parameter names for GridSearch.\n",
    "            Parameters:\n",
    "                deep : boolean, default = True\n",
    "        \"\"\"\n",
    "        if not deep:\n",
    "            return super(MajorityVoteClassifier, self).get_params(deep = False)\n",
    "        else:\n",
    "            out = self.named_classifiers.copy()\n",
    "            for name, step in six.iteritems(self.named_classifiers):\n",
    "                for key, value in six.iteritems(step.get_params(deep = True)):\n",
    "                    out['%s__$s' % (name, key)] = value\n",
    "            return out\n",
    "        "
   ]
  },
  {
   "cell_type": "code",
   "execution_count": 14,
   "metadata": {
    "ExecuteTime": {
     "end_time": "2018-11-06T04:00:23.096459Z",
     "start_time": "2018-11-06T04:00:23.092409Z"
    }
   },
   "outputs": [
    {
     "data": {
      "text/plain": [
       "['sepal length (cm)',\n",
       " 'sepal width (cm)',\n",
       " 'petal length (cm)',\n",
       " 'petal width (cm)']"
      ]
     },
     "execution_count": 14,
     "metadata": {},
     "output_type": "execute_result"
    }
   ],
   "source": [
    "iris.feature_names"
   ]
  },
  {
   "cell_type": "code",
   "execution_count": 25,
   "metadata": {
    "ExecuteTime": {
     "end_time": "2018-11-06T04:03:09.786594Z",
     "start_time": "2018-11-06T04:03:09.774775Z"
    }
   },
   "outputs": [
    {
     "data": {
      "text/html": [
       "<div>\n",
       "<style scoped>\n",
       "    .dataframe tbody tr th:only-of-type {\n",
       "        vertical-align: middle;\n",
       "    }\n",
       "\n",
       "    .dataframe tbody tr th {\n",
       "        vertical-align: top;\n",
       "    }\n",
       "\n",
       "    .dataframe thead th {\n",
       "        text-align: right;\n",
       "    }\n",
       "</style>\n",
       "<table border=\"1\" class=\"dataframe\">\n",
       "  <thead>\n",
       "    <tr style=\"text-align: right;\">\n",
       "      <th></th>\n",
       "      <th>sepal width (cm)</th>\n",
       "      <th>petal length (cm)</th>\n",
       "      <th>target</th>\n",
       "    </tr>\n",
       "  </thead>\n",
       "  <tbody>\n",
       "    <tr>\n",
       "      <th>50</th>\n",
       "      <td>3.200000</td>\n",
       "      <td>4.700000</td>\n",
       "      <td>1.000000</td>\n",
       "    </tr>\n",
       "    <tr>\n",
       "      <th>51</th>\n",
       "      <td>3.200000</td>\n",
       "      <td>4.500000</td>\n",
       "      <td>1.000000</td>\n",
       "    </tr>\n",
       "    <tr>\n",
       "      <th>52</th>\n",
       "      <td>3.100000</td>\n",
       "      <td>4.900000</td>\n",
       "      <td>1.000000</td>\n",
       "    </tr>\n",
       "    <tr>\n",
       "      <th>53</th>\n",
       "      <td>2.300000</td>\n",
       "      <td>4.000000</td>\n",
       "      <td>1.000000</td>\n",
       "    </tr>\n",
       "    <tr>\n",
       "      <th>54</th>\n",
       "      <td>2.800000</td>\n",
       "      <td>4.600000</td>\n",
       "      <td>1.000000</td>\n",
       "    </tr>\n",
       "  </tbody>\n",
       "</table>\n",
       "</div>"
      ],
      "text/plain": [
       "    sepal width (cm)  petal length (cm)   target\n",
       "50          3.200000           4.700000 1.000000\n",
       "51          3.200000           4.500000 1.000000\n",
       "52          3.100000           4.900000 1.000000\n",
       "53          2.300000           4.000000 1.000000\n",
       "54          2.800000           4.600000 1.000000"
      ]
     },
     "execution_count": 25,
     "metadata": {},
     "output_type": "execute_result"
    }
   ],
   "source": [
    "# Import iris dataset\n",
    "\n",
    "iris = datasets.load_iris()\n",
    "df = pd.DataFrame(np.c_[iris['data'], iris['target']]\n",
    "                 ,columns = iris['feature_names'] + ['target'])\n",
    "\n",
    "# Trim iris data set down to two classes and two features\n",
    "\n",
    "df = df.iloc[50:, [1, 2, 4]]\n",
    "#df['target'] = np.where(df['target'] == 0.0, -1, 1)\n",
    "df[:5]\n"
   ]
  },
  {
   "cell_type": "code",
   "execution_count": 26,
   "metadata": {
    "ExecuteTime": {
     "end_time": "2018-11-06T04:03:11.747871Z",
     "start_time": "2018-11-06T04:03:11.742510Z"
    }
   },
   "outputs": [
    {
     "data": {
      "text/plain": [
       "50    1.000000\n",
       "100   2.000000\n",
       "Name: target, dtype: float64"
      ]
     },
     "execution_count": 26,
     "metadata": {},
     "output_type": "execute_result"
    }
   ],
   "source": [
    "df['target'].drop_duplicates()"
   ]
  },
  {
   "cell_type": "markdown",
   "metadata": {},
   "source": [
    "<a id = ''></a>"
   ]
  },
  {
   "cell_type": "markdown",
   "metadata": {},
   "source": [
    "# A"
   ]
  },
  {
   "cell_type": "code",
   "execution_count": null,
   "metadata": {},
   "outputs": [],
   "source": []
  },
  {
   "cell_type": "markdown",
   "metadata": {},
   "source": [
    "<a id = ''></a>"
   ]
  },
  {
   "cell_type": "markdown",
   "metadata": {},
   "source": [
    "# A"
   ]
  },
  {
   "cell_type": "code",
   "execution_count": null,
   "metadata": {},
   "outputs": [],
   "source": []
  },
  {
   "cell_type": "markdown",
   "metadata": {},
   "source": [
    "<a id = ''></a>"
   ]
  },
  {
   "cell_type": "markdown",
   "metadata": {},
   "source": [
    "# A"
   ]
  },
  {
   "cell_type": "code",
   "execution_count": null,
   "metadata": {},
   "outputs": [],
   "source": []
  },
  {
   "cell_type": "markdown",
   "metadata": {},
   "source": [
    "<a id = ''></a>"
   ]
  },
  {
   "cell_type": "markdown",
   "metadata": {},
   "source": [
    "# A"
   ]
  },
  {
   "cell_type": "code",
   "execution_count": null,
   "metadata": {},
   "outputs": [],
   "source": []
  },
  {
   "cell_type": "markdown",
   "metadata": {},
   "source": [
    "<a id = ''></a>"
   ]
  },
  {
   "cell_type": "markdown",
   "metadata": {},
   "source": [
    "# A"
   ]
  },
  {
   "cell_type": "code",
   "execution_count": null,
   "metadata": {},
   "outputs": [],
   "source": []
  },
  {
   "cell_type": "markdown",
   "metadata": {},
   "source": [
    "<a id = ''></a>"
   ]
  },
  {
   "cell_type": "markdown",
   "metadata": {},
   "source": [
    "# A"
   ]
  },
  {
   "cell_type": "code",
   "execution_count": null,
   "metadata": {},
   "outputs": [],
   "source": []
  },
  {
   "cell_type": "markdown",
   "metadata": {},
   "source": [
    "<a id = ''></a>"
   ]
  },
  {
   "cell_type": "markdown",
   "metadata": {},
   "source": [
    "# A"
   ]
  },
  {
   "cell_type": "code",
   "execution_count": null,
   "metadata": {},
   "outputs": [],
   "source": []
  },
  {
   "cell_type": "markdown",
   "metadata": {},
   "source": [
    "<a id = ''></a>"
   ]
  },
  {
   "cell_type": "markdown",
   "metadata": {},
   "source": [
    "# A"
   ]
  },
  {
   "cell_type": "code",
   "execution_count": null,
   "metadata": {},
   "outputs": [],
   "source": []
  },
  {
   "cell_type": "markdown",
   "metadata": {},
   "source": [
    "<a id = ''></a>"
   ]
  },
  {
   "cell_type": "markdown",
   "metadata": {},
   "source": [
    "# A"
   ]
  },
  {
   "cell_type": "code",
   "execution_count": null,
   "metadata": {},
   "outputs": [],
   "source": []
  },
  {
   "cell_type": "markdown",
   "metadata": {},
   "source": [
    "<a id = ''></a>"
   ]
  },
  {
   "cell_type": "markdown",
   "metadata": {},
   "source": [
    "# A"
   ]
  },
  {
   "cell_type": "code",
   "execution_count": null,
   "metadata": {},
   "outputs": [],
   "source": []
  },
  {
   "cell_type": "markdown",
   "metadata": {},
   "source": [
    "<a id = ''></a>"
   ]
  },
  {
   "cell_type": "markdown",
   "metadata": {},
   "source": [
    "# A"
   ]
  },
  {
   "cell_type": "code",
   "execution_count": null,
   "metadata": {},
   "outputs": [],
   "source": []
  },
  {
   "cell_type": "markdown",
   "metadata": {},
   "source": [
    "<a id = ''></a>"
   ]
  },
  {
   "cell_type": "markdown",
   "metadata": {},
   "source": [
    "# A"
   ]
  },
  {
   "cell_type": "code",
   "execution_count": null,
   "metadata": {},
   "outputs": [],
   "source": []
  }
 ],
 "metadata": {
  "kernelspec": {
   "display_name": "Python 3",
   "language": "python",
   "name": "python3"
  },
  "language_info": {
   "codemirror_mode": {
    "name": "ipython",
    "version": 3
   },
   "file_extension": ".py",
   "mimetype": "text/x-python",
   "name": "python",
   "nbconvert_exporter": "python",
   "pygments_lexer": "ipython3",
   "version": "3.6.5"
  },
  "toc": {
   "base_numbering": 1,
   "nav_menu": {},
   "number_sections": true,
   "sideBar": true,
   "skip_h1_title": false,
   "title_cell": "Table of Contents",
   "title_sidebar": "Contents",
   "toc_cell": false,
   "toc_position": {},
   "toc_section_display": true,
   "toc_window_display": false
  }
 },
 "nbformat": 4,
 "nbformat_minor": 2
}
