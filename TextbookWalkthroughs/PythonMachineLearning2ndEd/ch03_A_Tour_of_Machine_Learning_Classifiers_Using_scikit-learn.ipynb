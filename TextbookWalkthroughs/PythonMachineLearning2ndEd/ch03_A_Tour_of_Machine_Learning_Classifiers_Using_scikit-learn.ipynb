{
 "cells": [
  {
   "cell_type": "markdown",
   "metadata": {},
   "source": [
    "__Chapter 3 - A tour of machine learning classifiers using scikit-learn__\n",
    "\n",
    "1. [First steps with sklearn - training a perceptron](#First-steps-with-sklearn-training-a-perceptron)\n",
    "1. [Modeling class probabilities w/ logistic regression](#Modeling-class-probabilities-w/-logistic-regression)\n",
    "    1. [Intuition: logistic regression](#Intuition-logistic-regression)\n",
    "\n",
    "Key topics:\n",
    "- Explore several different supervised machine learning classifiers\n",
    "- Learn the mechanics of the machine learning algorithms\n",
    "- Understand strengths and weaknesses of each classifier"
   ]
  },
  {
   "cell_type": "markdown",
   "metadata": {},
   "source": [
    "<a id = ''></a>"
   ]
  },
  {
   "cell_type": "code",
   "execution_count": 43,
   "metadata": {},
   "outputs": [
    {
     "data": {
      "text/html": [
       "<style>.container { width:78% !important; }</style>"
      ],
      "text/plain": [
       "<IPython.core.display.HTML object>"
      ]
     },
     "metadata": {},
     "output_type": "display_data"
    }
   ],
   "source": [
    "import warnings; warnings.simplefilter('ignore')\n",
    "from IPython.core.display import display, HTML; display(HTML(\"<style>.container { width:78% !important; }</style>\"))\n",
    "\n",
    "import os\n",
    "import sys\n",
    "import importlib\n",
    "\n",
    "import numpy as np\n",
    "import pandas as pd\n",
    "import matplotlib.pyplot as plt\n",
    "%matplotlib inline\n",
    "import seaborn as sns\n",
    "\n",
    "modulePath = os.path.abspath(os.path.join('../../Visualization'))\n",
    "if modulePath not in sys.path:\n",
    "    sys.path.append(modulePath)\n",
    "import vizStyle\n",
    "import viz\n",
    "import vizUtil\n",
    "sns.set(rc = vizStyle.rcGrey)\n",
    "\n",
    "# Settings\n",
    "np.set_printoptions(threshold = np.inf, suppress = True)\n",
    "\n",
    "from sklearn.datasets import load_iris\n",
    "from sklearn.model_selection import train_test_split\n",
    "from sklearn.preprocessing import StandardScaler\n",
    "from sklearn.linear_model import Perceptron\n",
    "from sklearn.metrics import accuracy_score\n"
   ]
  },
  {
   "cell_type": "markdown",
   "metadata": {},
   "source": [
    "<a id = ''></a>"
   ]
  },
  {
   "cell_type": "markdown",
   "metadata": {},
   "source": [
    "# First steps with sklearn - training a perceptron"
   ]
  },
  {
   "cell_type": "markdown",
   "metadata": {},
   "source": [
    "<a id = 'Choosing-a-classifier'></a>"
   ]
  },
  {
   "cell_type": "markdown",
   "metadata": {},
   "source": [
    "## Choosing a classifier\n",
    "-Five key steps in training an algorithm\n",
    "    1. Select features and collect training data\n",
    "    2. Choose a performance metric\n",
    "    3. Choose a classifier and optimization algorithm\n",
    "    4. Evaluate model performance\n",
    "    5. Tune the algorithm's parameters\n",
    "Evaluate several different classifers."
   ]
  },
  {
   "cell_type": "code",
   "execution_count": 5,
   "metadata": {},
   "outputs": [
    {
     "name": "stdout",
     "output_type": "stream",
     "text": [
      "Class labels: [0 1 2]\n"
     ]
    }
   ],
   "source": [
    "# Load data and inspect class labels\n",
    "\n",
    "iris = load_iris()\n",
    "X = iris.data[:,[2,3]]\n",
    "y = iris.target\n",
    "print('Class labels: {0}'.format(np.unique(y)))\n"
   ]
  },
  {
   "cell_type": "code",
   "execution_count": 11,
   "metadata": {},
   "outputs": [
    {
     "name": "stdout",
     "output_type": "stream",
     "text": [
      "Label counts in y: [50 50 50]\n",
      "Label counts in yTrain: [35 35 35]\n",
      "Label counts in yTest: [15 15 15]\n"
     ]
    }
   ],
   "source": [
    "# Train/test split\n",
    "# Stratify ensures proportional distribution of classes between the train/test data\n",
    "\n",
    "xTrain, xTest, yTrain, yTest = train_test_split(X, y\n",
    "                                ,test_size = 0.3, random_state = 1, stratify = y)\n",
    "\n",
    "print('Label counts in y: {}'.format(np.bincount(y)))\n",
    "print('Label counts in yTrain: {}'.format(np.bincount(yTrain)))\n",
    "print('Label counts in yTest: {}'.format(np.bincount(yTest)))"
   ]
  },
  {
   "cell_type": "code",
   "execution_count": 14,
   "metadata": {},
   "outputs": [],
   "source": [
    "# Scale data\n",
    "\n",
    "sc = StandardScaler()\n",
    "sc.fit(xTrain)\n",
    "xTrainStd = sc.transform(xTrain)\n",
    "xTestStd = sc.transform(xTest)"
   ]
  },
  {
   "cell_type": "code",
   "execution_count": 32,
   "metadata": {},
   "outputs": [
    {
     "name": "stdout",
     "output_type": "stream",
     "text": [
      "Original mean: 3.78952\n",
      "Original standard deviation: 1.793\n",
      "\n",
      "Scaled mean: 0.0\n",
      "Scaled standard deviation: 1.0\n"
     ]
    }
   ],
   "source": [
    "# Review how first feature changes after standard scaling\n",
    "\n",
    "print('Original mean: {0}'.format(round(xTrain[:,0].mean(),5)))\n",
    "print('Original standard deviation: {0}'.format(round(xTrain[:,0].std(),5)))\n",
    "print()\n",
    "print('Scaled mean: {0}'.format(round(xTrainStd[:,0].mean(),5)))\n",
    "print('Scaled standard deviation: {0}'.format(round(xTrainStd[:,0].std(),5)))"
   ]
  },
  {
   "cell_type": "markdown",
   "metadata": {},
   "source": [
    "> Remarks - Standard scaling uses the mean $\\mu$ and standard deviation $\\sigma$ to alter each feature independently such that each feature has a $\\mu = 0$ and a $\\sigma = 0$\n",
    "\n",
    "> It is important to transform the test dataset using the fit performed on the training set only. First, we want the train and test data to be scaled in the same way. Further, we're assuming we don't know about the test data, and in practice new unseen data will need to be scaled based on the existing scaling operation defintions."
   ]
  },
  {
   "cell_type": "code",
   "execution_count": 37,
   "metadata": {},
   "outputs": [
    {
     "data": {
      "text/plain": [
       "Perceptron(alpha=0.0001, class_weight=None, eta0=0.1, fit_intercept=True,\n",
       "      max_iter=None, n_iter=40, n_jobs=1, penalty=None, random_state=1,\n",
       "      shuffle=True, tol=None, verbose=0, warm_start=False)"
      ]
     },
     "execution_count": 37,
     "metadata": {},
     "output_type": "execute_result"
    }
   ],
   "source": [
    "# Instantiate Perceptron and fit model\n",
    "\n",
    "ppn = Perceptron(n_iter = 40, eta0 = 0.1, random_state = 1)\n",
    "ppn.fit(xTrainStd, yTrain)\n"
   ]
  },
  {
   "cell_type": "markdown",
   "metadata": {},
   "source": [
    "> Remarks - \n",
    "- 'n_iter' limits the number epochs or iterations\n",
    "- 'eta0' controls to learning rate. A value too high will likely overshoot the minimum. A value too low will make the learning process unnecessarily slow."
   ]
  },
  {
   "cell_type": "code",
   "execution_count": 44,
   "metadata": {},
   "outputs": [
    {
     "name": "stdout",
     "output_type": "stream",
     "text": [
      "Misclassified samples: 3\n"
     ]
    }
   ],
   "source": [
    "# Predictions with misclassification score\n",
    "\n",
    "yPred = ppn.predict(xTestStd)\n",
    "print('Misclassified samples: {0}'.format((yTest != yPred).sum()))\n"
   ]
  },
  {
   "cell_type": "markdown",
   "metadata": {},
   "source": [
    ">Remarks - 3 out of 45 samples are incorrectly predicted, yieled an misclassification percent of ~6.7%"
   ]
  },
  {
   "cell_type": "code",
   "execution_count": 50,
   "metadata": {},
   "outputs": [
    {
     "name": "stdout",
     "output_type": "stream",
     "text": [
      "Accuracy: 0.933\n"
     ]
    }
   ],
   "source": [
    "# Accuracy score\n",
    "\n",
    "print('Accuracy: {}'.format(round(accuracy_score(yPred, yTest), 3)))\n"
   ]
  },
  {
   "cell_type": "code",
   "execution_count": 51,
   "metadata": {},
   "outputs": [
    {
     "name": "stdout",
     "output_type": "stream",
     "text": [
      "Accuracy: 0.933\n"
     ]
    }
   ],
   "source": [
    "# Alternative 'score' method combines predict and accuracy_score\n",
    "\n",
    "print('Accuracy: {}'.format(round(ppn.score(xTestStd, yTest), 3)))\n"
   ]
  },
  {
   "cell_type": "code",
   "execution_count": 88,
   "metadata": {},
   "outputs": [
    {
     "data": {
      "text/plain": [
       "<matplotlib.legend.Legend at 0x13a76b70>"
      ]
     },
     "execution_count": 88,
     "metadata": {},
     "output_type": "execute_result"
    },
    {
     "data": {
      "image/png": "[encoded data removed]",
      "text/plain": [
       "<Figure size 432x288 with 1 Axes>"
      ]
     },
     "metadata": {},
     "output_type": "display_data"
    }
   ],
   "source": [
    "from matplotlib.colors import ListedColormap\n",
    "\n",
    "def plotDecisionRegions(X, y, classifier, testIdx = None, resolution = 0.02):\n",
    "    \"\"\"\n",
    "    Info:\n",
    "        Description:\n",
    "        \n",
    "        Parameters:\n",
    "            X : Array\n",
    "            y : Array\n",
    "            classifier : sklearn model\n",
    "            testIdx :  , default = None\n",
    "            resolution : float, default = 0.02\n",
    "    \"\"\"\n",
    "    # objects for marker generator and color map\n",
    "    markers = ('s','x','o','^','v')\n",
    "    colors = ('red','blue','lightgreen','gray','cyan')\n",
    "    cmap = ListedColormap(colors[:len(np.unique(y))])\n",
    "    \n",
    "    # plot decision surface\n",
    "    x1Min, x1Max = X[:, 0].min() - 1, X[:, 0].max() + 1\n",
    "    x2Min, x2Max = X[:, 1].min() - 1, X[:, 1].max() + 1\n",
    "    \n",
    "    xx1, xx2 = np.meshgrid(np.arange(x1Min, x1Max, resolution)\n",
    "                          ,np.arange(x2Min, x2Max, resolution))\n",
    "    \n",
    "    Z = classifier.predict(np.array([xx1.ravel(), xx2.ravel()]).T)\n",
    "    Z = Z.reshape(xx1.shape)\n",
    "    plt.contourf(xx1, xx2, Z, slpha = 0.3, cmap = cmap)\n",
    "    plt.xlim(xx1.min(), xx1.max())\n",
    "    plt.xlim(xx2.min(), xx2.max())\n",
    "    \n",
    "    # Plot samples\n",
    "    for idx, cl in enumerate(np.unique(y)):\n",
    "        plt.scatter(x = X[y == cl, 0]\n",
    "                   ,y = X[y == cl, 1]\n",
    "                   ,alpha = 0.8\n",
    "                   ,c = colors[idx]\n",
    "                   ,marker = markers[idx]\n",
    "                   ,label = cl\n",
    "                   ,edgecolor = 'black')\n",
    "    \n",
    "    # Highlight test samples\n",
    "    if testIdx:\n",
    "        xTest, yTest = X[testIdx, :], y[testIdx]\n",
    "        plt.scatter(xTest[:,0]\n",
    "                    ,xTest[:,1]\n",
    "                    ,c = ''\n",
    "                    ,edgecolor = 'black'\n",
    "                    ,alpha = 1.0\n",
    "                    ,linewidth = 1\n",
    "                    ,marker = 'o'\n",
    "                    ,s = 100\n",
    "                    ,label = 'test set'                   \n",
    "                   )\n",
    "\n",
    "xCombined = np.vstack((xTrainStd, xTestStd))\n",
    "yCombined = np.hstack((yTrain, yTest))\n",
    "plotDecisionRegions(X = xCombined\n",
    "                   ,y = yCombined\n",
    "                   ,classifier = ppn\n",
    "                   ,testIdx = range(105,150))\n",
    "plt.legend(loc = 'upper left')"
   ]
  },
  {
   "cell_type": "markdown",
   "metadata": {},
   "source": [
    "<a id = 'Modeling-class-probabilities-w/-logistic-regression'></a>"
   ]
  },
  {
   "cell_type": "markdown",
   "metadata": {},
   "source": [
    "# Modeling class probabilities w/ logistic regression"
   ]
  },
  {
   "cell_type": "markdown",
   "metadata": {},
   "source": [
    "<a id = 'Intuition-logistic-regression'></a>"
   ]
  },
  {
   "cell_type": "markdown",
   "metadata": {},
   "source": [
    "## Intuition: logistic regression"
   ]
  },
  {
   "cell_type": "code",
   "execution_count": null,
   "metadata": {},
   "outputs": [],
   "source": []
  },
  {
   "cell_type": "code",
   "execution_count": null,
   "metadata": {},
   "outputs": [],
   "source": []
  },
  {
   "cell_type": "code",
   "execution_count": null,
   "metadata": {},
   "outputs": [],
   "source": []
  },
  {
   "cell_type": "code",
   "execution_count": null,
   "metadata": {},
   "outputs": [],
   "source": []
  },
  {
   "cell_type": "code",
   "execution_count": null,
   "metadata": {},
   "outputs": [],
   "source": []
  },
  {
   "cell_type": "code",
   "execution_count": null,
   "metadata": {},
   "outputs": [],
   "source": []
  },
  {
   "cell_type": "code",
   "execution_count": null,
   "metadata": {},
   "outputs": [],
   "source": []
  },
  {
   "cell_type": "code",
   "execution_count": null,
   "metadata": {},
   "outputs": [],
   "source": []
  },
  {
   "cell_type": "code",
   "execution_count": null,
   "metadata": {},
   "outputs": [],
   "source": []
  },
  {
   "cell_type": "code",
   "execution_count": null,
   "metadata": {},
   "outputs": [],
   "source": []
  },
  {
   "cell_type": "code",
   "execution_count": null,
   "metadata": {},
   "outputs": [],
   "source": []
  },
  {
   "cell_type": "code",
   "execution_count": null,
   "metadata": {},
   "outputs": [],
   "source": []
  },
  {
   "cell_type": "code",
   "execution_count": null,
   "metadata": {},
   "outputs": [],
   "source": []
  },
  {
   "cell_type": "code",
   "execution_count": null,
   "metadata": {},
   "outputs": [],
   "source": []
  },
  {
   "cell_type": "code",
   "execution_count": null,
   "metadata": {},
   "outputs": [],
   "source": []
  },
  {
   "cell_type": "code",
   "execution_count": null,
   "metadata": {},
   "outputs": [],
   "source": []
  },
  {
   "cell_type": "code",
   "execution_count": null,
   "metadata": {},
   "outputs": [],
   "source": [
    "bbbbb"
   ]
  },
  {
   "cell_type": "code",
   "execution_count": null,
   "metadata": {},
   "outputs": [],
   "source": []
  },
  {
   "cell_type": "code",
   "execution_count": null,
   "metadata": {},
   "outputs": [],
   "source": []
  },
  {
   "cell_type": "code",
   "execution_count": null,
   "metadata": {},
   "outputs": [],
   "source": []
  },
  {
   "cell_type": "code",
   "execution_count": null,
   "metadata": {},
   "outputs": [],
   "source": []
  }
 ],
 "metadata": {
  "kernelspec": {
   "display_name": "Python 3",
   "language": "python",
   "name": "python3"
  },
  "language_info": {
   "codemirror_mode": {
    "name": "ipython",
    "version": 3
   },
   "file_extension": ".py",
   "mimetype": "text/x-python",
   "name": "python",
   "nbconvert_exporter": "python",
   "pygments_lexer": "ipython3",
   "version": "3.6.4"
  },
  "toc": {
   "base_numbering": 1,
   "nav_menu": {},
   "number_sections": true,
   "sideBar": true,
   "skip_h1_title": false,
   "title_cell": "Table of Contents",
   "title_sidebar": "Contents",
   "toc_cell": false,
   "toc_position": {},
   "toc_section_display": true,
   "toc_window_display": false
  }
 },
 "nbformat": 4,
 "nbformat_minor": 2
}
