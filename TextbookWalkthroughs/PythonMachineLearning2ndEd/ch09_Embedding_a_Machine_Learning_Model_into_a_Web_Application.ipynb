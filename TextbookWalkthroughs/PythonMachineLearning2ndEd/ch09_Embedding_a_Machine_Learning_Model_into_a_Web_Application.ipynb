{
 "cells": [
  {
   "cell_type": "markdown",
   "metadata": {},
   "source": [
    "__Chapter 9 - Embedding a Machine Learning Model into a Web Application__\n",
    "\n",
    "1. [Serializing fiited scikit-learn estimators](#Serializingfiited-scikit-learn-estimators)\n",
    "1. [Setting up an SQLite database for data storage](#Setting-up-an-SQLite-database-for-data-storage)\n",
    "1. [Developing a web application with Flask](#Developing-a-web-application-with-Flask)\n",
    "    1. [Extremely basic Flask app](#Extremely-basic-Flask-app)\n",
    "    1. [Very basic Flask app](#Very-basic-Flask-app)\n",
    "    1. [Movie classifier web app](#Movie-classifier-web-app)"
   ]
  },
  {
   "cell_type": "code",
   "execution_count": 1,
   "metadata": {
    "ExecuteTime": {
     "end_time": "2018-11-17T19:22:34.715267Z",
     "start_time": "2018-11-17T19:22:33.381108Z"
    }
   },
   "outputs": [
    {
     "data": {
      "text/html": [
       "<style>.container { width:95% !important; }</style>"
      ],
      "text/plain": [
       "<IPython.core.display.HTML object>"
      ]
     },
     "metadata": {},
     "output_type": "display_data"
    }
   ],
   "source": [
    "# Standard libary and settings\n",
    "import os\n",
    "import sys\n",
    "import importlib\n",
    "import itertools\n",
    "import warnings; warnings.simplefilter('ignore')\n",
    "dataPath = os.path.abspath(os.path.join('../../Data'))\n",
    "modulePath = os.path.abspath(os.path.join('../../CustomModules'))\n",
    "sys.path.append(modulePath) if modulePath not in sys.path else None\n",
    "from IPython.core.display import display, HTML; display(HTML(\"<style>.container { width:95% !important; }</style>\"))\n",
    "\n",
    "\n",
    "# Data extensions and settings\n",
    "import numpy as np\n",
    "np.set_printoptions(threshold = np.inf, suppress = True)\n",
    "import pandas as pd\n",
    "pd.set_option('display.max_rows', 500)\n",
    "pd.options.display.float_format = '{:,.6f}'.format\n",
    "\n",
    "\n",
    "# Modeling extensions\n",
    "import sklearn.base as base\n",
    "import sklearn.cluster as cluster\n",
    "import sklearn.datasets as datasets\n",
    "import sklearn.decomposition as decomposition\n",
    "import sklearn.discriminant_analysis as discriminant_analysis\n",
    "import sklearn.ensemble as ensemble\n",
    "import sklearn.feature_extraction as feature_extraction\n",
    "import sklearn.feature_selection as feature_selection\n",
    "import sklearn.linear_model as linear_model\n",
    "import sklearn.metrics as metrics\n",
    "import sklearn.model_selection as model_selection\n",
    "import sklearn.neighbors as neighbors\n",
    "import sklearn.pipeline as pipeline\n",
    "import sklearn.preprocessing as preprocessing\n",
    "import sklearn.svm as svm\n",
    "import sklearn.tree as tree\n",
    "import sklearn.utils as utils\n",
    "\n",
    "\n",
    "# Visualization extensions and settings\n",
    "import seaborn as sns\n",
    "import matplotlib.pyplot as plt\n",
    "\n",
    "\n",
    "# Custom extensions and settings\n",
    "from quickplot import qp, qpUtil, qpStyle\n",
    "from mlTools import powerGridSearch\n",
    "sns.set(rc = qpStyle.rcGrey)\n",
    "\n",
    "\n",
    "# Magic functions\n",
    "%matplotlib inline\n"
   ]
  },
  {
   "cell_type": "markdown",
   "metadata": {},
   "source": [
    "<a id = 'Serializingfiited-scikit-learn-estimators'></a>"
   ]
  },
  {
   "cell_type": "markdown",
   "metadata": {},
   "source": [
    "# Serializing fiited scikit-learn estimators\n",
    "\n",
    "Training a model can take awhile, and we lose it when the Python interpreter closes. Since we don't want to train a model every time we want to use it, we can use the pickle module to save the learned model. Pickle enables us to serialize and deserialize Python objects to compact bytecode so that we can save our classifier in its current state and then reload it later, even after the interpreter has been closed. With this pickle file in hand, we can classify new samples without needing the model to learn from the training data from scratch again.\n",
    "\n",
    "This was created in the Chapter 8 notebook.\n",
    "\n"
   ]
  },
  {
   "cell_type": "code",
   "execution_count": 2,
   "metadata": {
    "ExecuteTime": {
     "end_time": "2018-11-17T19:22:34.743355Z",
     "start_time": "2018-11-17T19:22:34.717499Z"
    }
   },
   "outputs": [],
   "source": [
    "# \n",
    "\n",
    "import re\n",
    "import pickle\n",
    "\n",
    "curDir = os.path.dirname('__file__')\n",
    "stop = pickle.load(open(os.path.join(curDir,'ch09_Flask_Apps','movieClassifier','pkl_objects','stopwords.pkl'),'rb'))\n",
    "\n",
    "def textProcessor(text):\n",
    "    text = re.sub('<[^>]*>', '', text)\n",
    "    emoticons = re.findall('(?::|;|=)(?:-)?(?:\\)|\\(|D|P)', text.lower())\n",
    "    text = re.sub('[\\W]+', ' ', text.lower()) + ' '.join(emoticons).replace('-', '')\n",
    "    tokenized = [w for w in text.split() if w not in stop]\n",
    "    return tokenized\n",
    "vect = feature_extraction.text.HashingVectorizer(decode_error = 'ignore'\n",
    "                                                ,n_features = 2**21\n",
    "                                                ,preprocessor = None\n",
    "                                                ,tokenizer = textProcessor)\n",
    "clf = pickle.load(open(os.path.join(curDir,'ch09_Flask_Apps','movieClassifier','pkl_objects','classifier.pkl'),'rb'))\n"
   ]
  },
  {
   "cell_type": "code",
   "execution_count": 3,
   "metadata": {
    "ExecuteTime": {
     "end_time": "2018-11-17T19:22:34.750293Z",
     "start_time": "2018-11-17T19:22:34.744752Z"
    }
   },
   "outputs": [
    {
     "data": {
      "text/plain": [
       "SGDClassifier(alpha=0.0001, average=False, class_weight=None,\n",
       "       early_stopping=False, epsilon=0.1, eta0=0.0, fit_intercept=True,\n",
       "       l1_ratio=0.15, learning_rate='optimal', loss='log', max_iter=None,\n",
       "       n_iter=1, n_iter_no_change=5, n_jobs=None, penalty='l2',\n",
       "       power_t=0.5, random_state=1, shuffle=True, tol=None,\n",
       "       validation_fraction=0.1, verbose=0, warm_start=False)"
      ]
     },
     "execution_count": 3,
     "metadata": {},
     "output_type": "execute_result"
    }
   ],
   "source": [
    "#\n",
    "\n",
    "clf\n"
   ]
  },
  {
   "cell_type": "code",
   "execution_count": 4,
   "metadata": {
    "ExecuteTime": {
     "end_time": "2018-11-17T19:22:34.758734Z",
     "start_time": "2018-11-17T19:22:34.752206Z"
    }
   },
   "outputs": [
    {
     "name": "stdout",
     "output_type": "stream",
     "text": [
      "Prediction: positive \n",
      "Probability: 91.3% \n",
      "\n"
     ]
    }
   ],
   "source": [
    "#\n",
    "\n",
    "label = {0 : 'negative', 1 : 'positive'}\n",
    "example = ['I love this movie. Best movie ever']\n",
    "X = vect.transform(example)\n",
    "print('Prediction: {:s} \\nProbability: {:.1f}% \\n'.format(label[clf.predict(X)[0]]\n",
    "                                                   ,np.max(clf.predict_proba(X) * 100)))\n"
   ]
  },
  {
   "cell_type": "code",
   "execution_count": 5,
   "metadata": {
    "ExecuteTime": {
     "end_time": "2018-11-17T19:22:34.766900Z",
     "start_time": "2018-11-17T19:22:34.760993Z"
    }
   },
   "outputs": [
    {
     "name": "stdout",
     "output_type": "stream",
     "text": [
      "Prediction: negative \n",
      "Probability: 96.0% \n",
      "\n"
     ]
    }
   ],
   "source": [
    "#\n",
    "\n",
    "label = {0 : 'negative', 1 : 'positive'}\n",
    "example = ['I hate this movie. It really sucks. The worst ever.']\n",
    "X = vect.transform(example)\n",
    "print('Prediction: {:s} \\nProbability: {:.1f}% \\n'.format(label[clf.predict(X)[0]]\n",
    "                                                   ,np.max(clf.predict_proba(X) * 100)))\n"
   ]
  },
  {
   "cell_type": "markdown",
   "metadata": {},
   "source": [
    "<a id = 'Setting-up-an-SQLite-database-for-data-storage'></a>"
   ]
  },
  {
   "cell_type": "markdown",
   "metadata": {},
   "source": [
    "# Setting up an SQLite database for data storage\n",
    "\n",
    "SQLite is an open source SQL database engine that doesn't require a server to operate. It's effectively a single self-contained database file. We can use this to store information about our model and how users are interacting with our model."
   ]
  },
  {
   "cell_type": "code",
   "execution_count": 6,
   "metadata": {
    "ExecuteTime": {
     "end_time": "2018-11-17T19:22:34.791843Z",
     "start_time": "2018-11-17T19:22:34.769156Z"
    }
   },
   "outputs": [],
   "source": [
    "#\n",
    "\n",
    "import sqlite3\n",
    "\n",
    "if os.path.exists('ch09_Flask_Apps/movieClassifier/reviews.sqlite'):\n",
    "    os.remove('ch09_Flask_Apps/movieClassifier/reviews.sqlite')\n",
    "conn = sqlite3.connect('ch09_Flask_Apps/movieClassifier/reviews.sqlite')\n",
    "c = conn.cursor()\n",
    "c.execute('CREATE TABLE review_db(review TEXT, sentiment INTEGER, date TEXT)')\n",
    "\n",
    "ex1 = 'I love this movie'\n",
    "c.execute(\"INSERT INTO review_db (review, sentiment, date)\"\\\n",
    "         \"VALUES (?, ?, DATETIME('now'))\", (ex1, 1))\n",
    "ex2 = 'I disliked this movie'\n",
    "c.execute(\"INSERT INTO review_db (review, sentiment, date)\"\\\n",
    "         \"VALUES (?, ?, DATETIME('now'))\", (ex2, 0))\n",
    "conn.commit()\n",
    "conn.close()\n"
   ]
  },
  {
   "cell_type": "code",
   "execution_count": 7,
   "metadata": {
    "ExecuteTime": {
     "end_time": "2018-11-17T19:22:34.801629Z",
     "start_time": "2018-11-17T19:22:34.793992Z"
    }
   },
   "outputs": [
    {
     "name": "stdout",
     "output_type": "stream",
     "text": [
      "[('I love this movie', 1, '2018-11-17 19:22:34'), ('I disliked this movie', 0, '2018-11-17 19:22:34')]\n"
     ]
    }
   ],
   "source": [
    "#\n",
    "\n",
    "conn = sqlite3.connect('ch09_Flask_Apps/movieClassifier/reviews.sqlite')\n",
    "c = conn.cursor()\n",
    "c.execute(\"SELECT * FROM review_db\")\n",
    "results = c.fetchall()\n",
    "conn.close()\n",
    "print(results)\n"
   ]
  },
  {
   "cell_type": "markdown",
   "metadata": {},
   "source": [
    "<a id = 'Developing-a-web-application-with-Flask'></a>"
   ]
  },
  {
   "cell_type": "markdown",
   "metadata": {},
   "source": [
    "# Developing a web application with Flask\n",
    "\n",
    "Flask applications files are in the folder ch09_Flask_Apps"
   ]
  },
  {
   "cell_type": "markdown",
   "metadata": {},
   "source": [
    "<a id = 'Extremely-basic-Flask-app'></a>"
   ]
  },
  {
   "cell_type": "markdown",
   "metadata": {},
   "source": [
    "## Extremely basic Flask app"
   ]
  },
  {
   "cell_type": "code",
   "execution_count": 8,
   "metadata": {
    "ExecuteTime": {
     "end_time": "2018-11-17T19:22:34.807139Z",
     "start_time": "2018-11-17T19:22:34.804304Z"
    }
   },
   "outputs": [],
   "source": [
    " #\n",
    "    \n",
    "#%run ch09_Flask_Apps/flaskApp/app.py\n"
   ]
  },
  {
   "cell_type": "markdown",
   "metadata": {},
   "source": [
    "<a id = 'Very-basic-Flask-app'></a>"
   ]
  },
  {
   "cell_type": "markdown",
   "metadata": {},
   "source": [
    "## Very basic Flask app"
   ]
  },
  {
   "cell_type": "code",
   "execution_count": 9,
   "metadata": {
    "ExecuteTime": {
     "end_time": "2018-11-17T19:22:34.817580Z",
     "start_time": "2018-11-17T19:22:34.813135Z"
    }
   },
   "outputs": [],
   "source": [
    " #\n",
    "    \n",
    "#%run ch09_Flask_Apps/flaskApp2/app.py\n"
   ]
  },
  {
   "cell_type": "markdown",
   "metadata": {},
   "source": [
    "<a id = 'Movie-classifier-web-app'></a>"
   ]
  },
  {
   "cell_type": "markdown",
   "metadata": {},
   "source": [
    "## Movie classifier web app"
   ]
  },
  {
   "cell_type": "code",
   "execution_count": 10,
   "metadata": {
    "ExecuteTime": {
     "end_time": "2018-11-17T19:23:03.561836Z",
     "start_time": "2018-11-17T19:22:34.819979Z"
    }
   },
   "outputs": [
    {
     "name": "stdout",
     "output_type": "stream",
     "text": [
      " * Serving Flask app \"app\" (lazy loading)\n",
      " * Environment: production\n",
      "   WARNING: Do not use the development server in a production environment.\n",
      "   Use a production WSGI server instead.\n",
      " * Debug mode: off\n"
     ]
    },
    {
     "name": "stderr",
     "output_type": "stream",
     "text": [
      "/Users/petersontylerd/.ve/main/lib/python3.6/site-packages/sklearn/linear_model/stochastic_gradient.py:130: DeprecationWarning: n_iter parameter is deprecated in 0.19 and will be removed in 0.21. Use max_iter and tol instead.\n",
      "  DeprecationWarning)\n",
      "/Users/petersontylerd/.ve/main/lib/python3.6/site-packages/sklearn/linear_model/stochastic_gradient.py:130: DeprecationWarning: n_iter parameter is deprecated in 0.19 and will be removed in 0.21. Use max_iter and tol instead.\n",
      "  DeprecationWarning)\n",
      " * Running on http://127.0.0.1:5000/ (Press CTRL+C to quit)\n",
      "127.0.0.1 - - [17/Nov/2018 13:22:43] \"\u001b[37mGET / HTTP/1.1\u001b[0m\" 200 -\n",
      "127.0.0.1 - - [17/Nov/2018 13:22:43] \"\u001b[33mGET /favicon.ico HTTP/1.1\u001b[0m\" 404 -\n",
      "127.0.0.1 - - [17/Nov/2018 13:22:53] \"\u001b[37mPOST /results HTTP/1.1\u001b[0m\" 200 -\n",
      "127.0.0.1 - - [17/Nov/2018 13:22:53] \"\u001b[33mGET /favicon.ico HTTP/1.1\u001b[0m\" 404 -\n",
      "/Users/petersontylerd/.ve/main/lib/python3.6/site-packages/sklearn/linear_model/stochastic_gradient.py:130: DeprecationWarning: n_iter parameter is deprecated in 0.19 and will be removed in 0.21. Use max_iter and tol instead.\n",
      "  DeprecationWarning)\n",
      "127.0.0.1 - - [17/Nov/2018 13:22:55] \"\u001b[37mPOST /thanks HTTP/1.1\u001b[0m\" 200 -\n",
      "127.0.0.1 - - [17/Nov/2018 13:22:55] \"\u001b[33mGET /favicon.ico HTTP/1.1\u001b[0m\" 404 -\n"
     ]
    }
   ],
   "source": [
    "#\n",
    "\n",
    "%run ch09_Flask_Apps/movieClassifier/app.py\n"
   ]
  },
  {
   "cell_type": "code",
   "execution_count": 11,
   "metadata": {
    "ExecuteTime": {
     "end_time": "2018-11-17T19:23:03.569257Z",
     "start_time": "2018-11-17T19:23:03.563375Z"
    }
   },
   "outputs": [
    {
     "name": "stdout",
     "output_type": "stream",
     "text": [
      "[('I love this movie', 1, '2018-11-17 19:22:34'), ('I disliked this movie', 0, '2018-11-17 19:22:34'), ('i have no opinion about this movie', 0, '2018-11-17 19:22:55')]\n"
     ]
    }
   ],
   "source": [
    "# Ensure new review(s) added to table\n",
    "\n",
    "conn = sqlite3.connect('ch09_Flask_Apps/movieClassifier/reviews.sqlite')\n",
    "c = conn.cursor()\n",
    "c.execute(\"SELECT * FROM review_db\")\n",
    "results = c.fetchall()\n",
    "conn.close()\n",
    "print(results)\n"
   ]
  }
 ],
 "metadata": {
  "kernelspec": {
   "display_name": "Python 3",
   "language": "python",
   "name": "python3"
  },
  "language_info": {
   "codemirror_mode": {
    "name": "ipython",
    "version": 3
   },
   "file_extension": ".py",
   "mimetype": "text/x-python",
   "name": "python",
   "nbconvert_exporter": "python",
   "pygments_lexer": "ipython3",
   "version": "3.6.5"
  },
  "toc": {
   "base_numbering": 1,
   "nav_menu": {},
   "number_sections": true,
   "sideBar": true,
   "skip_h1_title": false,
   "title_cell": "Table of Contents",
   "title_sidebar": "Contents",
   "toc_cell": false,
   "toc_position": {},
   "toc_section_display": true,
   "toc_window_display": false
  }
 },
 "nbformat": 4,
 "nbformat_minor": 2
}
