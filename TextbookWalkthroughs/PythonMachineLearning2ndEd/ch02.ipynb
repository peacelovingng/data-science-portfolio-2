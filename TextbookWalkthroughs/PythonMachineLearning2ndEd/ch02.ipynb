{
 "cells": [
  {
   "cell_type": "markdown",
   "metadata": {},
   "source": [
    "__Chapter 2 - Training simple machine learning algorithms for classification__\n",
    "\n",
    "1. [](#)\n",
    "\n",
    "\n",
    "Key topics:\n",
    "* Build a perceptron from scratch"
   ]
  },
  {
   "cell_type": "code",
   "execution_count": 1,
   "metadata": {},
   "outputs": [
    {
     "data": {
      "text/html": [
       "<style>.container { width:78% !important; }</style>"
      ],
      "text/plain": [
       "<IPython.core.display.HTML object>"
      ]
     },
     "metadata": {},
     "output_type": "display_data"
    }
   ],
   "source": [
    "import os\n",
    "import sys\n",
    "import importlib\n",
    "\n",
    "import numpy as np\n",
    "import pandas as pd\n",
    "import matplotlib.pyplot as plt\n",
    "%matplotlib inline\n",
    "import seaborn as sns\n",
    "\n",
    "modulePath = os.path.abspath(os.path.join('../../Visualization'))\n",
    "if modulePath not in sys.path:\n",
    "    sys.path.append(modulePath)\n",
    "import snsStyle\n",
    "import viz\n",
    "sns.set(rc = snsStyle.rcGrey)\n",
    "\n",
    "# Settings\n",
    "import warnings; warnings.simplefilter('ignore')\n",
    "np.set_printoptions(threshold = np.inf, suppress = True)\n",
    "from IPython.core.display import display, HTML; display(HTML(\"<style>.container { width:78% !important; }</style>\"))\n",
    "\n",
    "from sklearn.datasets import load_iris"
   ]
  },
  {
   "cell_type": "markdown",
   "metadata": {},
   "source": [
    "## Artificial neuron"
   ]
  },
  {
   "cell_type": "markdown",
   "metadata": {},
   "source": [
    "### Intuition: perceptron\n",
    "\n",
    "#### Decision function \n",
    "\n",
    "A basic perceptron is a binary classifier that uses the decision function...\n",
    "\n",
    "$\\phi(z) =\n",
    "\\left\\{\n",
    "    \\begin{array}{ll}\n",
    "        1  & \\mbox{if } z >= \\theta \\\\\n",
    "        -1  & \\mbox{otherwise}\n",
    "    \\end{array}\n",
    "\\right.$\n",
    "\n",
    "...to designate an observation $x^i$ as belonging to the positive class '1' or the negative class '-1'. The input $z$ is the dot product of a weight vector  $\\mathbf{w}$ and an input vector $\\mathbf{x}$. Each value in vector $\\mathbf{x}$ represents a specific feature value of the observation $x^i$ and vector $\\mathbf{w}$ represents the weights associated with each feature.The equation for $z$ is...\n",
    "\n",
    "$$\n",
    "z = w_1x_1 + ... + w_nx_n = \\mathbf{w}^T\\mathbf{x}\n",
    "$$\n",
    "\n",
    "...where $n$ is the number of features/weights associated with $x^i$. If the value of $z$ for a particular observation $x^i$ is greater than or equal to a pre-defined theshold $\\theta$, class '1' is predicted, otherwise class '-1' is predicted.\n",
    "\n",
    "A small adjustment to the variabls considered simplifies our notation. If we move subtract the threshold $\\theta$ to move it to the left side side of the decision function...\n",
    "\n",
    "$\\phi(z) =\n",
    "\\left\\{\n",
    "    \\begin{array}{ll}\n",
    "        1  & \\mbox{if } z >= 0 \\\\\n",
    "        -1  & \\mbox{otherwise}\n",
    "    \\end{array}\n",
    "\\right.$\n",
    "\n",
    "...and add weight sub-zero $w_0 = -\\theta$ and $x_0 = 1$ to our dot product function $z$...\n",
    "\n",
    "\n",
    "$$\n",
    "z = w_0x_0 + w_1x_1 + ... + w_nx_n = \\mathbf{w}^T\\mathbf{x}\n",
    "$$\n",
    "\n",
    "...we can now use 0 as our threshold in the decision function. Our negative threshold, $w_0 = -\\theta$, is referred to as the bias unit.\n",
    "\n",
    "In machine learning parlance, this decision function is a step function that will 'squish' our input $x$ such that the output why is either 1 or -1. To associated this with neurons, and 1 or -1 indicates whether a neuron 'fires' or not based on its input.\n",
    "\n",
    "#### Learning rule\n",
    "\n",
    "The perceptron 'learns' by updating its weights after each epoch, or iteration. The learning rule updates each weight $w_j$ by...\n",
    "\n",
    "$$\n",
    "w_j := w_j + \\Delta w_j\n",
    "$$\n",
    "\n",
    "...where $\\Delta w_j$ is determined by...\n",
    "\n",
    "$$\n",
    "\\Delta w_j = \\eta(y^i - \\hat{y}^i)x_j^i\n",
    "$$\n",
    "\n",
    "In this equation, \n",
    "- $w_j$ is the initial weight for the $j$th of $n$ features\n",
    "- $\\eta$ is the learning rate (typically a value between 0.0 and 1.0)\n",
    "- $y^i$ is the true class label for observation $x^i$\n",
    "- $\\hat{y}^i$ is the class label estimated by the decision function $\\phi(z)$\n",
    "- $x_j^i$ is the value of the $j$th feature for the $i$th observation and acts as a multipicative factor\n",
    "\n",
    "If $\\phi(z)$ returns the correct class label, the weight remains unchanged because $\\Delta w_j$ evaluates to zero. If the true class is positive, but the prediction is negative, the weight is pushed in the direction of the positive class by making $x_j^i \\times w_j$ more positive by...\n",
    "\n",
    "$$\n",
    "\\Delta w_j = \\eta(1 - (-1))x_j^i = \\eta(2)x_j^i\n",
    "$$\n",
    "\n",
    "...and if the true class is negative, but the prediction is positive, the weight is pushed in the direction of the positive class by making $x_j^i \\times w_j$ more negative by...\n",
    "\n",
    "$$\n",
    "\\Delta w_j = \\eta(-1 - 1)x_j^i = \\eta(-2)x_j^i\n",
    "$$\n",
    "\n",
    "The weight update is proportional to the value of $x_j^i$\n",
    "\n",
    "One important thing to note is that the perceptron converges only when the two classes are linearly separable. Either a maximum number of epochs or a tolerable number of misclassifcations are required to prevent the perceptron from running indefinitely."
   ]
  },
  {
   "cell_type": "markdown",
   "metadata": {},
   "source": [
    "## Code"
   ]
  },
  {
   "cell_type": "markdown",
   "metadata": {},
   "source": [
    "__Code: object-oriented perceptron API__"
   ]
  },
  {
   "cell_type": "code",
   "execution_count": 2,
   "metadata": {
    "ExecuteTime": {
     "end_time": "2018-06-09T18:28:27.014724Z",
     "start_time": "2018-06-09T18:28:25.275435Z"
    }
   },
   "outputs": [],
   "source": [
    "import numpy as np\n",
    "\n",
    "class Perceptron(object):\n",
    "    \"\"\"\n",
    "    Perceptron classifier written from scratch.\n",
    "    \n",
    "    Parameters:\n",
    "    eta: learning rate\n",
    "    n_iter: number of passes through the training data\n",
    "    random_state: seed for random weight initialization\n",
    "    \n",
    "    Attributes:\n",
    "    w_: weights after fitting\n",
    "    errors_: number of misclassifications in each epoch (iter)\n",
    "    \"\"\"\n",
    "    \n",
    "    def __init__(self, eta = 0.01, n_iter = 50, random_state = 1):\n",
    "        self.eta = eta\n",
    "        self.n_iter = n_iter\n",
    "        self.random_state = random_state\n",
    "    \n",
    "    def fit(self, X, y):\n",
    "        \"\"\"\n",
    "        Parameters:\n",
    "        X: m x n matrix containing training data. Includes m samples and n features\n",
    "        y: Vector of target values. Contain m values.\n",
    "        \n",
    "        Returns:\n",
    "        self\n",
    "         \"\"\"\n",
    "        \n",
    "        rgen = np.random.RandomState(self.random_state)\n",
    "        self.w_ = rgen.normal(loc = 0.0\n",
    "                             ,scale = 0.01\n",
    "                             ,size = 1 + X.shape[1])\n",
    "        self.errors_ = []\n",
    "        \n",
    "        for _ in range(self.n_iter):\n",
    "            errors_ = 0\n",
    "            for xi, target in zip (X,y):\n",
    "                update = self.eta * (target - self.predict(xi))\n",
    "                self.w_[1:] += update * xi\n",
    "                self.w_[0] += update\n",
    "                errors += int(update != 0.0)\n",
    "            self.errors_.append(errors)\n",
    "        return self\n",
    "    \n",
    "    def net_input(self, X):\n",
    "        \"\"\"Calc net input\"\"\"\n",
    "        return np.dot(X, self.w_[1:]) + self.w_[0]\n",
    "    \n",
    "    def predict(self, X):\n",
    "        \"\"\"Return class label after unit step\"\"\"\n",
    "        return np.where(self.net_input(X) >= 0.0, 1, -1)\n",
    "        "
   ]
  },
  {
   "cell_type": "markdown",
   "metadata": {},
   "source": [
    "__Code explained__\n",
    "\n",
    "```python\n",
    "def net_input()\n",
    "```\n",
    "Returns the dot product of a sample $x^i$ from the training data $\\mathbf{X}$ and a weight vector containing weights $w_1$ ... $w_n$. The weight $w_0$ is added on to the dot product.\n",
    "\n",
    "```python\n",
    "def predict()\n",
    "```\n",
    "\n",
    "Returns the predicted classes label. 1 if net_input() returns a number >= 0, else returns -1. Used within the fit method but can also be used to predict new, unseen data.\n",
    "\n",
    "```python\n",
    "def fit()\n",
    "```\n",
    "\n",
    "Determines our model by finding the ideal weights. Takes in an *m* row by *n* column matrix $\\mathbf{X}$ and an *m* by 1 value vector $\\mathbf{y}$, which includes the actual class labels. Initial weights are set to random numbers drawn from a normal distribution with a standard deviation of 0.01. The number of values in the weight vector is equal the number of columns in $\\mathbf{X}$ plus 1 (for the bias unit).\n",
    "\n",
    "The fit method runs for a specified number of iterations. Within each iteration, each sample in the training data $\\mathbf{X}$, along with its corresponding label in vector $\\mathbf{y}$ is evaluated. The weights are adjusted after each training sample is evaluated.\n",
    "\n",
    "The errors are also collected after each epoch so that we can observe how the model performs during training."
   ]
  },
  {
   "cell_type": "markdown",
   "metadata": {},
   "source": [
    "__Code - execute__"
   ]
  },
  {
   "cell_type": "code",
   "execution_count": 2,
   "metadata": {
    "ExecuteTime": {
     "end_time": "2018-06-09T18:28:56.826237Z",
     "start_time": "2018-06-09T18:28:52.282709Z"
    }
   },
   "outputs": [
    {
     "data": {
      "text/html": [
       "<div>\n",
       "<style scoped>\n",
       "    .dataframe tbody tr th:only-of-type {\n",
       "        vertical-align: middle;\n",
       "    }\n",
       "\n",
       "    .dataframe tbody tr th {\n",
       "        vertical-align: top;\n",
       "    }\n",
       "\n",
       "    .dataframe thead th {\n",
       "        text-align: right;\n",
       "    }\n",
       "</style>\n",
       "<table border=\"1\" class=\"dataframe\">\n",
       "  <thead>\n",
       "    <tr style=\"text-align: right;\">\n",
       "      <th></th>\n",
       "      <th>sepal length (cm)</th>\n",
       "      <th>petal length (cm)</th>\n",
       "      <th>target</th>\n",
       "    </tr>\n",
       "  </thead>\n",
       "  <tbody>\n",
       "    <tr>\n",
       "      <th>0</th>\n",
       "      <td>5.1</td>\n",
       "      <td>1.4</td>\n",
       "      <td>-1</td>\n",
       "    </tr>\n",
       "    <tr>\n",
       "      <th>1</th>\n",
       "      <td>4.9</td>\n",
       "      <td>1.4</td>\n",
       "      <td>-1</td>\n",
       "    </tr>\n",
       "    <tr>\n",
       "      <th>2</th>\n",
       "      <td>4.7</td>\n",
       "      <td>1.3</td>\n",
       "      <td>-1</td>\n",
       "    </tr>\n",
       "    <tr>\n",
       "      <th>3</th>\n",
       "      <td>4.6</td>\n",
       "      <td>1.5</td>\n",
       "      <td>-1</td>\n",
       "    </tr>\n",
       "    <tr>\n",
       "      <th>4</th>\n",
       "      <td>5.0</td>\n",
       "      <td>1.4</td>\n",
       "      <td>-1</td>\n",
       "    </tr>\n",
       "  </tbody>\n",
       "</table>\n",
       "</div>"
      ],
      "text/plain": [
       "   sepal length (cm)  petal length (cm)  target\n",
       "0                5.1                1.4      -1\n",
       "1                4.9                1.4      -1\n",
       "2                4.7                1.3      -1\n",
       "3                4.6                1.5      -1\n",
       "4                5.0                1.4      -1"
      ]
     },
     "execution_count": 2,
     "metadata": {},
     "output_type": "execute_result"
    }
   ],
   "source": [
    "# Import iris dataset\n",
    "\n",
    "iris = load_iris()\n",
    "df = pd.DataFrame(np.c_[iris['data'], iris['target']]\n",
    "                  ,columns = iris['feature_names'] + ['target'])\n",
    "\n",
    "# Trim iris data set down to two classes and two features\n",
    "\n",
    "df = df.iloc[0:100, [0, 2, 4]]\n",
    "df['target'] = np.where(df['target'] == 0.0, -1, 1)\n",
    "df[:5]\n"
   ]
  },
  {
   "cell_type": "code",
   "execution_count": 3,
   "metadata": {},
   "outputs": [
    {
     "data": {
      "image/png": "[encoded data removed]",
      "text/plain": [
       "<Figure size 1080x648 with 1 Axes>"
      ]
     },
     "metadata": {},
     "output_type": "display_data"
    }
   ],
   "source": [
    "importlib.reload(snsStyle)\n",
    "importlib.reload(viz)        \n",
    "ax = viz.viz2dScatterHue(df = df\n",
    "               ,x = 'sepal length (cm)'\n",
    "               ,y = 'petal length (cm)'\n",
    "               ,targetCol = 'target'\n",
    "               ,targetLabels = iris['target_names'][:2]\n",
    "               ,title = 'Class comparison, select features'\n",
    "               ,chartSize = 15\n",
    "               ,yShift = 0.75\n",
    "               )"
   ]
  },
  {
   "cell_type": "code",
   "execution_count": null,
   "metadata": {
    "ExecuteTime": {
     "end_time": "2018-05-27T22:56:09.028573Z",
     "start_time": "2018-05-27T22:56:09.008047Z"
    },
    "scrolled": false
   },
   "outputs": [],
   "source": [
    "ppn = Perceptron(eta = 0.1, n_iter = 10)\n",
    "ppn.fit(X, y)\n",
    "plt.plot(x = range(1, len(ppn.errors_) + 1)\n",
    "        ,y = ppn.errors_\n",
    "        ,marker = 'o')\n",
    "plt.xlabel('Epochs')\n",
    "plt.ylabel('Number of updates')\n",
    "plt.show()"
   ]
  },
  {
   "cell_type": "code",
   "execution_count": null,
   "metadata": {},
   "outputs": [],
   "source": [
    "from matplotlib.colors import ListedColormap\n",
    "\n",
    "def plot_dfecision_regions(X, y, classifier, resolution = 0.02):\n",
    "    \n",
    "    # marker generator and colormap\n",
    "    markers = ['s', 'x', 'o', '^', 'v']\n",
    "    colors = ('red','blue','lightgreen','gray','cyan')\n",
    "    \n",
    "    # decision surface\n",
    "    x1_min, x1_max = X[:, 0].min() - 1, X[:, 0].max() + 1\n",
    "    x2_min, x2_max = X[:, 1].min() - 1, X[:, 1].max() + 1\n",
    "    xx1, xx2 = np.meshgrid(np.arange(x1_min, x1_max, resolution)\n",
    "                          ,np.arange(x1_min, x1_max, resolution))\n",
    "    Z = classifier.predict(np.array([xx1.ravel(), xx2.ravel()]).T)\n",
    "    Z = Z.reshape(xx1.shape)\n",
    "    \n",
    "    plt.contourf(xx1\n",
    "                ,xx2\n",
    "                ,Z\n",
    "                ,alpha = 0.3\n",
    "                ,cmap = cmap)\n",
    "    plt.xlim(xx1.min(), xx1.max())\n",
    "    plt.ylim(xx2.min(), xx2.max())\n",
    "    \n",
    "    # plot class samples\n",
    "    for idx, cl in enumerate(np.unique(y)):\n",
    "        plt.scatter(x = X[y == cl, 0]\n",
    "                   ,y = X[y == cl, 1]\n",
    "                   ,alpha = 0.8\n",
    "                   ,c = colors[idx]\n",
    "                   ,marker = markers[idx]\n",
    "                   ,label = class,edgecolor = 'black')\n",
    "    "
   ]
  },
  {
   "cell_type": "code",
   "execution_count": null,
   "metadata": {},
   "outputs": [],
   "source": []
  },
  {
   "cell_type": "code",
   "execution_count": null,
   "metadata": {},
   "outputs": [],
   "source": []
  },
  {
   "cell_type": "code",
   "execution_count": null,
   "metadata": {},
   "outputs": [],
   "source": []
  }
 ],
 "metadata": {
  "author": "",
  "kernelspec": {
   "display_name": "Python 3",
   "language": "python",
   "name": "python3"
  },
  "language_info": {
   "codemirror_mode": {
    "name": "ipython",
    "version": 3
   },
   "file_extension": ".py",
   "mimetype": "text/x-python",
   "name": "python",
   "nbconvert_exporter": "python",
   "pygments_lexer": "ipython3",
   "version": "3.6.4"
  },
  "latex_envs": {
   "LaTeX_envs_menu_present": true,
   "autoclose": false,
   "autocomplete": true,
   "bibliofile": "biblio.bib",
   "cite_by": "apalike",
   "current_citInitial": 1,
   "eqLabelWithNumbers": true,
   "eqNumInitial": 1,
   "hotkeys": {
    "equation": "Ctrl-E",
    "itemize": "Ctrl-I"
   },
   "labels_anchors": false,
   "latex_user_defs": false,
   "report_style_numbering": false,
   "user_envs_cfg": false
  },
  "toc": {
   "base_numbering": 1,
   "nav_menu": {},
   "number_sections": true,
   "sideBar": true,
   "skip_h1_title": false,
   "title_cell": "Table of Contents",
   "title_sidebar": "Contents",
   "toc_cell": false,
   "toc_position": {
    "height": "calc(100% - 180px)",
    "left": "10px",
    "top": "150px",
    "width": "165px"
   },
   "toc_section_display": true,
   "toc_window_display": false
  },
  "varInspector": {
   "cols": {
    "lenName": 16,
    "lenType": 16,
    "lenVar": 40
   },
   "kernels_config": {
    "python": {
     "delete_cmd_postfix": "",
     "delete_cmd_prefix": "del ",
     "library": "var_list.py",
     "varRefreshCmd": "print(var_dic_list())"
    },
    "r": {
     "delete_cmd_postfix": ") ",
     "delete_cmd_prefix": "rm(",
     "library": "var_list.r",
     "varRefreshCmd": "cat(var_dic_list()) "
    }
   },
   "types_to_exclude": [
    "module",
    "function",
    "builtin_function_or_method",
    "instance",
    "_Feature"
   ],
   "window_display": false
  }
 },
 "nbformat": 4,
 "nbformat_minor": 2
}
