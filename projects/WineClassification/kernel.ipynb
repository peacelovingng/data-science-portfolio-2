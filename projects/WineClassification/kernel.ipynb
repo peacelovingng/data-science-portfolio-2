{
 "cells": [
  {
   "cell_type": "markdown",
   "metadata": {},
   "source": [
    " __Project - Wine classification__\n",
    "\n",
    "1. [Import](#Import)\n",
    "    1. [Tools](#Tools)\n",
    "    1. [Data](#Data)    \n",
    "1. [EDA](#EDA)\n",
    "    1. [Categorical feature EDA](#Categorical-feature-EDA)\n",
    "    1. [numeric feature EDA](#numeric-feature-EDA)\n",
    "    1. [Faceting](#Faceting)\n",
    "    1. [Target variable evaluation](#Target-variable-evaluation)    \n",
    "1. [Data preparation](#Data-preparation)\n",
    "    1. [Missing data](#Missing-data)\n",
    "    1. [Engineering](#Engineering)\n",
    "    1. [Encoding](#Encoding)\n",
    "    1. [Transformation](#Transformation)\n",
    "        1. [Polynomial features](#Polynomial-features)\n",
    "        1. [Skew](#Skew)\n",
    "        1. [Scale](#Scale)\n",
    "    1. [Outliers](#Outliers)\n",
    "1. [Feature importance](#Feature-importance)    \n",
    "1. [Modeling](#Modeling)\n",
    "    1. [Data preparation](#Data-preparation-1)\n",
    "    1. [Bayesian hyper-parameter optimization](#Bayesian-hyper-parameter-optimization)\n",
    "    1. [Model performance evaluation - standard models](#Model-performance-evaluation-standard-models)\n",
    "    1. [Validation set evaluation - standard models](#Validation-set-evaluation-standard-models)\n",
    "    1. [Model explanability](#Model-explanability)\n",
    "1. [Stacking](#Stacking)\n",
    "    1. [Primary models](#Primary-models)\n",
    "    1. [Meta model](#Meta-model)                \n",
    "    1. [Model performance evaluation - stacked models](#Model-performance-evaluation-stacked-models)\n",
    "    1. [Validation set evaluation - stacked models](#Validation-set-evaluation-stacked-models)\n"
   ]
  },
  {
   "cell_type": "markdown",
   "metadata": {},
   "source": [
    "# Import"
   ]
  },
  {
   "cell_type": "markdown",
   "metadata": {},
   "source": [
    "<a id = 'Import'></a>"
   ]
  },
  {
   "cell_type": "markdown",
   "metadata": {},
   "source": [
    "## Tools"
   ]
  },
  {
   "cell_type": "markdown",
   "metadata": {},
   "source": [
    "<a id = 'Tools'></a>"
   ]
  },
  {
   "cell_type": "code",
   "execution_count": null,
   "metadata": {
    "ExecuteTime": {
     "end_time": "2019-07-21T23:13:25.574506Z",
     "start_time": "2019-07-21T23:13:23.558320Z"
    }
   },
   "outputs": [],
   "source": [
    "# standard libary and settings\n",
    "import os\n",
    "import sys\n",
    "import importlib\n",
    "import itertools\n",
    "from functools import reduce\n",
    "import time; rundate = time.strftime(\"%Y%m%d\")\n",
    "\n",
    "import warnings\n",
    "warnings.simplefilter(\"ignore\")\n",
    "\n",
    "from IPython.core.display import display, HTML\n",
    "display(HTML(\"<style>.container { width:95% !important; }</style>\"))\n",
    "\n",
    "# data extensions and settings\n",
    "import numpy as np\n",
    "np.set_printoptions(threshold=np.inf, suppress=True)\n",
    "\n",
    "import pandas as pd\n",
    "pd.set_option(\"display.max_rows\", 500); pd.set_option(\"display.max_columns\", 500)\n",
    "pd.options.display.float_format = \"{:,.6f}\".format\n",
    "\n",
    "# modeling extensions\n",
    "import sklearn.base as base\n",
    "import sklearn.datasets as datasets\n",
    "import sklearn.ensemble as ensemble\n",
    "import sklearn.impute as impute\n",
    "import sklearn.pipeline as pipeline\n",
    "import sklearn.preprocessing as preprocessing\n",
    "\n",
    "import eif\n",
    "import shap\n",
    "shap.initjs()\n",
    "from eli5.sklearn import PermutationImportance\n",
    "from pdpbox import pdp, get_dataset, info_plots\n",
    "\n",
    "# visualization extensions and settings\n",
    "import seaborn as sns\n",
    "import matplotlib.pyplot as plt\n",
    "import missingno as msno\n",
    "\n",
    "%matplotlib inline\n",
    "\n",
    "try:\n",
    "    #     import mlmachine as mlm\n",
    "    #     from prettierplot.plotter import PrettierPlot\n",
    "    #     import prettierplot.style as style\n",
    "    import asdfasd\n",
    "except ModuleNotFoundError:\n",
    "    sys.path.append(\n",
    "        \"../../../mlmachine\"\n",
    "    ) if \"../../../../mlmachine\" not in sys.path else None\n",
    "    sys.path.append(\n",
    "        \"../../../prettierplot\"\n",
    "    ) if \"../../../../prettierplot\" not in sys.path else None\n",
    "\n",
    "    import mlmachine as mlm\n",
    "    from mlmachine.features.preprocessing import (\n",
    "        DataFrameSelector,\n",
    "        PlayWithPandas,\n",
    "        UnprocessedColumnAdder,\n",
    "        ContextImputer,\n",
    "        PandasFeatureUnion,\n",
    "        DualTransformer,\n",
    "    )\n",
    "    from prettierplot.plotter import PrettierPlot\n",
    "    import prettierplot.style as style\n",
    "else:\n",
    "    print(\n",
    "        \"This notebook relies on the libraries mlmachine and prettierplot. Please run:\"\n",
    "    )\n",
    "    print(\"\\tpip install mlmachine\")\n",
    "    print(\"\\tpip install prettierplot\")"
   ]
  },
  {
   "cell_type": "markdown",
   "metadata": {},
   "source": [
    "## Data"
   ]
  },
  {
   "cell_type": "markdown",
   "metadata": {},
   "source": [
    "<a id = 'Data'></a>"
   ]
  },
  {
   "cell_type": "code",
   "execution_count": null,
   "metadata": {},
   "outputs": [],
   "source": [
    "# load and inspect data\n",
    "data = pd.read_csv(\"s3://tdp-ml-datasets/misc/wine.data\", header=None)\n",
    "\n",
    "data.columns = [\n",
    "    \"Class label\",\n",
    "    \"Alcohol\",\n",
    "    \"Malic acid\",\n",
    "    \"Ash\",\n",
    "    \"Alcalinity of ash\",\n",
    "    \"Magnesium\",\n",
    "    \"Total phenols\",\n",
    "    \"Flavanoids\",\n",
    "    \"Nonflavanoid phenols\",\n",
    "    \"Proanthocyanins\",\n",
    "    \"Color intensity\",\n",
    "    \"Hue\",\n",
    "    \"OD280/OD315 of diluted wines\",\n",
    "    \"Proline\",\n",
    "]\n",
    "\n",
    "print(\"Training data dimensions: {}\".format(data.shape))"
   ]
  },
  {
   "cell_type": "code",
   "execution_count": null,
   "metadata": {
    "ExecuteTime": {
     "end_time": "2019-07-21T23:13:25.628915Z",
     "start_time": "2019-07-21T23:13:25.595984Z"
    },
    "scrolled": true
   },
   "outputs": [],
   "source": [
    "# display info and first 5 rows\n",
    "data.info()\n",
    "display(data[:5])"
   ]
  },
  {
   "cell_type": "code",
   "execution_count": null,
   "metadata": {
    "ExecuteTime": {
     "end_time": "2019-07-21T23:13:25.644625Z",
     "start_time": "2019-07-21T23:13:25.638213Z"
    }
   },
   "outputs": [],
   "source": [
    "# review counts of different column types\n",
    "data.dtypes.value_counts()"
   ]
  },
  {
   "cell_type": "code",
   "execution_count": null,
   "metadata": {},
   "outputs": [],
   "source": [
    "# split dataset into train and validation datasets\n",
    "dfTrain, dfValid = mlm.trainTestCompile(data=data, targetCol='Class label')"
   ]
  },
  {
   "cell_type": "code",
   "execution_count": null,
   "metadata": {
    "ExecuteTime": {
     "end_time": "2019-07-21T23:13:25.657448Z",
     "start_time": "2019-07-21T23:13:25.646578Z"
    },
    "scrolled": true
   },
   "outputs": [],
   "source": [
    "# Load training data into mlmachine\n",
    "train = mlm.Machine(\n",
    "    data=dfTrain,\n",
    "    target=\"Class label\",\n",
    "    targetType=\"categorical\",\n",
    ")\n",
    "print(train.data.shape)"
   ]
  },
  {
   "cell_type": "code",
   "execution_count": null,
   "metadata": {
    "ExecuteTime": {
     "end_time": "2019-07-21T23:13:25.657448Z",
     "start_time": "2019-07-21T23:13:25.646578Z"
    },
    "scrolled": true
   },
   "outputs": [],
   "source": [
    "# Load training data into mlmachine\n",
    "valid = mlm.Machine(\n",
    "    data=dfValid,\n",
    "    target=\"Class label\",\n",
    "    targetType=\"categorical\",\n",
    ")\n",
    "print(valid.data.shape)"
   ]
  },
  {
   "cell_type": "markdown",
   "metadata": {},
   "source": [
    "# EDA"
   ]
  },
  {
   "cell_type": "markdown",
   "metadata": {},
   "source": [
    "<a id = 'EDA'></a>"
   ]
  },
  {
   "cell_type": "markdown",
   "metadata": {},
   "source": [
    "## Categorical feature EDA"
   ]
  },
  {
   "cell_type": "markdown",
   "metadata": {},
   "source": [
    "<a id = 'Categorical-feature-EDA'></a>"
   ]
  },
  {
   "cell_type": "markdown",
   "metadata": {},
   "source": [
    "##### Univariate & feature vs. target"
   ]
  },
  {
   "cell_type": "code",
   "execution_count": null,
   "metadata": {
    "ExecuteTime": {
     "end_time": "2019-07-21T23:13:31.521453Z",
     "start_time": "2019-07-21T23:13:25.659269Z"
    },
    "scrolled": true
   },
   "outputs": [],
   "source": [
    "# categorical features\n",
    "for feature in train.featureType[\"categorical\"]:\n",
    "    train.edaCatTargetCatFeat(feature=feature)"
   ]
  },
  {
   "cell_type": "markdown",
   "metadata": {},
   "source": [
    "## numeric feature EDA"
   ]
  },
  {
   "cell_type": "markdown",
   "metadata": {},
   "source": [
    "<a id = 'numeric-feature-EDA'></a>"
   ]
  },
  {
   "cell_type": "markdown",
   "metadata": {},
   "source": [
    "##### Univariate & feature vs. target"
   ]
  },
  {
   "cell_type": "code",
   "execution_count": null,
   "metadata": {
    "ExecuteTime": {
     "end_time": "2019-07-21T23:13:42.734971Z",
     "start_time": "2019-07-21T23:13:31.524097Z"
    },
    "scrolled": true
   },
   "outputs": [],
   "source": [
    "# numeric features\n",
    "for feature in train.featureType[\"numeric\"]:\n",
    "    train.edaCatTargetNumFeat(feature=feature)"
   ]
  },
  {
   "cell_type": "markdown",
   "metadata": {},
   "source": [
    "##### Correlation"
   ]
  },
  {
   "cell_type": "markdown",
   "metadata": {},
   "source": [
    "###### Correlation (all samples)"
   ]
  },
  {
   "cell_type": "code",
   "execution_count": null,
   "metadata": {
    "ExecuteTime": {
     "end_time": "2019-07-21T23:13:43.387378Z",
     "start_time": "2019-07-21T23:13:42.736786Z"
    },
    "scrolled": false
   },
   "outputs": [],
   "source": [
    "# correlation heat map\n",
    "p = PrettierPlot()\n",
    "ax = p.makeCanvas()\n",
    "p.prettyCorrHeatmap(df=train.data, annot=False, ax=ax)"
   ]
  },
  {
   "cell_type": "markdown",
   "metadata": {},
   "source": [
    "###### Correlation (top vs. target)"
   ]
  },
  {
   "cell_type": "code",
   "execution_count": null,
   "metadata": {
    "ExecuteTime": {
     "end_time": "2019-07-21T23:13:43.860056Z",
     "start_time": "2019-07-21T23:13:43.388963Z"
    },
    "scrolled": false
   },
   "outputs": [],
   "source": [
    "# correlation heat map with most highly correlated features relative to the target\n",
    "p = PrettierPlot(plotOrientation='tall')\n",
    "ax = p.makeCanvas()\n",
    "p.prettyCorrHeatmapTarget(\n",
    "    df=train.data, target=train.target, thresh=0.02, annot=True, ax=ax\n",
    ")"
   ]
  },
  {
   "cell_type": "markdown",
   "metadata": {},
   "source": [
    "##### Pair plot"
   ]
  },
  {
   "cell_type": "code",
   "execution_count": null,
   "metadata": {
    "ExecuteTime": {
     "end_time": "2019-07-21T23:14:52.815407Z",
     "start_time": "2019-07-21T23:14:12.586722Z"
    }
   },
   "outputs": [],
   "source": [
    "# # pair plot\n",
    "# p = PrettierPlot(chartProp=12)\n",
    "# p.prettyPairPlot(df=train.data, cols=train.featureType['numeric'], diag_kind=\"auto\")"
   ]
  },
  {
   "cell_type": "code",
   "execution_count": null,
   "metadata": {
    "ExecuteTime": {
     "end_time": "2019-07-21T19:21:40.906692Z",
     "start_time": "2019-07-21T19:21:12.258740Z"
    },
    "scrolled": false
   },
   "outputs": [],
   "source": [
    "# # pair plot\n",
    "# p = PrettierPlot(chartProp=12)\n",
    "# p.prettyPairPlot(\n",
    "#     df=train.data.dropna(),\n",
    "#     diag_kind=\"kde\",\n",
    "#     target=train.target,\n",
    "#     cols=train.featureType['numeric'][:10],\n",
    "#     legendLabels=[\"Cat1\", \"Cat2\",\"Cat3\"],\n",
    "#     bbox=(2.0, 0.0),\n",
    "# )"
   ]
  },
  {
   "cell_type": "markdown",
   "metadata": {},
   "source": [
    "## Faceting"
   ]
  },
  {
   "cell_type": "markdown",
   "metadata": {},
   "source": [
    "<a id = 'Faceting'></a>"
   ]
  },
  {
   "cell_type": "code",
   "execution_count": null,
   "metadata": {},
   "outputs": [],
   "source": []
  },
  {
   "cell_type": "markdown",
   "metadata": {},
   "source": [
    "## Target variable evaluation"
   ]
  },
  {
   "cell_type": "markdown",
   "metadata": {},
   "source": [
    "<a id = 'Target-variable-evaluation'></a>"
   ]
  },
  {
   "cell_type": "code",
   "execution_count": null,
   "metadata": {
    "ExecuteTime": {
     "end_time": "2019-07-21T23:44:24.169068Z",
     "start_time": "2019-07-21T23:44:24.163312Z"
    }
   },
   "outputs": [],
   "source": [
    "# null score\n",
    "pd.Series(train.target).value_counts(normalize=True)"
   ]
  },
  {
   "cell_type": "markdown",
   "metadata": {},
   "source": [
    "# Data preparation"
   ]
  },
  {
   "cell_type": "markdown",
   "metadata": {},
   "source": [
    "<a id = 'Data-preparation'></a>"
   ]
  },
  {
   "cell_type": "markdown",
   "metadata": {},
   "source": [
    "## Missing data\n",
    "\n",
    "No missing data\n"
   ]
  },
  {
   "cell_type": "markdown",
   "metadata": {},
   "source": [
    "<a id = 'Missing-data'></a>"
   ]
  },
  {
   "cell_type": "markdown",
   "metadata": {},
   "source": [
    "##### Training"
   ]
  },
  {
   "cell_type": "code",
   "execution_count": null,
   "metadata": {
    "ExecuteTime": {
     "end_time": "2019-07-21T18:54:28.549354Z",
     "start_time": "2019-07-21T18:54:28.540270Z"
    },
    "scrolled": true
   },
   "outputs": [],
   "source": [
    "# evaluate missing data\n",
    "train.edaMissingSummary()"
   ]
  },
  {
   "cell_type": "markdown",
   "metadata": {},
   "source": [
    "##### Validation"
   ]
  },
  {
   "cell_type": "code",
   "execution_count": null,
   "metadata": {
    "ExecuteTime": {
     "end_time": "2019-07-20T21:36:23.944186Z",
     "start_time": "2019-07-20T21:36:23.660271Z"
    },
    "scrolled": true
   },
   "outputs": [],
   "source": [
    "# evaluate missing data\n",
    "valid.edaMissingSummary()"
   ]
  },
  {
   "cell_type": "markdown",
   "metadata": {},
   "source": [
    "##### Impute"
   ]
  },
  {
   "cell_type": "code",
   "execution_count": null,
   "metadata": {
    "ExecuteTime": {
     "end_time": "2019-07-20T21:36:27.353587Z",
     "start_time": "2019-07-20T21:36:27.123813Z"
    }
   },
   "outputs": [],
   "source": []
  },
  {
   "cell_type": "markdown",
   "metadata": {},
   "source": [
    "## Engineering"
   ]
  },
  {
   "cell_type": "markdown",
   "metadata": {},
   "source": [
    "<a id = 'Engineering'></a>"
   ]
  },
  {
   "cell_type": "markdown",
   "metadata": {},
   "source": [
    "##### Training"
   ]
  },
  {
   "cell_type": "code",
   "execution_count": null,
   "metadata": {
    "ExecuteTime": {
     "end_time": "2019-07-20T21:36:33.093998Z",
     "start_time": "2019-07-20T21:36:27.591686Z"
    },
    "scrolled": true
   },
   "outputs": [],
   "source": [
    "# evaluate additional features\n",
    "for feature in train.featureType[\"categorical\"]:\n",
    "    train.edaCatTargetCatFeat(feature=feature)"
   ]
  },
  {
   "cell_type": "markdown",
   "metadata": {},
   "source": [
    "##### Validation"
   ]
  },
  {
   "cell_type": "code",
   "execution_count": null,
   "metadata": {
    "ExecuteTime": {
     "end_time": "2019-07-20T21:36:33.468506Z",
     "start_time": "2019-07-20T21:36:33.099766Z"
    }
   },
   "outputs": [],
   "source": []
  },
  {
   "cell_type": "markdown",
   "metadata": {},
   "source": [
    "## Encoding\n",
    "\n",
    "No categorical features"
   ]
  },
  {
   "cell_type": "markdown",
   "metadata": {},
   "source": [
    "<a id = 'Encoding'></a>"
   ]
  },
  {
   "cell_type": "code",
   "execution_count": null,
   "metadata": {},
   "outputs": [],
   "source": []
  },
  {
   "cell_type": "markdown",
   "metadata": {},
   "source": [
    "## Transformation"
   ]
  },
  {
   "cell_type": "markdown",
   "metadata": {},
   "source": [
    "<a id = 'Transformation'></a>"
   ]
  },
  {
   "cell_type": "markdown",
   "metadata": {},
   "source": [
    "### Polynomial features"
   ]
  },
  {
   "cell_type": "markdown",
   "metadata": {},
   "source": [
    "<a id = 'Polynomial-features'></a>"
   ]
  },
  {
   "cell_type": "markdown",
   "metadata": {},
   "source": [
    "##### Transformation"
   ]
  },
  {
   "cell_type": "code",
   "execution_count": null,
   "metadata": {},
   "outputs": [],
   "source": [
    "#\n",
    "polynomialPipe = PandasFeatureUnion([\n",
    "    (\"polynomial\", pipeline.make_pipeline(\n",
    "        DataFrameSelector(train.featureType[\"numeric\"]),\n",
    "        PlayWithPandas(preprocessing.PolynomialFeatures(degree=2, interaction_only=False, include_bias=False))\n",
    "    )),\n",
    "    (\"diff\", pipeline.make_pipeline(\n",
    "        DataFrameSelector(list(set(train.data.columns).difference(train.featureType[\"numeric\"]))),\n",
    "    )),\n",
    "])\n",
    "\n",
    "train.data = polynomialPipe.fit_transform(train.data)\n",
    "valid.data = polynomialPipe.transform(valid.data)\n",
    "\n",
    "train.featureTypeUpdate()\n",
    "valid.featureTypeUpdate()"
   ]
  },
  {
   "cell_type": "markdown",
   "metadata": {},
   "source": [
    "### Skew"
   ]
  },
  {
   "cell_type": "markdown",
   "metadata": {},
   "source": [
    "<a id = 'Skew'></a>"
   ]
  },
  {
   "cell_type": "markdown",
   "metadata": {},
   "source": [
    "##### Training"
   ]
  },
  {
   "cell_type": "code",
   "execution_count": null,
   "metadata": {
    "ExecuteTime": {
     "end_time": "2019-07-20T21:36:33.927522Z",
     "start_time": "2019-07-20T21:36:33.888125Z"
    },
    "scrolled": true
   },
   "outputs": [],
   "source": [
    "# evaluate skew of numeric features - training data\n",
    "train.skewSummary()"
   ]
  },
  {
   "cell_type": "markdown",
   "metadata": {},
   "source": [
    "##### Validation"
   ]
  },
  {
   "cell_type": "code",
   "execution_count": null,
   "metadata": {
    "ExecuteTime": {
     "end_time": "2019-07-20T21:36:33.972762Z",
     "start_time": "2019-07-20T21:36:33.931818Z"
    },
    "scrolled": true
   },
   "outputs": [],
   "source": [
    "# evaluate skew of numeric features - validation data\n",
    "valid.skewSummary()"
   ]
  },
  {
   "cell_type": "markdown",
   "metadata": {},
   "source": [
    "##### Transform"
   ]
  },
  {
   "cell_type": "code",
   "execution_count": null,
   "metadata": {
    "ExecuteTime": {
     "end_time": "2019-07-20T21:36:34.108579Z",
     "start_time": "2019-07-20T21:36:33.975912Z"
    }
   },
   "outputs": [],
   "source": [
    "# skew pipeline\n",
    "skewPipe = PandasFeatureUnion([\n",
    "    (\"skew\", pipeline.make_pipeline(\n",
    "        DataFrameSelector(train.featureType[\"numeric\"]),\n",
    "        DualTransformer(),\n",
    "    )),\n",
    "    (\"diff\", pipeline.make_pipeline(\n",
    "        DataFrameSelector(list(set(train.data.columns).difference(train.featureType[\"numeric\"]))),\n",
    "    )),\n",
    "])\n",
    "\n",
    "train.data = skewPipe.fit_transform(train.data)\n",
    "valid.data = skewPipe.transform(valid.data)\n",
    "\n",
    "train.featureTypeUpdate()\n",
    "valid.featureTypeUpdate()"
   ]
  },
  {
   "cell_type": "markdown",
   "metadata": {},
   "source": [
    "### Scale"
   ]
  },
  {
   "cell_type": "markdown",
   "metadata": {},
   "source": [
    "<a id = 'Scale'></a>"
   ]
  },
  {
   "cell_type": "markdown",
   "metadata": {},
   "source": [
    "##### Transformation"
   ]
  },
  {
   "cell_type": "code",
   "execution_count": null,
   "metadata": {},
   "outputs": [],
   "source": [
    "# scale pipeline\n",
    "scalePipe = PandasFeatureUnion([\n",
    "    (\"scale\", pipeline.make_pipeline(\n",
    "        DataFrameSelector(train.featureType[\"numeric\"]),\n",
    "        PlayWithPandas(preprocessing.StandardScaler())\n",
    "    )),\n",
    "    (\"diff\", pipeline.make_pipeline(\n",
    "        DataFrameSelector(list(set(train.data.columns).difference(train.featureType[\"numeric\"]))),\n",
    "    )),\n",
    "])\n",
    "\n",
    "train.data = scalePipe.fit_transform(train.data)\n",
    "valid.data = scalePipe.transform(valid.data)\n",
    "\n",
    "train.featureTypeUpdate()\n",
    "valid.featureTypeUpdate()"
   ]
  },
  {
   "cell_type": "markdown",
   "metadata": {
    "heading_collapsed": true
   },
   "source": [
    "## Outliers\n"
   ]
  },
  {
   "cell_type": "markdown",
   "metadata": {
    "hidden": true
   },
   "source": [
    "<a id = 'Outliers'></a>"
   ]
  },
  {
   "cell_type": "code",
   "execution_count": null,
   "metadata": {
    "hidden": true
   },
   "outputs": [],
   "source": [
    "# identify outliers using IQR\n",
    "trainPipe = pipeline.Pipeline([\n",
    "    (\"outlier\",train.OutlierIQR(\n",
    "                outlierCount=5,\n",
    "                iqrStep=1.5,\n",
    "                features=train.featureType[\"numeric\"],\n",
    "                dropOutliers=False,))\n",
    "    ])\n",
    "train.data = trainPipe.transform(train.data)\n",
    "\n",
    "# capture outliers\n",
    "iqrOutliers = np.array(sorted(trainPipe.named_steps[\"outlier\"].outliers_))\n",
    "print(iqrOutliers)"
   ]
  },
  {
   "cell_type": "code",
   "execution_count": null,
   "metadata": {
    "hidden": true
   },
   "outputs": [],
   "source": [
    "# identify outliers using Isolation Forest\n",
    "clf = ensemble.IsolationForest(\n",
    "    behaviour=\"new\", max_samples=train.data.shape[0], random_state=0, contamination=0.01\n",
    ")\n",
    "clf.fit(train.data[train.data.columns])\n",
    "preds = clf.predict(train.data[train.data.columns])\n",
    "\n",
    "# evaluate index values\n",
    "mask = np.isin(preds, -1)\n",
    "ifOutliers = np.array(train.data[mask].index)\n",
    "print(ifOutliers)"
   ]
  },
  {
   "cell_type": "code",
   "execution_count": null,
   "metadata": {
    "hidden": true
   },
   "outputs": [],
   "source": [
    "# identify outliers using extended isolation forest\n",
    "trainPipe = pipeline.Pipeline([\n",
    "    (\"outlier\",train.ExtendedIsoForest(\n",
    "                cols=train.featureType[\"numeric\"],\n",
    "                nTrees=100,\n",
    "                sampleSize=int(np.ceil(train.data.shape[0] * .25)),\n",
    "                ExtensionLevel=1,\n",
    "                anomaliesRatio=0.03,\n",
    "                dropOutliers=False,))\n",
    "    ])\n",
    "train.data = trainPipe.transform(train.data)\n",
    "\n",
    "# capture outliers\n",
    "eifOutliers = np.array(sorted(trainPipe.named_steps[\"outlier\"].outliers_))\n",
    "print(eifOutliers)"
   ]
  },
  {
   "cell_type": "code",
   "execution_count": null,
   "metadata": {
    "ExecuteTime": {
     "end_time": "2019-07-20T21:36:39.350224Z",
     "start_time": "2019-07-20T21:36:39.335392Z"
    },
    "hidden": true
   },
   "outputs": [],
   "source": [
    "# identify outliers that are identified in multiple algorithms\n",
    "outliers = reduce(np.intersect1d, (iqrOutliers, ifOutliers, eifOutliers))\n",
    "# outliers = reduce(np.intersect1d, (ifOutliers, eifOutliers))\n",
    "print(outliers)"
   ]
  },
  {
   "cell_type": "code",
   "execution_count": null,
   "metadata": {
    "hidden": true,
    "scrolled": true
   },
   "outputs": [],
   "source": [
    "# review outlier identification summary\n",
    "outlierSummary = train.outlierSummary(iqrOutliers=iqrOutliers,\n",
    "                             ifOutliers=ifOutliers,\n",
    "                             eifOutliers=eifOutliers\n",
    "                            )\n",
    "outlierSummary[outlierSummary[\"Count\"] >= 3]"
   ]
  },
  {
   "cell_type": "code",
   "execution_count": null,
   "metadata": {
    "hidden": true
   },
   "outputs": [],
   "source": [
    "# remove outlers from predictors and response\n",
    "outliers = np.array([59,121])\n",
    "train.data = train.data.drop(outliers)\n",
    "train.target = train.target.drop(index=outliers)"
   ]
  },
  {
   "cell_type": "markdown",
   "metadata": {
    "heading_collapsed": true
   },
   "source": [
    "# Feature importance"
   ]
  },
  {
   "cell_type": "markdown",
   "metadata": {
    "hidden": true
   },
   "source": [
    "<a id = 'Feature-importance'></a>"
   ]
  },
  {
   "cell_type": "code",
   "execution_count": null,
   "metadata": {
    "ExecuteTime": {
     "end_time": "2019-07-20T21:36:39.454739Z",
     "start_time": "2019-07-20T21:36:39.374063Z"
    },
    "hidden": true
   },
   "outputs": [],
   "source": [
    "# generate feature importance summary\n",
    "estimators = [\n",
    "    \"lightgbm.LGBMClassifier\",\n",
    "    \"ensemble.RandomForestClassifier\",\n",
    "    \"ensemble.GradientBoostingClassifier\",\n",
    "    \"ensemble.ExtraTreesClassifier\",\n",
    "    \"ensemble.AdaBoostClassifier\",\n",
    "    \"xgboost.XGBClassifier\",\n",
    "]\n",
    "\n",
    "fs = train.FeatureSelector(\n",
    "    data=train.data, target=train.target, estimators=estimators, rank=True\n",
    ")\n",
    "fs.featureSelectorSummary()"
   ]
  },
  {
   "cell_type": "code",
   "execution_count": null,
   "metadata": {
    "hidden": true
   },
   "outputs": [],
   "source": [
    "# calculate cross-validation performance\n",
    "estimators = [\n",
    "    \"svm.SVC\",\n",
    "    \"lightgbm.LGBMClassifier\",\n",
    "    \"linear_model.LogisticRegression\",\n",
    "    \"xgboost.XGBClassifier\",\n",
    "    \"ensemble.RandomForestClassifier\",\n",
    "    \"ensemble.GradientBoostingClassifier\",\n",
    "    \"ensemble.AdaBoostClassifier\",\n",
    "    \"ensemble.ExtraTreesClassifier\",\n",
    "    \"neighbors.KNeighborsClassifier\",\n",
    "]\n",
    "\n",
    "cvSummary = fs.featureSelectorCrossVal(\n",
    "    metrics=[\"accuracy\",\"f1_macro\",\"roc_auc\"],\n",
    "    nFolds=8,\n",
    "    step=1\n",
    ")"
   ]
  },
  {
   "cell_type": "markdown",
   "metadata": {
    "hidden": true
   },
   "source": [
    "###### Accuracy"
   ]
  },
  {
   "cell_type": "code",
   "execution_count": null,
   "metadata": {
    "hidden": true
   },
   "outputs": [],
   "source": [
    "# visualize CV performance for diminishing feature set\n",
    "fs.featureSelectorResultsPlot(\n",
    "    metric=\"accuracy\",\n",
    "    titleScale=0.8,\n",
    ")"
   ]
  },
  {
   "cell_type": "code",
   "execution_count": null,
   "metadata": {
    "hidden": true,
    "scrolled": true
   },
   "outputs": [],
   "source": [
    "df = fs.featuresUsedSummary(metric=\"accuracy\")\n",
    "df"
   ]
  },
  {
   "cell_type": "code",
   "execution_count": null,
   "metadata": {
    "hidden": true
   },
   "outputs": [],
   "source": [
    "# list feature that showed up in at least X models\n",
    "df[df[\"count\"] >= 7].index"
   ]
  },
  {
   "cell_type": "markdown",
   "metadata": {
    "hidden": true
   },
   "source": [
    "###### ROC AUC"
   ]
  },
  {
   "cell_type": "code",
   "execution_count": null,
   "metadata": {
    "hidden": true
   },
   "outputs": [],
   "source": [
    "# visualize CV performance for diminishing feature set\n",
    "fs.featureSelectorResultsPlot(\n",
    "    metric=\"roc_auc,\n",
    "    titleScale=0.8,\n",
    ")"
   ]
  },
  {
   "cell_type": "code",
   "execution_count": null,
   "metadata": {
    "hidden": true,
    "scrolled": true
   },
   "outputs": [],
   "source": [
    "df = fs.featuresUsedSummary(metric=\"roc_auc\")\n",
    "df"
   ]
  },
  {
   "cell_type": "code",
   "execution_count": null,
   "metadata": {
    "hidden": true
   },
   "outputs": [],
   "source": [
    "# list feature that showed up in at least X models\n",
    "df[df[\"count\"] >= 7].index"
   ]
  },
  {
   "cell_type": "markdown",
   "metadata": {
    "hidden": true
   },
   "source": [
    "###### F1 macro"
   ]
  },
  {
   "cell_type": "code",
   "execution_count": null,
   "metadata": {
    "hidden": true
   },
   "outputs": [],
   "source": [
    "# visualize CV performance for diminishing feature set\n",
    "fs.featureSelectorResultsPlot(\n",
    "    metric=\"f1_macro\",\n",
    "    titleScale=0.8,\n",
    ")"
   ]
  },
  {
   "cell_type": "code",
   "execution_count": null,
   "metadata": {
    "hidden": true,
    "scrolled": true
   },
   "outputs": [],
   "source": [
    "df = fs.featuresUsedSummary(metric=\"f1_macro\")\n",
    "df"
   ]
  },
  {
   "cell_type": "code",
   "execution_count": null,
   "metadata": {
    "hidden": true
   },
   "outputs": [],
   "source": [
    "# list feature that showed up in at least X models\n",
    "df[df[\"count\"] >= 7].index"
   ]
  },
  {
   "cell_type": "markdown",
   "metadata": {},
   "source": [
    "# Modeling"
   ]
  },
  {
   "cell_type": "markdown",
   "metadata": {},
   "source": [
    "<a id = 'Modeling'></a>"
   ]
  },
  {
   "cell_type": "markdown",
   "metadata": {},
   "source": [
    "## Data preparation"
   ]
  },
  {
   "cell_type": "markdown",
   "metadata": {},
   "source": [
    "<a id = 'Data-preparation-1'></a>"
   ]
  },
  {
   "cell_type": "code",
   "execution_count": null,
   "metadata": {
    "code_folding": [
     7
    ]
   },
   "outputs": [],
   "source": [
    "#################################################################################\n",
    "# import data\n",
    "data = pd.read_csv(\"s3://tdp-ml-datasets/misc/wine.data\", header=None)\n",
    "\n",
    "data.columns = [\n",
    "    \"Class label\",\n",
    "    \"Alcohol\",\n",
    "    \"Malic acid\",\n",
    "    \"Ash\",\n",
    "    \"Alcalinity of ash\",\n",
    "    \"Magnesium\",\n",
    "    \"Total phenols\",\n",
    "    \"Flavanoids\",\n",
    "    \"Nonflavanoid phenols\",\n",
    "    \"Proanthocyanins\",\n",
    "    \"Color intensity\",\n",
    "    \"Hue\",\n",
    "    \"OD280/OD315 of diluted wines\",\n",
    "    \"Proline\",\n",
    "]\n",
    "\n",
    "# create training and validation datasets\n",
    "dfTrain, dfValid = mlm.trainTestCompile(data=data, targetCol='Class label')\n",
    "\n",
    "# load training data object\n",
    "train = mlm.Machine(\n",
    "    data=dfTrain,\n",
    "    target=\"Class label\",\n",
    "    targetType=\"categorical\",\n",
    ")\n",
    "\n",
    "# load valid data object\n",
    "valid = mlm.Machine(\n",
    "    data=dfValid,\n",
    "    target=\"Class label\",\n",
    "    targetType=\"categorical\",\n",
    ")\n",
    "\n",
    "#################################################################################\n",
    "# feature transformation pipeline\n",
    "transformPipe = PandasFeatureUnion([\n",
    "    (\"numeric\", pipeline.make_pipeline(\n",
    "        DataFrameSelector(train.featureType[\"numeric\"]),\n",
    "        PlayWithPandas(preprocessing.PolynomialFeatures(degree=2, interaction_only=False, include_bias=False)),\n",
    "        DualTransformer(),\n",
    "        PlayWithPandas(preprocessing.StandardScaler()),\n",
    "    )),\n",
    "])\n",
    "\n",
    "train.data = transformPipe.fit_transform(train.data)\n",
    "valid.data = transformPipe.transform(valid.data)\n",
    "\n",
    "train.featureTypeUpdate()\n",
    "valid.featureTypeUpdate()\n",
    "\n",
    "#################################################################################\n",
    "# remove outliers\n",
    "outliers = np.array([59,121])\n",
    "train.data = train.data.drop(outliers)\n",
    "train.target = train.target.drop(index=outliers)"
   ]
  },
  {
   "cell_type": "markdown",
   "metadata": {},
   "source": [
    "## Bayesian hyper-parameter optimization"
   ]
  },
  {
   "cell_type": "markdown",
   "metadata": {},
   "source": [
    "<a id = 'Bayesian-hyper-parameter-optimization'></a>"
   ]
  },
  {
   "cell_type": "code",
   "execution_count": null,
   "metadata": {
    "ExecuteTime": {
     "end_time": "2019-07-20T21:36:41.216961Z",
     "start_time": "2019-07-20T21:36:41.167069Z"
    },
    "code_folding": [
     1
    ]
   },
   "outputs": [],
   "source": [
    "# model/parameter space\n",
    "allSpace = {\n",
    "    \"lightgbm.LGBMClassifier\": {\n",
    "        \"class_weight\": hp.choice(\"class_weight\", [None, \"balanced\"]),\n",
    "        \"colsample_bytree\": hp.uniform(\"colsample_bytree\", 0.5, 1.0),\n",
    "        \"boosting_type\": hp.choice(\"boosting_type\", [\"gbdt\", \"dart\", \"goss\"])\n",
    "        # ,'boosting_type': hp.choice('boosting_type'\n",
    "        #                    ,[{'boosting_type': 'gbdt', 'subsample': hp.uniform('gdbt_subsample', 0.5, 1)}\n",
    "        #                    ,{'boosting_type': 'dart', 'subsample': hp.uniform('dart_subsample', 0.5, 1)}\n",
    "        #                    ,{'boosting_type': 'goss', 'subsample': 1.0}])\n",
    "        ,\n",
    "        \"learning_rate\": hp.uniform(\"learning_rate\", 0.000001, 0.2),\n",
    "        \"max_depth\": hp.choice(\"max_depth\", np.arange(2, 20, dtype=int)),\n",
    "        \"min_child_samples\": hp.uniform(\"min_child_samples\", 20, 500),\n",
    "        \"n_estimators\": hp.choice(\"n_estimators\", np.arange(100, 10000, 10, dtype=int)),\n",
    "        \"num_leaves\": hp.uniform(\"num_leaves\", 8, 150),\n",
    "        \"reg_alpha\": hp.uniform(\"reg_alpha\", 0.0, 1.0),\n",
    "        \"reg_lambda\": hp.uniform(\"reg_lambda\", 0.0, 1.0),\n",
    "        \"subsample_for_bin\": hp.uniform(\"subsample_for_bin\", 20000, 400000),\n",
    "    },\n",
    "    \"linear_model.LogisticRegression\": {\n",
    "        \"C\": hp.loguniform(\"C\", np.log(0.001), np.log(0.2)),\n",
    "        \"penalty\": hp.choice(\"penalty\", [\"l1\", \"l2\"]),\n",
    "    },\n",
    "    \"xgboost.XGBClassifier\": {\n",
    "        \"colsample_bytree\": hp.uniform(\"colsample_bytree\", 0.5, 1.0),\n",
    "        \"gamma\": hp.uniform(\"gamma\", 0.0, 10),\n",
    "        \"learning_rate\": hp.uniform(\"learning_rate\", 0.000001, 0.2),\n",
    "        \"max_depth\": hp.choice(\"max_depth\", np.arange(2, 20, dtype=int)),\n",
    "        \"min_child_weight\": hp.uniform(\"min_child_weight\", 1, 20),\n",
    "        \"n_estimators\": hp.choice(\"n_estimators\", np.arange(100, 10000, 10, dtype=int)),\n",
    "        \"subsample\": hp.uniform(\"subsample\", 0.5, 1),\n",
    "    },\n",
    "    \"ensemble.RandomForestClassifier\": {\n",
    "        \"bootstrap\": hp.choice(\"bootstrap\", [True, False]),\n",
    "        \"max_depth\": hp.choice(\"max_depth\", np.arange(2, 20, dtype=int)),\n",
    "        \"n_estimators\": hp.choice(\"n_estimators\", np.arange(100, 10000, 10, dtype=int)),\n",
    "        \"max_features\": hp.choice(\"max_features\", [\"auto\", \"sqrt\"]),\n",
    "        \"min_samples_split\": hp.choice(\n",
    "            \"min_samples_split\", np.arange(2, 40, dtype=int)\n",
    "        ),\n",
    "        \"min_samples_leaf\": hp.choice(\"min_samples_leaf\", np.arange(2, 40, dtype=int)),\n",
    "    },\n",
    "    \"ensemble.AdaBoostClassifier\": {\n",
    "        \"n_estimators\": hp.choice(\"n_estimators\", np.arange(100, 10000, 10, dtype=int)),\n",
    "        \"learning_rate\": hp.uniform(\"learning_rate\", 0.000001, 0.2),\n",
    "        \"algorithm\": hp.choice(\"algorithm\", [\"SAMME\", \"SAMME.R\"]),\n",
    "    },\n",
    "    \"ensemble.ExtraTreesClassifier\": {\n",
    "        \"n_estimators\": hp.choice(\"n_estimators\", np.arange(100, 10000, 10, dtype=int)),\n",
    "        \"max_depth\": hp.choice(\"max_depth\", np.arange(2, 20, dtype=int)),\n",
    "        \"min_samples_split\": hp.choice(\n",
    "            \"min_samples_split\", np.arange(2, 40, dtype=int)\n",
    "        ),\n",
    "        \"min_samples_leaf\": hp.choice(\"min_samples_leaf\", np.arange(2, 40, dtype=int)),\n",
    "        \"max_features\": hp.choice(\"max_features\", [\"auto\", \"sqrt\"]),\n",
    "        \"criterion\": hp.choice(\"criterion\", [\"gini\", \"entropy\"]),\n",
    "    },\n",
    "    \"svm.SVC\": {\n",
    "        \"C\": hp.uniform(\"C\", 0.00001, 10),\n",
    "        \"decision_function_shape\": hp.choice(\"decision_function_shape\", [\"ovo\", \"ovr\"]),\n",
    "        \"gamma\": hp.uniform(\"gamma\", 0.00001, 10),\n",
    "    },\n",
    "    \"neighbors.KNeighborsClassifier\": {\n",
    "        \"algorithm\": hp.choice(\"algorithm\", [\"auto\", \"ball_tree\", \"kd_tree\", \"brute\"]),\n",
    "        \"n_neighbors\": hp.choice(\"n_neighbors\", np.arange(1, 20, dtype=int)),\n",
    "        \"weights\": hp.choice(\"weights\", [\"distance\", \"uniform\"]),\n",
    "    },\n",
    "}"
   ]
  },
  {
   "cell_type": "code",
   "execution_count": null,
   "metadata": {
    "ExecuteTime": {
     "end_time": "2019-07-20T06:10:48.964508Z",
     "start_time": "2019-07-20T04:43:54.172908Z"
    },
    "scrolled": true
   },
   "outputs": [],
   "source": [
    "# execute bayesian optimization grid search\n",
    "analysis = \"wine\"\n",
    "train.execBayesOptimSearch(\n",
    "    allSpace=allSpace,\n",
    "    resultsDir=\"{}_hyperopt_{}.csv\".format(rundate, analysis),\n",
    "    X=train.data,\n",
    "    y=train.target,\n",
    "    scoring=\"accuracy\",\n",
    "    nFolds=2,\n",
    "    nJobs=3,\n",
    "    iters=8,\n",
    "    verbose=0,\n",
    ")"
   ]
  },
  {
   "cell_type": "markdown",
   "metadata": {},
   "source": [
    "##### Model loss by iteration"
   ]
  },
  {
   "cell_type": "code",
   "execution_count": null,
   "metadata": {
    "ExecuteTime": {
     "end_time": "2019-07-20T21:36:54.668306Z",
     "start_time": "2019-07-20T21:36:54.259967Z"
    }
   },
   "outputs": [],
   "source": [
    "# read scores summary table\n",
    "analysis = \"wine\"\n",
    "rundate = '20190808'\n",
    "bayesOptimSummary = pd.read_csv(\"{}_hyperopt_{}.csv\".format(rundate, analysis), na_values=\"nan\")\n",
    "bayesOptimSummary[:5]"
   ]
  },
  {
   "cell_type": "code",
   "execution_count": null,
   "metadata": {
    "ExecuteTime": {
     "end_time": "2019-07-20T21:30:59.839867Z",
     "start_time": "2019-07-20T21:30:54.281216Z"
    },
    "scrolled": false
   },
   "outputs": [],
   "source": [
    "# model loss plot\n",
    "for estimator in np.unique(bayesOptimSummary[\"estimator\"]):\n",
    "    train.modelLossPlot(bayesOptimSummary=bayesOptimSummary, estimator=estimator)"
   ]
  },
  {
   "cell_type": "markdown",
   "metadata": {},
   "source": [
    "##### Parameter selection by iteration"
   ]
  },
  {
   "cell_type": "code",
   "execution_count": null,
   "metadata": {
    "ExecuteTime": {
     "end_time": "2019-07-19T01:47:36.876677Z",
     "start_time": "2019-07-19T01:47:23.026068Z"
    },
    "scrolled": false
   },
   "outputs": [],
   "source": [
    "# estimator parameter plots\n",
    "for estimator in np.unique(bayesOptimSummary['estimator']):\n",
    "    train.modelParamPlot(bayesOptimSummary = bayesOptimSummary,\n",
    "                         estimator=estimator,\n",
    "                         allSpace=allSpace,\n",
    "                         nIter=100,\n",
    "                         chartProp=15)"
   ]
  },
  {
   "cell_type": "code",
   "execution_count": null,
   "metadata": {
    "ExecuteTime": {
     "end_time": "2019-07-18T04:23:45.411641Z",
     "start_time": "2019-07-18T04:23:44.926648Z"
    }
   },
   "outputs": [],
   "source": [
    "sampleSpace = {\n",
    "                'param': hp.uniform('param', np.log(0.4), np.log(0.6))\n",
    "#     \"\": 0.000001 + hp.uniform(\"gamma\", 0.000001, 10)\n",
    "    #             'param2': hp.loguniform('param2', np.log(0.001), np.log(0.01))\n",
    "}\n",
    "\n",
    "train.samplePlot(sampleSpace, 1000)"
   ]
  },
  {
   "cell_type": "markdown",
   "metadata": {},
   "source": [
    "## Model performance evaluation - standard models"
   ]
  },
  {
   "cell_type": "markdown",
   "metadata": {},
   "source": [
    "<a id = 'Model-performance-evaluation-standard-models'></a>"
   ]
  },
  {
   "cell_type": "code",
   "execution_count": null,
   "metadata": {
    "ExecuteTime": {
     "end_time": "2019-07-20T21:36:59.047576Z",
     "start_time": "2019-07-20T21:36:59.013711Z"
    }
   },
   "outputs": [],
   "source": [
    "topModels = train.topBayesOptimModels(bayesOptimSummary=bayesOptimSummary, numModels=1)\n",
    "topModels"
   ]
  },
  {
   "cell_type": "code",
   "execution_count": null,
   "metadata": {
    "ExecuteTime": {
     "end_time": "2019-07-20T21:37:19.341306Z",
     "start_time": "2019-07-20T21:37:02.406940Z"
    },
    "scrolled": true
   },
   "outputs": [],
   "source": [
    "# classification panel, single model\n",
    "estimator = \"svm.SVC\"; modelIter = 66\n",
    "# estimator = 'ensemble.GradientBoostingClassifier'; modelIter = 590\n",
    "# estimator = 'xgboost.XGBClassifier'; modelIter = 380\n",
    "\n",
    "model = train.BayesOptimModelBuilder(\n",
    "    bayesOptimSummary=bayesOptimSummary, estimator=estimator, modelIter=modelIter\n",
    ")\n",
    "\n",
    "train.classificationPanel(\n",
    "    model=model, XTrain=train.data, yTrain=train.target, labels=[0, 1], nFolds=4\n",
    ")"
   ]
  },
  {
   "cell_type": "code",
   "execution_count": null,
   "metadata": {},
   "outputs": [],
   "source": [
    "# create classification reports\n",
    "for estimator, modelIters in topModels.items():\n",
    "    for modelIter in modelIters:\n",
    "        model = train.BayesOptimModelBuilder(\n",
    "            bayesOptimSummary=bayesOptimSummary,\n",
    "            estimator=estimator,\n",
    "            modelIter=modelIter,\n",
    "        )\n",
    "        train.classificationPanel(\n",
    "            model=model, XTrain=train.data, yTrain=train.target, labels=[0, 1], nFolds=4\n",
    "        )"
   ]
  },
  {
   "cell_type": "markdown",
   "metadata": {},
   "source": [
    "## Validation set evaluation - standard models"
   ]
  },
  {
   "cell_type": "markdown",
   "metadata": {},
   "source": [
    "<a id = 'Validation-set-evaluation-standard-models'></a>"
   ]
  },
  {
   "cell_type": "code",
   "execution_count": null,
   "metadata": {},
   "outputs": [],
   "source": [
    "## standard model fit and predict\n",
    "# select estimator and iteration\n",
    "# estimator = \"lightgbm.LGBMClassifier\"; modelIter = 476\n",
    "estimator = \"xgboost.XGBClassifier\"; modelIter = 418\n",
    "# estimator = \"ensemble.RandomForestClassifier\"; modelIter = 382\n",
    "# estimator = \"ensemble.GradientBoostingClassifier\"; modelIter = 238\n",
    "# estimator = \"svm.SVC\"; modelIter = 135\n",
    "\n",
    "# extract params and instantiate model\n",
    "model = train.BayesOptimModelBuilder(\n",
    "    bayesOptimSummary=bayesOptimSummary, estimator=estimator, modelIter=modelIter\n",
    ")\n",
    "\n",
    "# classification panel for validation data\n",
    "train.classificationPanel(\n",
    "    model=model,\n",
    "    XTrain=train.data,\n",
    "    yTrain=train.target,\n",
    "    XValid=valid.data,\n",
    "    yValid=valid.target,\n",
    "    labels=[0, 1],\n",
    ")"
   ]
  },
  {
   "cell_type": "code",
   "execution_count": null,
   "metadata": {},
   "outputs": [],
   "source": [
    "# create classification reports\n",
    "for estimator, modelIters in topModels.items():\n",
    "    for modelIter in modelIters:\n",
    "        model = train.BayesOptimModelBuilder(\n",
    "            bayesOptimSummary=bayesOptimSummary,\n",
    "            estimator=estimator,\n",
    "            modelIter=modelIter,\n",
    "        )\n",
    "        train.classificationPanel(\n",
    "            model=model,\n",
    "            XTrain=train.data,\n",
    "            yTrain=train.target,\n",
    "            XValid=valid.data,\n",
    "            yValid=valid.target,\n",
    "            labels=[0, 1],\n",
    "        )"
   ]
  },
  {
   "cell_type": "markdown",
   "metadata": {},
   "source": [
    "## Model explanability"
   ]
  },
  {
   "cell_type": "markdown",
   "metadata": {},
   "source": [
    "<a id = 'Feature-importance'></a>"
   ]
  },
  {
   "cell_type": "code",
   "execution_count": null,
   "metadata": {},
   "outputs": [],
   "source": [
    "# \n",
    "estimator = \"ensemble.ExtraTreesClassifier\"; modelIter = 145\n",
    "\n",
    "modelE = train.BayesOptimModelBuilder(\n",
    "    bayesOptimSummary=bayesOptimSummary, estimator=estimator, modelIter=modelIter\n",
    ")\n",
    "\n",
    "modelE.fit(train.data.values, train.target.values)"
   ]
  },
  {
   "cell_type": "markdown",
   "metadata": {},
   "source": [
    "##### Permutation importance"
   ]
  },
  {
   "cell_type": "code",
   "execution_count": null,
   "metadata": {
    "ExecuteTime": {
     "end_time": "2019-07-01T02:02:16.726938Z",
     "start_time": "2019-07-01T02:02:15.740Z"
    }
   },
   "outputs": [],
   "source": [
    "# permutation importance - how much does performance decrease when shuffling a certain feature?\n",
    "perm = PermutationImportance(modelR.model, random_state=1).fit(train.data, train.target)\n",
    "eli5.show_weights(perm, feature_names=featureNames)"
   ]
  },
  {
   "cell_type": "markdown",
   "metadata": {},
   "source": [
    "##### Partial plots"
   ]
  },
  {
   "cell_type": "code",
   "execution_count": null,
   "metadata": {
    "ExecuteTime": {
     "end_time": "2019-07-01T02:02:16.728503Z",
     "start_time": "2019-07-01T02:02:15.747Z"
    }
   },
   "outputs": [],
   "source": [
    "for feature in featureNames:\n",
    "    pdpFeature = pdp.pdp_isolate(\n",
    "        model=modelR.model, dataset=train.data, model_features=featureNames, feature=feature\n",
    "    )\n",
    "\n",
    "    pdp.pdp_plot(pdpFeature, feature)\n",
    "    plt.rcParams[\"axes.facecolor\"] = \"white\"\n",
    "    plt.rcParams[\"figure.facecolor\"] = \"white\"\n",
    "\n",
    "    plt.grid(b=None)\n",
    "    plt.show()"
   ]
  },
  {
   "cell_type": "markdown",
   "metadata": {},
   "source": [
    "##### SHAP values - training data"
   ]
  },
  {
   "cell_type": "markdown",
   "metadata": {},
   "source": [
    "###### Force plots - single observations"
   ]
  },
  {
   "cell_type": "code",
   "execution_count": null,
   "metadata": {
    "ExecuteTime": {
     "end_time": "2019-07-01T02:02:16.735337Z",
     "start_time": "2019-07-01T02:02:15.771Z"
    }
   },
   "outputs": [],
   "source": [
    "for i in np.arange(0, 4):\n",
    "    train.singleShapVizTree(obsIx=i, model=modelR, data=train.data)"
   ]
  },
  {
   "cell_type": "markdown",
   "metadata": {},
   "source": [
    "###### Force plots - multiple observations"
   ]
  },
  {
   "cell_type": "code",
   "execution_count": null,
   "metadata": {
    "ExecuteTime": {
     "end_time": "2019-07-01T02:02:16.737217Z",
     "start_time": "2019-07-01T02:02:15.778Z"
    }
   },
   "outputs": [],
   "source": [
    "visual = train.multiShapVizTree(obsIxs=np.arange(0, 800), model=modelR, data=train.data)\n",
    "visual"
   ]
  },
  {
   "cell_type": "markdown",
   "metadata": {},
   "source": [
    "###### Dependence plots"
   ]
  },
  {
   "cell_type": "code",
   "execution_count": null,
   "metadata": {
    "ExecuteTime": {
     "end_time": "2019-07-01T02:02:16.738957Z",
     "start_time": "2019-07-01T02:02:15.784Z"
    }
   },
   "outputs": [],
   "source": [
    "obsData, _, obsShapValues = train.multiShapValueTree(\n",
    "    obsIxs=np.arange(0, 800), model=modelR, data=train.data\n",
    ")\n",
    "train.shapDependencePlot(\n",
    "    obsData=obsData,\n",
    "    obsShapValues=obsShapValues,\n",
    "    scatterFeature=\"Fare\",\n",
    "    colorFeature=\"Age\",\n",
    "    featureNames=train.data.columns.tolist(),\n",
    ")"
   ]
  },
  {
   "cell_type": "code",
   "execution_count": null,
   "metadata": {},
   "outputs": [],
   "source": [
    "obsData, _, obsShapValues = train.multiShapValueTree(\n",
    "    obsIxs=np.arange(0, 800), model=modelL, data=train.data\n",
    ")\n",
    "featureNames = train.data.columns.tolist()\n",
    "topShap = np.argsort(-np.sum(np.abs(obsShapValues), 0))\n",
    "\n",
    "# generate force plot\n",
    "for topIx in topShap:\n",
    "    train.shapDependencePlot(\n",
    "        obsData=obsData,\n",
    "        obsShapValues=obsShapValues,\n",
    "        scatterFeature=featureNames[topIx],\n",
    "        colorFeature=\"Age\",\n",
    "        featureNames=featureNames,\n",
    "    )"
   ]
  },
  {
   "cell_type": "markdown",
   "metadata": {},
   "source": [
    "###### Summary plots"
   ]
  },
  {
   "cell_type": "code",
   "execution_count": null,
   "metadata": {
    "ExecuteTime": {
     "end_time": "2019-07-01T02:02:16.740929Z",
     "start_time": "2019-07-01T02:02:15.789Z"
    }
   },
   "outputs": [],
   "source": [
    "obsData, _, obsShapValues = train.multiShapValueTree(\n",
    "    obsIxs=np.arange(0, 800), model=modelG, data=train.data\n",
    ")\n",
    "featureNames = train.data.columns.tolist()\n",
    "train.shapSummaryPlot(\n",
    "        obsData=obsData,\n",
    "        obsShapValues=obsShapValues,\n",
    "        featureNames=featureNames,\n",
    "    )"
   ]
  },
  {
   "cell_type": "markdown",
   "metadata": {},
   "source": [
    "# Stacking"
   ]
  },
  {
   "cell_type": "markdown",
   "metadata": {},
   "source": [
    "<a id = 'Stacking'></a>"
   ]
  },
  {
   "cell_type": "markdown",
   "metadata": {},
   "source": [
    "## Primary models"
   ]
  },
  {
   "cell_type": "markdown",
   "metadata": {},
   "source": [
    "<a id = 'Primary-models'></a>"
   ]
  },
  {
   "cell_type": "code",
   "execution_count": null,
   "metadata": {},
   "outputs": [],
   "source": [
    "# get out-of-fold predictions\n",
    "oofTrain, oofValid, columns = train.modelStacker(\n",
    "    models=topModels,\n",
    "    bayesOptimSummary=bayesOptimSummary,\n",
    "    XTrain=train.data.values,\n",
    "    yTrain=train.target.values,\n",
    "    XValid=valid.data.values,\n",
    "    nFolds=10,\n",
    "    nJobs=10,\n",
    ")"
   ]
  },
  {
   "cell_type": "code",
   "execution_count": null,
   "metadata": {},
   "outputs": [],
   "source": [
    "# view correlations of predictions\n",
    "p = PrettierPlot()\n",
    "ax = p.makeCanvas()\n",
    "p.prettyCorrHeatmap(\n",
    "    df=pd.DataFrame(oofTrain, columns=columns), annot=True, ax=ax, vmin=0\n",
    ")"
   ]
  },
  {
   "cell_type": "markdown",
   "metadata": {},
   "source": [
    "## Meta model"
   ]
  },
  {
   "cell_type": "markdown",
   "metadata": {},
   "source": [
    "<a id = 'Meta-model'></a>"
   ]
  },
  {
   "cell_type": "code",
   "execution_count": null,
   "metadata": {
    "ExecuteTime": {
     "end_time": "2019-07-01T02:02:16.777169Z",
     "start_time": "2019-07-01T02:02:15.841Z"
    },
    "code_folding": [
     1
    ]
   },
   "outputs": [],
   "source": [
    "# parameter space\n",
    "allSpace = {\n",
    "    \"lightgbm.LGBMClassifier\": {\n",
    "        \"class_weight\": hp.choice(\"class_weight\", [None]),\n",
    "        \"colsample_bytree\": hp.uniform(\"colsample_bytree\", 0.4, 0.7),\n",
    "        \"boosting_type\": hp.choice(\"boosting_type\", [\"dart\"]),\n",
    "        \"subsample\": hp.uniform(\"subsample\", 0.5, 1),\n",
    "        \"learning_rate\": hp.uniform(\"learning_rate\", 0.15, 0.25),\n",
    "        \"max_depth\": hp.choice(\"max_depth\", np.arange(4, 20, dtype=int)),\n",
    "        \"min_child_samples\": hp.quniform(\"min_child_samples\", 50, 150, 5),\n",
    "        \"n_estimators\": hp.choice(\"n_estimators\", np.arange(100, 4000, 10, dtype=int)),\n",
    "        \"num_leaves\": hp.quniform(\"num_leaves\", 30, 70, 1),\n",
    "        \"reg_alpha\": hp.uniform(\"reg_alpha\", 0.75, 1.25),\n",
    "        \"reg_lambda\": hp.uniform(\"reg_lambda\", 0.0, 1.0),\n",
    "        \"subsample_for_bin\": hp.quniform(\"subsample_for_bin\", 100000, 350000, 20000),\n",
    "    },\n",
    "    \"xgboost.XGBClassifier\": {\n",
    "        \"colsample_bytree\": hp.uniform(\"colsample_bytree\", 0.4, 0.7),\n",
    "        \"gamma\": hp.quniform(\"gamma\", 0.0, 10, 0.05),\n",
    "        \"learning_rate\": hp.quniform(\"learning_rate\", 0.01, 0.2, 0.01),\n",
    "        \"max_depth\": hp.choice(\"max_depth\", np.arange(2, 15, dtype=int)),\n",
    "        \"min_child_weight\": hp.quniform(\"min_child_weight\", 2.5, 7.5, 1),\n",
    "        \"n_estimators\": hp.choice(\"n_estimators\", np.arange(100, 4000, 10, dtype=int)),\n",
    "        \"subsample\": hp.uniform(\"subsample\", 0.4, 0.7),\n",
    "    },\n",
    "    \"ensemble.RandomForestClassifier\": {\n",
    "        \"bootstrap\": hp.choice(\"bootstrap\", [True, False]),\n",
    "        \"max_depth\": hp.choice(\"max_depth\", np.arange(2, 10, dtype=int)),\n",
    "        \"n_estimators\": hp.choice(\"n_estimators\", np.arange(100, 8000, 10, dtype=int)),\n",
    "        \"max_features\": hp.choice(\"max_features\", [\"sqrt\"]),\n",
    "        \"min_samples_split\": hp.choice(\n",
    "            \"min_samples_split\", np.arange(15, 25, dtype=int)\n",
    "        ),\n",
    "        \"min_samples_leaf\": hp.choice(\"min_samples_leaf\", np.arange(2, 20, dtype=int)),\n",
    "    },\n",
    "    \"ensemble.GradientBoostingClassifier\": {\n",
    "        \"n_estimators\": hp.choice(\"n_estimators\", np.arange(100, 4000, 10, dtype=int)),\n",
    "        \"max_depth\": hp.choice(\"max_depth\", np.arange(2, 11, dtype=int)),\n",
    "        \"max_features\": hp.choice(\"max_features\", [\"sqrt\"]),\n",
    "        \"learning_rate\": hp.quniform(\"learning_rate\", 0.01, 0.09, 0.01),\n",
    "        \"loss\": hp.choice(\"loss\", [\"deviance\", \"exponential\"]),\n",
    "        \"min_samples_split\": hp.choice(\n",
    "            \"min_samples_split\", np.arange(2, 40, dtype=int)\n",
    "        ),\n",
    "        \"min_samples_leaf\": hp.choice(\"min_samples_leaf\", np.arange(2, 40, dtype=int)),\n",
    "    },\n",
    "    \"svm.SVC\": {\n",
    "        \"C\": hp.uniform(\"C\", 0.00000001, 15),\n",
    "        \"decision_function_shape\": hp.choice(\"decision_function_shape\", [\"ovr\", \"ovo\"]),\n",
    "        \"gamma\": hp.uniform(\"gamma\", 0.00000001, 1.5),\n",
    "    },\n",
    "}"
   ]
  },
  {
   "cell_type": "code",
   "execution_count": null,
   "metadata": {
    "ExecuteTime": {
     "end_time": "2019-07-01T02:02:16.779160Z",
     "start_time": "2019-07-01T02:02:15.847Z"
    },
    "scrolled": false
   },
   "outputs": [],
   "source": [
    "# execute bayesian optimization grid search\n",
    "train.execBayesOptimSearch(\n",
    "    allSpace=allSpace,\n",
    "    resultsDir=\"{}_hyperopt_meta_{}.csv\".format(rundate, analysis),\n",
    "    X=oofTrain,\n",
    "    y=train.target,\n",
    "    scoring=\"accuracy\",\n",
    "    nFolds=8,\n",
    "    nJobs=10,\n",
    "    iters=1000,\n",
    "    verbose=0,\n",
    ")"
   ]
  },
  {
   "cell_type": "code",
   "execution_count": null,
   "metadata": {
    "ExecuteTime": {
     "end_time": "2019-07-01T02:02:16.781225Z",
     "start_time": "2019-07-01T02:02:15.853Z"
    }
   },
   "outputs": [],
   "source": [
    "# read scores summary table\n",
    "analysis = \"wine\"\n",
    "rundate = \"20190807\"\n",
    "bayesOptimSummaryMeta = pd.read_csv(\"{}_hyperopt_meta_{}.csv\".format(rundate, analysis))\n",
    "bayesOptimSummaryMeta[:5]"
   ]
  },
  {
   "cell_type": "code",
   "execution_count": null,
   "metadata": {
    "ExecuteTime": {
     "end_time": "2019-07-01T02:02:16.783163Z",
     "start_time": "2019-07-01T02:02:15.858Z"
    }
   },
   "outputs": [],
   "source": [
    "# model loss plot\n",
    "for estimator in np.unique(bayesOptimSummaryMeta[\"estimator\"]):\n",
    "    train.modelLossPlot(bayesOptimSummary=bayesOptimSummaryMeta, estimator=estimator)"
   ]
  },
  {
   "cell_type": "code",
   "execution_count": null,
   "metadata": {},
   "outputs": [],
   "source": [
    "# estimator parameter plots\n",
    "for estimator in np.unique(bayesOptimSummaryMeta[\"estimator\"]):\n",
    "    train.modelParamPlot(\n",
    "        bayesOptimSummary=bayesOptimSummaryMeta,\n",
    "        estimator=estimator,\n",
    "        allSpace=allSpace,\n",
    "        nIter=100,\n",
    "        chartProp=15,\n",
    "    )"
   ]
  },
  {
   "cell_type": "markdown",
   "metadata": {},
   "source": [
    "## Model performance evaluation - stacked models"
   ]
  },
  {
   "cell_type": "markdown",
   "metadata": {},
   "source": [
    "<a id = 'Model-performance-evaluation-stacked-models'></a>"
   ]
  },
  {
   "cell_type": "code",
   "execution_count": null,
   "metadata": {},
   "outputs": [],
   "source": [
    "topModels = train.topBayesOptimModels(\n",
    "    bayesOptimSummary=bayesOptimSummaryMeta, numModels=1\n",
    ")\n",
    "topModels"
   ]
  },
  {
   "cell_type": "code",
   "execution_count": null,
   "metadata": {
    "ExecuteTime": {
     "end_time": "2019-07-01T02:02:16.794001Z",
     "start_time": "2019-07-01T02:02:15.894Z"
    }
   },
   "outputs": [],
   "source": [
    "# best second level learning model\n",
    "estimator = \"lightgbm.LGBMClassifier\"; modelIter = 668\n",
    "# estimator = \"xgboost.XGBClassifier\"; modelIter = 380\n",
    "# estimator = \"ensemble.RandomForestClassifier\"; modelIter = 411\n",
    "# estimator = \"ensemble.GradientBoostingClassifier\"; modelIter = 590\n",
    "# estimator = \"svm.SVC\"; modelIter = 135\n",
    "\n",
    "# extract params and instantiate model\n",
    "model = train.BayesOptimModelBuilder(\n",
    "    bayesOptimSummary=bayesOptimSummaryMeta, estimator=estimator, modelIter=modelIter\n",
    ")\n",
    "train.classificationPanel(\n",
    "    model=model, XTrain=oofTrain, yTrain=train.target, labels=[0, 1]\n",
    ")"
   ]
  },
  {
   "cell_type": "code",
   "execution_count": null,
   "metadata": {},
   "outputs": [],
   "source": [
    "# create classification reports\n",
    "for estimator, modelIters in topModels.items():\n",
    "    for modelIter in modelIters:\n",
    "        model = train.BayesOptimModelBuilder(\n",
    "            bayesOptimSummary=bayesOptimSummaryMeta,\n",
    "            estimator=estimator,\n",
    "            modelIter=modelIter,\n",
    "        )\n",
    "        train.classificationPanel(\n",
    "            model=model, XTrain=oofTrain, yTrain=train.target, labels=[0, 1], nFolds=4\n",
    "        )"
   ]
  },
  {
   "cell_type": "markdown",
   "metadata": {},
   "source": [
    "## Validation set evaluation - stacked models"
   ]
  },
  {
   "cell_type": "markdown",
   "metadata": {},
   "source": [
    "<a id = 'Validation-set-evaluation-stacked-models'></a>"
   ]
  },
  {
   "cell_type": "code",
   "execution_count": null,
   "metadata": {},
   "outputs": [],
   "source": [
    "## standard model fit and predict\n",
    "# select estimator and iteration\n",
    "estimator = \"lightgbm.LGBMClassifier\"; modelIter = 668\n",
    "# estimator = \"xgboost.XGBClassifier\"; modelIter = 380\n",
    "# estimator = \"ensemble.RandomForestClassifier\"; modelIter = 411\n",
    "# estimator = \"ensemble.GradientBoostingClassifier\"; modelIter = 590\n",
    "# estimator = \"svm.SVC\"; modelIter = 135\n",
    "\n",
    "# extract params and instantiate model\n",
    "model = train.BayesOptimModelBuilder(\n",
    "    bayesOptimSummary=bayesOptimSummaryMeta, estimator=estimator, modelIter=modelIter\n",
    ")\n",
    "model.fit(oofTrain, train.target.values)\n",
    "\n",
    "# fit model and make predictions\n",
    "yPred = model.predict(oofValid)"
   ]
  },
  {
   "cell_type": "code",
   "execution_count": null,
   "metadata": {},
   "outputs": [],
   "source": [
    "train.classificationPanel(\n",
    "    model=model,\n",
    "    XTrain=oofTrain,\n",
    "    yTrain=train.target,\n",
    "    XValid=oofValid,\n",
    "    yValid=valid.target,\n",
    "    labels=[0, 1],\n",
    ")"
   ]
  },
  {
   "cell_type": "code",
   "execution_count": null,
   "metadata": {},
   "outputs": [],
   "source": [
    "# create classification reports\n",
    "for estimator, modelIters in topModels.items():\n",
    "    for modelIter in modelIters:\n",
    "        model = train.BayesOptimModelBuilder(\n",
    "            bayesOptimSummary=bayesOptimSummaryMeta,\n",
    "            estimator=estimator,\n",
    "            modelIter=modelIter,\n",
    "        )\n",
    "        train.classificationPanel(\n",
    "            model=model,\n",
    "            XTrain=oofTrain,\n",
    "            yTrain=train.target,\n",
    "            XValid=oofValid,\n",
    "            yValid=valid.target,\n",
    "            labels=[0, 1],\n",
    "        )"
   ]
  }
 ],
 "metadata": {
  "kernelspec": {
   "display_name": "Python 3",
   "language": "python",
   "name": "python3"
  },
  "language_info": {
   "codemirror_mode": {
    "name": "ipython",
    "version": 3
   },
   "file_extension": ".py",
   "mimetype": "text/x-python",
   "name": "python",
   "nbconvert_exporter": "python",
   "pygments_lexer": "ipython3",
   "version": "3.7.3"
  },
  "toc": {
   "base_numbering": 1,
   "nav_menu": {},
   "number_sections": true,
   "sideBar": true,
   "skip_h1_title": false,
   "title_cell": "Table of Contents",
   "title_sidebar": "Contents",
   "toc_cell": false,
   "toc_position": {},
   "toc_section_display": true,
   "toc_window_display": false
  }
 },
 "nbformat": 4,
 "nbformat_minor": 2
}
