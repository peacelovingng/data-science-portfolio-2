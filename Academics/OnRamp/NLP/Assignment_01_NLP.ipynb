{
 "cells": [
  {
   "cell_type": "markdown",
   "metadata": {},
   "source": [
    "# Module 1 - regular expressions\n",
    "\n",
    "1. [Module 1: regular expressions](#module-1)\n",
    "1. [Assignment 1](#assignment1)\n",
    "    - [Question 1](#assignment1-1)\n",
    "    - [Question 2](#assignment1-2)\n",
    "    - [Question 3](#assignment1-3)\n",
    "    - [Question 4](#assignment1-4)\n",
    "    - [Question 5](#assignment1-5)\n",
    "    - [Question 6](#assignment1-6)\n",
    "    - [Question 7](#assignment1-7)\n",
    "\n"
   ]
  },
  {
   "cell_type": "code",
   "execution_count": 1,
   "metadata": {
    "ExecuteTime": {
     "end_time": "2018-10-07T20:17:52.203783Z",
     "start_time": "2018-10-07T20:17:52.176391Z"
    }
   },
   "outputs": [
    {
     "data": {
      "application/vnd.jupyter.widget-view+json": {
       "model_id": "ff4405fd974b45aeb2e6a61de8521adf",
       "version_major": 2,
       "version_minor": 0
      },
      "text/plain": [
       "RadioButtons(description='Select a pattern that is most common: \\n', options=('d12', 'd123', '123'), value='d1…"
      ]
     },
     "metadata": {},
     "output_type": "display_data"
    },
    {
     "data": {
      "application/vnd.jupyter.widget-view+json": {
       "model_id": "b173bf8bcef84fe5b2ca47cf5a53c033",
       "version_major": 2,
       "version_minor": 0
      },
      "text/plain": [
       "Button(description='Submit', style=ButtonStyle())"
      ]
     },
     "metadata": {},
     "output_type": "display_data"
    },
    {
     "name": "stdout",
     "output_type": "stream",
     "text": [
      "Close, but not the right one!\n",
      "Close, but not the right one!\n",
      "Exactly: 123 is the most common pattern among the three strings\n"
     ]
    }
   ],
   "source": [
    "from ipywidgets import widgets\n",
    "from IPython.display import display\n",
    "\n",
    "radio = widgets.RadioButtons(\n",
    "    description = 'Select a pattern that is most common: \\n'\n",
    "    ,options = ['d12', 'd123', '123']\n",
    ")\n",
    "button = widgets.Button(description = 'Submit')\n",
    "\n",
    "\n",
    "def message(b):\n",
    "    selected = radio.value\n",
    "    if selected == '123':\n",
    "        print('Exactly: 123 is the most common pattern among the three strings')\n",
    "    else:\n",
    "        print('Close, but not the right one!')\n",
    "        \n",
    "display(radio)\n",
    "display(button)\n",
    "button.on_click(message)"
   ]
  },
  {
   "cell_type": "code",
   "execution_count": 2,
   "metadata": {
    "ExecuteTime": {
     "end_time": "2018-10-07T20:18:18.422419Z",
     "start_time": "2018-10-07T20:18:18.420172Z"
    }
   },
   "outputs": [],
   "source": [
    "import re"
   ]
  },
  {
   "cell_type": "code",
   "execution_count": 3,
   "metadata": {
    "ExecuteTime": {
     "end_time": "2018-10-07T20:18:19.285961Z",
     "start_time": "2018-10-07T20:18:19.283293Z"
    }
   },
   "outputs": [],
   "source": [
    "pattern = '.oo.'"
   ]
  },
  {
   "cell_type": "code",
   "execution_count": 4,
   "metadata": {
    "ExecuteTime": {
     "end_time": "2018-10-07T20:18:20.271105Z",
     "start_time": "2018-10-07T20:18:20.266548Z"
    }
   },
   "outputs": [
    {
     "name": "stdout",
     "output_type": "stream",
     "text": [
      "list of matches:  ['food', 'food', 'good']\n"
     ]
    }
   ],
   "source": [
    "targetString = 'I love food, food which is good.'\n",
    "\n",
    "matches = re.findall(pattern, targetString)\n",
    "print('list of matches: ', matches)"
   ]
  },
  {
   "cell_type": "code",
   "execution_count": 5,
   "metadata": {
    "ExecuteTime": {
     "end_time": "2018-10-07T20:18:21.310747Z",
     "start_time": "2018-10-07T20:18:21.306589Z"
    }
   },
   "outputs": [
    {
     "name": "stdout",
     "output_type": "stream",
     "text": [
      "positions: 7: 11 food\n",
      "positions: 13: 17 food\n",
      "positions: 27: 31 good\n"
     ]
    }
   ],
   "source": [
    "for match in re.finditer(pattern, targetString):\n",
    "    start = match.start()\n",
    "    end = match.end()\n",
    "    print('positions: {}: {} {}'.format(start, end, targetString[start:end]))"
   ]
  },
  {
   "cell_type": "markdown",
   "metadata": {},
   "source": [
    "<a id = 'assignment1'></a>"
   ]
  },
  {
   "cell_type": "markdown",
   "metadata": {},
   "source": [
    "# Assignment 1"
   ]
  },
  {
   "cell_type": "markdown",
   "metadata": {},
   "source": [
    "<a id = 'assignment1-1'></a>"
   ]
  },
  {
   "cell_type": "code",
   "execution_count": 6,
   "metadata": {
    "ExecuteTime": {
     "end_time": "2018-10-07T20:18:25.653099Z",
     "start_time": "2018-10-07T20:18:25.650611Z"
    }
   },
   "outputs": [],
   "source": [
    "import re"
   ]
  },
  {
   "cell_type": "markdown",
   "metadata": {},
   "source": [
    "## Question 1\n",
    "\n",
    "Write a regular expression that matches the below strings:\n",
    "\n",
    "a. casper\n",
    "\n",
    "b. Jasper"
   ]
  },
  {
   "cell_type": "code",
   "execution_count": 7,
   "metadata": {
    "ExecuteTime": {
     "end_time": "2018-10-07T20:18:27.166062Z",
     "start_time": "2018-10-07T20:18:27.162713Z"
    }
   },
   "outputs": [
    {
     "name": "stdout",
     "output_type": "stream",
     "text": [
      "Match casper: <_sre.SRE_Match object; span=(0, 6), match='casper'>\n",
      "Match Jasper: <_sre.SRE_Match object; span=(0, 6), match='Jasper'>\n"
     ]
    }
   ],
   "source": [
    "strs = ['casper','Jasper']\n",
    "\n",
    "p = re.compile(r'\\w(asper)')\n",
    "\n",
    "for st in strs:\n",
    "    print('Match {0}: {1}'.format(st, p.match(st)))\n"
   ]
  },
  {
   "cell_type": "markdown",
   "metadata": {},
   "source": [
    "<a id = 'assignment1-2'></a>"
   ]
  },
  {
   "cell_type": "markdown",
   "metadata": {},
   "source": [
    "## Question 2\n",
    "Write a regular expression that would match the bellow strings:\n",
    "\n",
    "a. hi\n",
    "\n",
    "b. hiii\n",
    "\n",
    "c. hiiiiiii"
   ]
  },
  {
   "cell_type": "code",
   "execution_count": 8,
   "metadata": {
    "ExecuteTime": {
     "end_time": "2018-10-07T20:18:34.282599Z",
     "start_time": "2018-10-07T20:18:34.278178Z"
    }
   },
   "outputs": [
    {
     "name": "stdout",
     "output_type": "stream",
     "text": [
      "Match hi: <_sre.SRE_Match object; span=(0, 2), match='hi'>\n",
      "Match hiii: <_sre.SRE_Match object; span=(0, 4), match='hiii'>\n",
      "Match hiiiiiii: <_sre.SRE_Match object; span=(0, 8), match='hiiiiiii'>\n"
     ]
    }
   ],
   "source": [
    "strs = ['hi','hiii','hiiiiiii']\n",
    "\n",
    "p = re.compile(r'hi*')\n",
    "\n",
    "for st in strs:\n",
    "    print('Match {0}: {1}'.format(st, p.match(st)))\n"
   ]
  },
  {
   "cell_type": "markdown",
   "metadata": {},
   "source": [
    "<a id = 'assignment1-3'></a>"
   ]
  },
  {
   "cell_type": "markdown",
   "metadata": {},
   "source": [
    "## Question 3\n",
    "Write a regular expression that would match the bellow strings:\n",
    "\n",
    "a. code\n",
    "\n",
    "b. coding\n",
    "\n",
    "c. coder"
   ]
  },
  {
   "cell_type": "code",
   "execution_count": 9,
   "metadata": {
    "ExecuteTime": {
     "end_time": "2018-10-07T20:18:48.720403Z",
     "start_time": "2018-10-07T20:18:48.716440Z"
    }
   },
   "outputs": [
    {
     "name": "stdout",
     "output_type": "stream",
     "text": [
      "Match code: <_sre.SRE_Match object; span=(0, 4), match='code'>\n",
      "Match coding: <_sre.SRE_Match object; span=(0, 6), match='coding'>\n",
      "Match coder: <_sre.SRE_Match object; span=(0, 5), match='coder'>\n"
     ]
    }
   ],
   "source": [
    "strs = ['code','coding','coder']\n",
    "\n",
    "p = re.compile(r'(cod)\\w*')\n",
    "\n",
    "for st in strs:\n",
    "    print('Match {0}: {1}'.format(st, p.match(st)))\n"
   ]
  },
  {
   "cell_type": "markdown",
   "metadata": {},
   "source": [
    "<a id = 'assignment1-4'></a>"
   ]
  },
  {
   "cell_type": "markdown",
   "metadata": {},
   "source": [
    "## Question 4\n",
    "Write a regular expression that would match the bellow strings:\n",
    "\n",
    "a. john is a happy man\n",
    "\n",
    "b. john is a good man\n",
    "\n",
    "c. john is a great man"
   ]
  },
  {
   "cell_type": "code",
   "execution_count": 10,
   "metadata": {
    "ExecuteTime": {
     "end_time": "2018-10-07T20:19:45.039410Z",
     "start_time": "2018-10-07T20:19:45.035528Z"
    }
   },
   "outputs": [
    {
     "name": "stdout",
     "output_type": "stream",
     "text": [
      "Match john is a happy man: <_sre.SRE_Match object; span=(0, 19), match='john is a happy man'>\n",
      "Match john is a good man: <_sre.SRE_Match object; span=(0, 18), match='john is a good man'>\n",
      "Match john is a great man: <_sre.SRE_Match object; span=(0, 19), match='john is a great man'>\n"
     ]
    }
   ],
   "source": [
    "strs = ['john is a happy man','john is a good man','john is a great man']\n",
    "\n",
    "p = re.compile(r'(john is a )\\w*( man)')\n",
    "\n",
    "for st in strs:\n",
    "    print('Match {0}: {1}'.format(st, p.match(st)))\n"
   ]
  },
  {
   "cell_type": "markdown",
   "metadata": {},
   "source": [
    "<a id = 'assignment1-5'></a>"
   ]
  },
  {
   "cell_type": "markdown",
   "metadata": {},
   "source": [
    "## Question 5\n",
    "\n",
    "Write a regular expression that would match the strings in a,b,c and skips strings d,e:\n",
    "\n",
    "a. cat\n",
    "\n",
    "b. rat\n",
    "\n",
    "c. bat\n",
    "\n",
    "d. sat\n",
    "\n",
    "e. mat"
   ]
  },
  {
   "cell_type": "code",
   "execution_count": 11,
   "metadata": {
    "ExecuteTime": {
     "end_time": "2018-10-07T20:19:56.855702Z",
     "start_time": "2018-10-07T20:19:56.851896Z"
    }
   },
   "outputs": [
    {
     "name": "stdout",
     "output_type": "stream",
     "text": [
      "Match cat: <_sre.SRE_Match object; span=(0, 3), match='cat'>\n",
      "Match rat: <_sre.SRE_Match object; span=(0, 3), match='rat'>\n",
      "Match bat: <_sre.SRE_Match object; span=(0, 3), match='bat'>\n",
      "Match sat: <_sre.SRE_Match object; span=(0, 3), match='sat'>\n",
      "Match mat: <_sre.SRE_Match object; span=(0, 3), match='mat'>\n"
     ]
    }
   ],
   "source": [
    "strs = ['cat','rat','bat','sat','mat']\n",
    "\n",
    "p = re.compile(r'\\w(at)')\n",
    "\n",
    "for st in strs:\n",
    "    print('Match {0}: {1}'.format(st, p.match(st)))\n"
   ]
  },
  {
   "cell_type": "markdown",
   "metadata": {},
   "source": [
    "<a id = 'assignment1-6'></a>"
   ]
  },
  {
   "cell_type": "markdown",
   "metadata": {},
   "source": [
    "## Question 6\n",
    "Write a regular expression that would match the below strings:\n",
    "\n",
    "a. life is good\n",
    "\n",
    "b. life is great\n",
    "\n",
    "c. life is awesome"
   ]
  },
  {
   "cell_type": "code",
   "execution_count": 12,
   "metadata": {
    "ExecuteTime": {
     "end_time": "2018-10-07T20:20:06.207274Z",
     "start_time": "2018-10-07T20:20:06.202650Z"
    }
   },
   "outputs": [
    {
     "name": "stdout",
     "output_type": "stream",
     "text": [
      "Match life is good: <_sre.SRE_Match object; span=(0, 12), match='life is good'>\n",
      "Match life is great: <_sre.SRE_Match object; span=(0, 13), match='life is great'>\n",
      "Match life is awesome: <_sre.SRE_Match object; span=(0, 15), match='life is awesome'>\n"
     ]
    }
   ],
   "source": [
    "strs = ['life is good','life is great','life is awesome']\n",
    "\n",
    "p = re.compile(r'(life is )\\w*')\n",
    "\n",
    "for st in strs:\n",
    "    print('Match {0}: {1}'.format(st, p.match(st)))\n"
   ]
  },
  {
   "cell_type": "markdown",
   "metadata": {},
   "source": [
    "<a id = 'assignment1-7'></a>"
   ]
  },
  {
   "cell_type": "markdown",
   "metadata": {},
   "source": [
    "## Question 7\n",
    "Consider the given string : \" JAMES is always Confident, consistent and persistent the way he works.\"\n",
    "\n",
    "a. Write a regular expression that would capture the qualities of JAMES in the sentence\n",
    "\n",
    "b. Write a program that would capture and print these regular expressions\n",
    "\n",
    "c. The program should also print the postions of the words in the sentence."
   ]
  },
  {
   "cell_type": "code",
   "execution_count": 13,
   "metadata": {
    "ExecuteTime": {
     "end_time": "2018-10-07T20:20:20.943238Z",
     "start_time": "2018-10-07T20:20:20.939747Z"
    }
   },
   "outputs": [
    {
     "name": "stdout",
     "output_type": "stream",
     "text": [
      "['Confident', 'consistent', 'persistent']\n"
     ]
    }
   ],
   "source": [
    "text = 'JAMES is always Confident, consistent and persistent the way he works'\n",
    "\n",
    "print(re.findall(pattern = r'\\w+ent', string = text))\n"
   ]
  },
  {
   "cell_type": "code",
   "execution_count": 14,
   "metadata": {
    "ExecuteTime": {
     "end_time": "2018-10-07T20:20:40.366608Z",
     "start_time": "2018-10-07T20:20:40.363001Z"
    }
   },
   "outputs": [
    {
     "name": "stdout",
     "output_type": "stream",
     "text": [
      "Quality: Confident, start position: 16, end position: 25\n",
      "Quality: consistent, start position: 27, end position: 37\n",
      "Quality: persistent, start position: 42, end position: 52\n"
     ]
    }
   ],
   "source": [
    "text = 'JAMES is always Confident, consistent and persistent the way he works'\n",
    "\n",
    "for m in re.finditer(pattern = r'\\w+ent', string = text):\n",
    "    print('Quality: {0}, start position: {1}, end position: {2}'.format(m.group(0), m.start(), m.end()))\n",
    "\n"
   ]
  },
  {
   "cell_type": "markdown",
   "metadata": {},
   "source": [
    "<a id = 'assignment1-1'></a>"
   ]
  }
 ],
 "metadata": {
  "kernelspec": {
   "display_name": "Python 3",
   "language": "python",
   "name": "python3"
  },
  "language_info": {
   "codemirror_mode": {
    "name": "ipython",
    "version": 3
   },
   "file_extension": ".py",
   "mimetype": "text/x-python",
   "name": "python",
   "nbconvert_exporter": "python",
   "pygments_lexer": "ipython3",
   "version": "3.6.5"
  },
  "toc": {
   "base_numbering": 1,
   "nav_menu": {},
   "number_sections": true,
   "sideBar": true,
   "skip_h1_title": false,
   "title_cell": "Table of Contents",
   "title_sidebar": "Contents",
   "toc_cell": false,
   "toc_position": {},
   "toc_section_display": true,
   "toc_window_display": false
  }
 },
 "nbformat": 4,
 "nbformat_minor": 2
}
