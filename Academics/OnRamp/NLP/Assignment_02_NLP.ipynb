{
 "cells": [
  {
   "cell_type": "markdown",
   "metadata": {},
   "source": [
    "__Assignment 02: NLP in Python__"
   ]
  },
  {
   "cell_type": "code",
   "execution_count": 19,
   "metadata": {
    "ExecuteTime": {
     "end_time": "2018-10-07T21:55:37.391335Z",
     "start_time": "2018-10-07T21:55:37.272087Z"
    }
   },
   "outputs": [
    {
     "name": "stdout",
     "output_type": "stream",
     "text": [
      "       7 Assignment_02_NLP.txt\r\n"
     ]
    }
   ],
   "source": [
    "# Question 1: Find the number of lines in the file (use wc)\n",
    "# Because there actually 8 lines of text, I assume 7 is equal to the number of newline characters\n",
    "\n",
    "! wc -l Assignment_02_NLP.txt\n"
   ]
  },
  {
   "cell_type": "code",
   "execution_count": 20,
   "metadata": {
    "ExecuteTime": {
     "end_time": "2018-10-07T21:55:47.524401Z",
     "start_time": "2018-10-07T21:55:47.407810Z"
    }
   },
   "outputs": [
    {
     "name": "stdout",
     "output_type": "stream",
     "text": [
      "Ironman is cool.\r\n"
     ]
    }
   ],
   "source": [
    "# Question 2: Check the first line of the file using head.\n",
    "\n",
    "! head -1 Assignment_02_NLP.txt\n"
   ]
  },
  {
   "cell_type": "code",
   "execution_count": 21,
   "metadata": {
    "ExecuteTime": {
     "end_time": "2018-10-07T21:55:48.781236Z",
     "start_time": "2018-10-07T21:55:48.663999Z"
    }
   },
   "outputs": [
    {
     "name": "stdout",
     "output_type": "stream",
     "text": [
      "Ironman is cool.\r\n",
      "Ironman is smart\r\n",
      "Ironman is intelligent.\r\n",
      "Ironman is good.\r\n",
      "Ironman is strong.\r\n"
     ]
    }
   ],
   "source": [
    "# Question 3: Check the lines 1 to 5 using the head file\n",
    "\n",
    "! head -5 Assignment_02_NLP.txt\n"
   ]
  },
  {
   "cell_type": "code",
   "execution_count": 22,
   "metadata": {
    "ExecuteTime": {
     "end_time": "2018-10-07T21:58:25.086829Z",
     "start_time": "2018-10-07T21:58:24.965882Z"
    }
   },
   "outputs": [
    {
     "name": "stdout",
     "output_type": "stream",
     "text": [
      "Everyday is a new day\r\n",
      "Ironman is cool.\r\n",
      "Ironman is good.\r\n",
      "Ironman is goood\r\n",
      "Ironman is intelligent.\r\n",
      "Ironman is smart\r\n",
      "Ironman is smarter\r\n",
      "Ironman is strong.\r\n"
     ]
    }
   ],
   "source": [
    "# Question 4: sort the lines using Sort command\n",
    "\n",
    "! sort Assignment_02_NLP.txt\n"
   ]
  },
  {
   "cell_type": "code",
   "execution_count": 24,
   "metadata": {
    "ExecuteTime": {
     "end_time": "2018-10-07T21:58:25.086829Z",
     "start_time": "2018-10-07T21:58:24.965882Z"
    }
   },
   "outputs": [
    {
     "name": "stdout",
     "output_type": "stream",
     "text": [
      "   1 Ironman is cool.\r\n",
      "   1 Ironman is smart\r\n",
      "   1 Ironman is intelligent.\r\n",
      "   1 Ironman is good.\r\n",
      "   1 Ironman is strong.\r\n",
      "   1 Everyday is a new day\r\n",
      "   1 Ironman is goood\r\n",
      "   1 Ironman is smarter"
     ]
    }
   ],
   "source": [
    "# Question 5: Remove duplicates using Uniq command\n",
    "\n",
    "! uniq -c Assignment_02_NLP.txt\n"
   ]
  },
  {
   "cell_type": "code",
   "execution_count": 25,
   "metadata": {
    "ExecuteTime": {
     "end_time": "2018-10-07T21:58:25.086829Z",
     "start_time": "2018-10-07T21:58:24.965882Z"
    }
   },
   "outputs": [
    {
     "name": "stdout",
     "output_type": "stream",
     "text": [
      "Ironman is smart\r\n"
     ]
    }
   ],
   "source": [
    "# Question 6: Use grep to search for lines that have the word \"smart\" \n",
    "\n",
    "! grep -w \"smart\" Assignment_02_NLP.txt\n"
   ]
  },
  {
   "cell_type": "code",
   "execution_count": 26,
   "metadata": {
    "ExecuteTime": {
     "end_time": "2018-10-07T21:58:25.086829Z",
     "start_time": "2018-10-07T21:58:24.965882Z"
    }
   },
   "outputs": [
    {
     "name": "stdout",
     "output_type": "stream",
     "text": [
      "Everyday is a new day\r\n"
     ]
    }
   ],
   "source": [
    "# Question 7: Use grep to get lines that do not have the word \"Ironman\"\n",
    "\n",
    "! grep -v 'Ironman' Assignment_02_NLP.txt\n"
   ]
  }
 ],
 "metadata": {
  "kernelspec": {
   "display_name": "Python 3",
   "language": "python",
   "name": "python3"
  },
  "language_info": {
   "codemirror_mode": {
    "name": "ipython",
    "version": 3
   },
   "file_extension": ".py",
   "mimetype": "text/x-python",
   "name": "python",
   "nbconvert_exporter": "python",
   "pygments_lexer": "ipython3",
   "version": "3.6.5"
  },
  "toc": {
   "base_numbering": 1,
   "nav_menu": {},
   "number_sections": true,
   "sideBar": true,
   "skip_h1_title": false,
   "title_cell": "Table of Contents",
   "title_sidebar": "Contents",
   "toc_cell": false,
   "toc_position": {},
   "toc_section_display": true,
   "toc_window_display": false
  }
 },
 "nbformat": 4,
 "nbformat_minor": 2
}
