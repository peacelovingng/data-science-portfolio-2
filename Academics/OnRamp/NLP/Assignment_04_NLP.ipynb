{
 "cells": [
  {
   "cell_type": "markdown",
   "metadata": {},
   "source": [
    "__Table of contents__\n",
    "1. [Module 5 walkthrough](#Module-5-walkthrough)\n",
    "1. [Module 6 walkthrough](#Module-6-walkthrough)\n",
    "1. [Assignment 4](#Assignment-4)"
   ]
  },
  {
   "cell_type": "markdown",
   "metadata": {},
   "source": [
    "Explore\n",
    "\n",
    "1. Try set up a streaming for twitter using the geo-locations as the query parameter.\n",
    "\n",
    "2. Try the same with the search API as well.\n",
    "\n",
    "    Now that we have all this JSON data from twitter stored in a file, let's take a quick peak at what is JSON and how we can parse this data using python.\n",
    "\n",
    "3. Work on the twitter data that you have extracted :\n",
    "\n",
    "Try load the json from file into memory\n",
    "Check out the various keys for any one json object, there are some intresting data fields that can be used for different projects.\n",
    "Try extract the tweets alone from this json dataset.\n",
    "\n",
    "Depending on the questions,file uploads or screenshots are necessary to show your work."
   ]
  },
  {
   "cell_type": "markdown",
   "metadata": {},
   "source": [
    "# Module 5 walkthrough"
   ]
  },
  {
   "cell_type": "markdown",
   "metadata": {},
   "source": [
    "<a id = 'Module-5-walkthrough'></a>"
   ]
  },
  {
   "cell_type": "code",
   "execution_count": 12,
   "metadata": {
    "ExecuteTime": {
     "end_time": "2018-11-05T13:30:52.331763Z",
     "start_time": "2018-11-05T13:30:52.295436Z"
    }
   },
   "outputs": [],
   "source": [
    "# import\n",
    "import os\n",
    "import sys\n",
    "\n",
    "modulePath = os.path.abspath(os.path.join('../../..'))\n",
    "if modulePath not in sys.path:\n",
    "    sys.path.append(modulePath)\n",
    "import config\n",
    "\n",
    "import twitter\n",
    "\n",
    "api = twitter.Api(consumer_key = config.apiKey\n",
    "                  ,consumer_secret = config.apiSec\n",
    "                  ,access_token_key = config.accessToken\n",
    "                  ,access_token_secret = config.accessSec\n",
    "                 )\n"
   ]
  },
  {
   "cell_type": "code",
   "execution_count": 13,
   "metadata": {
    "ExecuteTime": {
     "end_time": "2018-11-05T13:30:52.764613Z",
     "start_time": "2018-11-05T13:30:52.333864Z"
    }
   },
   "outputs": [
    {
     "name": "stdout",
     "output_type": "stream",
     "text": [
      "{\"created_at\": \"Sat Apr 14 18:12:07 +0000 2012\", \"default_profile\": true, \"default_profile_image\": true, \"favourites_count\": 6, \"followers_count\": 16, \"friends_count\": 260, \"id\": 553810134, \"id_str\": \"553810134\", \"lang\": \"en\", \"name\": \"Tyler\", \"profile_background_color\": \"C0DEED\", \"profile_background_image_url\": \"http://abs.twimg.com/images/themes/theme1/bg.png\", \"profile_background_image_url_https\": \"https://abs.twimg.com/images/themes/theme1/bg.png\", \"profile_image_url\": \"http://abs.twimg.com/sticky/default_profile_images/default_profile_normal.png\", \"profile_image_url_https\": \"https://abs.twimg.com/sticky/default_profile_images/default_profile_normal.png\", \"profile_link_color\": \"1DA1F2\", \"profile_sidebar_border_color\": \"C0DEED\", \"profile_sidebar_fill_color\": \"DDEEF6\", \"profile_text_color\": \"333333\", \"profile_use_background_image\": true, \"screen_name\": \"tylerTPpeterson\"}\n"
     ]
    }
   ],
   "source": [
    "# review credentials\n",
    "print(api.VerifyCredentials())\n"
   ]
  },
  {
   "cell_type": "code",
   "execution_count": 14,
   "metadata": {
    "ExecuteTime": {
     "end_time": "2018-11-05T13:30:53.214263Z",
     "start_time": "2018-11-05T13:30:52.766491Z"
    }
   },
   "outputs": [
    {
     "name": "stdout",
     "output_type": "stream",
     "text": [
      "{'created_at': 'Mon Nov 05 13:30:47 +0000 2018', 'id': 1059437876834902017, 'id_str': '1059437876834902017', 'text': 'RT @Iron_Spike: \"I GOT SPANKED ALL THE TIME AND I TURNED OUT FINE\"\\n\\nNo, you didn\\'t? It turned you into someone who thinks it\\'s okay to smac…', 'source': '<a href=\"http://twitter.com/download/android\" rel=\"nofollow\">Twitter for Android</a>', 'truncated': False, 'in_reply_to_status_id': None, 'in_reply_to_status_id_str': None, 'in_reply_to_user_id': None, 'in_reply_to_user_id_str': None, 'in_reply_to_screen_name': None, 'user': {'id': 848172242315988992, 'id_str': '848172242315988992', 'name': 'David Glassman🌹', 'screen_name': 'dmglassman2012', 'location': 'Sebastian, FL', 'url': None, 'description': 'BA Degree in Anthropology and Economics from UNF. +Philosophy on the side. Striving to be ethical while in an absurd world. Profile Pic by @meowipolitan', 'translator_type': 'none', 'protected': False, 'verified': False, 'followers_count': 168, 'friends_count': 633, 'listed_count': 2, 'favourites_count': 48559, 'statuses_count': 15439, 'created_at': 'Sat Apr 01 13:56:35 +0000 2017', 'utc_offset': None, 'time_zone': None, 'geo_enabled': False, 'lang': 'en', 'contributors_enabled': False, 'is_translator': False, 'profile_background_color': 'F5F8FA', 'profile_background_image_url': '', 'profile_background_image_url_https': '', 'profile_background_tile': False, 'profile_link_color': '1DA1F2', 'profile_sidebar_border_color': 'C0DEED', 'profile_sidebar_fill_color': 'DDEEF6', 'profile_text_color': '333333', 'profile_use_background_image': True, 'profile_image_url': 'http://pbs.twimg.com/profile_images/1036429410415587330/9IevLYRV_normal.jpg', 'profile_image_url_https': 'https://pbs.twimg.com/profile_images/1036429410415587330/9IevLYRV_normal.jpg', 'profile_banner_url': 'https://pbs.twimg.com/profile_banners/848172242315988992/1491055603', 'default_profile': True, 'default_profile_image': False, 'following': None, 'follow_request_sent': None, 'notifications': None}, 'geo': None, 'coordinates': None, 'place': None, 'contributors': None, 'retweeted_status': {'created_at': 'Mon Nov 05 11:51:13 +0000 2018', 'id': 1059412819672813568, 'id_str': '1059412819672813568', 'text': '\"I GOT SPANKED ALL THE TIME AND I TURNED OUT FINE\"\\n\\nNo, you didn\\'t? It turned you into someone who thinks it\\'s okay to smack kids around.', 'source': '<a href=\"http://twitter.com\" rel=\"nofollow\">Twitter Web Client</a>', 'truncated': False, 'in_reply_to_status_id': 1059412545478508544, 'in_reply_to_status_id_str': '1059412545478508544', 'in_reply_to_user_id': 9549022, 'in_reply_to_user_id_str': '9549022', 'in_reply_to_screen_name': 'Iron_Spike', 'user': {'id': 9549022, 'id_str': '9549022', 'name': 'Iron Spike', 'screen_name': 'Iron_Spike', 'location': None, 'url': 'http://www.ironcircus.com', 'description': \"Bestselling author. Cartoonist. Vulgarian. Motormouth. Gifted & Talented. Runs @ironcircuscomix, Chicago's largest comix publisher. Shares plenty, owes nothing.\", 'translator_type': 'none', 'protected': False, 'verified': True, 'followers_count': 50571, 'friends_count': 674, 'listed_count': 1258, 'favourites_count': 84015, 'statuses_count': 103725, 'created_at': 'Fri Oct 19 19:29:36 +0000 2007', 'utc_offset': None, 'time_zone': None, 'geo_enabled': True, 'lang': 'en', 'contributors_enabled': False, 'is_translator': False, 'profile_background_color': '000000', 'profile_background_image_url': 'http://abs.twimg.com/images/themes/theme1/bg.png', 'profile_background_image_url_https': 'https://abs.twimg.com/images/themes/theme1/bg.png', 'profile_background_tile': False, 'profile_link_color': '000000', 'profile_sidebar_border_color': 'FFFFFF', 'profile_sidebar_fill_color': '9C856D', 'profile_text_color': '4D3A26', 'profile_use_background_image': False, 'profile_image_url': 'http://pbs.twimg.com/profile_images/728512768685395969/FTIdipIA_normal.jpg', 'profile_image_url_https': 'https://pbs.twimg.com/profile_images/728512768685395969/FTIdipIA_normal.jpg', 'profile_banner_url': 'https://pbs.twimg.com/profile_banners/9549022/1411863597', 'default_profile': False, 'default_profile_image': False, 'following': None, 'follow_request_sent': None, 'notifications': None}, 'geo': None, 'coordinates': None, 'place': None, 'contributors': None, 'is_quote_status': False, 'quote_count': 4, 'reply_count': 15, 'retweet_count': 86, 'favorite_count': 445, 'entities': {'hashtags': [], 'urls': [], 'user_mentions': [], 'symbols': []}, 'favorited': False, 'retweeted': False, 'filter_level': 'low', 'lang': 'en'}, 'is_quote_status': False, 'quote_count': 0, 'reply_count': 0, 'retweet_count': 0, 'favorite_count': 0, 'entities': {'hashtags': [], 'urls': [], 'user_mentions': [{'screen_name': 'Iron_Spike', 'name': 'Iron Spike', 'id': 9549022, 'id_str': '9549022', 'indices': [3, 14]}], 'symbols': []}, 'favorited': False, 'retweeted': False, 'filter_level': 'low', 'lang': 'en', 'timestamp_ms': '1541424647898'}\n"
     ]
    }
   ],
   "source": [
    "# print sample tweet\n",
    "for tweet in api.GetStreamFilter(track = 'life'):\n",
    "    print(tweet)\n",
    "    break\n",
    "    "
   ]
  },
  {
   "cell_type": "code",
   "execution_count": 22,
   "metadata": {
    "ExecuteTime": {
     "end_time": "2018-11-05T13:51:00.861816Z",
     "start_time": "2018-11-05T13:50:57.549058Z"
    }
   },
   "outputs": [],
   "source": [
    "# capture small sample of tweets by keyword\n",
    "import json\n",
    "\n",
    "f = open('./streamingData.json', 'w')\n",
    "counter = 0\n",
    "for tweet in api.GetStreamFilter(track = 'life'):\n",
    "    counter += 1\n",
    "    if counter <= 100:\n",
    "        f.write(json.dumps(tweet))\n",
    "        f.write('\\n')\n",
    "    else:\n",
    "        break\n",
    "    "
   ]
  },
  {
   "cell_type": "code",
   "execution_count": null,
   "metadata": {
    "ExecuteTime": {
     "end_time": "2018-11-05T13:33:48.587790Z",
     "start_time": "2018-11-05T13:30:52.362Z"
    }
   },
   "outputs": [],
   "source": [
    "# execute tweet search using keyword\n",
    "results = api.GetSearch(raw_query = 'q=life%20&result_type=recent&count=100')\n",
    "print(len(results))\n",
    "print(results[0])\n"
   ]
  },
  {
   "cell_type": "markdown",
   "metadata": {},
   "source": [
    "<a id = 'Module-6-walkthrough'></a>"
   ]
  },
  {
   "cell_type": "markdown",
   "metadata": {},
   "source": [
    "# Module 6 walkthrough"
   ]
  },
  {
   "cell_type": "code",
   "execution_count": 26,
   "metadata": {
    "ExecuteTime": {
     "end_time": "2018-11-05T13:52:51.290322Z",
     "start_time": "2018-11-05T13:52:51.287497Z"
    }
   },
   "outputs": [],
   "source": [
    "# load dummy json data\n",
    "json_string = '{\"name\" : \"brian\", \"age\" : 24, \"gender\" : \"male\", \"skills\" : [\"programming\",\"musician\"]}'\n",
    "json_obj = json.loads(json_string)\n"
   ]
  },
  {
   "cell_type": "code",
   "execution_count": 28,
   "metadata": {
    "ExecuteTime": {
     "end_time": "2018-11-05T13:53:21.195517Z",
     "start_time": "2018-11-05T13:53:21.192013Z"
    }
   },
   "outputs": [
    {
     "name": "stdout",
     "output_type": "stream",
     "text": [
      "brian\n",
      "24\n",
      "male\n",
      "['programming', 'musician']\n"
     ]
    }
   ],
   "source": [
    "# review dummy data\n",
    "print(json_obj[\"name\"])\n",
    "print(json_obj[\"age\"])\n",
    "print(json_obj[\"gender\"])\n",
    "print(json_obj[\"skills\"])\n"
   ]
  },
  {
   "cell_type": "code",
   "execution_count": 30,
   "metadata": {
    "ExecuteTime": {
     "end_time": "2018-11-05T13:55:29.145134Z",
     "start_time": "2018-11-05T13:55:29.130119Z"
    }
   },
   "outputs": [
    {
     "name": "stdout",
     "output_type": "stream",
     "text": [
      "Total number of tweets loaded: 100\n"
     ]
    }
   ],
   "source": [
    "# load tweet sample\n",
    "data = []\n",
    "with open('./streamingData.json', 'r') as jsonFile:\n",
    "    for line in jsonFile:\n",
    "        data.append(json.loads(line))\n",
    "print('Total number of tweets loaded: {0}'.format(len(data)))\n"
   ]
  },
  {
   "cell_type": "code",
   "execution_count": 31,
   "metadata": {
    "ExecuteTime": {
     "end_time": "2018-11-05T13:56:37.008359Z",
     "start_time": "2018-11-05T13:56:37.004863Z"
    }
   },
   "outputs": [
    {
     "name": "stdout",
     "output_type": "stream",
     "text": [
      "dict_keys(['created_at', 'id', 'id_str', 'text', 'source', 'truncated', 'in_reply_to_status_id', 'in_reply_to_status_id_str', 'in_reply_to_user_id', 'in_reply_to_user_id_str', 'in_reply_to_screen_name', 'user', 'geo', 'coordinates', 'place', 'contributors', 'retweeted_status', 'is_quote_status', 'quote_count', 'reply_count', 'retweet_count', 'favorite_count', 'entities', 'favorited', 'retweeted', 'filter_level', 'lang', 'timestamp_ms'])\n",
      "RT @liberalmew: I wish my kids and pets could vote. My kids already don't like Trump because they think he's mean and tells lies (hey, they…\n"
     ]
    }
   ],
   "source": [
    "# review keys in json and print sample tweet\n",
    "print(data[0].keys())\n",
    "print(data[0]['text'])\n"
   ]
  },
  {
   "cell_type": "code",
   "execution_count": 32,
   "metadata": {
    "ExecuteTime": {
     "end_time": "2018-11-05T14:00:16.687816Z",
     "start_time": "2018-11-05T14:00:16.684528Z"
    }
   },
   "outputs": [
    {
     "name": "stdout",
     "output_type": "stream",
     "text": [
      "Total number of tweets extracted from json: 96\n"
     ]
    }
   ],
   "source": [
    "# count tweets\n",
    "tweets = []\n",
    "for item in data:\n",
    "    if 'text' in item.keys():\n",
    "        tweet = item['text']\n",
    "        tweets.append(tweet)\n",
    "print('Total number of tweets extracted from json: {0}'.format(len(tweets)))\n"
   ]
  },
  {
   "cell_type": "markdown",
   "metadata": {},
   "source": [
    "<a id = 'Assignment-4'></a>"
   ]
  },
  {
   "cell_type": "markdown",
   "metadata": {},
   "source": [
    "# Assignment 4"
   ]
  },
  {
   "cell_type": "code",
   "execution_count": null,
   "metadata": {
    "ExecuteTime": {
     "end_time": "2018-11-05T14:58:01.761084Z",
     "start_time": "2018-11-05T14:57:03.507813Z"
    },
    "scrolled": true
   },
   "outputs": [],
   "source": [
    "# tweets eminating around downtown Chicago, Illinois, United States. Write to file.\n",
    "import json\n",
    "f = open('./streamingData.json', 'w')\n",
    "for tweet in api.GetStreamFilter(locations = [\"-87.672529, 41.848849, -87.586613, 41.913966\"]):\n",
    "    f.write(json.dumps(tweet))\n",
    "    f.write('\\n')\n",
    "    "
   ]
  },
  {
   "cell_type": "code",
   "execution_count": 62,
   "metadata": {
    "ExecuteTime": {
     "end_time": "2018-11-05T15:11:21.767239Z",
     "start_time": "2018-11-05T15:11:21.430782Z"
    }
   },
   "outputs": [
    {
     "name": "stdout",
     "output_type": "stream",
     "text": [
      "6\n",
      "{\"created_at\": \"Sun Nov 04 13:27:13 +0000 2018\", \"favorite_count\": 1168, \"hashtags\": [], \"id\": 1059074588422889472, \"id_str\": \"1059074588422889472\", \"lang\": \"en\", \"place\": {\"attributes\": {}, \"bounding_box\": {\"coordinates\": [[[-87.896102, 41.973825], [-87.855303, 41.973825], [-87.855303, 42.009717], [-87.896102, 42.009717]]], \"type\": \"Polygon\"}, \"contained_within\": [], \"country\": \"United States\", \"country_code\": \"US\", \"full_name\": \"Rosemont, IL\", \"id\": \"f48e110211eee6ef\", \"name\": \"Rosemont\", \"place_type\": \"city\", \"url\": \"https://api.twitter.com/1.1/geo/id/f48e110211eee6ef.json\"}, \"retweet_count\": 190, \"source\": \"<a href=\\\"http://twitter.com/download/iphone\\\" rel=\\\"nofollow\\\">Twitter for iPhone</a>\", \"text\": \"Notre Dame\\u2019s defense now ranks 10th nationally in yards per play allowed at 4.56.\\n\\nThat\\u2019s tied with Alabama.\", \"urls\": [], \"user\": {\"created_at\": \"Tue Apr 07 18:51:09 +0000 2009\", \"description\": \"Notre Dame beat writer for @theathleticCFB. Husband, father, DePauw grad, ND Law alum by marriage. This is supposed to be fun. #YNWA\", \"favourites_count\": 4545, \"followers_count\": 43190, \"friends_count\": 1220, \"geo_enabled\": true, \"id\": 29513470, \"id_str\": \"29513470\", \"lang\": \"en\", \"listed_count\": 747, \"location\": \"psampson@theathletic.com\", \"name\": \"Pete Sampson\", \"profile_background_color\": \"EEE1B4\", \"profile_background_image_url\": \"http://abs.twimg.com/images/themes/theme1/bg.png\", \"profile_background_image_url_https\": \"https://abs.twimg.com/images/themes/theme1/bg.png\", \"profile_background_tile\": true, \"profile_banner_url\": \"https://pbs.twimg.com/profile_banners/29513470/1536114977\", \"profile_image_url\": \"http://pbs.twimg.com/profile_images/794211146530246656/JN48hBAF_normal.jpg\", \"profile_image_url_https\": \"https://pbs.twimg.com/profile_images/794211146530246656/JN48hBAF_normal.jpg\", \"profile_link_color\": \"156617\", \"profile_sidebar_border_color\": \"FFFFFF\", \"profile_sidebar_fill_color\": \"F0F0F0\", \"profile_text_color\": \"000066\", \"profile_use_background_image\": true, \"screen_name\": \"PeteSampson_\", \"statuses_count\": 51518, \"url\": \"https://t.co/wKdTXO84W3\", \"verified\": true}, \"user_mentions\": []}\n"
     ]
    }
   ],
   "source": [
    "# search Elmhurst, Illinois, United States, area for tweets, print # of results, show first result\n",
    "results = api.GetSearch(geocode = \"41.900456,-87.960835,10mi\")\n",
    "print(len(results))\n",
    "print(results[0])\n"
   ]
  },
  {
   "cell_type": "code",
   "execution_count": 54,
   "metadata": {
    "ExecuteTime": {
     "end_time": "2018-11-05T15:01:16.711635Z",
     "start_time": "2018-11-05T15:01:16.704439Z"
    }
   },
   "outputs": [
    {
     "name": "stdout",
     "output_type": "stream",
     "text": [
      "Total number of tweets loaded: 32\n"
     ]
    }
   ],
   "source": [
    "# load downtown Chicago, Illinois, United States data into memory\n",
    "data = []\n",
    "with open('./streamingData.json', 'r') as jsonFile:\n",
    "    for line in jsonFile:\n",
    "        data.append(json.loads(line))\n",
    "print('Total number of tweets loaded: {0}'.format(len(data)))\n"
   ]
  },
  {
   "cell_type": "code",
   "execution_count": 55,
   "metadata": {
    "ExecuteTime": {
     "end_time": "2018-11-05T15:01:22.085332Z",
     "start_time": "2018-11-05T15:01:22.079774Z"
    }
   },
   "outputs": [
    {
     "name": "stdout",
     "output_type": "stream",
     "text": [
      "created_at\n",
      "id\n",
      "id_str\n",
      "text\n",
      "display_text_range\n",
      "source\n",
      "truncated\n",
      "in_reply_to_status_id\n",
      "in_reply_to_status_id_str\n",
      "in_reply_to_user_id\n",
      "in_reply_to_user_id_str\n",
      "in_reply_to_screen_name\n",
      "user\n",
      "geo\n",
      "coordinates\n",
      "place\n",
      "contributors\n",
      "is_quote_status\n",
      "extended_tweet\n",
      "quote_count\n",
      "reply_count\n",
      "retweet_count\n",
      "favorite_count\n",
      "entities\n",
      "favorited\n",
      "retweeted\n",
      "possibly_sensitive\n",
      "filter_level\n",
      "lang\n",
      "timestamp_ms\n"
     ]
    }
   ],
   "source": [
    "# review keys available in a single tweet.\n",
    "for key in data[0].keys():\n",
    "    print(key)"
   ]
  },
  {
   "cell_type": "markdown",
   "metadata": {},
   "source": [
    "> Remarks - Of the keys shown here, I think the particularly interesting fields are reply_count, retweet_count, and favorite_count. These values speak to how popular a given tweet is, as well as how popular a given poster is."
   ]
  },
  {
   "cell_type": "code",
   "execution_count": 56,
   "metadata": {
    "ExecuteTime": {
     "end_time": "2018-11-05T15:05:13.814064Z",
     "start_time": "2018-11-05T15:05:13.809899Z"
    }
   },
   "outputs": [
    {
     "name": "stdout",
     "output_type": "stream",
     "text": [
      "Total number of tweets extracted from json: 32\n"
     ]
    }
   ],
   "source": [
    "# unpack all tweets in data\n",
    "tweets = []\n",
    "for item in data:\n",
    "    if 'text' in item.keys():\n",
    "        tweet = item['text']\n",
    "        tweets.append(tweet)\n",
    "print('Total number of tweets extracted from json: {0}'.format(len(tweets)))\n"
   ]
  },
  {
   "cell_type": "code",
   "execution_count": 57,
   "metadata": {
    "ExecuteTime": {
     "end_time": "2018-11-05T15:05:33.166353Z",
     "start_time": "2018-11-05T15:05:33.158883Z"
    }
   },
   "outputs": [
    {
     "name": "stdout",
     "output_type": "stream",
     "text": [
      "What are we going to do about these people?  You can't send troops to watch them, so I guess they'll keep just blen… https://t.co/IpkXV2O5Md\n",
      "We are LIVE with Overwatch to start off this Monday morning! https://t.co/rFu7obLUlG #giveaways #freestuff\n",
      "@DeeJayBRS @_noncompliant_ Downloaded. Saved for future deployment.\n",
      "@ABC7Chicago 🤣\n",
      "I was 15 yrs old, with a 44\n",
      "@MrOu62611389 @golfluvr13 👍\n",
      "@easilyuncloseme thx ai!!!!\n",
      "This is an amazing podcast: the reporting, the story, Tess Clarke, and then the grace note of Tess’s conversation w… https://t.co/SRifUWydkJ\n",
      "GOD DAMMIT RIP AXE YOU WERE THE GOODEST OF GOOD BOYS\n",
      "@CTVNews #VotingTrumpsHate I’m #Canadian born #ChineseAmerican who earned her right and won't take it for granted.… https://t.co/Z57IM7t5Cb\n",
      "The difference a week can make is amazing. Face planted into last Monday on 2 hours of “sleep” and was still sizzli… https://t.co/PbAOa9w1ym\n",
      "🤤🤤😞\n",
      "Tune into @WBEZmorning on @WBEZ in just a few minutes to hear me talking abt #GoodIntentions, #polarization, and th… https://t.co/QuMaaTVBm7\n",
      "“What is the difference between an inner join and a left join in MySQL?”\n",
      "\n",
      "#MPCS53001 @UChicagoMPCS \n",
      "\n",
      "https://t.co/UbaVMbzyaC\n",
      "THIS IS THE POINT IM MAKING. She  making up anything just to talk shit. But everybody in my mentions explaining wha… https://t.co/M3RZlb4VGz\n",
      "@NashvilleBecca happy birthday 🎉🎊🎂🎈🎁 Hope you have a great day!\n",
      "Why is merging such a hard concept for people to grasp?!\n",
      "Yes please! 😍🙏❤️\n",
      "All dogs are in the push up position #mitchhedburg\n",
      "@AntonioMaio2 @AlistairPugin @JoanneCKlein Record library?\n",
      "@ChicagoCarter Thanks babe 😍🤗\n",
      "This flew over ur head also\n",
      "On baby 😭😭\n",
      "@Sealey_Andrews Me too.\n",
      "Besties #BossNHugConnection @SashaBanksWWE @itsBayleyWWE #WWEManchester https://t.co/GTBMO8HtdA\n",
      "Duke-Kentucky tomorrow night.. Eagles-Cowboys Sunday night. It’s gonna be a dark week\n",
      "@davvydmoore Leo. July.\n",
      "@ScottWarner18 Right Back At You!!!\n",
      "we’re gonna have a good week this week !\n",
      "@shawnohare1 Bahahahahaha!!\n",
      "\n",
      "(Thanks for listening 😉)\n",
      "\"so what are u doing for ur birthday\"\n",
      "\"cooking three different soups and working out twice\"\n",
      "All In Favor Of Removing Their Rights🙋🏽‍♀️\n"
     ]
    }
   ],
   "source": [
    "# print all tweets\n",
    "for t in tweets:\n",
    "    print(t)\n",
    "    "
   ]
  }
 ],
 "metadata": {
  "kernelspec": {
   "display_name": "Python 3",
   "language": "python",
   "name": "python3"
  },
  "language_info": {
   "codemirror_mode": {
    "name": "ipython",
    "version": 3
   },
   "file_extension": ".py",
   "mimetype": "text/x-python",
   "name": "python",
   "nbconvert_exporter": "python",
   "pygments_lexer": "ipython3",
   "version": "3.7.3"
  },
  "toc": {
   "base_numbering": 1,
   "nav_menu": {},
   "number_sections": true,
   "sideBar": true,
   "skip_h1_title": false,
   "title_cell": "Table of Contents",
   "title_sidebar": "Contents",
   "toc_cell": false,
   "toc_position": {},
   "toc_section_display": true,
   "toc_window_display": false
  }
 },
 "nbformat": 4,
 "nbformat_minor": 2
}
