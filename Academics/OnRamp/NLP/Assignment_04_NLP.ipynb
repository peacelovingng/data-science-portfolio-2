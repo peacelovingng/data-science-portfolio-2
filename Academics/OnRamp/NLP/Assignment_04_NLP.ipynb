{
 "cells": [
  {
   "cell_type": "markdown",
   "metadata": {},
   "source": [
    "Explore\n",
    "\n",
    "1. Try set up a streaming for twitter using the geo-locations as the query parameter.\n",
    "\n",
    "2. Try the same with the search API as well.\n",
    "\n",
    "    Now that we have all this JSON data from twitter stored in a file, let's take a quick peak at what is JSON and how we can parse this data using python.\n",
    "\n",
    "3. Work on the twitter data that you have extracted :\n",
    "\n",
    "Try load the json from file into memory\n",
    "Check out the various keys for any one json object, there are some intresting data fields that can be used for different projects.\n",
    "Try extract the tweets alone from this json dataset.\n",
    "\n",
    "Depending on the questions,file uploads or screenshots are necessary to show your work."
   ]
  },
  {
   "cell_type": "code",
   "execution_count": 2,
   "metadata": {
    "ExecuteTime": {
     "end_time": "2018-10-08T12:38:27.537083Z",
     "start_time": "2018-10-08T12:38:27.531804Z"
    }
   },
   "outputs": [],
   "source": [
    "import os\n",
    "import sys\n",
    "\n",
    "modulePath = os.path.abspath(os.path.join('../../..'))\n",
    "if modulePath not in sys.path:\n",
    "    sys.path.append(modulePath)\n",
    "import config\n",
    "\n",
    "\n",
    "import twitter\n",
    "\n",
    "api = twitter.Api(consumer_key = config.apiKey\n",
    "                  ,consumer_secret = config.apiSec\n",
    "                  ,access_token_key = config.accessToken\n",
    "                  ,access_token_secret = config.accessSec\n",
    "                 )\n"
   ]
  }
 ],
 "metadata": {
  "kernelspec": {
   "display_name": "Python 3",
   "language": "python",
   "name": "python3"
  },
  "language_info": {
   "codemirror_mode": {
    "name": "ipython",
    "version": 3
   },
   "file_extension": ".py",
   "mimetype": "text/x-python",
   "name": "python",
   "nbconvert_exporter": "python",
   "pygments_lexer": "ipython3",
   "version": "3.6.4"
  },
  "toc": {
   "base_numbering": 1,
   "nav_menu": {},
   "number_sections": true,
   "sideBar": true,
   "skip_h1_title": false,
   "title_cell": "Table of Contents",
   "title_sidebar": "Contents",
   "toc_cell": false,
   "toc_position": {},
   "toc_section_display": true,
   "toc_window_display": false
  }
 },
 "nbformat": 4,
 "nbformat_minor": 2
}
