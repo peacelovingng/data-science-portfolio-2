{
 "cells": [
  {
   "cell_type": "markdown",
   "metadata": {},
   "source": [
    "### Assignment 01"
   ]
  },
  {
   "cell_type": "markdown",
   "metadata": {},
   "source": [
    "###### Note: To be done after completing Module 3\n",
    "\n",
    "In this exercise, we will work on some problems to get practical experience on the concepts learnt so far."
   ]
  },
  {
   "cell_type": "code",
   "execution_count": null,
   "metadata": {
    "collapsed": true
   },
   "outputs": [],
   "source": [
    "# Question 1\n",
    "# find the square of given list\n",
    "\n",
    "num_list = [4,6,8,12,45,78]\n",
    "# print the square of num_list\n"
   ]
  },
  {
   "cell_type": "code",
   "execution_count": null,
   "metadata": {
    "collapsed": false
   },
   "outputs": [],
   "source": [
    "# Question 2\n",
    "# replace all the elements in even indexes with squares and odd indexes with cubes\n",
    "\n",
    "num_list = list(range(20))\n"
   ]
  },
  {
   "cell_type": "code",
   "execution_count": null,
   "metadata": {
    "collapsed": true
   },
   "outputs": [],
   "source": [
    "# Question 3\n",
    "# Using negative indexing, reverse the given list\n",
    "\n",
    "num_list = list(range(20))\n"
   ]
  },
  {
   "cell_type": "code",
   "execution_count": null,
   "metadata": {
    "collapsed": true
   },
   "outputs": [],
   "source": [
    "# Quesiton 4\n",
    "# Given a tuple, convert it to a list and remove the last element using remove()\n",
    "\n",
    "num_tup = (1,2,3,4,5,6)\n",
    "# output should look like [1,2,3,4,5]\n",
    "__ = list(___)\n",
    "___.remove(___)\n",
    "print(___)"
   ]
  },
  {
   "cell_type": "code",
   "execution_count": 4,
   "metadata": {
    "collapsed": false
   },
   "outputs": [],
   "source": [
    "# Question 5\n",
    "# Given a list, find two sublists: list with even indexed elements and other with odd indexed elements\n",
    "# return a new list which is formed after concatenating the even indexed list with odd indexed list\n",
    "\n",
    "# Ex: given [1,2,3,4,5], the output should be: [1,3,5,2,4]\n",
    "num_list = list(range(1,6))\n"
   ]
  },
  {
   "cell_type": "code",
   "execution_count": null,
   "metadata": {
    "collapsed": true
   },
   "outputs": [],
   "source": [
    "# Question 6\n",
    "# Using for-loop, print the remainder of all the elements in a given list when divided with 3\n",
    "\n",
    "num_list = list(range(10))"
   ]
  },
  {
   "cell_type": "code",
   "execution_count": null,
   "metadata": {
    "collapsed": true
   },
   "outputs": [],
   "source": [
    "# Question 7\n",
    "# You are designer for the new login system for you class project.\n",
    "# To save the usernames and passwords, you want to use a dictionary as the data structure\n",
    "# Username will be the key and the value will be the password. \n",
    "# For simplicity lets assume we store plaintext passwords\n",
    "# write program which asks a new user for username and password\n",
    "# call a function called register_user which prints \"Registration complete!\" and\n",
    "# returns True after successfully inserting the username and password key-value pair\n",
    "# If the selected username already exists, the function should print \"Username already exists. Try again!\" and return False\n",
    "# Based on the return value the main program should decide to exit or ask for new username\n",
    "\n",
    "def register_user(login_dict, uname, passwd):\n",
    "    if ___:\n",
    "        login_dict[__] = ___\n",
    "        print(___)\n",
    "        return ____\n",
    "    else:\n",
    "        print(___)\n",
    "        return ___\n",
    "\n",
    "login_dict = {'jdoe':'23!@56'}    \n",
    "\n",
    "\n",
    "# hint: use of break statement is required\n",
    "while True:\n",
    "    uname = ____\n",
    "    passwd = ___\n",
    "    \n",
    "    if register_user(___,___,___):\n",
    "        ___\n",
    "    else:\n",
    "        ___\n"
   ]
  },
  {
   "cell_type": "code",
   "execution_count": null,
   "metadata": {
    "collapsed": true
   },
   "outputs": [],
   "source": [
    "# Question 8\n",
    "# Create a generator function to return numbers from given number 'n' in decreasing order\n",
    "\n",
    "# if n=20, generate numbers from 20 to 0\n",
    "\n",
    "\n",
    "\n",
    "def reverse_num_generator(n):\n",
    "    \n",
    "    while n __ :\n",
    "        yield __\n",
    "        n __\n",
    "        \n",
    "\n",
    "# print numbers from 10 to 0 (n=10)\n",
    "rev = ____\n",
    "\n",
    "for num in rev:\n",
    "    print(num)\n",
    "    "
   ]
  }
 ],
 "metadata": {
  "kernelspec": {
   "display_name": "Python 3",
   "language": "python",
   "name": "python3"
  },
  "language_info": {
   "codemirror_mode": {
    "name": "ipython",
    "version": 3
   },
   "file_extension": ".py",
   "mimetype": "text/x-python",
   "name": "python",
   "nbconvert_exporter": "python",
   "pygments_lexer": "ipython3",
   "version": "3.6.0"
  }
 },
 "nbformat": 4,
 "nbformat_minor": 2
}
