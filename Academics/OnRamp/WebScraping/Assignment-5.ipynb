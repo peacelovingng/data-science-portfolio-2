{
 "cells": [
  {
   "cell_type": "markdown",
   "metadata": {},
   "source": [
    "### Assignment 05"
   ]
  },
  {
   "cell_type": "markdown",
   "metadata": {},
   "source": [
    "###### Note: To be done after completing Module 7\n",
    "\n",
    "In this exercise, we will work on some problems to get practical experience on the concepts learnt so far."
   ]
  },
  {
   "cell_type": "code",
   "execution_count": null,
   "metadata": {
    "collapsed": false
   },
   "outputs": [],
   "source": [
    "# Question 1\n",
    "# Parse the given URL and print it's components\n",
    "\n",
    "from urllib.parse import urlparse\n",
    "from pprint import pprint\n",
    "\n",
    "url = r'http://localhost:8888/notebooks/17-urllib%20Package.ipynb'\n",
    "url_parsed = ___\n",
    "\n",
    "print('Parsing result for:', ___, '\\n')\n",
    "print(url_parsed, '\\n')\n",
    "print('Scheme of the URL is:', ___)\n",
    "print('The network location is:', ___)\n",
    "print('The path is:', ___)"
   ]
  },
  {
   "cell_type": "code",
   "execution_count": null,
   "metadata": {
    "collapsed": false
   },
   "outputs": [],
   "source": [
    "# Question 2\n",
    "# Access Quora's robots.txt file\n",
    "# 1. Using urllib.robotparser module, parse Quora's robot.txt file\n",
    "# 2. Of the given four test URLs, find which of the urls can be accessed legally\n",
    "# Repeat step 2 as different client agents:\n",
    "#      a. '*' client agent\n",
    "#      b. 'PGBot' client agent\n",
    "#      c. 'ia_archiver'  client agent\n",
    "\n",
    "\n",
    "from urllib.robotparser import RobotFileParser\n",
    "\n",
    "# URL to Quoras's robots.txt file\n",
    "# find the url to robots.txt file\n",
    "quora_robot_url = ___\n",
    "\n",
    "# test URLs\n",
    "test_url1 = r'https://www.quora.com/topic/Robert-Downey-Jr-actor' # hint: only PGBot can access\n",
    "test_url2 = r'https://www.quora.com/Why-is-Robert-Downey-Jr-so-popular' # hint: only PGBot can access\n",
    "test_url3 = r'https://www.quora.com/about' # hint: only PGBot can access\n",
    "test_url4 = r'https://www.quora.com/profile/Hillary-Clinton' # hint: only PGBot can access\n",
    "\n",
    "# list of test urls for easy processing\n",
    "test_urls = [test_url1, test_url2, test_url3, test_url4]\n",
    "\n",
    "# Create a RobotFileParser object\n",
    "# Pass Quoras's URL while creating the object\n",
    "quora_robot_parser = ___\n",
    "quora_robot_parser___\n",
    "\n",
    "print('The robots file read is located at:', quora_robot_parser.url, '\\n')\n",
    "\n",
    "\n",
    "user_agents = [ ___, ___, ___]  # fill in the names of the given user-agents\n",
    "\n",
    "print('-'*60, '\\n')\n",
    "\n",
    "\n",
    "# Iterate over each user-agent in the list\n",
    "#         then, for each user-agent, iterate over the url list\n",
    "#                  validate the URL for a user-agent against the robots.txt file\n",
    "\n",
    "\n",
    "# Note: Using for loops to access each url for multiple user-agents automates our task\n",
    "# the outer loop can be urls and inner loop can iterate over user-agents.\n",
    "# Use any other method you like.\n",
    "# To check you correctness, see the comments next to the test URLs\n",
    "\n",
    "for ___:\n",
    "    \n",
    "    print('User agent:', agent)\n",
    "    \n",
    "    for ___:\n",
    "        # validating request\n",
    "        valid_request = ___\n",
    "        print('The requested URL', url, 'can be crawled:', valid_request)\n",
    "    \n",
    "    print('-'*60, '\\n')\n"
   ]
  },
  {
   "cell_type": "code",
   "execution_count": null,
   "metadata": {
    "collapsed": false
   },
   "outputs": [],
   "source": [
    "# Question 3\n",
    "# Request the given URL and pretty print the HTML obtained from the request\n",
    "# Spoof the client as a real user\n",
    "# Request the page: https://www.quora.com/topic/United-Nations\n",
    "#\n",
    "\n",
    "from bs4 import BeautifulSoup\n",
    "from urllib.parse import urlencode\n",
    "from urllib.request import Request, urlopen\n",
    "\n",
    "url = r'https://www.quora.com/topic/United-Nations'\n",
    "\n",
    "# Creating request headers\n",
    "req_headers = {}\n",
    "req_headers['user-agent'] = ___\n",
    "\n",
    "# Creating a request object\n",
    "req = ___\n",
    "\n",
    "# Requesting data from the website\n",
    "# fill in the blanks\n",
    "try:\n",
    "    response = ___\n",
    "    page_content = ___\n",
    "    bs = ___\n",
    "    print(bs.prettify())\n",
    "except Exception as e:\n",
    "    print(e)\n",
    "    "
   ]
  },
  {
   "cell_type": "code",
   "execution_count": null,
   "metadata": {
    "collapsed": false
   },
   "outputs": [],
   "source": [
    "# Question 4\n",
    "# Using the `bs` object created in the last question,\n",
    "# pretty print just the <body> part of the HTML document received\n",
    "\n",
    "print(bs.___.___)"
   ]
  },
  {
   "cell_type": "code",
   "execution_count": null,
   "metadata": {
    "collapsed": false
   },
   "outputs": [],
   "source": [
    "# Question 5\n",
    "# Using Chrome dev-tools, inspect the question element\n",
    "# and print out all the questions rendered in the page\n",
    "\n",
    "\n",
    "# Hint: \"question_text\" encloses the class \"rendered_qtext\"\n",
    "#       which encloses the questions.\n",
    "#       Try fetching the contents of both the classes\n",
    "#       See the results and chose the best one\n",
    "#       Your final output should be a questions printed, one in each line\n",
    "\n"
   ]
  },
  {
   "cell_type": "markdown",
   "metadata": {},
   "source": [
    "You have successfully learnt the basic concepts of the web and packages necessary for handling web content. In the following modules, you'll learn about bhilding spiders and configuring them to fetch content of our interest.\n",
    "\n",
    "See you in the next module!"
   ]
  }
 ],
 "metadata": {
  "kernelspec": {
   "display_name": "Python 3",
   "language": "python",
   "name": "python3"
  },
  "language_info": {
   "codemirror_mode": {
    "name": "ipython",
    "version": 3
   },
   "file_extension": ".py",
   "mimetype": "text/x-python",
   "name": "python",
   "nbconvert_exporter": "python",
   "pygments_lexer": "ipython3",
   "version": "3.6.0"
  }
 },
 "nbformat": 4,
 "nbformat_minor": 2
}
