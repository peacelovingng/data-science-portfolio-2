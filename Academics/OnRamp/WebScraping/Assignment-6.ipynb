{
 "cells": [
  {
   "cell_type": "markdown",
   "metadata": {},
   "source": [
    "### Assignment 06"
   ]
  },
  {
   "cell_type": "markdown",
   "metadata": {},
   "source": [
    "###### Note: To be done after completing Module 8\n",
    "\n",
    "In this exercise, we will work on some problems to get practical experience on the concepts learnt so far."
   ]
  },
  {
   "cell_type": "markdown",
   "metadata": {},
   "source": [
    "#### INSTRUCTIONS\n",
    "\n",
    "For all the questions in this assignment, students are required to submit a screenshot of their terminal/ command prompt and attach any files genreated in the process (output files, spider files, and scrapy project files)\n",
    "\n",
    "All the questions have to be executed using the commands provided in your command prompt (Windows) or terminal (UNIX/Linux/Mac).\n",
    "\n",
    "1. Questions 1-4 have to be done using `scrapy shell` \n",
    "2. Question 5 has to to executed using `scrapy runspider spider_file.py -o outputfile_name -t file_extension`"
   ]
  },
  {
   "cell_type": "markdown",
   "metadata": {},
   "source": [
    "\n",
    "\n",
    "### Question 1\n",
    "From the given Stackoverflow page, extract all the questions listed on the page.\n",
    "\n",
    "```python\n",
    "url = https://stackoverflow.com/questions\n",
    "```\n",
    "\n",
    "__Note__: Question 1 & 2 require the same page to be loaded. It is better you do not close the shell\n",
    "\n",
    "![title](q1.png)\n"
   ]
  },
  {
   "cell_type": "markdown",
   "metadata": {},
   "source": [
    "### Question 2\n",
    "Request the page in Question 1 (or use the same shell) and fetch the hyperlink of each question listed on the page.\n",
    "\n",
    "![title](q2.png)\n"
   ]
  },
  {
   "cell_type": "markdown",
   "metadata": {},
   "source": [
    "### Question 3\n",
    "\n",
    "This is question is similar to the previous questions\n",
    "\n",
    "Go to the given Stackoverflow (jobs) page and extract the titles/role of all the jobs listed on the page.\n",
    "\n",
    "```\n",
    "url = https://stackoverflow.com/jobs?med=site-ui&ref=jobs-tab\n",
    "```\n",
    "\n",
    "__Note__: Question 3 & 4 require the same page to be loaded. It is better you do not close the shell\n",
    "\n",
    "![title](q3.png)\n"
   ]
  },
  {
   "cell_type": "markdown",
   "metadata": {},
   "source": [
    "### Question 4\n",
    "Request the page in Question 3 (or use the same shell), fetch the location of all the jobs posted on the given page.\n",
    "\n",
    "![title](q4.png)\n"
   ]
  },
  {
   "cell_type": "markdown",
   "metadata": {},
   "source": [
    "### Question 5\n",
    "\n",
    "Write a spider to fetch details of the jobs listed on Stackoverflow jobs page. The details to be fetched are: Job title, Company, Location of the job. All the results must be written to a CSV file name `jobs.csv`.\n",
    "\n",
    "The required `Item` class would be:\n",
    "\n",
    "```python\n",
    "class JobItem(scrapy.Item):\n",
    "\t# Data structure to store the title, company name and location of the job\n",
    "\ttitle = scrapy.Field()\n",
    "\tcompany = scrapy.Field()\n",
    "\tlocation = scrapy.Field()\n",
    "```\n",
    "\n",
    "\n",
    "The link to Stackoverflow jobs page is: https://stackoverflow.com/jobs?med=site-ui&ref=jobs-tab\n"
   ]
  },
  {
   "cell_type": "markdown",
   "metadata": {},
   "source": [
    "### Question 6\n",
    "\n",
    "Congrats on reaching this far! There is just one more question left. This question is an extension to the previous question.\n",
    "\n",
    "In Question 5, you have stored all the jobs listed on the first page. Now, add page following capability to the spider you have just written. There are approximately `108` pages of job listing on the website: https://stackoverflow.com/jobs?med=site-ui&ref=jobs-tab.\n",
    "\n",
    "Crawl all the pages and store all the jobs postings to a CSV file.\n",
    "\n",
    "*Hint*: Just follow the link referred by `next` button at the bottom of each page. (See `Following` section in Lecture 20)\n",
    "\n",
    "*Tip*: Write the URL following code before processing the job data in `parse()`. This makes the program run faster. There is no need to write a new `parse` method as the new page we request has the same structure as the current page. We can use the same `parse()` as _call-back_ function.\n"
   ]
  },
  {
   "cell_type": "code",
   "execution_count": 7,
   "metadata": {
    "ExecuteTime": {
     "end_time": "2018-12-04T12:43:17.739549Z",
     "start_time": "2018-12-04T12:43:17.735428Z"
    }
   },
   "outputs": [
    {
     "data": {
      "text/plain": [
       "'hi    hi'"
      ]
     },
     "execution_count": 7,
     "metadata": {},
     "output_type": "execute_result"
    }
   ],
   "source": [
    "string = ' hi   \\n hi    '\n",
    "string.strip().replace('\\n','')"
   ]
  },
  {
   "cell_type": "markdown",
   "metadata": {},
   "source": [
    "## Congratualtions! \n",
    "\n",
    "You have reached the end of this course. It has been a long journey. There are more challanges which we did not deal in this basic course. The idea was to impart essential knowledge so that the students ca n build on that.\n",
    "\n",
    "Good luck!"
   ]
  }
 ],
 "metadata": {
  "celltoolbar": "Slideshow",
  "kernelspec": {
   "display_name": "Python 3",
   "language": "python",
   "name": "python3"
  },
  "language_info": {
   "codemirror_mode": {
    "name": "ipython",
    "version": 3
   },
   "file_extension": ".py",
   "mimetype": "text/x-python",
   "name": "python",
   "nbconvert_exporter": "python",
   "pygments_lexer": "ipython3",
   "version": "3.6.5"
  },
  "toc": {
   "base_numbering": 1,
   "nav_menu": {},
   "number_sections": true,
   "sideBar": true,
   "skip_h1_title": false,
   "title_cell": "Table of Contents",
   "title_sidebar": "Contents",
   "toc_cell": false,
   "toc_position": {},
   "toc_section_display": true,
   "toc_window_display": false
  }
 },
 "nbformat": 4,
 "nbformat_minor": 2
}
