{
 "cells": [
  {
   "cell_type": "markdown",
   "metadata": {},
   "source": [
    "### Assignment 04"
   ]
  },
  {
   "cell_type": "markdown",
   "metadata": {},
   "source": [
    "###### Note: To be done after completing Module 6\n",
    "\n",
    "In this exercise, we will work on some problems to get practical experience on the concepts learnt so far."
   ]
  },
  {
   "cell_type": "markdown",
   "metadata": {},
   "source": [
    "#### Problem Statement\n",
    "\n",
    "As a class project, we will write a client program which will extract tweets with the hash-tag '#happy'. This client will handle rate-limit errors and collect as many tweets as possible in a given time.\n",
    "\n",
    "The tweets collected would be stored as a CSV file `\"tweets.csv\"` with the following contents: `id`, `lang`, `user.screen_name`, `text`."
   ]
  },
  {
   "cell_type": "code",
   "execution_count": null,
   "metadata": {
    "ExecuteTime": {
     "end_time": "2018-12-03T03:59:08.758515Z",
     "start_time": "2018-12-03T03:59:05.351407Z"
    }
   },
   "outputs": [],
   "source": [
    "import csv\n",
    "import tweepy\n",
    "import time\n",
    "\n",
    "modulePath = os.path.abspath(os.path.join('../../..'))\n",
    "if modulePath not in sys.path:\n",
    "    sys.path.append(modulePath)\n",
    "import config # this is a file on my local machine that stores the API keys and access tokens\n",
    "\n",
    "# Helper functions\n",
    "# implement the ratelimiting function\n",
    "def limit_handler(cursor):\n",
    "    while True:\n",
    "        try:\n",
    "            yield cursor.next()\n",
    "        except tweepy.TweepError:        \n",
    "            print('Sleeping for 15 minutes')\n",
    "            time.sleep(15 * 60)\n",
    "\n",
    "# ------------------------------------------------------------------------\n",
    "# Main Program\n",
    "# ------------------------------------------------------------------------\n",
    "\n",
    "\n",
    "# paste you consumer keys and access tokens here\n",
    "consumer_key = config.apiKey\n",
    "consumer_secret = config.apiSec\n",
    "access_token = config.accessToken\n",
    "access_token_secret = config.accessSec\n",
    "\n",
    "# create api object after proper authentication\n",
    "auth = tweepy.OAuthHandler(consumer_key, consumer_secret)\n",
    "auth.set_access_token(access_token, access_token_secret)\n",
    "api = tweepy.API(auth)\n",
    "\n",
    "            \n",
    "search_tag = '#happy'\n",
    "fname = 'tweets.csv'\n",
    "\n",
    "# creating a search cursor\n",
    "search_cursor = tweepy.Cursor(api.search, search_tag).items(5000)\n",
    "\n",
    "with open(fname, 'w') as f:\n",
    "    field_names = ['ID', 'Language', 'Screen Name', 'Text']\n",
    "    for tweet in limit_handler(search_cursor):\n",
    "        exportwriter = csv.writer(f)\n",
    "        exportwriter.writerow([tweet.id\n",
    "                              ,tweet.lang\n",
    "                              ,tweet.user.screen_name\n",
    "                              ,tweet.text.encode('utf-8')]\n",
    "                             )\n",
    "print(\"Write to file successful!\")\n",
    "        \n"
   ]
  },
  {
   "cell_type": "code",
   "execution_count": 47,
   "metadata": {
    "ExecuteTime": {
     "end_time": "2018-12-03T03:54:13.824898Z",
     "start_time": "2018-12-03T03:54:13.816602Z"
    }
   },
   "outputs": [
    {
     "name": "stdout",
     "output_type": "stream",
     "text": [
      "****************\n",
      "['1069423109634170880', 'en', 'pecaileigh', \"b'RT @TheoHOfficial_: #Rudolph #theohoran #memories #armani #happy hugs and kisses @giorgioarmani https://t.co/SPo0LQUKz0'\"]\n",
      "****************\n",
      "['1069423050918105090', 'en', 'AmberPierson25', \"b'We are the #1 CBD Oil worldwide!! My bak pain down from a 10 to a 1! https://t.co/4iZ323HuVU #qualityoilmatters\\\\xe2\\\\x80\\\\xa6 https://t.co/vcNUNuwGMX'\"]\n",
      "****************\n",
      "['1069423027694243840', 'en', 'Joyce5577', \"b'\\\\xe2\\\\xad\\\\x90\\\\xf0\\\\x9f\\\\x92\\\\xab\\\\xe2\\\\xad\\\\x90CHRISTMAS WITH GRANDPA by @Joyce5577 \\\\n\\\\n\\\\xe2\\\\xad\\\\x90\\\\xf0\\\\x9f\\\\x92\\\\xab\\\\xe2\\\\xad\\\\x90https://t.co/Z0Hp7jfhuN \\\\n\\\\n\\\\xe2\\\\xad\\\\x90\\\\xf0\\\\x9f\\\\x92\\\\xab\\\\xe2\\\\xad\\\\x90#creativity #iartg #RT #Christmas\\\\xe2\\\\x80\\\\xa6 https://t.co/AatYea8UTX'\"]\n",
      "****************\n",
      "['1069422973021384704', 'ja', 'oe7xsaya', \"b'RT @HOMEALONe_ksk: \\\\xe3\\\\x80\\\\x8c\\\\xe4\\\\xbf\\\\xba\\\\xe3\\\\x81\\\\xa8\\\\xe3\\\\x82\\\\xbf\\\\xe3\\\\x83\\\\xab\\\\xe3\\\\x83\\\\x88\\\\xe3\\\\x81\\\\xab\\\\xe3\\\\x80\\\\x81\\\\xe5\\\\x85\\\\xa5\\\\xe3\\\\x82\\\\x89\\\\xe3\\\\x81\\\\xaa\\\\xe3\\\\x81\\\\x84\\\\xe3\\\\x81\\\\x8b\\\\xef\\\\xbc\\\\x9f\\\\xe3\\\\x80\\\\x8d\\\\n\\\\n#cat #catstagram  #catsofinstagram #mycat\\\\xf0\\\\x9f\\\\x98\\\\xbb#sora #rikku #sleep #\\\\xe3\\\\x81\\\\xad\\\\xe3\\\\x81\\\\x93 #\\\\xe3\\\\x81\\\\xad\\\\xe3\\\\x81\\\\x93\\\\xe5\\\\xa5\\\\xbd\\\\xe3\\\\x81\\\\x8d #\\\\xe5\\\\xad\\\\x90\\\\xe7\\\\x8c\\\\xab #kitten #\\\\xe7\\\\x8c\\\\xab #follow\\\\xef\\\\xbd\\\\x8de #happy\\\\xe2\\\\x80\\\\xa6'\"]\n",
      "****************\n",
      "['1069422972291739648', 'en', 'crismesa1', \"b'RT @hello_and_hello: \\\\xf0\\\\x9f\\\\x92\\\\x96\\\\xf0\\\\x9f\\\\x92\\\\x95\\\\xe2\\\\x9d\\\\x84\\\\xef\\\\xb8\\\\x8f\\\\xf0\\\\x9f\\\\x92\\\\x97\\\\xe2\\\\x9c\\\\xa8Happy December\\\\xe2\\\\x9c\\\\xa8\\\\xf0\\\\x9f\\\\x92\\\\x97\\\\xe2\\\\x9d\\\\x84\\\\xef\\\\xb8\\\\x8f\\\\xf0\\\\x9f\\\\x92\\\\x95\\\\xf0\\\\x9f\\\\x92\\\\x96#TwitterWorld\\\\xf0\\\\x9f\\\\x8c\\\\x8f\\\\xf0\\\\x9f\\\\x8c\\\\x8d\\\\xf0\\\\x9f\\\\x8c\\\\x8e\\\\n  \\\\xe3\\\\x80\\\\x80\\\\xf0\\\\x9f\\\\x8c\\\\x88\\\\xf0\\\\x9f\\\\x8e\\\\xb5I hope that many good things will happen to you !!!\\\\xf0\\\\x9f\\\\x8e\\\\xb6\\\\xf0\\\\x9f\\\\x98\\\\x8d\\\\xf0\\\\x9f\\\\x92\\\\x90\\\\xf0\\\\x9f\\\\x92\\\\x9d\\\\xe2\\\\x80\\\\xa6'\"]\n",
      "****************\n",
      "['1069422921419030533', 'en', 'brockhurstmumc3', \"b'RT @JohnnyeFontane: Elvis son says HAPPY HOLIDAYS #elvis #son #happy #holidays #to #you #and #your #family #on #paramount #studio #lot #hol\\\\xe2\\\\x80\\\\xa6'\"]\n",
      "****************\n",
      "['1069422844164038656', 'en', 'duckett2574', \"b'RT @JohnnyeFontane: Elvis son says HAPPY HOLIDAYS #elvis #son #happy #holidays #to #you #and #your #family #on #paramount #studio #lot #hol\\\\xe2\\\\x80\\\\xa6'\"]\n",
      "****************\n",
      "['1069422831530729472', 'ja', 'cLTE0HnSDSE8FJo', \"b'RT @steuchep: \\\\xe3\\\\x81\\\\xaa\\\\xe3\\\\x82\\\\x93\\\\xe3\\\\x81\\\\x8b\\\\xe3\\\\x83\\\\xaf\\\\xe3\\\\x82\\\\xaf\\\\xe3\\\\x83\\\\xaf\\\\xe3\\\\x82\\\\xaf\\\\xe3\\\\x81\\\\x97\\\\xe3\\\\x81\\\\x9f\\\\xe4\\\\xba\\\\xba\\\\xe3\\\\x81\\\\xafRT  \\\\n\\\\xe3\\\\x81\\\\xaa\\\\xe3\\\\x82\\\\x93\\\\xe3\\\\x81\\\\x8b\\\\xe3\\\\x83\\\\xaf\\\\xe3\\\\x82\\\\xaf\\\\xe3\\\\x83\\\\xaf\\\\xe3\\\\x82\\\\xaf\\\\xe3\\\\x81\\\\x97\\\\xe3\\\\x81\\\\x9f\\\\xe4\\\\xba\\\\xba\\\\xe3\\\\x81\\\\xafRT  \\\\n\\\\xe3\\\\x81\\\\xaa\\\\xe3\\\\x82\\\\x93\\\\xe3\\\\x81\\\\x8b\\\\xe3\\\\x83\\\\xaf\\\\xe3\\\\x82\\\\xaf\\\\xe3\\\\x83\\\\xaf\\\\xe3\\\\x82\\\\xaf\\\\xe3\\\\x81\\\\x97\\\\xe3\\\\x81\\\\x9f\\\\xe4\\\\xba\\\\xba\\\\xe3\\\\x81\\\\xafRT   #NAOTO #\\\\xe4\\\\xb8\\\\x89\\\\xe4\\\\xbb\\\\xa3\\\\xe7\\\\x9b\\\\xae #happy #\\\\xe3\\\\x81\\\\x8b\\\\xe3\\\\x81\\\\xa3\\\\xe3\\\\x81\\\\x93\\\\xe3\\\\x81\\\\x84\\\\xe3\\\\x81\\\\x84\\\\n#\\\\xe5\\\\xb2\\\\xa9\\\\xe7\\\\x94\\\\xb0\\\\xe5\\\\x89\\\\x9b\\\\xe5\\\\x85\\\\xb8 #\\\\xe4\\\\xb8\\\\x89\\\\xe4\\\\xbb\\\\xa3\\\\xe7\\\\x9b\\\\xaeJSoulBrothers #\\\\xe4\\\\xb8\\\\x89\\\\xe4\\\\xbb\\\\xa3\\\\xe7\\\\x9b\\\\xae #\\\\xe4\\\\xb8\\\\x89\\\\xe4\\\\xbb\\\\xa3\\\\xe7\\\\x9b\\\\xaeJSB #\\\\xe5\\\\xb2\\\\xa9\\\\xe3\\\\x81\\\\xa1\\\\xe3\\\\x82\\\\x83\\\\xe3\\\\x82\\\\x93 https://\\\\xe2\\\\x80\\\\xa6'\"]\n",
      "****************\n",
      "['1069422812983508992', 'en', 'WorldAirWave', \"b'RT @Randy_INC_: Happy Sunday! \\\\xf0\\\\x9f\\\\x98\\\\x8a\\\\xf0\\\\x9f\\\\x98\\\\x8a\\\\xf0\\\\x9f\\\\x98\\\\x8a #SundayFunday #happy https://t.co/6TX5cNaHrN'\"]\n",
      "****************\n",
      "['1069422773641072640', 'en', 'MarketSavant', \"b'RT @EnjoyNature: Old wooden houses and winter night at Stavanger  Norway\\\\xf0\\\\x9f\\\\x87\\\\xb3\\\\xf0\\\\x9f\\\\x87\\\\xb4\\\\n\\\\n#Travel #Nature #Photo #Lights #Cool #Mood #December #Happy #Ho\\\\xe2\\\\x80\\\\xa6'\"]\n"
     ]
    }
   ],
   "source": [
    "# Load first 10 tweets to review results\n",
    "\n",
    "fname = \"tweets.csv\"\n",
    "\n",
    "with open(fname) as f:\n",
    "    counter = 0\n",
    "    filereader = csv.reader(f)\n",
    "    for row in filereader:\n",
    "        if counter == 10:\n",
    "            break\n",
    "        else:\n",
    "            print('****************')\n",
    "            print(row)\n",
    "            counter += 1\n"
   ]
  },
  {
   "cell_type": "markdown",
   "metadata": {},
   "source": [
    "You have successfully implemented an API client! In the next module, we will learn about HTML, XML like semi-structured web data formats. Using urllib and BeautifulSoup packages, we try to extract content from these file formats.\n",
    "\n",
    "See you in the next module"
   ]
  }
 ],
 "metadata": {
  "kernelspec": {
   "display_name": "Python 3",
   "language": "python",
   "name": "python3"
  },
  "language_info": {
   "codemirror_mode": {
    "name": "ipython",
    "version": 3
   },
   "file_extension": ".py",
   "mimetype": "text/x-python",
   "name": "python",
   "nbconvert_exporter": "python",
   "pygments_lexer": "ipython3",
   "version": "3.6.5"
  },
  "toc": {
   "base_numbering": 1,
   "nav_menu": {},
   "number_sections": true,
   "sideBar": true,
   "skip_h1_title": false,
   "title_cell": "Table of Contents",
   "title_sidebar": "Contents",
   "toc_cell": false,
   "toc_position": {},
   "toc_section_display": true,
   "toc_window_display": false
  }
 },
 "nbformat": 4,
 "nbformat_minor": 2
}
