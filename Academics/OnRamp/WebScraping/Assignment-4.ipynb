{
 "cells": [
  {
   "cell_type": "markdown",
   "metadata": {},
   "source": [
    "### Assignment 04"
   ]
  },
  {
   "cell_type": "markdown",
   "metadata": {},
   "source": [
    "###### Note: To be done after completing Module 6\n",
    "\n",
    "In this exercise, we will work on some problems to get practical experience on the concepts learnt so far."
   ]
  },
  {
   "cell_type": "markdown",
   "metadata": {},
   "source": [
    "#### Problem Statement\n",
    "\n",
    "As a class project, we will write a client program which will extract tweets with the hash-tag '#happy'. This client will handle rate-limit errors and collect as many tweets as possible in a given time.\n",
    "\n",
    "The tweets collected would be stored as a CSV file `\"tweets.csv\"` with the following contents: `id`, `lang`, `user.screen_name`, `text`."
   ]
  },
  {
   "cell_type": "code",
   "execution_count": 27,
   "metadata": {},
   "outputs": [
    {
     "name": "stderr",
     "output_type": "stream",
     "text": [
      "C:\\ProgramData\\Anaconda3\\lib\\site-packages\\ipykernel\\__main__.py:53: DeprecationWarning: generator 'limit_handled' raised StopIteration\n"
     ]
    }
   ],
   "source": [
    "import csv\n",
    "import tweepy\n",
    "\n",
    "# Helper functions\n",
    "# implement the ratelimiting function\n",
    "def limit_handled(cursor):\n",
    "    # dill in your code\n",
    "\n",
    "# ------------------------------------------------------------------------\n",
    "# Main Program\n",
    "# ------------------------------------------------------------------------\n",
    "\n",
    "\n",
    "# paste you consumer keys and access tokens here\n",
    "consumer_key = \"\"\n",
    "consumer_secret = \"\"\n",
    "access_token = \"\"\n",
    "access_token_secret = \"\"\n",
    "\n",
    "# create api object after proper authentication\n",
    "            \n",
    "search_tag = ___ \n",
    "fname = ___ \n",
    "\n",
    "# creating a search cursor\n",
    "search_cursor = ___\n",
    "\n",
    "with open(fname, 'w') as f:\n",
    "    # defining the field names\n",
    "    field_names = ['ID', 'Language', 'Screen Name', 'Text']\n",
    "    \n",
    "    # fill in your code\n",
    "    \n",
    "    # fields to be stored in CSV file\n",
    "    # tweet.id,\n",
    "    # tweet.lang,\n",
    "    # tweet.user.screen_name,\n",
    "    # tweet.text.encode('utf-8')\n",
    "    "
   ]
  },
  {
   "cell_type": "markdown",
   "metadata": {},
   "source": [
    "You have successfully implemented an API client! In the next module, we will learn about HTML, XML like semi-structured web data formats. Using urllib and BeautifulSoup packages, we try to extract content from these file formats.\n",
    "\n",
    "See you in the next module"
   ]
  }
 ],
 "metadata": {
  "kernelspec": {
   "display_name": "Python 3",
   "language": "python",
   "name": "python3"
  },
  "language_info": {
   "codemirror_mode": {
    "name": "ipython",
    "version": 3
   },
   "file_extension": ".py",
   "mimetype": "text/x-python",
   "name": "python",
   "nbconvert_exporter": "python",
   "pygments_lexer": "ipython3",
   "version": "3.6.4"
  },
  "toc": {
   "base_numbering": 1,
   "nav_menu": {},
   "number_sections": true,
   "sideBar": true,
   "skip_h1_title": false,
   "title_cell": "Table of Contents",
   "title_sidebar": "Contents",
   "toc_cell": false,
   "toc_position": {},
   "toc_section_display": true,
   "toc_window_display": false
  }
 },
 "nbformat": 4,
 "nbformat_minor": 2
}
