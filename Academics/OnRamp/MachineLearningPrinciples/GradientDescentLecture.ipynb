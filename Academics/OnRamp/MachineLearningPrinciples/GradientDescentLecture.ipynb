{
 "cells": [
  {
   "cell_type": "markdown",
   "metadata": {},
   "source": [
    "# Batch Gradient Descent Using Linear Regression and the HealthInCities Dataset"
   ]
  },
  {
   "cell_type": "markdown",
   "metadata": {},
   "source": [
    "### Importing/Preparing Data"
   ]
  },
  {
   "cell_type": "code",
   "execution_count": 4,
   "metadata": {
    "ExecuteTime": {
     "end_time": "2018-11-11T22:45:09.529609Z",
     "start_time": "2018-11-11T22:45:09.475386Z"
    }
   },
   "outputs": [],
   "source": [
    "import pandas as pd\n",
    "import numpy as np\n",
    "import random\n",
    "import os\n",
    "dataPath = os.path.abspath(os.path.join('../../../Data'))\n",
    "health_cities_raw = pd.read_csv(dataPath + '/HealthInCities.csv')\n",
    "#Standardize data\n",
    "for column in health_cities_raw:\n",
    "    col_mean = np.mean(health_cities_raw[column])\n",
    "    col_stdev = np.std(health_cities_raw[column])\n",
    "    health_cities_raw[column] = (health_cities_raw[column] - col_mean)/col_stdev\n",
    "\n",
    "#Adding a column of ones to generate an intercept feature i.e. y = mx + b, b will be the intercept\n",
    "health_cities_raw[\"normalized_ones\"] = 0\n",
    "\n"
   ]
  },
  {
   "cell_type": "code",
   "execution_count": 5,
   "metadata": {
    "ExecuteTime": {
     "end_time": "2018-11-11T22:45:10.470707Z",
     "start_time": "2018-11-11T22:45:10.459397Z"
    }
   },
   "outputs": [
    {
     "data": {
      "text/html": [
       "<div>\n",
       "<style scoped>\n",
       "    .dataframe tbody tr th:only-of-type {\n",
       "        vertical-align: middle;\n",
       "    }\n",
       "\n",
       "    .dataframe tbody tr th {\n",
       "        vertical-align: top;\n",
       "    }\n",
       "\n",
       "    .dataframe thead th {\n",
       "        text-align: right;\n",
       "    }\n",
       "</style>\n",
       "<table border=\"1\" class=\"dataframe\">\n",
       "  <thead>\n",
       "    <tr style=\"text-align: right;\">\n",
       "      <th></th>\n",
       "      <th>DeathRate</th>\n",
       "      <th>DoctorAvailability</th>\n",
       "      <th>HospitalAvailability</th>\n",
       "      <th>IncomePerCapita</th>\n",
       "      <th>PopulationDensity</th>\n",
       "      <th>normalized_ones</th>\n",
       "    </tr>\n",
       "  </thead>\n",
       "  <tbody>\n",
       "    <tr>\n",
       "      <th>0</th>\n",
       "      <td>-0.792861</td>\n",
       "      <td>-1.015105</td>\n",
       "      <td>-0.928147</td>\n",
       "      <td>-0.315277</td>\n",
       "      <td>-0.035126</td>\n",
       "      <td>0</td>\n",
       "    </tr>\n",
       "    <tr>\n",
       "      <th>1</th>\n",
       "      <td>-0.003437</td>\n",
       "      <td>-1.281577</td>\n",
       "      <td>-0.475900</td>\n",
       "      <td>-0.690778</td>\n",
       "      <td>0.713818</td>\n",
       "      <td>0</td>\n",
       "    </tr>\n",
       "    <tr>\n",
       "      <th>2</th>\n",
       "      <td>-1.096485</td>\n",
       "      <td>-1.228282</td>\n",
       "      <td>0.452878</td>\n",
       "      <td>-2.098901</td>\n",
       "      <td>0.050468</td>\n",
       "      <td>0</td>\n",
       "    </tr>\n",
       "    <tr>\n",
       "      <th>3</th>\n",
       "      <td>-0.246337</td>\n",
       "      <td>-0.535457</td>\n",
       "      <td>3.648964</td>\n",
       "      <td>-0.503028</td>\n",
       "      <td>-0.291906</td>\n",
       "      <td>0</td>\n",
       "    </tr>\n",
       "    <tr>\n",
       "      <th>4</th>\n",
       "      <td>0.543087</td>\n",
       "      <td>-1.121694</td>\n",
       "      <td>-0.342350</td>\n",
       "      <td>-1.066277</td>\n",
       "      <td>2.040517</td>\n",
       "      <td>0</td>\n",
       "    </tr>\n",
       "  </tbody>\n",
       "</table>\n",
       "</div>"
      ],
      "text/plain": [
       "   DeathRate  DoctorAvailability  HospitalAvailability  IncomePerCapita  \\\n",
       "0  -0.792861           -1.015105             -0.928147        -0.315277   \n",
       "1  -0.003437           -1.281577             -0.475900        -0.690778   \n",
       "2  -1.096485           -1.228282              0.452878        -2.098901   \n",
       "3  -0.246337           -0.535457              3.648964        -0.503028   \n",
       "4   0.543087           -1.121694             -0.342350        -1.066277   \n",
       "\n",
       "   PopulationDensity  normalized_ones  \n",
       "0          -0.035126                0  \n",
       "1           0.713818                0  \n",
       "2           0.050468                0  \n",
       "3          -0.291906                0  \n",
       "4           2.040517                0  "
      ]
     },
     "execution_count": 5,
     "metadata": {},
     "output_type": "execute_result"
    }
   ],
   "source": [
    "health_cities_raw[:5]"
   ]
  },
  {
   "cell_type": "code",
   "execution_count": null,
   "metadata": {},
   "outputs": [],
   "source": []
  },
  {
   "cell_type": "code",
   "execution_count": 6,
   "metadata": {
    "ExecuteTime": {
     "end_time": "2018-11-11T23:37:06.852797Z",
     "start_time": "2018-11-11T23:37:06.844914Z"
    }
   },
   "outputs": [],
   "source": [
    "    \n",
    "\n",
    "#DeathRate = DoctorAvailability*w0 + Hospital Availability*w1 + ... + 1*w5\n",
    "\n",
    "training_data = health_cities_raw.sample(frac=0.5, replace=True)\n",
    "test_data = health_cities_raw.sample(frac=0.5, replace=True)\n",
    "\n",
    "#Selecting DeathRate as our Y dependent variable (as ndarray)\n",
    "Y_train = training_data.iloc[:, 0].values\n",
    "\n",
    "#Selecting the rest of the features, for now we just select the DoctorAvailability and normalized_ones \n",
    "#as our indepedent variables (as ndarray) for plotting purposes\n",
    "X_train = training_data[['DoctorAvailability','normalized_ones']].values\n",
    "\n",
    "#DeathRate = DoctorAvailability*w0 + w1\n",
    "#Test Data\n",
    "Y_test = test_data.iloc[:, 0].values\n",
    "X_test = test_data[['DoctorAvailability','normalized_ones']].values\n",
    "\n",
    "\n",
    "#Note: we use numpy ndarrays here because they allow us to do quick, efficient matrix computations in the gradient descent step\n"
   ]
  },
  {
   "cell_type": "markdown",
   "metadata": {},
   "source": [
    "### Gradient Descent Step"
   ]
  },
  {
   "cell_type": "code",
   "execution_count": 7,
   "metadata": {
    "ExecuteTime": {
     "end_time": "2018-11-11T23:37:06.925636Z",
     "start_time": "2018-11-11T23:37:06.854885Z"
    }
   },
   "outputs": [
    {
     "name": "stderr",
     "output_type": "stream",
     "text": [
      "/Users/petersontylerd/.pyenv/versions/jupyterMain/lib/python3.6/site-packages/ipykernel_launcher.py:36: RuntimeWarning: overflow encountered in double_scalars\n"
     ]
    }
   ],
   "source": [
    "#Note that Linear Regression does have a closed form solution for w (meaning we can just solve for it\n",
    "#without having to iterate)\n",
    "#However, we want to show that almost any Machine Learning problem can be solved by Gradient Descent (iteration process)\n",
    "#Regardless of whether it has a closed form solution or not, but in practice we will use this if it does not have a\n",
    "#closed form solution or the closed form solution is too computationally demanding\n",
    "\n",
    "#Randomly generated weights for our Linear model\n",
    "w = np.array([random.random() for x in range(X_train.shape[1])])\n",
    "iter_error = 0\n",
    "error = 100000000000000\n",
    "tolerance = 0.00001\n",
    "iteration = 0\n",
    "samples = X_train.shape[0]\n",
    "\n",
    "\n",
    "#Batch Gradient Descent\n",
    "while abs(iter_error - error) > tolerance:\n",
    "    iteration = iteration + 1\n",
    "    error = iter_error\n",
    "    \n",
    "    #w_errors = 1/n*(X^T * (X*w - Y))\n",
    "    #1/n used here to better select the step size (eta) by normalizing (X^T * (X*w - Y)) by the number of samples\n",
    "    w_errors = 1/samples*(np.dot(X_train.transpose(), np.dot(X_train, w) - Y_train))\n",
    "    iter_error = sum([w**2 for w in w_errors])\n",
    "    \n",
    "    #search for good eta value which decreases the error for this iteration (to guarantee convergence)\n",
    "    search_iter = 0\n",
    "    eta_error = iter_error\n",
    "    eta_rate = 0.00000000000000000000000000001\n",
    "    w_test = w\n",
    "    while eta_error >= iter_error:\n",
    "        seach_iter = search_iter + 1\n",
    "        eta_rate = eta_rate * 10\n",
    "        w_test = w_test - eta_rate*eta_error\n",
    "        eta_errors = 1/samples*(np.dot(X_train.transpose(), np.dot(X_train, w_test) - Y_train))\n",
    "        eta_error = sum([w**2 for w in eta_errors])\n",
    "        if search_iter == 50:\n",
    "            print(\"takes too long to converge, reconsider your problem formulation\")\n",
    "            break\n",
    "    \n",
    "    #Gradient step: found optimal eta rate so now we step in that direction of w parameter convergence\n",
    "    w = w - eta_rate*w_errors\n",
    "\n",
    "    #percaution to not allow our algorithm to run forever\n",
    "    if iteration == 10000:\n",
    "        break"
   ]
  },
  {
   "cell_type": "markdown",
   "metadata": {},
   "source": [
    "### Plotting Results Against Training Set"
   ]
  },
  {
   "cell_type": "code",
   "execution_count": 8,
   "metadata": {
    "ExecuteTime": {
     "end_time": "2018-11-11T23:37:08.669875Z",
     "start_time": "2018-11-11T23:37:06.927645Z"
    }
   },
   "outputs": [
    {
     "data": {
      "text/plain": [
       "<Figure size 640x480 with 1 Axes>"
      ]
     },
     "metadata": {},
     "output_type": "display_data"
    }
   ],
   "source": [
    "import matplotlib.pyplot as plt\n",
    "\n",
    "train_prediction = [sum(X_train[i] * w) for i in range(X_train.shape[0])]\n",
    "\n",
    "#Plotting our points and line of fit (model) \n",
    "plt.plot(training_data['DoctorAvailability'], Y_train, 'bo')\n",
    "plt.plot(training_data['DoctorAvailability'], train_prediction, linewidth=2)\n",
    "plt.title(\"Doctor Availability vs. Death Rate and Line of Fit\")\n",
    "plt.xlabel(\"Doctor Availability\")\n",
    "plt.ylabel(\"Death Rate\")\n",
    "plt.show()"
   ]
  },
  {
   "cell_type": "markdown",
   "metadata": {},
   "source": [
    "### Plotting Results Against Test Set"
   ]
  },
  {
   "cell_type": "code",
   "execution_count": 9,
   "metadata": {
    "ExecuteTime": {
     "end_time": "2018-11-11T23:37:08.828711Z",
     "start_time": "2018-11-11T23:37:08.671733Z"
    }
   },
   "outputs": [
    {
     "data": {
      "image/png": "[encoded data removed]",
      "text/plain": [
       "<Figure size 432x288 with 1 Axes>"
      ]
     },
     "metadata": {
      "needs_background": "light"
     },
     "output_type": "display_data"
    }
   ],
   "source": [
    "import matplotlib.pyplot as plt\n",
    "\n",
    "test_prediction = [sum(X_test[i] * w) for i in range(X_test.shape[0])]\n",
    "\n",
    "#Plotting our points and line of fit (model) \n",
    "plt.plot(test_data['DoctorAvailability'], Y_test, 'bo')\n",
    "plt.plot(test_data['DoctorAvailability'], test_prediction, linewidth=2)\n",
    "plt.title(\"Test Set: Doctor Availability vs. Death Rate and Line of Fit\")\n",
    "plt.xlabel(\"Doctor Availability\")\n",
    "plt.ylabel(\"Death Rate\")\n",
    "plt.show()"
   ]
  },
  {
   "cell_type": "code",
   "execution_count": 10,
   "metadata": {
    "ExecuteTime": {
     "end_time": "2018-11-11T23:37:08.834891Z",
     "start_time": "2018-11-11T23:37:08.830637Z"
    }
   },
   "outputs": [
    {
     "name": "stdout",
     "output_type": "stream",
     "text": [
      "[2.82718934e+07 2.57535003e-01]\n"
     ]
    }
   ],
   "source": [
    "print(w)"
   ]
  },
  {
   "cell_type": "markdown",
   "metadata": {},
   "source": [
    "### Cross Validation Performance Results, no Regularization"
   ]
  },
  {
   "cell_type": "code",
   "execution_count": 11,
   "metadata": {
    "ExecuteTime": {
     "end_time": "2018-11-11T23:37:08.841667Z",
     "start_time": "2018-11-11T23:37:08.837196Z"
    }
   },
   "outputs": [
    {
     "name": "stdout",
     "output_type": "stream",
     "text": [
      "Training sum of squared errors, no regularization: 2.8837210437767332e+16\n",
      "Test sum of squared errors, no regularization: 1.4812626914070718e+16\n"
     ]
    }
   ],
   "source": [
    "print(\"Training sum of squared errors, no regularization:\", sum([res**2 for res in Y_train-train_prediction]))\n",
    "print(\"Test sum of squared errors, no regularization:\", sum([res**2 for res in Y_test-test_prediction]))"
   ]
  },
  {
   "cell_type": "markdown",
   "metadata": {},
   "source": [
    "# Batch Gradient Descent Using Linear Regression With  Regularization (Namely: Gaussian Prior L2 Norm)"
   ]
  },
  {
   "cell_type": "markdown",
   "metadata": {},
   "source": [
    "### Gradient Descent With Regularization Step"
   ]
  },
  {
   "cell_type": "code",
   "execution_count": 12,
   "metadata": {
    "ExecuteTime": {
     "end_time": "2018-11-11T23:37:08.857126Z",
     "start_time": "2018-11-11T23:37:08.843745Z"
    }
   },
   "outputs": [],
   "source": [
    "#Note that Linear Regression does have a closed form solution for w (meaning we can just solve for it\n",
    "#without having to iterate)\n",
    "#However, we want to show that almost any Machine Learning problem can be solved by Gradient Descent (iteration process)\n",
    "#Regardless of whether it has a closed form solution or not, but in practice we will use this if it does not have a\n",
    "#closed form solution or the closed form solution is too computationally demanding\n",
    "\n",
    "#Randomly generated weights for our Linear model\n",
    "w = np.array([random.random() for x in range(X_train.shape[1])])\n",
    "iter_error = 0\n",
    "error = 100000000000000\n",
    "tolerance = 0.00001\n",
    "iteration = 0\n",
    "samples = X_train.shape[0]\n",
    "\n",
    "\n",
    "#Batch Gradient Descent\n",
    "while abs(iter_error - error) > tolerance:\n",
    "    iteration = iteration + 1\n",
    "    error = iter_error\n",
    "    \n",
    "    #Regularization parameter w, can also have lambda*w where lambda controlls the agressiveness of regularization\n",
    "    w_errors = 1/samples*(np.dot(X_train.transpose(), np.dot(X_train, w) - Y_train) + w)\n",
    "    iter_error = sum([w**2 for w in w_errors])\n",
    "    \n",
    "    #search for good eta value which decreases the error for this iteration (to guarantee convergence)\n",
    "    search_iter = 0\n",
    "    eta_error = iter_error\n",
    "    eta_rate = 0.00000000000000000000000000001\n",
    "    w_test = w\n",
    "    while eta_error >= iter_error:\n",
    "        seach_iter = search_iter + 1\n",
    "        eta_rate = eta_rate * 10\n",
    "        w_test = w_test - eta_rate*eta_error\n",
    "        #Regularization parameter w, can also have lambda*w where lambda controlls the agressiveness of regularization\n",
    "        eta_errors = 1/samples*(np.dot(X_train.transpose(), np.dot(X_train, w_test) - Y_train) + w)\n",
    "        eta_error = sum([w**2 for w in eta_errors])\n",
    "        if search_iter == 50:\n",
    "            print(\"takes too long to converge, reconsider your problem formulation\")\n",
    "            break\n",
    "    \n",
    "    #Gradient step: found optimal eta rate so now we step in that direction of w parameter convergence\n",
    "    w = w - eta_rate*w_errors\n",
    "\n",
    "    #percaution to not allow our algorithm to run forever\n",
    "    if iteration == 10000:\n",
    "        break"
   ]
  },
  {
   "cell_type": "markdown",
   "metadata": {},
   "source": [
    "### Plotting Results Against Training Set"
   ]
  },
  {
   "cell_type": "code",
   "execution_count": 13,
   "metadata": {
    "ExecuteTime": {
     "end_time": "2018-11-11T23:37:09.039927Z",
     "start_time": "2018-11-11T23:37:08.863284Z"
    }
   },
   "outputs": [
    {
     "data": {
      "image/png": "[encoded data removed]",
      "text/plain": [
       "<Figure size 432x288 with 1 Axes>"
      ]
     },
     "metadata": {
      "needs_background": "light"
     },
     "output_type": "display_data"
    }
   ],
   "source": [
    "import matplotlib.pyplot as plt\n",
    "\n",
    "train_prediction = [sum(X_train[i] * w) for i in range(X_train.shape[0])]\n",
    "\n",
    "#Plotting our points and line of fit (model) \n",
    "plt.plot(training_data['DoctorAvailability'], Y_train, 'bo')\n",
    "plt.plot(training_data['DoctorAvailability'], train_prediction, linewidth=2)\n",
    "plt.title(\"Training: Doctor Availability vs. Death Rate and Line of Fit\")\n",
    "plt.xlabel(\"Doctor Availability\")\n",
    "plt.ylabel(\"Death Rate\")\n",
    "plt.show()"
   ]
  },
  {
   "cell_type": "markdown",
   "metadata": {},
   "source": [
    "### Plotting Results Against Test Set"
   ]
  },
  {
   "cell_type": "code",
   "execution_count": 14,
   "metadata": {
    "ExecuteTime": {
     "end_time": "2018-11-11T23:37:09.210853Z",
     "start_time": "2018-11-11T23:37:09.043352Z"
    }
   },
   "outputs": [
    {
     "data": {
      "image/png": "[encoded data removed]",
      "text/plain": [
       "<Figure size 432x288 with 1 Axes>"
      ]
     },
     "metadata": {
      "needs_background": "light"
     },
     "output_type": "display_data"
    }
   ],
   "source": [
    "import matplotlib.pyplot as plt\n",
    "\n",
    "test_prediction = [sum(X_test[i] * w) for i in range(X_test.shape[0])]\n",
    "\n",
    "#Plotting our points and line of fit (model) \n",
    "plt.plot(test_data['DoctorAvailability'], Y_test, 'bo')\n",
    "plt.plot(test_data['DoctorAvailability'], test_prediction, linewidth=2)\n",
    "plt.title(\"Test Set: Doctor Availability vs. Death Rate and Line of Fit\")\n",
    "plt.xlabel(\"Doctor Availability\")\n",
    "plt.ylabel(\"Death Rate\")\n",
    "plt.show()"
   ]
  },
  {
   "cell_type": "markdown",
   "metadata": {},
   "source": [
    "### Cross Validation Performance Results Due to Regularization"
   ]
  },
  {
   "cell_type": "code",
   "execution_count": 15,
   "metadata": {
    "ExecuteTime": {
     "end_time": "2018-11-11T23:37:09.219450Z",
     "start_time": "2018-11-11T23:37:09.213420Z"
    }
   },
   "outputs": [
    {
     "name": "stdout",
     "output_type": "stream",
     "text": [
      "Training sum of squared errors with regularization: 28.675855074069133\n",
      "Test sum of squared errors with regularization: 42.055444415728886\n"
     ]
    }
   ],
   "source": [
    "print(\"Training sum of squared errors with regularization:\", sum([res**2 for res in Y_train-train_prediction]))\n",
    "print(\"Test sum of squared errors with regularization:\", sum([res**2 for res in Y_test-test_prediction]))"
   ]
  }
 ],
 "metadata": {
  "kernelspec": {
   "display_name": "Python 3",
   "language": "python",
   "name": "python3"
  },
  "language_info": {
   "codemirror_mode": {
    "name": "ipython",
    "version": 3
   },
   "file_extension": ".py",
   "mimetype": "text/x-python",
   "name": "python",
   "nbconvert_exporter": "python",
   "pygments_lexer": "ipython3",
   "version": "3.6.5"
  },
  "toc": {
   "base_numbering": 1,
   "nav_menu": {},
   "number_sections": true,
   "sideBar": true,
   "skip_h1_title": false,
   "title_cell": "Table of Contents",
   "title_sidebar": "Contents",
   "toc_cell": false,
   "toc_position": {},
   "toc_section_display": true,
   "toc_window_display": false
  }
 },
 "nbformat": 4,
 "nbformat_minor": 1
}
