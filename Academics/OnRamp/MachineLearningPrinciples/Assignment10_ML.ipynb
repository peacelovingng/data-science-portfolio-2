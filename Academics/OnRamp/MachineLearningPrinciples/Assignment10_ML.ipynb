{
 "cells": [
  {
   "cell_type": "markdown",
   "metadata": {},
   "source": [
    "Assignment Content:\n",
    "\n",
    "1. Using the tic-tac-toe dataset, implement Logistic Regression using Jupyter Notebook and Python as well as the Linear Regression sklearn package (Links to an external site.)Links to an external site. to predict if the player won or not (i.e. column labeled as “class). Split this dataset into training/test splits, and implement any cross-validation method of your choice reporting on the accuracy of your results. You must get a greater accuracy rate than the accuracy rate of the simplistic algorithm presented in lecture, so play around with different parameters and make decisions on which eta rate, regularization, etc.. are needed in order to achieve better results. These results should be close to 70% accuracy. Justify your results and the parameters used when creating this model.\n",
    "\n",
    " 2. Complete the Machine Learning Principles course assessment survey (you won’t need to study for this, we merely use it as feedback to improve the course based on your input, so be honest)\n",
    "\n",
    "Deliverables:\n",
    "\n",
    "-One .ipynb file pertaining to the Logistic Regression implementation and results. The code should print out the accuracy rate of the cross-validation procedure pertaining to the highest test results (averaged over the number of iterations if needed). Also briefly explain the optimization procedures used, making a note of any parameter decisions i.e. eta rate, regularization, etc… (these can all be markup or print statements in the .ipynb file)\n",
    "\n",
    "-Completed survey on Canvas\n"
   ]
  },
  {
   "cell_type": "code",
   "execution_count": 2,
   "metadata": {
    "ExecuteTime": {
     "end_time": "2018-11-18T03:24:46.641991Z",
     "start_time": "2018-11-18T03:24:43.060494Z"
    }
   },
   "outputs": [
    {
     "data": {
      "text/html": [
       "<style>.container { width:95% !important; }</style>"
      ],
      "text/plain": [
       "<IPython.core.display.HTML object>"
      ]
     },
     "metadata": {},
     "output_type": "display_data"
    }
   ],
   "source": [
    "# Standard libary and settings\n",
    "import warnings; warnings.simplefilter('ignore')\n",
    "from IPython.core.display import display, HTML; display(HTML(\"<style>.container { width:95% !important; }</style>\"))\n",
    "\n",
    "\n",
    "# Data extensions and settings\n",
    "import numpy as np\n",
    "np.set_printoptions(threshold = np.inf, suppress = True)\n",
    "import pandas as pd\n",
    "pd.set_option('display.max_rows', 500)\n",
    "pd.options.display.float_format = '{:,.6f}'.format\n",
    "\n",
    "\n",
    "# Modeling extensions\n",
    "import sklearn.metrics as metrics\n",
    "import sklearn.model_selection as model_selection\n",
    "import sklearn.linear_model as linear_model\n"
   ]
  },
  {
   "cell_type": "code",
   "execution_count": 9,
   "metadata": {
    "ExecuteTime": {
     "end_time": "2018-11-18T03:26:46.919196Z",
     "start_time": "2018-11-18T03:26:46.450559Z"
    }
   },
   "outputs": [
    {
     "name": "stdout",
     "output_type": "stream",
     "text": [
      "<class 'pandas.core.frame.DataFrame'>\n",
      "RangeIndex: 958 entries, 0 to 957\n",
      "Data columns (total 10 columns):\n",
      "top-left-square         958 non-null int8\n",
      "top-middle-square       958 non-null int8\n",
      "top-right-square        958 non-null int8\n",
      "middle-left-square      958 non-null int8\n",
      "middle-middle-square    958 non-null int8\n",
      "middle-right-square     958 non-null int8\n",
      "bottom-left-square      958 non-null int8\n",
      "bottom-middle-square    958 non-null int8\n",
      "bottom-right-square     958 non-null int8\n",
      "outcome                 958 non-null int8\n",
      "dtypes: int8(10)\n",
      "memory usage: 9.4 KB\n"
     ]
    },
    {
     "data": {
      "text/html": [
       "<div>\n",
       "<style scoped>\n",
       "    .dataframe tbody tr th:only-of-type {\n",
       "        vertical-align: middle;\n",
       "    }\n",
       "\n",
       "    .dataframe tbody tr th {\n",
       "        vertical-align: top;\n",
       "    }\n",
       "\n",
       "    .dataframe thead th {\n",
       "        text-align: right;\n",
       "    }\n",
       "</style>\n",
       "<table border=\"1\" class=\"dataframe\">\n",
       "  <thead>\n",
       "    <tr style=\"text-align: right;\">\n",
       "      <th></th>\n",
       "      <th>top-left-square</th>\n",
       "      <th>top-middle-square</th>\n",
       "      <th>top-right-square</th>\n",
       "      <th>middle-left-square</th>\n",
       "      <th>middle-middle-square</th>\n",
       "      <th>middle-right-square</th>\n",
       "      <th>bottom-left-square</th>\n",
       "      <th>bottom-middle-square</th>\n",
       "      <th>bottom-right-square</th>\n",
       "      <th>outcome</th>\n",
       "    </tr>\n",
       "  </thead>\n",
       "  <tbody>\n",
       "    <tr>\n",
       "      <th>0</th>\n",
       "      <td>2</td>\n",
       "      <td>2</td>\n",
       "      <td>2</td>\n",
       "      <td>2</td>\n",
       "      <td>1</td>\n",
       "      <td>1</td>\n",
       "      <td>2</td>\n",
       "      <td>1</td>\n",
       "      <td>1</td>\n",
       "      <td>1</td>\n",
       "    </tr>\n",
       "    <tr>\n",
       "      <th>1</th>\n",
       "      <td>2</td>\n",
       "      <td>2</td>\n",
       "      <td>2</td>\n",
       "      <td>2</td>\n",
       "      <td>1</td>\n",
       "      <td>1</td>\n",
       "      <td>1</td>\n",
       "      <td>2</td>\n",
       "      <td>1</td>\n",
       "      <td>1</td>\n",
       "    </tr>\n",
       "    <tr>\n",
       "      <th>2</th>\n",
       "      <td>2</td>\n",
       "      <td>2</td>\n",
       "      <td>2</td>\n",
       "      <td>2</td>\n",
       "      <td>1</td>\n",
       "      <td>1</td>\n",
       "      <td>1</td>\n",
       "      <td>1</td>\n",
       "      <td>2</td>\n",
       "      <td>1</td>\n",
       "    </tr>\n",
       "    <tr>\n",
       "      <th>3</th>\n",
       "      <td>2</td>\n",
       "      <td>2</td>\n",
       "      <td>2</td>\n",
       "      <td>2</td>\n",
       "      <td>1</td>\n",
       "      <td>1</td>\n",
       "      <td>1</td>\n",
       "      <td>0</td>\n",
       "      <td>0</td>\n",
       "      <td>1</td>\n",
       "    </tr>\n",
       "    <tr>\n",
       "      <th>4</th>\n",
       "      <td>2</td>\n",
       "      <td>2</td>\n",
       "      <td>2</td>\n",
       "      <td>2</td>\n",
       "      <td>1</td>\n",
       "      <td>1</td>\n",
       "      <td>0</td>\n",
       "      <td>1</td>\n",
       "      <td>0</td>\n",
       "      <td>1</td>\n",
       "    </tr>\n",
       "  </tbody>\n",
       "</table>\n",
       "</div>"
      ],
      "text/plain": [
       "   top-left-square  top-middle-square  top-right-square  middle-left-square  \\\n",
       "0                2                  2                 2                   2   \n",
       "1                2                  2                 2                   2   \n",
       "2                2                  2                 2                   2   \n",
       "3                2                  2                 2                   2   \n",
       "4                2                  2                 2                   2   \n",
       "\n",
       "   middle-middle-square  middle-right-square  bottom-left-square  \\\n",
       "0                     1                    1                   2   \n",
       "1                     1                    1                   1   \n",
       "2                     1                    1                   1   \n",
       "3                     1                    1                   1   \n",
       "4                     1                    1                   0   \n",
       "\n",
       "   bottom-middle-square  bottom-right-square  outcome  \n",
       "0                     1                    1        1  \n",
       "1                     2                    1        1  \n",
       "2                     1                    2        1  \n",
       "3                     0                    0        1  \n",
       "4                     1                    0        1  "
      ]
     },
     "metadata": {},
     "output_type": "display_data"
    }
   ],
   "source": [
    "# Load and inspect data\n",
    "\n",
    "df = pd.read_csv('https://archive.ics.uci.edu/ml/machine-learning-databases/tic-tac-toe/tic-tac-toe.data'\n",
    "                 ,sep = ','\n",
    "                 ,names = ['top-left-square', 'top-middle-square', 'top-right-square',\n",
    " 'middle-left-square', 'middle-middle-square', 'middle-right-square',\n",
    " 'bottom-left-square', 'bottom-middle-square', 'bottom-right-square','outcome'])\n",
    "\n",
    "for column in df:\n",
    "    df[column] = df[column].astype('category')\n",
    "    df[column] = df[column].cat.codes\n",
    "\n",
    "df.info()\n",
    "display(df[:5])\n"
   ]
  },
  {
   "cell_type": "code",
   "execution_count": 10,
   "metadata": {
    "ExecuteTime": {
     "end_time": "2018-11-18T03:27:00.847308Z",
     "start_time": "2018-11-18T03:27:00.842324Z"
    }
   },
   "outputs": [],
   "source": [
    "# Train/ test split\n",
    "\n",
    "X = df.iloc[:,:-1].values\n",
    "y = df.iloc[:,-1].values\n",
    "\n",
    "XTrain, XTest, yTrain, yTest\\\n",
    "      = model_selection.train_test_split(X, y, test_size = 0.2, random_state = 1, stratify = y)\n"
   ]
  },
  {
   "cell_type": "code",
   "execution_count": null,
   "metadata": {},
   "outputs": [],
   "source": []
  },
  {
   "cell_type": "code",
   "execution_count": null,
   "metadata": {},
   "outputs": [],
   "source": []
  }
 ],
 "metadata": {
  "kernelspec": {
   "display_name": "Python 3",
   "language": "python",
   "name": "python3"
  },
  "language_info": {
   "codemirror_mode": {
    "name": "ipython",
    "version": 3
   },
   "file_extension": ".py",
   "mimetype": "text/x-python",
   "name": "python",
   "nbconvert_exporter": "python",
   "pygments_lexer": "ipython3",
   "version": "3.6.5"
  },
  "toc": {
   "base_numbering": 1,
   "nav_menu": {},
   "number_sections": true,
   "sideBar": true,
   "skip_h1_title": false,
   "title_cell": "Table of Contents",
   "title_sidebar": "Contents",
   "toc_cell": false,
   "toc_position": {},
   "toc_section_display": true,
   "toc_window_display": false
  }
 },
 "nbformat": 4,
 "nbformat_minor": 2
}
