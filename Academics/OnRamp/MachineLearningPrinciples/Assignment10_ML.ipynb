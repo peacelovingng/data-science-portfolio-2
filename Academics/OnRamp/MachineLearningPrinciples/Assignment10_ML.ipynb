{
 "cells": [
  {
   "cell_type": "markdown",
   "metadata": {},
   "source": [
    "__Assignment 10__"
   ]
  },
  {
   "cell_type": "code",
   "execution_count": 1,
   "metadata": {
    "ExecuteTime": {
     "end_time": "2018-11-18T03:24:46.641991Z",
     "start_time": "2018-11-18T03:24:43.060494Z"
    }
   },
   "outputs": [
    {
     "data": {
      "text/html": [
       "<style>.container { width:95% !important; }</style>"
      ],
      "text/plain": [
       "<IPython.core.display.HTML object>"
      ]
     },
     "metadata": {},
     "output_type": "display_data"
    }
   ],
   "source": [
    "# Standard libary and settings\n",
    "import warnings; warnings.simplefilter('ignore')\n",
    "from IPython.core.display import display, HTML; display(HTML(\"<style>.container { width:95% !important; }</style>\"))\n",
    "\n",
    "\n",
    "# Data extensions and settings\n",
    "import numpy as np\n",
    "np.set_printoptions(threshold = np.inf, suppress = True)\n",
    "import pandas as pd\n",
    "pd.set_option('display.max_rows', 500)\n",
    "pd.options.display.float_format = '{:,.6f}'.format\n",
    "\n",
    "\n",
    "# Modeling extensions\n",
    "import sklearn.metrics as metrics\n",
    "import sklearn.model_selection as model_selection\n",
    "import sklearn.linear_model as linear_model\n",
    "import sklearn.pipeline as pipeline\n",
    "import sklearn.preprocessing as preprocessing\n",
    "\n"
   ]
  },
  {
   "cell_type": "code",
   "execution_count": 2,
   "metadata": {
    "ExecuteTime": {
     "end_time": "2018-11-18T03:26:46.919196Z",
     "start_time": "2018-11-18T03:26:46.450559Z"
    }
   },
   "outputs": [
    {
     "name": "stdout",
     "output_type": "stream",
     "text": [
      "<class 'pandas.core.frame.DataFrame'>\n",
      "RangeIndex: 958 entries, 0 to 957\n",
      "Data columns (total 10 columns):\n",
      "top-left-square         958 non-null int8\n",
      "top-middle-square       958 non-null int8\n",
      "top-right-square        958 non-null int8\n",
      "middle-left-square      958 non-null int8\n",
      "middle-middle-square    958 non-null int8\n",
      "middle-right-square     958 non-null int8\n",
      "bottom-left-square      958 non-null int8\n",
      "bottom-middle-square    958 non-null int8\n",
      "bottom-right-square     958 non-null int8\n",
      "class                   958 non-null int8\n",
      "dtypes: int8(10)\n",
      "memory usage: 9.4 KB\n"
     ]
    },
    {
     "data": {
      "text/html": [
       "<div>\n",
       "<style scoped>\n",
       "    .dataframe tbody tr th:only-of-type {\n",
       "        vertical-align: middle;\n",
       "    }\n",
       "\n",
       "    .dataframe tbody tr th {\n",
       "        vertical-align: top;\n",
       "    }\n",
       "\n",
       "    .dataframe thead th {\n",
       "        text-align: right;\n",
       "    }\n",
       "</style>\n",
       "<table border=\"1\" class=\"dataframe\">\n",
       "  <thead>\n",
       "    <tr style=\"text-align: right;\">\n",
       "      <th></th>\n",
       "      <th>top-left-square</th>\n",
       "      <th>top-middle-square</th>\n",
       "      <th>top-right-square</th>\n",
       "      <th>middle-left-square</th>\n",
       "      <th>middle-middle-square</th>\n",
       "      <th>middle-right-square</th>\n",
       "      <th>bottom-left-square</th>\n",
       "      <th>bottom-middle-square</th>\n",
       "      <th>bottom-right-square</th>\n",
       "      <th>class</th>\n",
       "    </tr>\n",
       "  </thead>\n",
       "  <tbody>\n",
       "    <tr>\n",
       "      <th>0</th>\n",
       "      <td>2</td>\n",
       "      <td>2</td>\n",
       "      <td>2</td>\n",
       "      <td>2</td>\n",
       "      <td>1</td>\n",
       "      <td>1</td>\n",
       "      <td>2</td>\n",
       "      <td>1</td>\n",
       "      <td>1</td>\n",
       "      <td>1</td>\n",
       "    </tr>\n",
       "    <tr>\n",
       "      <th>1</th>\n",
       "      <td>2</td>\n",
       "      <td>2</td>\n",
       "      <td>2</td>\n",
       "      <td>2</td>\n",
       "      <td>1</td>\n",
       "      <td>1</td>\n",
       "      <td>1</td>\n",
       "      <td>2</td>\n",
       "      <td>1</td>\n",
       "      <td>1</td>\n",
       "    </tr>\n",
       "    <tr>\n",
       "      <th>2</th>\n",
       "      <td>2</td>\n",
       "      <td>2</td>\n",
       "      <td>2</td>\n",
       "      <td>2</td>\n",
       "      <td>1</td>\n",
       "      <td>1</td>\n",
       "      <td>1</td>\n",
       "      <td>1</td>\n",
       "      <td>2</td>\n",
       "      <td>1</td>\n",
       "    </tr>\n",
       "    <tr>\n",
       "      <th>3</th>\n",
       "      <td>2</td>\n",
       "      <td>2</td>\n",
       "      <td>2</td>\n",
       "      <td>2</td>\n",
       "      <td>1</td>\n",
       "      <td>1</td>\n",
       "      <td>1</td>\n",
       "      <td>0</td>\n",
       "      <td>0</td>\n",
       "      <td>1</td>\n",
       "    </tr>\n",
       "    <tr>\n",
       "      <th>4</th>\n",
       "      <td>2</td>\n",
       "      <td>2</td>\n",
       "      <td>2</td>\n",
       "      <td>2</td>\n",
       "      <td>1</td>\n",
       "      <td>1</td>\n",
       "      <td>0</td>\n",
       "      <td>1</td>\n",
       "      <td>0</td>\n",
       "      <td>1</td>\n",
       "    </tr>\n",
       "  </tbody>\n",
       "</table>\n",
       "</div>"
      ],
      "text/plain": [
       "   top-left-square  top-middle-square  top-right-square  middle-left-square  \\\n",
       "0                2                  2                 2                   2   \n",
       "1                2                  2                 2                   2   \n",
       "2                2                  2                 2                   2   \n",
       "3                2                  2                 2                   2   \n",
       "4                2                  2                 2                   2   \n",
       "\n",
       "   middle-middle-square  middle-right-square  bottom-left-square  \\\n",
       "0                     1                    1                   2   \n",
       "1                     1                    1                   1   \n",
       "2                     1                    1                   1   \n",
       "3                     1                    1                   1   \n",
       "4                     1                    1                   0   \n",
       "\n",
       "   bottom-middle-square  bottom-right-square  class  \n",
       "0                     1                    1      1  \n",
       "1                     2                    1      1  \n",
       "2                     1                    2      1  \n",
       "3                     0                    0      1  \n",
       "4                     1                    0      1  "
      ]
     },
     "metadata": {},
     "output_type": "display_data"
    }
   ],
   "source": [
    "# Load and inspect data\n",
    "\n",
    "df = pd.read_csv('https://archive.ics.uci.edu/ml/machine-learning-databases/tic-tac-toe/tic-tac-toe.data'\n",
    "                 ,sep = ','\n",
    "                 ,names = ['top-left-square', 'top-middle-square', 'top-right-square',\n",
    " 'middle-left-square', 'middle-middle-square', 'middle-right-square',\n",
    " 'bottom-left-square', 'bottom-middle-square', 'bottom-right-square','class'])\n",
    "\n",
    "for column in df:\n",
    "    df[column] = df[column].astype('category')\n",
    "    df[column] = df[column].cat.codes\n",
    "\n",
    "df.info()\n",
    "display(df[:5])\n"
   ]
  },
  {
   "cell_type": "code",
   "execution_count": 3,
   "metadata": {
    "ExecuteTime": {
     "end_time": "2018-11-18T03:27:00.847308Z",
     "start_time": "2018-11-18T03:27:00.842324Z"
    }
   },
   "outputs": [],
   "source": [
    "# Train/ test split\n",
    "\n",
    "X = df.iloc[:,:-1].values\n",
    "y = df.iloc[:,-1].values\n",
    "\n",
    "XTrain, XTest, yTrain, yTest\\\n",
    "      = model_selection.train_test_split(X, y, test_size = 0.2, random_state = 1, stratify = y)\n"
   ]
  },
  {
   "cell_type": "markdown",
   "metadata": {},
   "source": [
    "# Linear regression\n"
   ]
  },
  {
   "cell_type": "code",
   "execution_count": 4,
   "metadata": {},
   "outputs": [
    {
     "name": "stdout",
     "output_type": "stream",
     "text": [
      "CV accuracy on training data: 0.022 +/- 0.045\n"
     ]
    }
   ],
   "source": [
    "linReg = linear_model.LinearRegression()\n",
    "scores = model_selection.cross_val_score(linReg\n",
    "                                        ,XTrain\n",
    "                                        ,yTrain\n",
    "                                        ,scoring = 'r2'\n",
    "                                        ,cv = 10\n",
    "                                       )\n",
    "print('CV accuracy on training data: {:.3f} +/- {:.3f}'.format(np.mean(scores), np.std(scores)))\n"
   ]
  },
  {
   "cell_type": "code",
   "execution_count": 5,
   "metadata": {},
   "outputs": [
    {
     "name": "stdout",
     "output_type": "stream",
     "text": [
      "Test set accuracy: 0.09324481956312736\n"
     ]
    }
   ],
   "source": [
    "# Test data\n",
    "\n",
    "linReg = linear_model.LinearRegression()\n",
    "linReg.fit(XTrain, yTrain)\n",
    "yPred = linReg.predict(XTest)\n",
    "print('Test set accuracy: {0}'.format(metrics.r2_score(y_pred = yPred, y_true = yTest)))"
   ]
  },
  {
   "cell_type": "markdown",
   "metadata": {},
   "source": [
    "> Remarks - As expected, the linear regression model performs quite poorly on this classifcation problem."
   ]
  },
  {
   "cell_type": "markdown",
   "metadata": {},
   "source": [
    "# Logistic Regression"
   ]
  },
  {
   "cell_type": "code",
   "execution_count": 6,
   "metadata": {},
   "outputs": [
    {
     "name": "stdout",
     "output_type": "stream",
     "text": [
      "CV accuracy on training data: 0.678 +/- 0.025\n"
     ]
    }
   ],
   "source": [
    "logReg = linear_model.LogisticRegression()\n",
    "scores = model_selection.cross_val_score(logReg\n",
    "                                        ,XTrain\n",
    "                                        ,yTrain\n",
    "                                        ,scoring = 'accuracy'\n",
    "                                        ,cv = 10\n",
    "                                       )\n",
    "print('CV accuracy on training data: {:.3f} +/- {:.3f}'.format(np.mean(scores), np.std(scores)))\n"
   ]
  },
  {
   "cell_type": "markdown",
   "metadata": {},
   "source": [
    "> Remarks - This basic logistic regression model performs similarly to the lecture model."
   ]
  },
  {
   "cell_type": "code",
   "execution_count": 7,
   "metadata": {},
   "outputs": [
    {
     "name": "stdout",
     "output_type": "stream",
     "text": [
      "0.6814621409921671\n",
      "{'LogisticRegression__C': 0.4040413636363636, 'LogisticRegression__penalty': 'l2'}\n"
     ]
    }
   ],
   "source": [
    "# Use GridSearchCV to perform CV over several different combination of parameters\n",
    "\n",
    "pipe = pipeline.Pipeline(steps=[('scale', preprocessing.StandardScaler())\n",
    "                       ,('LogisticRegression', linear_model.LogisticRegression(random_state = 1))])\n",
    "\n",
    "param_grid = {'LogisticRegression__C': np.linspace(1e-6, 10, 100)\n",
    "               ,'LogisticRegression__penalty': ['l1','l2']\n",
    "              }\n",
    "gs = model_selection.GridSearchCV(estimator = pipe\n",
    "                                    ,param_grid = param_grid\n",
    "                                    ,scoring = 'accuracy'\n",
    "                                    ,cv = 10\n",
    "                                    ,n_jobs = -1\n",
    "                                 )\n",
    "gs = gs.fit(XTrain, yTrain)\n",
    "print(gs.best_score_)\n",
    "print(gs.best_params_)\n"
   ]
  },
  {
   "cell_type": "code",
   "execution_count": 8,
   "metadata": {},
   "outputs": [
    {
     "name": "stdout",
     "output_type": "stream",
     "text": [
      "Test set accuracy: 0.6770833333333334\n"
     ]
    }
   ],
   "source": [
    "# Test data\n",
    "\n",
    "yPred = gs.predict(XTest)\n",
    "print('Test set accuracy: {0}'.format(metrics.accuracy_score(y_pred = yPred, y_true = yTest)))"
   ]
  },
  {
   "cell_type": "markdown",
   "metadata": {},
   "source": [
    "> Remarks - This tuned logistic regression model performs better than the model with default parameters. Steps taken to optimize the model included setting up a pipeline to first perform standard scaling before implementing the logistic regression model. This pipeline is fed into GridSearchCV, where a hyperparameter search for the penalty and C values is performed. The chosen value for C is 0.404 and the penalty type is L2."
   ]
  }
 ],
 "metadata": {
  "kernelspec": {
   "display_name": "Python 3",
   "language": "python",
   "name": "python3"
  },
  "language_info": {
   "codemirror_mode": {
    "name": "ipython",
    "version": 3
   },
   "file_extension": ".py",
   "mimetype": "text/x-python",
   "name": "python",
   "nbconvert_exporter": "python",
   "pygments_lexer": "ipython3",
   "version": "3.6.4"
  },
  "toc": {
   "base_numbering": 1,
   "nav_menu": {},
   "number_sections": true,
   "sideBar": true,
   "skip_h1_title": false,
   "title_cell": "Table of Contents",
   "title_sidebar": "Contents",
   "toc_cell": false,
   "toc_position": {},
   "toc_section_display": true,
   "toc_window_display": false
  }
 },
 "nbformat": 4,
 "nbformat_minor": 2
}
