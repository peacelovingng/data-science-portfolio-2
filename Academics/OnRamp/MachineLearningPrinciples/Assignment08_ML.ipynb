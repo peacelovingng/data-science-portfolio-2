{
 "cells": [
  {
   "cell_type": "markdown",
   "metadata": {},
   "source": [
    "1. Using the dataset HealthInCities implement Linear Regression using Stochastic Gradient Descent as presented below:\n",
    "\n",
    "1.jpg\n",
    "\n",
    "Try to predict the DeathRate (y) based on more than one of the other variables (X) and report on your findings.\n",
    "\n",
    "Hint: In order to discern whether your “converged” w weights are good try to have X to be DoctorAvailability and the normalized column of zeroes (as we have done in the lecture video), that way we can find DeathRate = DoctorAvailability*w0 + w1 for our two weights in this case and we can plot it just like in the video to see if the line fits our data well. Also, don’t forget to standardize your data (mean = 0, and variance = 1) for meaningful interpretation of our results.\n",
    "\n",
    "Note: We have covered Batch Gradient Descent which we recall is computationally efficient for smaller datasets as we are computing the w weights considering all of our data X (the whole matrix). In practice, if we are working with Big Data, it no longer becomes computationally efficient and feasible to process all of the X matrix at once, hence, we process it incrementally in a stochastic way. This is where Stochastic Gradient Descent comes in. The basic idea is to step in the direction of the optimal w by considering each sample of X one by one while also considering an outer loop where we take into account how many epochs (number of times we want to go over each X sample one by one). We want to choose an epoch number which is not too large (i.e. 1-10) so that our algorithm completes in an acceptable amount of time, but we also want to ensure we are converging, so an epoch number that is too small may not guarantee convergence. The ideal epoch number can be left up to experimentation when crafting the code as it is data-dependent.\n",
    "\n",
    "Deliverables:\n",
    "\n",
    "-One .ipynb pertaining to Linear Regression using Stochastic Gradient Descent on the HelathInCities dataset. Print out the optimal weights w, and write one paragraph interpreting what the w weights mean in your example, this can be done as markdown in your .ipynb or perhaps a print statement at the end."
   ]
  }
 ],
 "metadata": {
  "kernelspec": {
   "display_name": "Python 3",
   "language": "python",
   "name": "python3"
  },
  "language_info": {
   "codemirror_mode": {
    "name": "ipython",
    "version": 3
   },
   "file_extension": ".py",
   "mimetype": "text/x-python",
   "name": "python",
   "nbconvert_exporter": "python",
   "pygments_lexer": "ipython3",
   "version": "3.6.4"
  },
  "toc": {
   "base_numbering": 1,
   "nav_menu": {},
   "number_sections": true,
   "sideBar": true,
   "skip_h1_title": false,
   "title_cell": "Table of Contents",
   "title_sidebar": "Contents",
   "toc_cell": false,
   "toc_position": {},
   "toc_section_display": true,
   "toc_window_display": false
  }
 },
 "nbformat": 4,
 "nbformat_minor": 2
}
