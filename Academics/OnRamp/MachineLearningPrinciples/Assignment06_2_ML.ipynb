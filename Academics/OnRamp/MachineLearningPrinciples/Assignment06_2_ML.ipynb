{
 "cells": [
  {
   "cell_type": "markdown",
   "metadata": {},
   "source": [
    "Assignment Content:\n",
    "\n",
    "1. Using the dataset tae.data implement two different cross-validation procedures in the following way:\n",
    "\n",
    "    - Import data\n",
    "    - Split data as needed into training and test sets\n",
    "    - Fit a decision tree algorithm to the training data (Hint: we did this in the Decision Tree module)\n",
    "    - Test the trained decision tree to the test data\n",
    "    - Evaluate the performance of the decision tree on the test data reporting error rate or accuracy rate\n",
    "\n",
    "Deliverables:\n",
    "\n",
    " -Two .ipynb files each pertaining to a different cross-validation procedure and each following steps 1 through 5. The code should also print out the error rate or accuracy rate of the cross-validation procedure (averaged over the number of iterations if needed)"
   ]
  },
  {
   "cell_type": "markdown",
   "metadata": {},
   "source": [
    "## Import data"
   ]
  },
  {
   "cell_type": "code",
   "execution_count": 1,
   "metadata": {
    "ExecuteTime": {
     "end_time": "2018-10-25T14:01:08.480560Z",
     "start_time": "2018-10-25T14:01:07.722160Z"
    }
   },
   "outputs": [
    {
     "name": "stderr",
     "output_type": "stream",
     "text": [
      "/Users/petersontylerd/.ve/main/lib/python3.6/site-packages/sklearn/cross_validation.py:41: DeprecationWarning: This module was deprecated in version 0.18 in favor of the model_selection module into which all the refactored classes and functions are moved. Also note that the interface of the new CV iterators are different from that of this module. This module will be removed in 0.20.\n",
      "  \"This module will be removed in 0.20.\", DeprecationWarning)\n"
     ]
    },
    {
     "data": {
      "text/html": [
       "<style>.container { width:88% !important; }</style>"
      ],
      "text/plain": [
       "<IPython.core.display.HTML object>"
      ]
     },
     "metadata": {},
     "output_type": "display_data"
    }
   ],
   "source": [
    "import pandas as pd\n",
    "import numpy as np\n",
    "from sklearn import tree\n",
    "from sklearn.cross_validation import cross_val_score, train_test_split, StratifiedKFold, StratifiedShuffleSplit\n",
    "\n",
    "import warnings; warnings.simplefilter('ignore')\n",
    "np.set_printoptions(threshold = np.inf, suppress = True)\n",
    "from IPython.core.display import display, HTML; display(HTML(\"<style>.container { width:88% !important; }</style>\"))\n",
    "\n",
    "ta_eval_raw = pd.read_csv('tae.data')\n"
   ]
  },
  {
   "cell_type": "markdown",
   "metadata": {},
   "source": [
    "## Split data"
   ]
  },
  {
   "cell_type": "code",
   "execution_count": 2,
   "metadata": {
    "ExecuteTime": {
     "end_time": "2018-10-25T14:01:08.488720Z",
     "start_time": "2018-10-25T14:01:08.483249Z"
    }
   },
   "outputs": [],
   "source": [
    "# Split independent and dependent variables\n",
    "\n",
    "X = ta_eval_raw.iloc[:,:-1].values\n",
    "y = ta_eval_raw.iloc[:,-1].values.reshape(-1)\n",
    "\n",
    "# Xtrain, XTest will be used in the CV procedure.\n",
    "# yTrain, yTest is the holdout data set and will be used as a final evaluation of the model\n",
    "# outside of the CV procedure.\n",
    "\n",
    "XTrain, XTest, yTrain, yTest = train_test_split(X, y, test_size = 0.1, random_state = 1)\n",
    "\n"
   ]
  },
  {
   "cell_type": "markdown",
   "metadata": {},
   "source": [
    "## Evaluate decision tree using a cross-validation technique"
   ]
  },
  {
   "cell_type": "code",
   "execution_count": 3,
   "metadata": {
    "ExecuteTime": {
     "end_time": "2018-10-25T14:01:08.523844Z",
     "start_time": "2018-10-25T14:01:08.491511Z"
    }
   },
   "outputs": [
    {
     "name": "stdout",
     "output_type": "stream",
     "text": [
      "Individual scores: \n",
      " [0.35714286 0.71428571 0.71428571 0.5        0.85714286 0.64285714\n",
      " 0.64285714 0.42857143 0.57142857 0.78571429]\n",
      "\n",
      "Mean score: 0.6214285714285713\n"
     ]
    }
   ],
   "source": [
    "decision_tree = tree.DecisionTreeClassifier(random_state = 1)\n",
    "scores = cross_val_score(decision_tree\n",
    "                        ,XTrain\n",
    "                        ,yTrain\n",
    "                        ,cv = StratifiedShuffleSplit(yTrain, n_iter = 10, random_state = 1)\n",
    "                        ,scoring = 'accuracy')\n",
    "print('Individual scores: \\n {0}'.format(scores))\n",
    "print('')\n",
    "print('Mean score: {}'.format(np.mean(scores)))"
   ]
  },
  {
   "cell_type": "markdown",
   "metadata": {},
   "source": [
    "> Remarks - I am intentionally passing in XTrain and yTrain, as opposed to the full dataset comprised by X and y. cross_val_score internally splits the data its given into train and test sets, then performs KFold cross validation. In this case, XTrain and yTrain will be evaluated in 10 folds. Then I will make predictions using XTest and evaluate against yTest, which is truly unseen data in this implementation."
   ]
  },
  {
   "cell_type": "markdown",
   "metadata": {},
   "source": [
    "> Remarks - The difference between this implementation and the first is that I am explicitly telling cross_val_score that I want to use StratifiedShuffleSplit, rather than letting it default to StratifiedKFold. When using StratifiedKFold, every samples will appear in the test set once, whereas StratifiedShuffleSplit shuffles the data set before making each split, so each sample may or may not appear in the the test data set."
   ]
  },
  {
   "cell_type": "markdown",
   "metadata": {},
   "source": [
    "## Final evaluation using holdout set"
   ]
  },
  {
   "cell_type": "code",
   "execution_count": 4,
   "metadata": {
    "ExecuteTime": {
     "end_time": "2018-10-25T14:01:08.532688Z",
     "start_time": "2018-10-25T14:01:08.526294Z"
    }
   },
   "outputs": [
    {
     "name": "stdout",
     "output_type": "stream",
     "text": [
      "Future Data Prediction Accuracy: 0.5625%\n"
     ]
    }
   ],
   "source": [
    "# Baseline\n",
    "\n",
    "decision_tree.fit(XTrain, yTrain)\n",
    "\n",
    "yPredTest = decision_tree.predict(XTest)\n",
    "\n",
    "print('Future Data Prediction Accuracy: {0}%'.format(sum(yTest == yPredTest) / len(yPredTest)))\n"
   ]
  },
  {
   "cell_type": "markdown",
   "metadata": {},
   "source": [
    "> Remarks - The model's performance on the holdout set is quite a bit worse than the average cross validation accuracy. The cross_validation accuracy is slightly worse in this implementation (with this random number seed)."
   ]
  }
 ],
 "metadata": {
  "kernelspec": {
   "display_name": "Python 3",
   "language": "python",
   "name": "python3"
  },
  "language_info": {
   "codemirror_mode": {
    "name": "ipython",
    "version": 3
   },
   "file_extension": ".py",
   "mimetype": "text/x-python",
   "name": "python",
   "nbconvert_exporter": "python",
   "pygments_lexer": "ipython3",
   "version": "3.6.5"
  },
  "toc": {
   "base_numbering": 1,
   "nav_menu": {},
   "number_sections": true,
   "sideBar": true,
   "skip_h1_title": false,
   "title_cell": "Table of Contents",
   "title_sidebar": "Contents",
   "toc_cell": false,
   "toc_position": {},
   "toc_section_display": true,
   "toc_window_display": false
  }
 },
 "nbformat": 4,
 "nbformat_minor": 2
}
