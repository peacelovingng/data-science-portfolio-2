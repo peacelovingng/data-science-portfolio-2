{
 "cells": [
  {
   "cell_type": "markdown",
   "metadata": {},
   "source": [
    "Assignment Content:\n",
    "\n",
    "1. Read an article of interest then post to piazza twice:\n",
    "\n",
    "Browse to Google Scholar: https://scholar.google.com/ (Links to an external site.)Links to an external site. and search for Bias/Variance Tradeoff, Overfitting, or Regularization, and peruse an article of interest. Try to learn something new from this article, then post to Piazza a short paragraph of what you have learned. Note that some good articles (if you’re not able to find one of interest) are the following:\n",
    "\n",
    "Bias/Variance (Links to an external site.)Links to an external site.\n",
    "\n",
    "Overfitting (Links to an external site.)Links to an external site.\n",
    "\n",
    "Ridge Regularization (Links to an external site.)Links to an external site.\n",
    "\n",
    "Lasso Regularization (Links to an external site.)Links to an external site.\n",
    "\n",
    "Elastic-Net Regularization (Links to an external site.)Links to an external site.\n",
    "\n",
    "After three people have posted to Piazza, read at least three of your peer’s posts and summarize what you have learned from their posts in a new Piazza post.\n",
    "\n",
    "2. Take the Module 4 Quiz\n",
    "\n",
    "Deliverables:\n",
    "\n",
    "-Two posts to Piazza (Please submit screenshots). \n",
    "\n",
    "-Complete Module 4 Quiz"
   ]
  }
 ],
 "metadata": {
  "kernelspec": {
   "display_name": "Python 3",
   "language": "python",
   "name": "python3"
  },
  "language_info": {
   "codemirror_mode": {
    "name": "ipython",
    "version": 3
   },
   "file_extension": ".py",
   "mimetype": "text/x-python",
   "name": "python",
   "nbconvert_exporter": "python",
   "pygments_lexer": "ipython3",
   "version": "3.6.4"
  },
  "toc": {
   "base_numbering": 1,
   "nav_menu": {},
   "number_sections": true,
   "sideBar": true,
   "skip_h1_title": false,
   "title_cell": "Table of Contents",
   "title_sidebar": "Contents",
   "toc_cell": false,
   "toc_position": {},
   "toc_section_display": true,
   "toc_window_display": false
  }
 },
 "nbformat": 4,
 "nbformat_minor": 2
}
