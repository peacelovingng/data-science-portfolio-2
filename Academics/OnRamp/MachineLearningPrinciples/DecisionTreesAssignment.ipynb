{
 "cells": [
  {
   "cell_type": "markdown",
   "metadata": {},
   "source": [
    "## Importing Data"
   ]
  },
  {
   "cell_type": "code",
   "execution_count": null,
   "metadata": {},
   "outputs": [],
   "source": [
    "import pandas as pd\n",
    "from sklearn import tree\n",
    "\n",
    "#Dataset used: https://archive.ics.uci.edu/ml/datasets/Teaching+Assistant+Evaluation\n",
    "ta_eval_raw = pd.read_csv(\"tae.data\")\n",
    "\n",
    "#Used for sampling (previous data) and (future data) \n",
    "total_sample_num = ta_eval_raw.shape[0]\n",
    "\n",
    "#in order to simulate what would happen in real life scenarios, we choose\n",
    "#50% of this dataset at random to be our previous (training) data\n",
    "previous_data_to_train_on = ta_eval_raw.sample(int(0.5*total_sample_num), replace=True)"
   ]
  },
  {
   "cell_type": "markdown",
   "metadata": {},
   "source": [
    "## Assignment: Write code to build a decision tree classifier on this dataset"
   ]
  },
  {
   "cell_type": "code",
   "execution_count": null,
   "metadata": {},
   "outputs": [],
   "source": [
    "#TODO: Build your decision tree model here (keep the name of your decision tree consistent throughout the program)\n",
    "#Hint: Read the sklearn DecisionTreeClassifier docs:\n",
    "#http://scikit-learn.org/stable/modules/generated/sklearn.tree.DecisionTreeClassifier.html\n",
    "#Hint: You may also find it useful to visualize the tree in Graphviz as we've done in the lecture\n",
    "\n",
    "\n",
    "#TODO ENDS HERE  "
   ]
  },
  {
   "cell_type": "markdown",
   "metadata": {},
   "source": [
    "## Testing classifier on previous (training) data and future (test) data"
   ]
  },
  {
   "cell_type": "code",
   "execution_count": null,
   "metadata": {},
   "outputs": [],
   "source": [
    "#in order to simulate what would happen in real life scenarios, we choose\n",
    "#50% of this dataset at random to be our future (test) data\n",
    "future_data_we_will_test_on = ta_eval_raw.sample(int(0.5*total_sample_num), replace=True)\n",
    "\n",
    "#True values so that we can compare how good our classifier that we built performs\n",
    "true_value_training = list(previous_data_to_train_on.iloc[:,5])\n",
    "true_value_future = list(future_data_we_will_test_on.iloc[:,5])\n",
    "\n",
    "#Using Decision Tree to predict the labels i.e. 1, 2, or 3 for training and test data\n",
    "prediction_on_trainingdata = decision_tree.predict(previous_data_to_train_on.iloc[:, :5])\n",
    "prediction_on_futuredata = decision_tree.predict(future_data_we_will_test_on.iloc[:, :5])\n",
    "\n",
    "print(\"Data We Trained On Prediction Accuracy: \", sum(true_value_training == prediction_on_trainingdata)/len(prediction_on_trainingdata), \"%\")\n",
    "print(\"Future Data Prediction Accuracy: \", sum(true_value_future == prediction_on_futuredata)/len(prediction_on_futuredata), \"%\")"
   ]
  }
 ],
 "metadata": {
  "kernelspec": {
   "display_name": "Python 3",
   "language": "python",
   "name": "python3"
  },
  "language_info": {
   "codemirror_mode": {
    "name": "ipython",
    "version": 3
   },
   "file_extension": ".py",
   "mimetype": "text/x-python",
   "name": "python",
   "nbconvert_exporter": "python",
   "pygments_lexer": "ipython3",
   "version": "3.6.5"
  },
  "toc": {
   "base_numbering": 1,
   "nav_menu": {},
   "number_sections": true,
   "sideBar": true,
   "skip_h1_title": false,
   "title_cell": "Table of Contents",
   "title_sidebar": "Contents",
   "toc_cell": false,
   "toc_position": {},
   "toc_section_display": true,
   "toc_window_display": false
  }
 },
 "nbformat": 4,
 "nbformat_minor": 1
}
