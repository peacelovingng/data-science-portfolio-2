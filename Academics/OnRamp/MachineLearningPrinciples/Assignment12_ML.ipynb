{
 "cells": [
  {
   "cell_type": "markdown",
   "metadata": {},
   "source": [
    "Assignment Content:\n",
    "\n",
    "1. Implement K-Means clustering using Jupyter Notebook and Python as well as the sklearn package here (Links to an external site.)Links to an external site. using any dataset of your choosing. You can use the UCI dataset repository (Links to an external site.)Links to an external site. using the clustering filter or any other legitimate data repository which provides data that can easily be clustered. Plot the final clusters and cluster centroids after the algorithm has converged as done in the lecture video, closely examine the clusters by looking at samples within the cluster and explain why and if this clustering technique provided the needed results i.e. are the clusters all different from each other, and do they contain similar data within them? Write one paragraph either as a separate text file or within the .ipynb file as markdown with this explanation.\n",
    "\n",
    "Note: Please don’t choose datasets that are too large as the graders may need extra time to compute the work or download the data. If you can, please include the dataset along with the code or provide a link to where the dataset was downloaded from.\n",
    "\n",
    "2. Complete Supplemental Learning Survey on Canvas regarding what you would like to learn more about. The topic(s) will be briefly covered in the last weeks of the course and can serve to cover interesting Machine Learning problems for the students taking the course.\n",
    "\n",
    "Deliverables:\n",
    "\n",
    "-The K-Means implementation via .ipynb file with one paragraph explanation inside the .ipynb as markdown, or as a separate text file using an editor of choice\n",
    "\n",
    "-Completed survey on Canvas\n",
    "\n",
    "Project Reminder:\n",
    "\n",
    "In module 13 (in one week) we will be starting our final project which we will have roughly 2-3 weeks to complete. Please take the time to think about it early so that you will have a good idea of what you will be doing and can hit the ground running come module 13.\n",
    "\n",
    "Project Description:\n",
    "\n",
    "Find some datasets of interest and implement two Machine Learning algorithms, one supervised, and one unsupervised for these datasets (one dataset for the supervised algorithm, and the other for the unsupervised algorithm). You may implement these algorithms from scratch or use a python package, but if you use a package, describe all of the parameters used. Use cross validation, and report the accuracy. Use regularization techniques and explain why you have chosen them. Also explain why you have chosen these algorithms as opposed to other algorithms in the pool of supervised/unsupervised algorithms. Play with different eta rates as well as cross validation techniques. Experiment with different meta-parameters as well depending on the algorithm used i.e. (k value in k-means, tree depth in decision trees, epochs in stochastic gradient descent, etc…). The goal here is to create models which have the highest accuracy given the problem at hand. Also, write a 2-3 page report describing your dataset, findings and explanations for the questions above. Finally, record a 3 minute video describing your implementation while using .ipynb similar to the lectures. Explain your implementation, what you have tried and failed or succeeded. Explain what you have learned and what the final results are. You do not need to show your face, but make sure your voice is audible, and that viewers can see the screen as you present. I would recommend using Kaltura Capture Space, CamStudio or any other tools that can generate video formats, then post the result to Canvas. (Note: Do not use any dataset/code from the previous lectures or homework assignments. In other words, keep the data problems and Machine Learning problems unique for this project)."
   ]
  }
 ],
 "metadata": {
  "kernelspec": {
   "display_name": "Python 3",
   "language": "python",
   "name": "python3"
  },
  "toc": {
   "base_numbering": 1,
   "nav_menu": {},
   "number_sections": true,
   "sideBar": true,
   "skip_h1_title": false,
   "title_cell": "Table of Contents",
   "title_sidebar": "Contents",
   "toc_cell": false,
   "toc_position": {},
   "toc_section_display": true,
   "toc_window_display": false
  }
 },
 "nbformat": 4,
 "nbformat_minor": 2
}
