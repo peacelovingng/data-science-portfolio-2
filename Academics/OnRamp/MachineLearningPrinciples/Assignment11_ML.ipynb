{
 "cells": [
  {
   "cell_type": "markdown",
   "metadata": {},
   "source": [
    "Assignment Content:\n",
    "\n",
    "1. Select one type of Machine Learning of your interest from the ones presented (including the optional ones)\n",
    "\n",
    "The list is the following:\n",
    "\n",
    "    Supervised Learning\n",
    "    Unsupervised Learning\n",
    "    Semi-Supervised Learning\n",
    "    Deep Learning (Neural Networks)\n",
    "    Reinforcement Learning\n",
    "    Online Learning\n",
    "    Association Rule Learning\n",
    "    Representation Learning\n",
    "\n",
    "Then, take some time explore the optional sources in the lecture for the selected algorithm type. Finally, post to Piazza a one paragraph explanation of what you have learned and why what you have learned is important for real-world prediction problems. Then, after at least three colleagues have posted to their responses to Piazza, read three responses and summarize what you have learned from them in another Piazza post.\n",
    "\n",
    " 2. Take the Module 11 Quiz on Canvas\n",
    "\n",
    "Deliverables:\n",
    "\n",
    "-Two posts to Piazza, one regarding your Machine Learning type of interest, and another regarding the summarization of three other posts. Please submit the screenshots. \n",
    "\n",
    "-Completed quiz on Canvas\n",
    "\n",
    "Project Reminder:\n",
    "\n",
    "In module 13 (in two weeks) we will be starting our final project which we will have roughly 2-3 weeks to complete. Please take the time to think about it early so that you will have a good idea of what you will be doing and can hit the ground running come module 13.\n",
    "\n",
    "Project Description:\n",
    "\n",
    "Find some datasets of interest and implement two Machine Learning algorithms, one supervised, and one unsupervised for these datasets (one dataset for the supervised algorithm, and the other for the unsupervised algorithm). You may implement these algorithms from scratch or use a python package, but if you use a package, describe all of the parameters used. Use cross validation, and report the accuracy. Use regularization techniques and explain why you have chosen them. Also explain why you have chosen these algorithms as opposed to other algorithms in the pool of supervised/unsupervised algorithms. Play with different eta rates as well as cross validation techniques. Experiment with different meta-parameters as well depending on the algorithm used i.e. (k value in k-means, tree depth in decision trees, epochs in stochastic gradient descent, etc…). The goal here is to create models which have the highest accuracy given the problem at hand. Also, write a 2-3 page report describing your dataset, findings and explanations for the questions above. Finally, record a 3 minute video describing your implementation while using .ipynb similar to the lectures. Explain your implementation, what you have tried and failed or succeeded. Explain what you have learned and what the final results are. You do not need to show your face, but make sure your voice is audible, and that viewers can see the screen as you present. I would recommend using Kaltura Capture Space, CamStudio or any other tools that can generate video formats, then post the result to Canvas. (Note: Do not use any dataset/code from the previous lectures or homework assignments. In other words, keep the data problems and Machine Learning problems unique for this project)."
   ]
  }
 ],
 "metadata": {
  "kernelspec": {
   "display_name": "Python 3",
   "language": "python",
   "name": "python3"
  },
  "language_info": {
   "codemirror_mode": {
    "name": "ipython",
    "version": 3
   },
   "file_extension": ".py",
   "mimetype": "text/x-python",
   "name": "python",
   "nbconvert_exporter": "python",
   "pygments_lexer": "ipython3",
   "version": "3.6.4"
  },
  "toc": {
   "base_numbering": 1,
   "nav_menu": {},
   "number_sections": true,
   "sideBar": true,
   "skip_h1_title": false,
   "title_cell": "Table of Contents",
   "title_sidebar": "Contents",
   "toc_cell": false,
   "toc_position": {},
   "toc_section_display": true,
   "toc_window_display": false
  }
 },
 "nbformat": 4,
 "nbformat_minor": 2
}
