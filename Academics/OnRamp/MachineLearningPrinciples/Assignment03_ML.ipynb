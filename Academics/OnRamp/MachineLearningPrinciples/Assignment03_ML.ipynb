{
 "cells": [
  {
   "cell_type": "markdown",
   "metadata": {},
   "source": [
    "Assignment Content:\n",
    "\n",
    "1. Implement Linear Regression using Jupyter Notebook and Python as well as the sklearn package using any dataset of your choosing (you can use the UCI dataset repository (Links to an external site.)Links to an external site. or any other legitimate data repository). Try to predict one of the variables (columns) based on another variable as shown in the lectures. Report the resulting line-of-fit equation in y = mx + b form with the estimated m and b parameters and plot the line-of-fit to the data (2D plot is fine). You may include all of this working code and information in a Jupyter Notebook file (.ipynb) and turn this in on Canvas.\n",
    "\n",
    "Note: You may also use the iris dataset from the sklearn package if you are not able to find a good dataset of your choosing, import and use it as a data-frame the following way:\n",
    "\n",
    "from sklearn.datasets import load_iris\n",
    "\n",
    "import pandas as pd\n",
    "\n",
    "iris = load_iris()\n",
    "\n",
    "iris_dataframe = pd.DataFrame(iris.data, columns=iris.feature_names)\n",
    "\n",
    "Note: Please don't choose datasets that are too large as the graders may need extra time to compute the work or download the data. If you can, please include the dataset along with the code or provide a link to where the dataset was downloaded from.\n",
    "\n",
    "2. Complete the Machine Learning Principles course assessment survey (you won't need to study for this, we merely use it as feedback to improve the course based on your input, so be honest)\n",
    "\n",
    " Deliverables:\n",
    "\n",
    "-Upload one .ipynb file on Canvas with the solution to 1.\n",
    "\n",
    "-Completed Course Assessment Survey on Canvas"
   ]
  },
  {
   "cell_type": "code",
   "execution_count": 1,
   "metadata": {
    "ExecuteTime": {
     "end_time": "2018-10-06T16:26:16.137956Z",
     "start_time": "2018-10-06T16:26:15.295064Z"
    }
   },
   "outputs": [],
   "source": [
    "# Import key libraries\n",
    "\n",
    "import pandas as pd\n",
    "import numpy as np\n",
    "from sklearn.linear_model import LinearRegression\n",
    "from sklearn.datasets import load_boston\n",
    "\n",
    "import matplotlib.pyplot as plt\n",
    "%matplotlib inline\n",
    "import seaborn as sns\n",
    "\n",
    "from pprint import PrettyPrinter\n"
   ]
  },
  {
   "cell_type": "code",
   "execution_count": 2,
   "metadata": {
    "ExecuteTime": {
     "end_time": "2018-10-06T16:26:16.168736Z",
     "start_time": "2018-10-06T16:26:16.140004Z"
    }
   },
   "outputs": [
    {
     "name": "stdout",
     "output_type": "stream",
     "text": [
      "Dataset dimensions: (506, 14)\n"
     ]
    },
    {
     "data": {
      "text/html": [
       "<div>\n",
       "<style scoped>\n",
       "    .dataframe tbody tr th:only-of-type {\n",
       "        vertical-align: middle;\n",
       "    }\n",
       "\n",
       "    .dataframe tbody tr th {\n",
       "        vertical-align: top;\n",
       "    }\n",
       "\n",
       "    .dataframe thead th {\n",
       "        text-align: right;\n",
       "    }\n",
       "</style>\n",
       "<table border=\"1\" class=\"dataframe\">\n",
       "  <thead>\n",
       "    <tr style=\"text-align: right;\">\n",
       "      <th></th>\n",
       "      <th>CRIM</th>\n",
       "      <th>ZN</th>\n",
       "      <th>INDUS</th>\n",
       "      <th>CHAS</th>\n",
       "      <th>NOX</th>\n",
       "      <th>RM</th>\n",
       "      <th>AGE</th>\n",
       "      <th>DIS</th>\n",
       "      <th>RAD</th>\n",
       "      <th>TAX</th>\n",
       "      <th>PTRATIO</th>\n",
       "      <th>B</th>\n",
       "      <th>LSTAT</th>\n",
       "      <th>MEDV</th>\n",
       "    </tr>\n",
       "  </thead>\n",
       "  <tbody>\n",
       "    <tr>\n",
       "      <th>0</th>\n",
       "      <td>0.00632</td>\n",
       "      <td>18.0</td>\n",
       "      <td>2.31</td>\n",
       "      <td>0.0</td>\n",
       "      <td>0.538</td>\n",
       "      <td>6.575</td>\n",
       "      <td>65.2</td>\n",
       "      <td>4.0900</td>\n",
       "      <td>1.0</td>\n",
       "      <td>296.0</td>\n",
       "      <td>15.3</td>\n",
       "      <td>396.90</td>\n",
       "      <td>4.98</td>\n",
       "      <td>24.0</td>\n",
       "    </tr>\n",
       "    <tr>\n",
       "      <th>1</th>\n",
       "      <td>0.02731</td>\n",
       "      <td>0.0</td>\n",
       "      <td>7.07</td>\n",
       "      <td>0.0</td>\n",
       "      <td>0.469</td>\n",
       "      <td>6.421</td>\n",
       "      <td>78.9</td>\n",
       "      <td>4.9671</td>\n",
       "      <td>2.0</td>\n",
       "      <td>242.0</td>\n",
       "      <td>17.8</td>\n",
       "      <td>396.90</td>\n",
       "      <td>9.14</td>\n",
       "      <td>21.6</td>\n",
       "    </tr>\n",
       "    <tr>\n",
       "      <th>2</th>\n",
       "      <td>0.02729</td>\n",
       "      <td>0.0</td>\n",
       "      <td>7.07</td>\n",
       "      <td>0.0</td>\n",
       "      <td>0.469</td>\n",
       "      <td>7.185</td>\n",
       "      <td>61.1</td>\n",
       "      <td>4.9671</td>\n",
       "      <td>2.0</td>\n",
       "      <td>242.0</td>\n",
       "      <td>17.8</td>\n",
       "      <td>392.83</td>\n",
       "      <td>4.03</td>\n",
       "      <td>34.7</td>\n",
       "    </tr>\n",
       "    <tr>\n",
       "      <th>3</th>\n",
       "      <td>0.03237</td>\n",
       "      <td>0.0</td>\n",
       "      <td>2.18</td>\n",
       "      <td>0.0</td>\n",
       "      <td>0.458</td>\n",
       "      <td>6.998</td>\n",
       "      <td>45.8</td>\n",
       "      <td>6.0622</td>\n",
       "      <td>3.0</td>\n",
       "      <td>222.0</td>\n",
       "      <td>18.7</td>\n",
       "      <td>394.63</td>\n",
       "      <td>2.94</td>\n",
       "      <td>33.4</td>\n",
       "    </tr>\n",
       "    <tr>\n",
       "      <th>4</th>\n",
       "      <td>0.06905</td>\n",
       "      <td>0.0</td>\n",
       "      <td>2.18</td>\n",
       "      <td>0.0</td>\n",
       "      <td>0.458</td>\n",
       "      <td>7.147</td>\n",
       "      <td>54.2</td>\n",
       "      <td>6.0622</td>\n",
       "      <td>3.0</td>\n",
       "      <td>222.0</td>\n",
       "      <td>18.7</td>\n",
       "      <td>396.90</td>\n",
       "      <td>5.33</td>\n",
       "      <td>36.2</td>\n",
       "    </tr>\n",
       "  </tbody>\n",
       "</table>\n",
       "</div>"
      ],
      "text/plain": [
       "      CRIM    ZN  INDUS  CHAS    NOX     RM   AGE     DIS  RAD    TAX  \\\n",
       "0  0.00632  18.0   2.31   0.0  0.538  6.575  65.2  4.0900  1.0  296.0   \n",
       "1  0.02731   0.0   7.07   0.0  0.469  6.421  78.9  4.9671  2.0  242.0   \n",
       "2  0.02729   0.0   7.07   0.0  0.469  7.185  61.1  4.9671  2.0  242.0   \n",
       "3  0.03237   0.0   2.18   0.0  0.458  6.998  45.8  6.0622  3.0  222.0   \n",
       "4  0.06905   0.0   2.18   0.0  0.458  7.147  54.2  6.0622  3.0  222.0   \n",
       "\n",
       "   PTRATIO       B  LSTAT  MEDV  \n",
       "0     15.3  396.90   4.98  24.0  \n",
       "1     17.8  396.90   9.14  21.6  \n",
       "2     17.8  392.83   4.03  34.7  \n",
       "3     18.7  394.63   2.94  33.4  \n",
       "4     18.7  396.90   5.33  36.2  "
      ]
     },
     "execution_count": 2,
     "metadata": {},
     "output_type": "execute_result"
    }
   ],
   "source": [
    "# Load and inspect data\n",
    "\n",
    "bostonData = load_boston()\n",
    "\n",
    "X = bostonData.data\n",
    "y = bostonData.target\n",
    "df = pd.DataFrame(np.c_[X, y]\n",
    "                     ,columns = bostonData.feature_names.tolist() + ['MEDV'])\n",
    "print('Dataset dimensions: {0}'.format(df.shape))\n",
    "df[:5]\n"
   ]
  },
  {
   "cell_type": "markdown",
   "metadata": {},
   "source": [
    "_Column details from DESCR method associated with Boston housing sklearn dataset_\n",
    "\n",
    "Attribute Information:\n",
    "\n",
    "- CRIM     per capita crime rate by town\n",
    "- ZN       proportion of residential land zoned for lots over 25,000 sq.ft.\n",
    "- INDUS    proportion of non-retail business acres per town\n",
    "- CHAS     Charles River dummy variable (= 1 if tract bounds river 0 otherwise)\n",
    "- NOX      nitric oxides concentration (parts per 10 million)\n",
    "- RM       average number of rooms per dwelling\n",
    "- AGE      proportion of owner-occupied units built prior to 1940\n",
    "- DIS      weighted distances to five Boston employment centres\n",
    "- RAD      index of accessibility to radial highways\n",
    "- TAX      full-value property-tax rate per \\$10,000\n",
    "- PTRATIO  pupil-teacher ratio by town\n",
    "- B        1000(Bk - 0.63)^2 where Bk is the proportion of blacks by town\n",
    "- LSTAT    % lower status of the population\n",
    "- MEDV     Median value of owner-occupied homes in \\$1000's"
   ]
  },
  {
   "cell_type": "code",
   "execution_count": 3,
   "metadata": {
    "ExecuteTime": {
     "end_time": "2018-10-06T16:26:16.179970Z",
     "start_time": "2018-10-06T16:26:16.171063Z"
    }
   },
   "outputs": [
    {
     "name": "stdout",
     "output_type": "stream",
     "text": [
      "('Boston House Prices dataset\\n'\n",
      " '===========================\\n'\n",
      " '\\n'\n",
      " 'Notes\\n'\n",
      " '------\\n'\n",
      " 'Data Set Characteristics:  \\n'\n",
      " '\\n'\n",
      " '    :Number of Instances: 506 \\n'\n",
      " '\\n'\n",
      " '    :Number of Attributes: 13 numeric/categorical predictive\\n'\n",
      " '    \\n'\n",
      " '    :Median Value (attribute 14) is usually the target\\n'\n",
      " '\\n'\n",
      " '    :Attribute Information (in order):\\n'\n",
      " '        - CRIM     per capita crime rate by town\\n'\n",
      " '        - ZN       proportion of residential land zoned for lots over 25,000 '\n",
      " 'sq.ft.\\n'\n",
      " '        - INDUS    proportion of non-retail business acres per town\\n'\n",
      " '        - CHAS     Charles River dummy variable (= 1 if tract bounds river; '\n",
      " '0 otherwise)\\n'\n",
      " '        - NOX      nitric oxides concentration (parts per 10 million)\\n'\n",
      " '        - RM       average number of rooms per dwelling\\n'\n",
      " '        - AGE      proportion of owner-occupied units built prior to 1940\\n'\n",
      " '        - DIS      weighted distances to five Boston employment centres\\n'\n",
      " '        - RAD      index of accessibility to radial highways\\n'\n",
      " '        - TAX      full-value property-tax rate per $10,000\\n'\n",
      " '        - PTRATIO  pupil-teacher ratio by town\\n'\n",
      " '        - B        1000(Bk - 0.63)^2 where Bk is the proportion of blacks by '\n",
      " 'town\\n'\n",
      " '        - LSTAT    % lower status of the population\\n'\n",
      " \"        - MEDV     Median value of owner-occupied homes in $1000's\\n\"\n",
      " '\\n'\n",
      " '    :Missing Attribute Values: None\\n'\n",
      " '\\n'\n",
      " '    :Creator: Harrison, D. and Rubinfeld, D.L.\\n'\n",
      " '\\n'\n",
      " 'This is a copy of UCI ML housing dataset.\\n'\n",
      " 'http://archive.ics.uci.edu/ml/datasets/Housing\\n'\n",
      " '\\n'\n",
      " '\\n'\n",
      " 'This dataset was taken from the StatLib library which is maintained at '\n",
      " 'Carnegie Mellon University.\\n'\n",
      " '\\n'\n",
      " \"The Boston house-price data of Harrison, D. and Rubinfeld, D.L. 'Hedonic\\n\"\n",
      " \"prices and the demand for clean air', J. Environ. Economics & Management,\\n\"\n",
      " \"vol.5, 81-102, 1978.   Used in Belsley, Kuh & Welsch, 'Regression \"\n",
      " 'diagnostics\\n'\n",
      " \"...', Wiley, 1980.   N.B. Various transformations are used in the table on\\n\"\n",
      " 'pages 244-261 of the latter.\\n'\n",
      " '\\n'\n",
      " 'The Boston house-price data has been used in many machine learning papers '\n",
      " 'that address regression\\n'\n",
      " 'problems.   \\n'\n",
      " '     \\n'\n",
      " '**References**\\n'\n",
      " '\\n'\n",
      " \"   - Belsley, Kuh & Welsch, 'Regression diagnostics: Identifying Influential \"\n",
      " \"Data and Sources of Collinearity', Wiley, 1980. 244-261.\\n\"\n",
      " '   - Quinlan,R. (1993). Combining Instance-Based and Model-Based Learning. '\n",
      " 'In Proceedings on the Tenth International Conference of Machine Learning, '\n",
      " '236-243, University of Massachusetts, Amherst. Morgan Kaufmann.\\n'\n",
      " '   - many more! (see http://archive.ics.uci.edu/ml/datasets/Housing)\\n')\n"
     ]
    }
   ],
   "source": [
    "# Run this to show all detail includes with Boston Housing Market dataset\n",
    "\n",
    "printer = PrettyPrinter()\n",
    "printer.pprint(bostonData.DESCR)\n"
   ]
  },
  {
   "cell_type": "code",
   "execution_count": 4,
   "metadata": {
    "ExecuteTime": {
     "end_time": "2018-10-06T16:26:16.186699Z",
     "start_time": "2018-10-06T16:26:16.182029Z"
    }
   },
   "outputs": [],
   "source": [
    "# Select columns describing LSTAT - '% lower status of the population' and\n",
    "# MEDV - 'median value of owner-occupied homes in $1,000's'\n",
    "\n",
    "X = df.iloc[:,-2].values.reshape(-1, 1)\n",
    "y = df.iloc[:,-1].values.reshape(-1, 1)\n"
   ]
  },
  {
   "cell_type": "code",
   "execution_count": 5,
   "metadata": {
    "ExecuteTime": {
     "end_time": "2018-10-06T16:26:16.201269Z",
     "start_time": "2018-10-06T16:26:16.188961Z"
    }
   },
   "outputs": [
    {
     "name": "stderr",
     "output_type": "stream",
     "text": [
      "/Users/petersontylerd/.ve/main/lib/python3.6/site-packages/sklearn/linear_model/base.py:509: RuntimeWarning: internal gelsd driver lwork query error, required iwork dimension not returned. This is likely the result of LAPACK bug 0038, fixed in LAPACK 3.2.2 (released July 21, 2010). Falling back to 'gelss' driver.\n",
      "  linalg.lstsq(X, y)\n"
     ]
    },
    {
     "data": {
      "text/plain": [
       "LinearRegression(copy_X=True, fit_intercept=True, n_jobs=1, normalize=False)"
      ]
     },
     "execution_count": 5,
     "metadata": {},
     "output_type": "execute_result"
    }
   ],
   "source": [
    "# Build linear regression model using LSTAT to predict MEDV\n",
    "\n",
    "linModel = LinearRegression()\n",
    "linModel.fit(X,y)\n"
   ]
  },
  {
   "cell_type": "code",
   "execution_count": 6,
   "metadata": {
    "ExecuteTime": {
     "end_time": "2018-10-06T16:26:16.208779Z",
     "start_time": "2018-10-06T16:26:16.204559Z"
    }
   },
   "outputs": [
    {
     "name": "stdout",
     "output_type": "stream",
     "text": [
      "Model coefficient: -0.95\n",
      "Model intercept: 34.554\n"
     ]
    }
   ],
   "source": [
    "# Display model coefficient and intercept\n",
    "\n",
    "print('Model coefficient: {0}'.format(np.round(linModel.coef_[0][0], 3)))\n",
    "print('Model intercept: {0}'.format(np.round(linModel.intercept_[0], 3)))\n"
   ]
  },
  {
   "cell_type": "markdown",
   "metadata": {},
   "source": [
    "__Line of best fit equation__\n",
    "\n",
    "$$\n",
    "y = -0.95x + 34.554\n",
    "$$\n",
    "\n",
    "> Remarks - This the coefficient for LSTAT in this equation can be interpreted as for every 1 unit increase of LSTAT, the MEDV prediction\n",
    "decreases by -0.95"
   ]
  },
  {
   "cell_type": "code",
   "execution_count": 7,
   "metadata": {
    "ExecuteTime": {
     "end_time": "2018-10-06T16:26:16.553336Z",
     "start_time": "2018-10-06T16:26:16.210522Z"
    }
   },
   "outputs": [
    {
     "data": {
      "image/png": "[encoded data removed]",
      "text/plain": [
       "<Figure size 1080x720 with 1 Axes>"
      ]
     },
     "metadata": {
      "needs_background": "light"
     },
     "output_type": "display_data"
    }
   ],
   "source": [
    "# Scatter plot\n",
    "\n",
    "fig, ax = plt.subplots(figsize = (15,10))\n",
    "plt.scatter(X, y, alpha = 0.7, color = 'grey')\n",
    "plt.ylabel('MEDV', fontsize = 15)\n",
    "plt.xlabel('LSTAT', fontsize = 15)\n",
    "\n",
    "ax.plot(X, linModel.predict(X), color = 'r', linestyle = '--', linewidth = 6)\n",
    "plt.show()\n"
   ]
  },
  {
   "cell_type": "markdown",
   "metadata": {},
   "source": [
    "> Remarks - The line of best fit for the independent variable LSTAT and the dependent variable MEDV somewhat captures the relationship between these variables. While it's clear that as LSTAT increases, MEDV decreases, there are appears to be a segment of LSTAT where the relationship would be better capture by a curved (polynomial) line. Specifically, LSTAT values of 10% and below are paired with MEDV values that decrease more sharply than the other values."
   ]
  }
 ],
 "metadata": {
  "kernelspec": {
   "display_name": "Python 3",
   "language": "python",
   "name": "python3"
  },
  "language_info": {
   "codemirror_mode": {
    "name": "ipython",
    "version": 3
   },
   "file_extension": ".py",
   "mimetype": "text/x-python",
   "name": "python",
   "nbconvert_exporter": "python",
   "pygments_lexer": "ipython3",
   "version": "3.6.5"
  },
  "toc": {
   "base_numbering": 1,
   "nav_menu": {},
   "number_sections": true,
   "sideBar": true,
   "skip_h1_title": false,
   "title_cell": "Table of Contents",
   "title_sidebar": "Contents",
   "toc_cell": false,
   "toc_position": {},
   "toc_section_display": true,
   "toc_window_display": false
  }
 },
 "nbformat": 4,
 "nbformat_minor": 2
}
