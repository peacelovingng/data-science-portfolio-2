{
 "cells": [
  {
   "cell_type": "markdown",
   "metadata": {},
   "source": [
    "__Assignment 9__"
   ]
  },
  {
   "cell_type": "code",
   "execution_count": 1,
   "metadata": {
    "ExecuteTime": {
     "end_time": "2018-11-18T02:51:04.767459Z",
     "start_time": "2018-11-18T02:50:58.083865Z"
    }
   },
   "outputs": [
    {
     "data": {
      "text/html": [
       "<style>.container { width:95% !important; }</style>"
      ],
      "text/plain": [
       "<IPython.core.display.HTML object>"
      ]
     },
     "metadata": {},
     "output_type": "display_data"
    }
   ],
   "source": [
    "# Standard libary and settings\n",
    "import warnings; warnings.simplefilter('ignore')\n",
    "from IPython.core.display import display, HTML; display(HTML(\"<style>.container { width:95% !important; }</style>\"))\n",
    "\n",
    "\n",
    "# Data extensions and settings\n",
    "import numpy as np\n",
    "np.set_printoptions(threshold = np.inf, suppress = True)\n",
    "import pandas as pd\n",
    "pd.set_option('display.max_rows', 500)\n",
    "pd.options.display.float_format = '{:,.6f}'.format\n",
    "\n",
    "\n",
    "# Modeling extensions\n",
    "import sklearn.metrics as metrics\n",
    "import sklearn.model_selection as model_selection\n",
    "import sklearn.naive_bayes as naive_bayes\n"
   ]
  },
  {
   "cell_type": "code",
   "execution_count": 2,
   "metadata": {
    "ExecuteTime": {
     "end_time": "2018-11-18T02:51:05.269716Z",
     "start_time": "2018-11-18T02:51:04.769581Z"
    }
   },
   "outputs": [
    {
     "name": "stdout",
     "output_type": "stream",
     "text": [
      "<class 'pandas.core.frame.DataFrame'>\n",
      "RangeIndex: 1473 entries, 0 to 1472\n",
      "Data columns (total 10 columns):\n",
      "WifeAge                1473 non-null int64\n",
      "WifeEdu                1473 non-null int64\n",
      "HusbandEdu             1473 non-null int64\n",
      "NumChildren            1473 non-null int64\n",
      "WifeReligion           1473 non-null int64\n",
      "WifeWorking            1473 non-null int64\n",
      "HusbandOccupation      1473 non-null int64\n",
      "StandardOfLiving       1473 non-null int64\n",
      "MediaExposure          1473 non-null int64\n",
      "ContraceptiveMethod    1473 non-null int64\n",
      "dtypes: int64(10)\n",
      "memory usage: 115.2 KB\n"
     ]
    },
    {
     "data": {
      "text/html": [
       "<div>\n",
       "<style scoped>\n",
       "    .dataframe tbody tr th:only-of-type {\n",
       "        vertical-align: middle;\n",
       "    }\n",
       "\n",
       "    .dataframe tbody tr th {\n",
       "        vertical-align: top;\n",
       "    }\n",
       "\n",
       "    .dataframe thead th {\n",
       "        text-align: right;\n",
       "    }\n",
       "</style>\n",
       "<table border=\"1\" class=\"dataframe\">\n",
       "  <thead>\n",
       "    <tr style=\"text-align: right;\">\n",
       "      <th></th>\n",
       "      <th>WifeAge</th>\n",
       "      <th>WifeEdu</th>\n",
       "      <th>HusbandEdu</th>\n",
       "      <th>NumChildren</th>\n",
       "      <th>WifeReligion</th>\n",
       "      <th>WifeWorking</th>\n",
       "      <th>HusbandOccupation</th>\n",
       "      <th>StandardOfLiving</th>\n",
       "      <th>MediaExposure</th>\n",
       "      <th>ContraceptiveMethod</th>\n",
       "    </tr>\n",
       "  </thead>\n",
       "  <tbody>\n",
       "    <tr>\n",
       "      <th>0</th>\n",
       "      <td>24</td>\n",
       "      <td>2</td>\n",
       "      <td>3</td>\n",
       "      <td>3</td>\n",
       "      <td>1</td>\n",
       "      <td>1</td>\n",
       "      <td>2</td>\n",
       "      <td>3</td>\n",
       "      <td>0</td>\n",
       "      <td>1</td>\n",
       "    </tr>\n",
       "    <tr>\n",
       "      <th>1</th>\n",
       "      <td>45</td>\n",
       "      <td>1</td>\n",
       "      <td>3</td>\n",
       "      <td>10</td>\n",
       "      <td>1</td>\n",
       "      <td>1</td>\n",
       "      <td>3</td>\n",
       "      <td>4</td>\n",
       "      <td>0</td>\n",
       "      <td>1</td>\n",
       "    </tr>\n",
       "    <tr>\n",
       "      <th>2</th>\n",
       "      <td>43</td>\n",
       "      <td>2</td>\n",
       "      <td>3</td>\n",
       "      <td>7</td>\n",
       "      <td>1</td>\n",
       "      <td>1</td>\n",
       "      <td>3</td>\n",
       "      <td>4</td>\n",
       "      <td>0</td>\n",
       "      <td>1</td>\n",
       "    </tr>\n",
       "    <tr>\n",
       "      <th>3</th>\n",
       "      <td>42</td>\n",
       "      <td>3</td>\n",
       "      <td>2</td>\n",
       "      <td>9</td>\n",
       "      <td>1</td>\n",
       "      <td>1</td>\n",
       "      <td>3</td>\n",
       "      <td>3</td>\n",
       "      <td>0</td>\n",
       "      <td>1</td>\n",
       "    </tr>\n",
       "    <tr>\n",
       "      <th>4</th>\n",
       "      <td>36</td>\n",
       "      <td>3</td>\n",
       "      <td>3</td>\n",
       "      <td>8</td>\n",
       "      <td>1</td>\n",
       "      <td>1</td>\n",
       "      <td>3</td>\n",
       "      <td>2</td>\n",
       "      <td>0</td>\n",
       "      <td>1</td>\n",
       "    </tr>\n",
       "  </tbody>\n",
       "</table>\n",
       "</div>"
      ],
      "text/plain": [
       "   WifeAge  WifeEdu  HusbandEdu  NumChildren  WifeReligion  WifeWorking  \\\n",
       "0       24        2           3            3             1            1   \n",
       "1       45        1           3           10             1            1   \n",
       "2       43        2           3            7             1            1   \n",
       "3       42        3           2            9             1            1   \n",
       "4       36        3           3            8             1            1   \n",
       "\n",
       "   HusbandOccupation  StandardOfLiving  MediaExposure  ContraceptiveMethod  \n",
       "0                  2                 3              0                    1  \n",
       "1                  3                 4              0                    1  \n",
       "2                  3                 4              0                    1  \n",
       "3                  3                 3              0                    1  \n",
       "4                  3                 2              0                    1  "
      ]
     },
     "metadata": {},
     "output_type": "display_data"
    }
   ],
   "source": [
    "# Load and inspect data\n",
    "\n",
    "df = pd.read_csv('https://archive.ics.uci.edu/ml/machine-learning-databases/cmc/cmc.data'\n",
    "                 ,sep = ','\n",
    "                 ,names = ['WifeAge','WifeEdu','HusbandEdu','NumChildren','WifeReligion','WifeWorking','HusbandOccupation','StandardOfLiving','MediaExposure','ContraceptiveMethod'])\n",
    "df.info()\n",
    "display(df[:5])\n"
   ]
  },
  {
   "cell_type": "code",
   "execution_count": 3,
   "metadata": {
    "ExecuteTime": {
     "end_time": "2018-11-18T02:51:05.278339Z",
     "start_time": "2018-11-18T02:51:05.272674Z"
    }
   },
   "outputs": [
    {
     "data": {
      "text/plain": [
       "array([1, 2, 3])"
      ]
     },
     "execution_count": 3,
     "metadata": {},
     "output_type": "execute_result"
    }
   ],
   "source": [
    "# Print unique class labels\n",
    "\n",
    "df['ContraceptiveMethod'].unique()\n"
   ]
  },
  {
   "cell_type": "markdown",
   "metadata": {},
   "source": [
    "> Remarks - This dataset has a three-level categorical response variable"
   ]
  },
  {
   "cell_type": "code",
   "execution_count": 7,
   "metadata": {
    "ExecuteTime": {
     "end_time": "2018-11-18T02:51:41.673131Z",
     "start_time": "2018-11-18T02:51:41.668179Z"
    }
   },
   "outputs": [],
   "source": [
    "# Train/ test split\n",
    "\n",
    "X = df.iloc[:,:-1].values\n",
    "y = df.iloc[:,-1].values\n",
    "\n",
    "XTrain, XTest, yTrain, yTest\\\n",
    "      = model_selection.train_test_split(X, y, test_size = 0.2, random_state = 1, stratify = y)\n"
   ]
  },
  {
   "cell_type": "code",
   "execution_count": 8,
   "metadata": {
    "ExecuteTime": {
     "end_time": "2018-11-18T02:51:42.579644Z",
     "start_time": "2018-11-18T02:51:42.555333Z"
    }
   },
   "outputs": [
    {
     "name": "stdout",
     "output_type": "stream",
     "text": [
      "CV accuracy on training data: 0.493 +/- 0.027\n"
     ]
    }
   ],
   "source": [
    "# Perform cross validation\n",
    "\n",
    "model = naive_bayes.MultinomialNB()\n",
    "scores = model_selection.cross_val_score(model\n",
    "                                        ,XTrain\n",
    "                                        ,yTrain\n",
    "                                        ,scoring = 'accuracy'\n",
    "                                        ,cv = 10\n",
    "                                       )\n",
    "print('CV accuracy on training data: {:.3f} +/- {:.3f}'.format(np.mean(scores), np.std(scores)))\n"
   ]
  },
  {
   "cell_type": "code",
   "execution_count": 10,
   "metadata": {
    "ExecuteTime": {
     "end_time": "2018-11-18T02:53:01.687930Z",
     "start_time": "2018-11-18T02:53:01.683621Z"
    }
   },
   "outputs": [
    {
     "name": "stdout",
     "output_type": "stream",
     "text": [
      "All scores: [0.51260504 0.53781513 0.51260504 0.46610169 0.44915254 0.49152542\n",
      " 0.46153846 0.4957265  0.52136752 0.48275862]\n"
     ]
    }
   ],
   "source": [
    "# Print all scores\n",
    "\n",
    "print('All scores: {}'.format(scores))"
   ]
  },
  {
   "cell_type": "markdown",
   "metadata": {},
   "source": [
    "> Remarks - The average score of the cross validation was 0.49 with a narrow standard deviation of 0.027."
   ]
  },
  {
   "cell_type": "code",
   "execution_count": 9,
   "metadata": {
    "ExecuteTime": {
     "end_time": "2018-11-18T02:51:45.192993Z",
     "start_time": "2018-11-18T02:51:45.186558Z"
    }
   },
   "outputs": [
    {
     "name": "stdout",
     "output_type": "stream",
     "text": [
      "Accuracy: 0.512\n"
     ]
    }
   ],
   "source": [
    "# Determine accuracy of model when used on test set\n",
    "\n",
    "model = naive_bayes.MultinomialNB()\n",
    "model.fit(XTrain, yTrain)\n",
    "yPred = model.predict(XTest)\n",
    "\n",
    "print('Accuracy: {:.3f}'.format(metrics.accuracy_score(y_true = yTest, y_pred = yPred)))\n"
   ]
  },
  {
   "cell_type": "markdown",
   "metadata": {},
   "source": [
    "> Remarks - The model performed slightly better on the unseen test data, but the accuracy is still very close to only 50%. This could be due to inter-dependencies among features in the dataset chosen. This dataset presents a classifcation problem with three different categories describing what type, if any, of contraception is used by a husband and wife. The features pertain to characteristics about the husband and wife, such as the education level of each, their standard of living, number of children. It could be the case that higher educated men marry higher educated women, and higher educated people possess a higher standard of living, and have more/fewer children than less educated people. These are just a few types of inter-dependencies that could exist in this data set that prevent Naive Bayes from being more accurate."
   ]
  }
 ],
 "metadata": {
  "kernelspec": {
   "display_name": "Python 3",
   "language": "python",
   "name": "python3"
  },
  "language_info": {
   "codemirror_mode": {
    "name": "ipython",
    "version": 3
   },
   "file_extension": ".py",
   "mimetype": "text/x-python",
   "name": "python",
   "nbconvert_exporter": "python",
   "pygments_lexer": "ipython3",
   "version": "3.6.4"
  },
  "toc": {
   "base_numbering": 1,
   "nav_menu": {},
   "number_sections": true,
   "sideBar": true,
   "skip_h1_title": false,
   "title_cell": "Table of Contents",
   "title_sidebar": "Contents",
   "toc_cell": false,
   "toc_position": {},
   "toc_section_display": true,
   "toc_window_display": false
  }
 },
 "nbformat": 4,
 "nbformat_minor": 2
}
