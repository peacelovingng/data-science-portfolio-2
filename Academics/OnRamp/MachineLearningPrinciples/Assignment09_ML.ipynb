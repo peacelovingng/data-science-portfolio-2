{
 "cells": [
  {
   "cell_type": "markdown",
   "metadata": {},
   "source": [
    "Core Content:\n",
    "\n",
    "1. Implement Naïve Bayes using Jupyter Notebook and Python as well as the sklearn package using any dataset of your choosing, except animals and student-mat.\n",
    "\n",
    "You can use the UCI dataset repository (Links to an external site.)Links to an external site. or any other legitimate data repository.\n",
    "\n",
    "Choose a dataset in which you can predict a multi-class classification (e.g. instead of binary 0 or 1, have more than two classes) for your Y variable. Also select a dataset with more than two features. Split this dataset into training/test splits, and implement any cross-validation method of your choice reporting on the accuracy or error of your results.\n",
    "\n",
    "Note: Please don’t select a dataset which is too large as the AI/TA may need to download and run it on their own as well. Also, please provide the link to the data or provide the data as an attachment with this assignment.\n",
    "\n",
    " 2. Take the Module 9 Naive Bayes quiz\n",
    "\n",
    "Deliverables:\n",
    "\n",
    "-One .ipynb file pertaining to the Naïve Bayes implementation and results. The code should print out the accuracy/error rate of the cross-validation procedure pertaining to the highest test and training results (averaged over the number of iterations if needed). Also briefly explain the dataset you have used in a few sentences (these can all be markup or print statements in the .ipynb file)\n",
    "\n",
    "-Link or attachment to the dataset used in the Naïve Bayes formulation\n",
    "\n",
    "-Completed Module 9 quiz on Canvas"
   ]
  }
 ],
 "metadata": {
  "kernelspec": {
   "display_name": "Python 3",
   "language": "python",
   "name": "python3"
  },
  "language_info": {
   "codemirror_mode": {
    "name": "ipython",
    "version": 3
   },
   "file_extension": ".py",
   "mimetype": "text/x-python",
   "name": "python",
   "nbconvert_exporter": "python",
   "pygments_lexer": "ipython3",
   "version": "3.6.4"
  },
  "toc": {
   "base_numbering": 1,
   "nav_menu": {},
   "number_sections": true,
   "sideBar": true,
   "skip_h1_title": false,
   "title_cell": "Table of Contents",
   "title_sidebar": "Contents",
   "toc_cell": false,
   "toc_position": {},
   "toc_section_display": true,
   "toc_window_display": false
  }
 },
 "nbformat": 4,
 "nbformat_minor": 2
}
