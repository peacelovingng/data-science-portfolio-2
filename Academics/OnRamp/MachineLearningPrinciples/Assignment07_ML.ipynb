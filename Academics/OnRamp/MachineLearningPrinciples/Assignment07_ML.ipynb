{
 "cells": [
  {
   "cell_type": "markdown",
   "metadata": {},
   "source": [
    "Assignment Content:\n",
    "\n",
    "1. Implement an SVM classifier using Jupyter Notebook and Python as well as the sklearn package using any dataset of your choosing (except the Flags and Iris datasets!) (you can use the UCI dataset repository (Links to an external site.)Links to an external site. or any other legitimate data repository). Implement cross-validation and train your classifier on the training data, then test the results on the test data. Tweak the kernel functions and regularization parameters as to perform well both on the training and test data. Finally, tweak the kernel functions and regularization parameters as to perform the best on the test data (meaning find the optimal test accuracy, not caring too much about the training accuracy). Report on your findings, printing them out to the console in Jupyter Notebook.\n",
    "\n",
    "2. Ask one question on Piazza regarding practical notions, theory, or scikit-learn and SVMs. This question should be fairly involved and should express genuine curiosity (i.e. it should be a couple sentences long). Then, after at least ten people have posted their questions to Piazza, answer one person’s question. Your work will be graded on the ingenuity of the question asked as well as the question answered (i.e. thorough questions and answers will be graded higher).\n",
    "\n",
    "Deliverables:\n",
    "\n",
    " -One .ipynb file pertaining to the SVM implementation and results. The code should print out the accuracy rate of the cross-validation procedure pertaining to the highest test and training results (averaged over the number of iterations if needed). The code should also print out the accuracy rate of the cross-validation procedure pertaining to the highest test results regardless of training results (averaged over the number of iterations if needed). Include a markup section in the Jupyter Notebook explaining the tweaks you have tried and which ones provided the best results and why. This should be 1-2 paragraphs long.\n",
    "\n",
    "-Two posts on Piazza. The first one should be the one paragraph long question and the second one should be the response to one of your peer’s questions. Please submit the screenshots of your posts. "
   ]
  }
 ],
 "metadata": {
  "kernelspec": {
   "display_name": "Python 3",
   "language": "python",
   "name": "python3"
  },
  "language_info": {
   "codemirror_mode": {
    "name": "ipython",
    "version": 3
   },
   "file_extension": ".py",
   "mimetype": "text/x-python",
   "name": "python",
   "nbconvert_exporter": "python",
   "pygments_lexer": "ipython3",
   "version": "3.6.4"
  },
  "toc": {
   "base_numbering": 1,
   "nav_menu": {},
   "number_sections": true,
   "sideBar": true,
   "skip_h1_title": false,
   "title_cell": "Table of Contents",
   "title_sidebar": "Contents",
   "toc_cell": false,
   "toc_position": {},
   "toc_section_display": true,
   "toc_window_display": false
  }
 },
 "nbformat": 4,
 "nbformat_minor": 2
}
