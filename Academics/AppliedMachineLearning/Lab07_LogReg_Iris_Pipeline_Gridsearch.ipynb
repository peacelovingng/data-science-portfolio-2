{
 "cells": [
  {
   "cell_type": "markdown",
   "metadata": {},
   "source": [
    "# TOC"
   ]
  },
  {
   "cell_type": "markdown",
   "metadata": {},
   "source": [
    "__Lab 07 - Classification__\n",
    "1. [Import](#Import)\n",
    "1. [Multi-class classification](#Multi-class-classification)\n",
    "    1. [Example 1 - Distance from planes](#Distance-from-planes-Example1)\n",
    "    1. [Example 2 - Iris classification w/ logistic regression](#Iris-classification-w/-logistic-regression-Example2)\n"
   ]
  },
  {
   "cell_type": "markdown",
   "metadata": {},
   "source": [
    "# Import"
   ]
  },
  {
   "cell_type": "markdown",
   "metadata": {},
   "source": [
    "<a id = \"Import\"></a>"
   ]
  },
  {
   "cell_type": "code",
   "execution_count": 52,
   "metadata": {
    "ExecuteTime": {
     "end_time": "2018-07-08T18:28:25.605439Z",
     "start_time": "2018-07-08T18:28:25.580130Z"
    }
   },
   "outputs": [
    {
     "data": {
      "text/html": [
       "<style>.container { width:78% !important; }</style>"
      ],
      "text/plain": [
       "<IPython.core.display.HTML object>"
      ]
     },
     "metadata": {},
     "output_type": "display_data"
    }
   ],
   "source": [
    "import numpy as np; np.set_printoptions(threshold = np.inf, suppress = True)\n",
    "import pandas as pd\n",
    "import matplotlib.pyplot as plt\n",
    "%matplotlib inline\n",
    "import seaborn as sns\n",
    "import warnings; warnings.simplefilter('ignore')\n",
    "from IPython.core.display import display, HTML; display(HTML(\"<style>.container { width:78% !important; }</style>\"))\n",
    "\n",
    "import os\n",
    "import itertools \n",
    "\n",
    "from sklearn.neighbors import NearestNeighbors\n",
    "from sklearn.datasets import load_iris, fetch_mldata\n",
    "from sklearn.model_selection import train_test_split, KFold\n",
    "from sklearn.linear_model import LogisticRegression\n",
    "from sklearn.metrics import accuracy_score, confusion_matrix\n",
    "from sklearn.pipeline import Pipeline\n",
    "from sklearn.preprocessing import MinMaxScaler\n",
    "\n",
    "sns.set(style = 'whitegrid', font_scale = 1.3)\n",
    "matplotlib.rcParams['legend.framealpha'] = 1\n",
    "matplotlib.rcParams['legend.frameon'] = True\n"
   ]
  },
  {
   "cell_type": "markdown",
   "metadata": {},
   "source": [
    "# Multi-class classification\n",
    "\n",
    "Tne method for classifying an observation in a multi-class problem is to calculate the perpendicular distance of the observation from each of the separating planes. The shortest distance is the class selection."
   ]
  },
  {
   "cell_type": "markdown",
   "metadata": {},
   "source": [
    "<a id = \"Multi-class-classification\"></a>"
   ]
  },
  {
   "cell_type": "markdown",
   "metadata": {},
   "source": [
    "## Example 1 - Distance from planes\n",
    "Consider a three-class classification problem with the following separating hyperplanes:\n",
    "\n",
    "$$\n",
    "\\begin{align}\n",
    "x_1 + x_2 - 2 = 0 & & 1^{\\text{st}} \\text{ class}\\\\\n",
    "-4x_1 + 3x_2 - 11 = 0 & & 2^{\\text{nd}} \\text{ class}\\\\\n",
    "-x_1 - 3x_2 - 1 = 0 & & 3^{\\text{rd}} \\text{ class}\n",
    "\\end{align}\n",
    "$$\n",
    "\n",
    "Calculate the score (unnormalized perpendicular distance) for each class for the test case $(x_1, x_2)=(0, 1)$ .\n"
   ]
  },
  {
   "cell_type": "markdown",
   "metadata": {},
   "source": [
    "<a id = \"Distance-from-planes-Example1\"></a>"
   ]
  },
  {
   "cell_type": "code",
   "execution_count": null,
   "metadata": {},
   "outputs": [],
   "source": [
    "# plot planes and observation\n",
    "x = np.arange(-3, 5)\n",
    "plt.plot(x, (2. - 1 * x) / 1., label = '1st', lw = 5)\n",
    "plt.plot(x, (11. + 4 * x) / 3., label = '2nd', lw = 5)\n",
    "plt.plot(x, (-1. - 1 * x) / 3., label = '3rd', lw = 5)\n",
    "\n",
    "plt.gca().set_aspect('equal', adjustable = 'box')\n",
    "plt.scatter([0],[1], c = 'k', s = 100)\n",
    "plt.xlim([-3, 4])\n",
    "plt.ylim([-3, 4])\n",
    "plt.grid()\n",
    "plt.legend()\n",
    "plt.show()\n"
   ]
  },
  {
   "cell_type": "code",
   "execution_count": null,
   "metadata": {},
   "outputs": [],
   "source": [
    "# build arrays for weights, bias units and observations\n",
    "W = np.transpose(np.array([\n",
    "    [1., 1.]\n",
    "    ,[-4, 3.]\n",
    "    ,[-1., -3.]\n",
    "    ])).reshape(2, 3)\n",
    "b = np.array([-2.\n",
    "             ,-11.\n",
    "             ,-1.])\n",
    "\n",
    "# test point\n",
    "x = np.array([0., 1.])\n"
   ]
  },
  {
   "cell_type": "code",
   "execution_count": 13,
   "metadata": {
    "ExecuteTime": {
     "end_time": "2018-07-08T16:57:38.575562Z",
     "start_time": "2018-07-08T16:57:38.570189Z"
    }
   },
   "outputs": [
    {
     "name": "stdout",
     "output_type": "stream",
     "text": [
      "[[ 1. -4. -1.]\n",
      " [ 1.  3. -3.]]\n",
      "[ -2. -11.  -1.]\n",
      "[0. 1.]\n"
     ]
    }
   ],
   "source": [
    "# review data\n",
    "print(W)\n",
    "print(b)\n",
    "print(x)\n"
   ]
  },
  {
   "cell_type": "code",
   "execution_count": null,
   "metadata": {},
   "outputs": [],
   "source": [
    "# determine distance from each plane\n",
    "def scores (W, b, x):\n",
    "    return np.dot(x, W) + b\n",
    "scores(W, b, x)\n"
   ]
  },
  {
   "cell_type": "markdown",
   "metadata": {},
   "source": [
    "> Observations is closest to class 1"
   ]
  },
  {
   "cell_type": "code",
   "execution_count": null,
   "metadata": {},
   "outputs": [],
   "source": [
    "# determine probabilities associated with predictions\n",
    "def probas(W, b, x):\n",
    "    sc = scores(W, b, x)\n",
    "    scExp = np.exp(sc)\n",
    "    return scExp / np.sum(scExp)\n",
    "\n",
    "np.round(probas(W, b, x), 5)\n"
   ]
  },
  {
   "cell_type": "markdown",
   "metadata": {},
   "source": [
    "> .95 probability that observatation belongs to class one"
   ]
  },
  {
   "cell_type": "code",
   "execution_count": null,
   "metadata": {},
   "outputs": [],
   "source": [
    "# generate the answer\n",
    "def predictClass(W, b, x):\n",
    "    prob = probas(W, b, x)\n",
    "    return np.argmax(prob) + 1\n",
    "\n",
    "predictClass(W, b, x)\n"
   ]
  },
  {
   "cell_type": "markdown",
   "metadata": {},
   "source": [
    "> Class 1 is chosen"
   ]
  },
  {
   "cell_type": "markdown",
   "metadata": {},
   "source": [
    "## Example 2 - Iris classification w/ logistic regression\n",
    "Build a classifier to identify an iris sample as belonging to one of three iris classes based on four features."
   ]
  },
  {
   "cell_type": "markdown",
   "metadata": {},
   "source": [
    "<a id = \"Iris-classification-w/-logistic-regression-Example2\"></a>"
   ]
  },
  {
   "cell_type": "code",
   "execution_count": null,
   "metadata": {},
   "outputs": [],
   "source": [
    "# load data\n",
    "iris = load_iris()\n"
   ]
  },
  {
   "cell_type": "code",
   "execution_count": 20,
   "metadata": {
    "ExecuteTime": {
     "end_time": "2018-07-08T17:16:04.276079Z",
     "start_time": "2018-07-08T17:16:04.272396Z"
    }
   },
   "outputs": [],
   "source": [
    "# create observation and label datasets\n",
    "X = pd.DataFrame(iris.data, columns = iris.feature_names)\n",
    "y = iris.target\n"
   ]
  },
  {
   "cell_type": "code",
   "execution_count": null,
   "metadata": {},
   "outputs": [],
   "source": [
    "# nspect features\n",
    "X.head()\n"
   ]
  },
  {
   "cell_type": "code",
   "execution_count": 30,
   "metadata": {
    "ExecuteTime": {
     "end_time": "2018-06-24T21:47:33.618822Z",
     "start_time": "2018-06-24T21:47:33.540255Z"
    }
   },
   "outputs": [
    {
     "data": {
      "text/html": [
       "<div>\n",
       "<style scoped>\n",
       "    .dataframe tbody tr th:only-of-type {\n",
       "        vertical-align: middle;\n",
       "    }\n",
       "\n",
       "    .dataframe tbody tr th {\n",
       "        vertical-align: top;\n",
       "    }\n",
       "\n",
       "    .dataframe thead th {\n",
       "        text-align: right;\n",
       "    }\n",
       "</style>\n",
       "<table border=\"1\" class=\"dataframe\">\n",
       "  <thead>\n",
       "    <tr style=\"text-align: right;\">\n",
       "      <th></th>\n",
       "      <th>sepal length (cm)</th>\n",
       "      <th>sepal width (cm)</th>\n",
       "      <th>petal length (cm)</th>\n",
       "      <th>petal width (cm)</th>\n",
       "    </tr>\n",
       "  </thead>\n",
       "  <tbody>\n",
       "    <tr>\n",
       "      <th>count</th>\n",
       "      <td>150.000000</td>\n",
       "      <td>150.000000</td>\n",
       "      <td>150.000000</td>\n",
       "      <td>150.000000</td>\n",
       "    </tr>\n",
       "    <tr>\n",
       "      <th>mean</th>\n",
       "      <td>5.843333</td>\n",
       "      <td>3.054000</td>\n",
       "      <td>3.758667</td>\n",
       "      <td>1.198667</td>\n",
       "    </tr>\n",
       "    <tr>\n",
       "      <th>std</th>\n",
       "      <td>0.828066</td>\n",
       "      <td>0.433594</td>\n",
       "      <td>1.764420</td>\n",
       "      <td>0.763161</td>\n",
       "    </tr>\n",
       "    <tr>\n",
       "      <th>min</th>\n",
       "      <td>4.300000</td>\n",
       "      <td>2.000000</td>\n",
       "      <td>1.000000</td>\n",
       "      <td>0.100000</td>\n",
       "    </tr>\n",
       "    <tr>\n",
       "      <th>25%</th>\n",
       "      <td>5.100000</td>\n",
       "      <td>2.800000</td>\n",
       "      <td>1.600000</td>\n",
       "      <td>0.300000</td>\n",
       "    </tr>\n",
       "    <tr>\n",
       "      <th>50%</th>\n",
       "      <td>5.800000</td>\n",
       "      <td>3.000000</td>\n",
       "      <td>4.350000</td>\n",
       "      <td>1.300000</td>\n",
       "    </tr>\n",
       "    <tr>\n",
       "      <th>75%</th>\n",
       "      <td>6.400000</td>\n",
       "      <td>3.300000</td>\n",
       "      <td>5.100000</td>\n",
       "      <td>1.800000</td>\n",
       "    </tr>\n",
       "    <tr>\n",
       "      <th>max</th>\n",
       "      <td>7.900000</td>\n",
       "      <td>4.400000</td>\n",
       "      <td>6.900000</td>\n",
       "      <td>2.500000</td>\n",
       "    </tr>\n",
       "  </tbody>\n",
       "</table>\n",
       "</div>"
      ],
      "text/plain": [
       "       sepal length (cm)  sepal width (cm)  petal length (cm)  \\\n",
       "count         150.000000        150.000000         150.000000   \n",
       "mean            5.843333          3.054000           3.758667   \n",
       "std             0.828066          0.433594           1.764420   \n",
       "min             4.300000          2.000000           1.000000   \n",
       "25%             5.100000          2.800000           1.600000   \n",
       "50%             5.800000          3.000000           4.350000   \n",
       "75%             6.400000          3.300000           5.100000   \n",
       "max             7.900000          4.400000           6.900000   \n",
       "\n",
       "       petal width (cm)  \n",
       "count        150.000000  \n",
       "mean           1.198667  \n",
       "std            0.763161  \n",
       "min            0.100000  \n",
       "25%            0.300000  \n",
       "50%            1.300000  \n",
       "75%            1.800000  \n",
       "max            2.500000  "
      ]
     },
     "execution_count": 30,
     "metadata": {},
     "output_type": "execute_result"
    }
   ],
   "source": [
    "# inspect feature summary statistics\n",
    "X.describe()\n"
   ]
  },
  {
   "cell_type": "markdown",
   "metadata": {},
   "source": [
    ">All the features here are continuous numerical features"
   ]
  },
  {
   "cell_type": "markdown",
   "metadata": {},
   "source": [
    "__EDA__"
   ]
  },
  {
   "cell_type": "code",
   "execution_count": null,
   "metadata": {},
   "outputs": [],
   "source": [
    "# correlation matrix\n",
    "classLabels = ['setosa', 'versicolour', 'virginica']\n",
    "\n",
    "corr = X.corr()\n",
    "mask = np.zeros_like(corr, dtype = bool)\n",
    "mask[np.triu_indices_from(mask)] = True\n",
    "\n",
    "f, ax = plt.subplots(figsize = (20,20))\n",
    "cmap = sns.diverging_palette(220, 10, as_cmap = True)\n",
    "sns.heatmap(corr, mask = mask, cmap = cmap, vmin = -1.0, vmax = 1.0, square = True\n",
    "           ,linewidths = .5, cbar_kws = {'shrink' : .5}, ax = ax)\n"
   ]
  },
  {
   "cell_type": "markdown",
   "metadata": {},
   "source": [
    ">Petal width and petal length are strongly positively correlated. Petal length and width are somewhat negatively correlated with sepal width."
   ]
  },
  {
   "cell_type": "code",
   "execution_count": null,
   "metadata": {},
   "outputs": [],
   "source": [
    "# pair-wise plots\n",
    "sns.pairplot(sns.load_dataset('iris'), hue = 'species', size = 3)\n"
   ]
  },
  {
   "cell_type": "markdown",
   "metadata": {},
   "source": [
    ">The correlations describes above are apparent. Additionaly the setosa class (identified by blue dots) is often completely separated from the versicolor and virginica classes."
   ]
  },
  {
   "cell_type": "code",
   "execution_count": null,
   "metadata": {},
   "outputs": [],
   "source": [
    "# train/test split\n",
    "xTrain, xTest, yTrain, yTest = train_test_split(X, y, test_size = 0.2, random_state = 42)\n"
   ]
  },
  {
   "cell_type": "code",
   "execution_count": null,
   "metadata": {},
   "outputs": [],
   "source": [
    "# fitting\n",
    "logReg = LogisticRegression(C = 1e6, multi_class = 'multinomial', solver = 'lbfgs')\n",
    "logReg.fit(xTrain, yTrain)\n"
   ]
  },
  {
   "cell_type": "code",
   "execution_count": null,
   "metadata": {},
   "outputs": [],
   "source": [
    "# model evaluation\n",
    "plt.figure(figsize = (12, 8))\n",
    "plt.bar(np.arange(logReg.coef_.shape[1]) - 0.2, logReg.coef_[0], color = 'red', width = 0.2, label = 'setosa')\n",
    "plt.bar(np.arange(logReg.coef_.shape[1]) - 0.0, logReg.coef_[1], color = 'green', width = 0.2, label = 'versicolour')\n",
    "plt.bar(np.arange(logReg.coef_.shape[1]) + 0.2, logReg.coef_[2], color = 'blue', width = 0.2, label = 'virginica')\n",
    "plt.xticks(np.arange(logReg.coef_.shape[1]), X.columns, rotation = 90)\n",
    "plt.xlim(-1, logReg.coef_.shape[1])\n",
    "plt.title('Model coefficients')\n",
    "plt.legend(loc = 'lower right')\n"
   ]
  },
  {
   "cell_type": "markdown",
   "metadata": {},
   "source": [
    ">The most pronounced features in terms of the coefficients are pedal length and pedal width. This is consistent with then pairwise plots above in the these features seem to have clear divisions between each class."
   ]
  },
  {
   "cell_type": "code",
   "execution_count": null,
   "metadata": {},
   "outputs": [],
   "source": [
    "# test set predictions\n",
    "yPredsTrain = logReg.predict(xTrain)\n",
    "yPredsTest = logReg.predict(xTest)\n"
   ]
  },
  {
   "cell_type": "code",
   "execution_count": 41,
   "metadata": {
    "ExecuteTime": {
     "end_time": "2018-07-08T17:38:13.165646Z",
     "start_time": "2018-07-08T17:38:13.161706Z"
    }
   },
   "outputs": [
    {
     "name": "stdout",
     "output_type": "stream",
     "text": [
      "Train accuracy:  0.983\n",
      "Test accuracy:  1.0\n"
     ]
    }
   ],
   "source": [
    "# review accuracy\n",
    "print('Train accuracy: ', np.round(accuracy_score(yTrain, yPredsTrain), 3))\n",
    "print('Test accuracy: ', np.round(accuracy_score(yTest, yPredsTest), 3))\n"
   ]
  },
  {
   "cell_type": "code",
   "execution_count": null,
   "metadata": {},
   "outputs": [],
   "source": [
    "# log results\n",
    "results = pd.DataFrame(columns = ['Accuracy'])\n",
    "results = results.append(pd.DataFrame(\n",
    "        [np.round(accuracy_score(yTrain, yPredsTrain), 3), np.round(accuracy_score(yTest, yPredsTest), 3)], \n",
    "        columns=['Accuracy'], \n",
    "        index=['Sklearn Train', 'Sklearn Test']))\n",
    "results"
   ]
  },
  {
   "cell_type": "markdown",
   "metadata": {},
   "source": [
    "__Custom function__"
   ]
  },
  {
   "cell_type": "code",
   "execution_count": 38,
   "metadata": {
    "ExecuteTime": {
     "end_time": "2018-07-08T17:36:14.856581Z",
     "start_time": "2018-07-08T17:36:14.851015Z"
    }
   },
   "outputs": [],
   "source": [
    "# custom function\n",
    "def plot_confusion_matrix(cm\n",
    "                          ,classes\n",
    "                          ,normalize = False\n",
    "                          ,title = 'Confusion matrix'\n",
    "                          ,cmap = plt.cm.Blues):\n",
    "    \"\"\"\n",
    "    This function prints and plots the confusion matrix.\n",
    "    Normalization can be applied by setting `normalize=True`.\n",
    "    \"\"\"\n",
    "    if normalize:\n",
    "        cm = cm.astype('float') / cm.sum(axis = 1)[:, np.newaxis]\n",
    "        print(\"Normalized confusion matrix\")\n",
    "    else:\n",
    "        print('Confusion matrix, without normalization')\n",
    "\n",
    "    plt.imshow(cm, interpolation = 'nearest', cmap = cmap)\n",
    "    plt.title(title)\n",
    "    plt.colorbar()\n",
    "    tick_marks = np.arange(len(classes))\n",
    "    plt.xticks(tick_marks, classes, rotation = 90)\n",
    "    plt.yticks(tick_marks, classes)\n",
    "\n",
    "    fmt = '.2f' if normalize else 'd'\n",
    "    thresh = cm.max() / 2.\n",
    "    for i, j in itertools.product(range(cm.shape[0]), range(cm.shape[1])):\n",
    "        plt.text(j, i, format(cm[i, j], fmt),\n",
    "                 horizontalalignment = 'center',\n",
    "                 color = 'white' if cm[i, j] > thresh else 'black')\n",
    "\n",
    "    plt.tight_layout()\n",
    "    plt.ylabel('True label')\n",
    "    plt.xlabel('Predicted label')\n",
    "    "
   ]
  },
  {
   "cell_type": "code",
   "execution_count": null,
   "metadata": {},
   "outputs": [],
   "source": [
    "# confusion matrix\n",
    "np.set_printoptions(precision = 2)\n",
    "\n",
    "# plot normalized confusion matrix\n",
    "plt.figure(figsize = (10,10))\n",
    "plot_confusion_matrix(cm = confusion_matrix(yTest, yPredsTest)\n",
    "                      ,classes = classLabels\n",
    "                      ,normalize = True\n",
    "                      ,title = 'Normalized confusion matrix - Test set')\n",
    "\n",
    "plt.show()\n"
   ]
  },
  {
   "cell_type": "markdown",
   "metadata": {},
   "source": [
    "> The test class is perfectly classified"
   ]
  }
 ],
 "metadata": {
  "anaconda-cloud": {},
  "kernelspec": {
   "display_name": "Python 3",
   "language": "python",
   "name": "python3"
  },
  "language_info": {
   "codemirror_mode": {
    "name": "ipython",
    "version": 3
   },
   "file_extension": ".py",
   "mimetype": "text/x-python",
   "name": "python",
   "nbconvert_exporter": "python",
   "pygments_lexer": "ipython3",
   "version": "3.7.3"
  },
  "toc": {
   "base_numbering": 1,
   "nav_menu": {
    "height": "300px",
    "width": "252px"
   },
   "number_sections": true,
   "sideBar": true,
   "skip_h1_title": false,
   "title_cell": "Table of Contents",
   "title_sidebar": "Contents",
   "toc_cell": false,
   "toc_position": {
    "height": "704px",
    "left": "0px",
    "right": "1388px",
    "top": "106px",
    "width": "344.9px"
   },
   "toc_section_display": "block",
   "toc_window_display": true
  },
  "varInspector": {
   "cols": {
    "lenName": 16,
    "lenType": 16,
    "lenVar": 40
   },
   "kernels_config": {
    "python": {
     "delete_cmd_postfix": "",
     "delete_cmd_prefix": "del ",
     "library": "var_list.py",
     "varRefreshCmd": "print(var_dic_list())"
    },
    "r": {
     "delete_cmd_postfix": ") ",
     "delete_cmd_prefix": "rm(",
     "library": "var_list.r",
     "varRefreshCmd": "cat(var_dic_list()) "
    }
   },
   "types_to_exclude": [
    "module",
    "function",
    "builtin_function_or_method",
    "instance",
    "_Feature"
   ],
   "window_display": false
  }
 },
 "nbformat": 4,
 "nbformat_minor": 2
}
