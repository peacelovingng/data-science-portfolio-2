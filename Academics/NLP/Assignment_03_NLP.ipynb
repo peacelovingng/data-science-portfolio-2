{
 "cells": [
  {
   "cell_type": "markdown",
   "metadata": {},
   "source": [
    "__Asssignment 3: NLP basics__\n",
    "\n",
    "1. [Import](#Import)\n",
    "1. [Assignment 3](#assignment)\n",
    "    1. [Question 1](#assignment1-1)\n",
    "    1. [Question 2](#assignment1-2)\n",
    "    1. [Question 3](#assignment1-3)\n",
    "    1. [Question 4](#assignment1-4)"
   ]
  },
  {
   "cell_type": "markdown",
   "metadata": {},
   "source": [
    "# Import"
   ]
  },
  {
   "cell_type": "markdown",
   "metadata": {},
   "source": [
    "<a id = 'Import'></a>"
   ]
  },
  {
   "cell_type": "code",
   "execution_count": 1,
   "metadata": {
    "ExecuteTime": {
     "end_time": "2019-07-14T13:00:30.049255Z",
     "start_time": "2019-07-14T13:00:30.045207Z"
    }
   },
   "outputs": [],
   "source": [
    "import re"
   ]
  },
  {
   "cell_type": "markdown",
   "metadata": {},
   "source": [
    "# Assignment 3"
   ]
  },
  {
   "cell_type": "markdown",
   "metadata": {},
   "source": [
    "<a id = 'assignment'></a>"
   ]
  },
  {
   "cell_type": "markdown",
   "metadata": {},
   "source": [
    "## Question 1"
   ]
  },
  {
   "cell_type": "markdown",
   "metadata": {},
   "source": [
    "<a id = 'assignment1-1'></a>"
   ]
  },
  {
   "cell_type": "markdown",
   "metadata": {},
   "source": [
    "1. Ask the user for a number. Depending on whether the number is even or odd, print out an appropriate message to the user. Hint: how does an even / odd number react differently when divided by 2?\n",
    "\n",
    "    Extras:\n",
    "\n",
    "    - If the number is a multiple of 4, print out a different message.\n",
    "    - Ask the user for two numbers: one number to check (call it num) and one number to divide by (check). If check divides evenly into num, tell that to the user. If not, print a different appropriate message.\n"
   ]
  },
  {
   "cell_type": "markdown",
   "metadata": {},
   "source": [
    "__Question 1a__"
   ]
  },
  {
   "cell_type": "code",
   "execution_count": 1,
   "metadata": {
    "ExecuteTime": {
     "end_time": "2019-06-28T21:54:41.091814Z",
     "start_time": "2019-06-28T21:54:41.080587Z"
    }
   },
   "outputs": [],
   "source": [
    "# Question 1a\n",
    "def detectEvenOdd1a():\n",
    "    while True:\n",
    "        userInput = input(\"Enter a number: \")\n",
    "        if userInput.isdigit():\n",
    "            if int(userInput) % 2 == 0:\n",
    "                print(\"You entered an even number.\")\n",
    "                break\n",
    "            else:\n",
    "                print(\"You entered an odd number.\")\n",
    "                break\n",
    "        else:\n",
    "            print(\"Value entered is not an integer. Please enter an integer.\")"
   ]
  },
  {
   "cell_type": "code",
   "execution_count": 2,
   "metadata": {
    "ExecuteTime": {
     "end_time": "2019-06-28T21:54:43.084158Z",
     "start_time": "2019-06-28T21:54:41.099353Z"
    }
   },
   "outputs": [
    {
     "name": "stdout",
     "output_type": "stream",
     "text": [
      "Enter a number: 9\n",
      "You entered an odd number.\n"
     ]
    }
   ],
   "source": [
    "# execute\n",
    "detectEvenOdd1a()"
   ]
  },
  {
   "cell_type": "markdown",
   "metadata": {},
   "source": [
    "__Question 1b__"
   ]
  },
  {
   "cell_type": "code",
   "execution_count": 3,
   "metadata": {
    "ExecuteTime": {
     "end_time": "2019-06-28T21:54:43.103398Z",
     "start_time": "2019-06-28T21:54:43.091479Z"
    }
   },
   "outputs": [],
   "source": [
    "# Question 1a\n",
    "def detectEvenOdd1b():\n",
    "    while True:\n",
    "        userInput = input(\"Enter a number: \")\n",
    "        if userInput.isdigit():\n",
    "            if int(userInput) % 2 == 0:\n",
    "                if int(userInput) % 4 == 0:\n",
    "                    print(\"You entered a number divisible by 4.\")\n",
    "                    break\n",
    "                else:\n",
    "                    print(\"You entered an even number not divisible by 4.\")\n",
    "                    break\n",
    "            else:\n",
    "                print(\"You entered an odd number.\")\n",
    "                break\n",
    "        else:\n",
    "            print(\"Value entered is not an integer. Please enter an integer.\")"
   ]
  },
  {
   "cell_type": "code",
   "execution_count": 4,
   "metadata": {
    "ExecuteTime": {
     "end_time": "2019-06-28T21:54:44.688002Z",
     "start_time": "2019-06-28T21:54:43.110660Z"
    }
   },
   "outputs": [
    {
     "name": "stdout",
     "output_type": "stream",
     "text": [
      "Enter a number: 8\n",
      "You entered a number divisible by 4.\n"
     ]
    }
   ],
   "source": [
    "# execute\n",
    "detectEvenOdd1b()"
   ]
  },
  {
   "cell_type": "markdown",
   "metadata": {},
   "source": [
    "__Question 1c__"
   ]
  },
  {
   "cell_type": "code",
   "execution_count": 5,
   "metadata": {
    "ExecuteTime": {
     "end_time": "2019-06-28T21:54:44.718514Z",
     "start_time": "2019-06-28T21:54:44.696790Z"
    }
   },
   "outputs": [],
   "source": [
    "# Question 1a\n",
    "def detectEvenOdd1c():\n",
    "    while True:\n",
    "        userInput = input(\"Enter a number: \")\n",
    "        userCheck = input(\"Enter a number to divide first number by: \")\n",
    "        if userInput.isdigit() and userCheck.isdigit():\n",
    "            if int(userInput) % int(userCheck) == 0:\n",
    "                print(\"Your check number divides evenly into your first number.\")\n",
    "                break\n",
    "            else:\n",
    "                print(\n",
    "                    \"Your check number does not divide evenly into your first number.\"\n",
    "                )\n",
    "                break\n",
    "        elif not userInput.isdigit() and not userCheck.isdigit():\n",
    "            print(\"Values entered are not integers. Please enter two integers.\")\n",
    "        else:\n",
    "            # elif not userInput.isdigit() or not userCheck.isdigit():\n",
    "            print(\n",
    "                \"One of the values entered is not an integer. Please enter two integers.\"\n",
    "            )"
   ]
  },
  {
   "cell_type": "code",
   "execution_count": 6,
   "metadata": {
    "ExecuteTime": {
     "end_time": "2019-06-28T21:54:51.372615Z",
     "start_time": "2019-06-28T21:54:44.724419Z"
    }
   },
   "outputs": [
    {
     "name": "stdout",
     "output_type": "stream",
     "text": [
      "Enter a number: 9\n",
      "Enter a number to divide first number by: 3\n",
      "Your check number divides evenly into your first number.\n"
     ]
    }
   ],
   "source": [
    "# execute\n",
    "detectEvenOdd1c()"
   ]
  },
  {
   "cell_type": "markdown",
   "metadata": {},
   "source": [
    "## Question 2\n",
    "\n",
    "2. Write a program which will find all such numbers which are divisible by 7 but are not a multiple of 5, between 2000 and 3200 (both included).The numbers obtained should be printed in a comma-separated sequence on a single line.\n",
    "\n",
    "hint:Consider use range(#begin, #end) method"
   ]
  },
  {
   "cell_type": "markdown",
   "metadata": {},
   "source": [
    "<a id = 'assignment1-2'></a>"
   ]
  },
  {
   "cell_type": "code",
   "execution_count": 7,
   "metadata": {
    "ExecuteTime": {
     "end_time": "2019-06-28T21:54:51.395392Z",
     "start_time": "2019-06-28T21:54:51.379237Z"
    }
   },
   "outputs": [
    {
     "name": "stdout",
     "output_type": "stream",
     "text": [
      "2002, 2009, 2016, 2023, 2037, 2044, 2051, 2058, 2072, 2079, 2086, 2093, 2107, 2114, 2121, 2128, 2142, 2149, 2156, 2163, 2177, 2184, 2191, 2198, 2212, 2219, 2226, 2233, 2247, 2254, 2261, 2268, 2282, 2289, 2296, 2303, 2317, 2324, 2331, 2338, 2352, 2359, 2366, 2373, 2387, 2394, 2401, 2408, 2422, 2429, 2436, 2443, 2457, 2464, 2471, 2478, 2492, 2499, 2506, 2513, 2527, 2534, 2541, 2548, 2562, 2569, 2576, 2583, 2597, 2604, 2611, 2618, 2632, 2639, 2646, 2653, 2667, 2674, 2681, 2688, 2702, 2709, 2716, 2723, 2737, 2744, 2751, 2758, 2772, 2779, 2786, 2793, 2807, 2814, 2821, 2828, 2842, 2849, 2856, 2863, 2877, 2884, 2891, 2898, 2912, 2919, 2926, 2933, 2947, 2954, 2961, 2968, 2982, 2989, 2996, 3003, 3017, 3024, 3031, 3038, 3052, 3059, 3066, 3073, 3087, 3094, 3101, 3108, 3122, 3129, 3136, 3143, 3157, 3164, 3171, 3178, 3192, 3199\n"
     ]
    }
   ],
   "source": [
    "# execute workflow\n",
    "validNum = []\n",
    "for num in range(2000, 3201):\n",
    "    if num % 7 == 0 and num % 5 != 0:\n",
    "        # print(num)\n",
    "        validNum.append(num)\n",
    "\n",
    "print(\", \".join(map(str, validNum)))"
   ]
  },
  {
   "cell_type": "markdown",
   "metadata": {},
   "source": [
    "## Question 3\n",
    "\n",
    "3. Write a program which accepts a sequence of comma-separated numbers from console and generate a list and a tuple which contains every number. Suppose the following input is supplied to the program:34,67,55,33,12,98\n",
    "\n",
    "Then, the output should be\n",
    "\n",
    "['34', '67', '55', '33', '12', '98']\n",
    "\n",
    "(34', '67', '55', '33', '12', '98')\n",
    "\n",
    "Hints:In case of input data being supplied to the question, it should be assumed to be a console input.tuple() method can convert list to tuple."
   ]
  },
  {
   "cell_type": "markdown",
   "metadata": {},
   "source": [
    "<a id = 'assignment1-3'></a>"
   ]
  },
  {
   "cell_type": "code",
   "execution_count": 8,
   "metadata": {
    "ExecuteTime": {
     "end_time": "2019-06-28T21:54:51.410340Z",
     "start_time": "2019-06-28T21:54:51.397308Z"
    }
   },
   "outputs": [],
   "source": [
    "# custom function\n",
    "def convertListTuple():\n",
    "    userInput = input(\"Please enter a comma separated list: \")\n",
    "    userList = userInput.split(\",\")\n",
    "    userTuple = tuple(userList)\n",
    "    print(userList)\n",
    "    print(userTuple)"
   ]
  },
  {
   "cell_type": "code",
   "execution_count": 9,
   "metadata": {
    "ExecuteTime": {
     "end_time": "2019-06-28T21:55:02.243958Z",
     "start_time": "2019-06-28T21:54:51.414158Z"
    }
   },
   "outputs": [
    {
     "name": "stdout",
     "output_type": "stream",
     "text": [
      "Please enter a comma separated list: 'hi','bye'\n",
      "[\"'hi'\", \"'bye'\"]\n",
      "(\"'hi'\", \"'bye'\")\n"
     ]
    }
   ],
   "source": [
    "# execute\n",
    "convertListTuple()"
   ]
  },
  {
   "cell_type": "markdown",
   "metadata": {},
   "source": [
    "## Question 4\n",
    "\n",
    "4. Write a Python program to strip vowels from the following string:\n",
    "\n",
    "\"The quick brown fox jumps over the lazy dog.\"\n",
    "\n"
   ]
  },
  {
   "cell_type": "markdown",
   "metadata": {},
   "source": [
    "<a id = 'assignment1-4'></a>"
   ]
  },
  {
   "cell_type": "code",
   "execution_count": 10,
   "metadata": {
    "ExecuteTime": {
     "end_time": "2019-06-28T21:55:02.298468Z",
     "start_time": "2019-06-28T21:55:02.250499Z"
    }
   },
   "outputs": [
    {
     "data": {
      "text/plain": [
       "'Th qck brwn fx jmps vr th lzy dg.'"
      ]
     },
     "execution_count": 10,
     "metadata": {},
     "output_type": "execute_result"
    }
   ],
   "source": [
    "# execute vowel removal\n",
    "myString = \"The quick brown fox jumps over the lazy dog.\"\n",
    "vowels = [\"a\", \"e\", \"i\", \"o\", \"u\"]\n",
    "\n",
    "\"\".join([c for c in myString if c not in vowels])"
   ]
  }
 ],
 "metadata": {
  "kernelspec": {
   "display_name": "Python 3",
   "language": "python",
   "name": "python3"
  },
  "language_info": {
   "codemirror_mode": {
    "name": "ipython",
    "version": 3
   },
   "file_extension": ".py",
   "mimetype": "text/x-python",
   "name": "python",
   "nbconvert_exporter": "python",
   "pygments_lexer": "ipython3",
   "version": "3.6.8"
  },
  "toc": {
   "base_numbering": 1,
   "nav_menu": {},
   "number_sections": true,
   "sideBar": true,
   "skip_h1_title": false,
   "title_cell": "Table of Contents",
   "title_sidebar": "Contents",
   "toc_cell": false,
   "toc_position": {},
   "toc_section_display": true,
   "toc_window_display": false
  }
 },
 "nbformat": 4,
 "nbformat_minor": 2
}
