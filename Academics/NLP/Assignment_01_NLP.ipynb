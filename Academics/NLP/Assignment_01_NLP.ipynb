{
 "cells": [
  {
   "cell_type": "markdown",
   "metadata": {},
   "source": [
    "__Assignment 1 - Regular expressions__\n",
    "\n",
    "1. [Import](#Import)\n",
    "1. [Assignment 1](#assignment1)\n",
    "    1. [Question 1](#assignment1-1)\n",
    "    1. [Question 2](#assignment1-2)\n",
    "    1. [Question 3](#assignment1-3)\n",
    "    1. [Question 4](#assignment1-4)\n",
    "    1. [Question 5](#assignment1-5)\n",
    "    1. [Question 6](#assignment1-6)\n",
    "    1. [Question 7](#assignment1-7)\n",
    "\n"
   ]
  },
  {
   "cell_type": "markdown",
   "metadata": {},
   "source": [
    "# Import"
   ]
  },
  {
   "cell_type": "markdown",
   "metadata": {},
   "source": [
    "<a id = 'Import'></a>"
   ]
  },
  {
   "cell_type": "code",
   "execution_count": 1,
   "metadata": {
    "ExecuteTime": {
     "end_time": "2019-06-28T21:50:41.620879Z",
     "start_time": "2019-06-28T21:50:41.613957Z"
    }
   },
   "outputs": [],
   "source": [
    "import re"
   ]
  },
  {
   "cell_type": "markdown",
   "metadata": {},
   "source": [
    "# Assignment 1"
   ]
  },
  {
   "cell_type": "markdown",
   "metadata": {},
   "source": [
    "<a id = 'assignment1'></a>"
   ]
  },
  {
   "cell_type": "markdown",
   "metadata": {},
   "source": [
    "## Question 1\n",
    "\n",
    "Write a regular expression that matches the below strings:\n",
    "\n",
    "a. casper\n",
    "\n",
    "b. Jasper"
   ]
  },
  {
   "cell_type": "markdown",
   "metadata": {},
   "source": [
    "<a id = 'assignment1-1'></a>"
   ]
  },
  {
   "cell_type": "code",
   "execution_count": 2,
   "metadata": {
    "ExecuteTime": {
     "end_time": "2019-06-28T21:50:41.641204Z",
     "start_time": "2019-06-28T21:50:41.631972Z"
    }
   },
   "outputs": [
    {
     "name": "stdout",
     "output_type": "stream",
     "text": [
      "Match casper: <_sre.SRE_Match object; span=(0, 6), match='casper'>\n",
      "Match Jasper: <_sre.SRE_Match object; span=(0, 6), match='Jasper'>\n"
     ]
    }
   ],
   "source": [
    "# string matching\n",
    "strs = ['casper','Jasper']\n",
    "\n",
    "p = re.compile(r'\\w(asper)')\n",
    "\n",
    "for st in strs:\n",
    "    print('Match {0}: {1}'.format(st, p.match(st)))\n"
   ]
  },
  {
   "cell_type": "markdown",
   "metadata": {},
   "source": [
    "## Question 2\n",
    "Write a regular expression that would match the bellow strings:\n",
    "\n",
    "a. hi\n",
    "\n",
    "b. hiii\n",
    "\n",
    "c. hiiiiiii"
   ]
  },
  {
   "cell_type": "markdown",
   "metadata": {},
   "source": [
    "<a id = 'assignment1-2'></a>"
   ]
  },
  {
   "cell_type": "code",
   "execution_count": 3,
   "metadata": {
    "ExecuteTime": {
     "end_time": "2019-06-28T21:50:41.658244Z",
     "start_time": "2019-06-28T21:50:41.643125Z"
    }
   },
   "outputs": [
    {
     "name": "stdout",
     "output_type": "stream",
     "text": [
      "Match hi: <_sre.SRE_Match object; span=(0, 2), match='hi'>\n",
      "Match hiii: <_sre.SRE_Match object; span=(0, 4), match='hiii'>\n",
      "Match hiiiiiii: <_sre.SRE_Match object; span=(0, 8), match='hiiiiiii'>\n"
     ]
    }
   ],
   "source": [
    "# string matching\n",
    "strs = ['hi','hiii','hiiiiiii']\n",
    "\n",
    "p = re.compile(r'hi*')\n",
    "\n",
    "for st in strs:\n",
    "    print('Match {0}: {1}'.format(st, p.match(st)))\n"
   ]
  },
  {
   "cell_type": "markdown",
   "metadata": {},
   "source": [
    "## Question 3\n",
    "Write a regular expression that would match the bellow strings:\n",
    "\n",
    "a. code\n",
    "\n",
    "b. coding\n",
    "\n",
    "c. coder"
   ]
  },
  {
   "cell_type": "markdown",
   "metadata": {},
   "source": [
    "<a id = 'assignment1-3'></a>"
   ]
  },
  {
   "cell_type": "code",
   "execution_count": 4,
   "metadata": {
    "ExecuteTime": {
     "end_time": "2019-06-28T21:50:41.671711Z",
     "start_time": "2019-06-28T21:50:41.662552Z"
    }
   },
   "outputs": [
    {
     "name": "stdout",
     "output_type": "stream",
     "text": [
      "Match code: <_sre.SRE_Match object; span=(0, 4), match='code'>\n",
      "Match coding: <_sre.SRE_Match object; span=(0, 6), match='coding'>\n",
      "Match coder: <_sre.SRE_Match object; span=(0, 5), match='coder'>\n"
     ]
    }
   ],
   "source": [
    "# string matching\n",
    "strs = ['code','coding','coder']\n",
    "\n",
    "p = re.compile(r'(cod)\\w*')\n",
    "\n",
    "for st in strs:\n",
    "    print('Match {0}: {1}'.format(st, p.match(st)))\n"
   ]
  },
  {
   "cell_type": "markdown",
   "metadata": {},
   "source": [
    "## Question 4\n",
    "Write a regular expression that would match the bellow strings:\n",
    "\n",
    "a. john is a happy man\n",
    "\n",
    "b. john is a good man\n",
    "\n",
    "c. john is a great man"
   ]
  },
  {
   "cell_type": "markdown",
   "metadata": {},
   "source": [
    "<a id = 'assignment1-4'></a>"
   ]
  },
  {
   "cell_type": "code",
   "execution_count": 5,
   "metadata": {
    "ExecuteTime": {
     "end_time": "2019-06-28T21:50:41.683727Z",
     "start_time": "2019-06-28T21:50:41.673723Z"
    }
   },
   "outputs": [
    {
     "name": "stdout",
     "output_type": "stream",
     "text": [
      "Match john is a happy man: <_sre.SRE_Match object; span=(0, 19), match='john is a happy man'>\n",
      "Match john is a good man: <_sre.SRE_Match object; span=(0, 18), match='john is a good man'>\n",
      "Match john is a great man: <_sre.SRE_Match object; span=(0, 19), match='john is a great man'>\n"
     ]
    }
   ],
   "source": [
    "# string matching\n",
    "strs = ['john is a happy man','john is a good man','john is a great man']\n",
    "\n",
    "p = re.compile(r'(john is a )\\w*( man)')\n",
    "\n",
    "for st in strs:\n",
    "    print('Match {0}: {1}'.format(st, p.match(st)))\n"
   ]
  },
  {
   "cell_type": "markdown",
   "metadata": {},
   "source": [
    "## Question 5\n",
    "\n",
    "Write a regular expression that would match the strings in a,b,c and skips strings d,e:\n",
    "\n",
    "a. cat\n",
    "\n",
    "b. rat\n",
    "\n",
    "c. bat\n",
    "\n",
    "d. sat\n",
    "\n",
    "e. mat"
   ]
  },
  {
   "cell_type": "markdown",
   "metadata": {},
   "source": [
    "<a id = 'assignment1-5'></a>"
   ]
  },
  {
   "cell_type": "code",
   "execution_count": 6,
   "metadata": {
    "ExecuteTime": {
     "end_time": "2019-06-28T21:50:41.701062Z",
     "start_time": "2019-06-28T21:50:41.688928Z"
    }
   },
   "outputs": [
    {
     "name": "stdout",
     "output_type": "stream",
     "text": [
      "Match cat: <_sre.SRE_Match object; span=(0, 3), match='cat'>\n",
      "Match rat: <_sre.SRE_Match object; span=(0, 3), match='rat'>\n",
      "Match bat: <_sre.SRE_Match object; span=(0, 3), match='bat'>\n",
      "Match sat: <_sre.SRE_Match object; span=(0, 3), match='sat'>\n",
      "Match mat: <_sre.SRE_Match object; span=(0, 3), match='mat'>\n"
     ]
    }
   ],
   "source": [
    "# string matching with conditions\n",
    "strs = ['cat','rat','bat','sat','mat']\n",
    "\n",
    "p = re.compile(r'\\w(at)')\n",
    "\n",
    "for st in strs:\n",
    "    print('Match {0}: {1}'.format(st, p.match(st)))\n"
   ]
  },
  {
   "cell_type": "markdown",
   "metadata": {},
   "source": [
    "## Question 6\n",
    "Write a regular expression that would match the below strings:\n",
    "\n",
    "a. life is good\n",
    "\n",
    "b. life is great\n",
    "\n",
    "c. life is awesome"
   ]
  },
  {
   "cell_type": "markdown",
   "metadata": {},
   "source": [
    "<a id = 'assignment1-6'></a>"
   ]
  },
  {
   "cell_type": "code",
   "execution_count": 7,
   "metadata": {
    "ExecuteTime": {
     "end_time": "2019-06-28T21:50:41.714662Z",
     "start_time": "2019-06-28T21:50:41.703650Z"
    }
   },
   "outputs": [
    {
     "name": "stdout",
     "output_type": "stream",
     "text": [
      "Match life is good: <_sre.SRE_Match object; span=(0, 12), match='life is good'>\n",
      "Match life is great: <_sre.SRE_Match object; span=(0, 13), match='life is great'>\n",
      "Match life is awesome: <_sre.SRE_Match object; span=(0, 15), match='life is awesome'>\n"
     ]
    }
   ],
   "source": [
    "# string matching\n",
    "strs = ['life is good','life is great','life is awesome']\n",
    "\n",
    "p = re.compile(r'(life is )\\w*')\n",
    "\n",
    "for st in strs:\n",
    "    print('Match {0}: {1}'.format(st, p.match(st)))\n"
   ]
  },
  {
   "cell_type": "markdown",
   "metadata": {},
   "source": [
    "## Question 7\n",
    "Consider the given string : \" JAMES is always Confident, consistent and persistent the way he works.\"\n",
    "\n",
    "a. Write a regular expression that would capture the qualities of JAMES in the sentence\n",
    "\n",
    "b. Write a program that would capture and print these regular expressions\n",
    "\n",
    "c. The program should also print the postions of the words in the sentence."
   ]
  },
  {
   "cell_type": "markdown",
   "metadata": {},
   "source": [
    "<a id = 'assignment1-7'></a>"
   ]
  },
  {
   "cell_type": "code",
   "execution_count": 8,
   "metadata": {
    "ExecuteTime": {
     "end_time": "2019-06-28T21:50:41.746570Z",
     "start_time": "2019-06-28T21:50:41.716945Z"
    }
   },
   "outputs": [
    {
     "name": "stdout",
     "output_type": "stream",
     "text": [
      "['Confident', 'consistent', 'persistent']\n"
     ]
    }
   ],
   "source": [
    "# idenitfy words describing qualities\n",
    "text = 'JAMES is always Confident, consistent and persistent the way he works'\n",
    "\n",
    "print(re.findall(pattern = r'\\w+ent', string = text))\n"
   ]
  },
  {
   "cell_type": "code",
   "execution_count": 9,
   "metadata": {
    "ExecuteTime": {
     "end_time": "2019-06-28T21:50:41.762528Z",
     "start_time": "2019-06-28T21:50:41.748660Z"
    }
   },
   "outputs": [
    {
     "name": "stdout",
     "output_type": "stream",
     "text": [
      "Quality: Confident, start position: 16, end position: 25\n",
      "Quality: consistent, start position: 27, end position: 37\n",
      "Quality: persistent, start position: 42, end position: 52\n"
     ]
    }
   ],
   "source": [
    "# capture words describing qualities and identify position\n",
    "text = 'JAMES is always Confident, consistent and persistent the way he works'\n",
    "\n",
    "for m in re.finditer(pattern = r'\\w+ent', string = text):\n",
    "    print('Quality: {0}, start position: {1}, end position: {2}'.format(m.group(0), m.start(), m.end()))\n"
   ]
  }
 ],
 "metadata": {
  "kernelspec": {
   "display_name": "Python 3",
   "language": "python",
   "name": "python3"
  },
  "language_info": {
   "codemirror_mode": {
    "name": "ipython",
    "version": 3
   },
   "file_extension": ".py",
   "mimetype": "text/x-python",
   "name": "python",
   "nbconvert_exporter": "python",
   "pygments_lexer": "ipython3",
   "version": "3.6.8"
  },
  "toc": {
   "base_numbering": 1,
   "nav_menu": {},
   "number_sections": true,
   "sideBar": true,
   "skip_h1_title": false,
   "title_cell": "Table of Contents",
   "title_sidebar": "Contents",
   "toc_cell": false,
   "toc_position": {},
   "toc_section_display": true,
   "toc_window_display": false
  }
 },
 "nbformat": 4,
 "nbformat_minor": 2
}
