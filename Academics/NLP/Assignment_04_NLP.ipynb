{
 "cells": [
  {
   "cell_type": "markdown",
   "metadata": {},
   "source": [
    "__Module 5/6 & Assignment 4__\n",
    "1. [Import](#Import)\n",
    "1. [Module 5 walkthrough](#Module-5-walkthrough)\n",
    "1. [Module 6 walkthrough](#Module-6-walkthrough)\n",
    "1. [Assignment 4](#Assignment-4)"
   ]
  },
  {
   "cell_type": "markdown",
   "metadata": {},
   "source": [
    "Explore\n",
    "\n",
    "1. Try set up a streaming for twitter using the geo-locations as the query parameter.\n",
    "\n",
    "2. Try the same with the search API as well.\n",
    "\n",
    "    Now that we have all this JSON data from twitter stored in a file, let's take a quick peak at what is JSON and how we can parse this data using python.\n",
    "\n",
    "3. Work on the twitter data that you have extracted :\n",
    "\n",
    "Try load the json from file into memory\n",
    "Check out the various keys for any one json object, there are some intresting data fields that can be used for different projects.\n",
    "Try extract the tweets alone from this json dataset.\n",
    "\n",
    "Depending on the questions,file uploads or screenshots are necessary to show your work."
   ]
  },
  {
   "cell_type": "markdown",
   "metadata": {},
   "source": [
    "# Import"
   ]
  },
  {
   "cell_type": "markdown",
   "metadata": {},
   "source": [
    "<a id = 'Import'></a>"
   ]
  },
  {
   "cell_type": "code",
   "execution_count": null,
   "metadata": {
    "ExecuteTime": {
     "end_time": "2019-06-28T21:56:20.024980Z",
     "start_time": "2019-06-28T21:56:19.989441Z"
    }
   },
   "outputs": [],
   "source": [
    "import os\n",
    "import sys\n",
    "import twitter\n",
    "\n",
    "modulePath = os.path.abspath(os.path.join(\"../../..\"))\n",
    "if modulePath not in sys.path:\n",
    "    sys.path.append(modulePath)\n",
    "import config  # stores the API and access keys for twitter. only on my machine so this will throw an error"
   ]
  },
  {
   "cell_type": "markdown",
   "metadata": {},
   "source": [
    "# Module 5 walkthrough"
   ]
  },
  {
   "cell_type": "markdown",
   "metadata": {},
   "source": [
    "<a id = 'Module-5-walkthrough'></a>"
   ]
  },
  {
   "cell_type": "code",
   "execution_count": null,
   "metadata": {
    "ExecuteTime": {
     "end_time": "2019-06-28T21:56:33.727246Z",
     "start_time": "2019-06-28T21:56:33.711545Z"
    }
   },
   "outputs": [],
   "source": [
    "# setup twitter API connection\n",
    "api = twitter.Api(\n",
    "    consumer_key=config.apiKey,\n",
    "    consumer_secret=config.apiSec,\n",
    "    access_token_key=config.accessToken,\n",
    "    access_token_secret=config.accessSec,\n",
    ")"
   ]
  },
  {
   "cell_type": "code",
   "execution_count": null,
   "metadata": {
    "ExecuteTime": {
     "end_time": "2019-06-28T21:56:42.578416Z",
     "start_time": "2019-06-28T21:56:42.569027Z"
    }
   },
   "outputs": [],
   "source": [
    "# review credentials\n",
    "print(api.VerifyCredentials())"
   ]
  },
  {
   "cell_type": "code",
   "execution_count": null,
   "metadata": {
    "ExecuteTime": {
     "end_time": "2019-06-27T23:51:40.434282Z",
     "start_time": "2019-06-27T23:51:40.346Z"
    }
   },
   "outputs": [],
   "source": [
    "# print sample tweet\n",
    "for tweet in api.GetStreamFilter(track=\"life\"):\n",
    "    print(tweet)\n",
    "    break"
   ]
  },
  {
   "cell_type": "code",
   "execution_count": null,
   "metadata": {
    "ExecuteTime": {
     "end_time": "2019-06-27T23:51:40.440013Z",
     "start_time": "2019-06-27T23:51:40.349Z"
    }
   },
   "outputs": [],
   "source": [
    "# capture small sample of tweets by keyword\n",
    "import json\n",
    "\n",
    "f = open(\"./streamingData.json\", \"w\")\n",
    "counter = 0\n",
    "for tweet in api.GetStreamFilter(track=\"life\"):\n",
    "    counter += 1\n",
    "    if counter <= 100:\n",
    "        f.write(json.dumps(tweet))\n",
    "        f.write(\"\\n\")\n",
    "    else:\n",
    "        break"
   ]
  },
  {
   "cell_type": "code",
   "execution_count": null,
   "metadata": {
    "ExecuteTime": {
     "end_time": "2019-06-27T23:51:40.442298Z",
     "start_time": "2019-06-27T23:51:40.351Z"
    }
   },
   "outputs": [],
   "source": [
    "# execute tweet search using keyword\n",
    "results = api.GetSearch(raw_query=\"q=life%20&result_type=recent&count=100\")\n",
    "print(len(results))\n",
    "print(results[0])"
   ]
  },
  {
   "cell_type": "markdown",
   "metadata": {},
   "source": [
    "<a id = 'Module-6-walkthrough'></a>"
   ]
  },
  {
   "cell_type": "markdown",
   "metadata": {},
   "source": [
    "# Module 6 walkthrough"
   ]
  },
  {
   "cell_type": "code",
   "execution_count": null,
   "metadata": {
    "ExecuteTime": {
     "end_time": "2019-06-27T23:51:40.448758Z",
     "start_time": "2019-06-27T23:51:40.354Z"
    }
   },
   "outputs": [],
   "source": [
    "# load dummy json data\n",
    "json_string = '{\"name\" : \"brian\", \"age\" : 24, \"gender\" : \"male\", \"skills\" : [\"programming\",\"musician\"]}'\n",
    "json_obj = json.loads(json_string)"
   ]
  },
  {
   "cell_type": "code",
   "execution_count": null,
   "metadata": {
    "ExecuteTime": {
     "end_time": "2019-06-27T23:51:40.450403Z",
     "start_time": "2019-06-27T23:51:40.356Z"
    }
   },
   "outputs": [],
   "source": [
    "# review dummy data\n",
    "print(json_obj[\"name\"])\n",
    "print(json_obj[\"age\"])\n",
    "print(json_obj[\"gender\"])\n",
    "print(json_obj[\"skills\"])"
   ]
  },
  {
   "cell_type": "code",
   "execution_count": null,
   "metadata": {
    "ExecuteTime": {
     "end_time": "2019-06-27T23:51:40.456321Z",
     "start_time": "2019-06-27T23:51:40.358Z"
    }
   },
   "outputs": [],
   "source": [
    "# load tweet sample\n",
    "data = []\n",
    "with open(\"./streamingData.json\", \"r\") as jsonFile:\n",
    "    for line in jsonFile:\n",
    "        data.append(json.loads(line))\n",
    "print(\"Total number of tweets loaded: {0}\".format(len(data)))"
   ]
  },
  {
   "cell_type": "code",
   "execution_count": null,
   "metadata": {
    "ExecuteTime": {
     "end_time": "2019-06-27T23:51:40.457774Z",
     "start_time": "2019-06-27T23:51:40.360Z"
    }
   },
   "outputs": [],
   "source": [
    "# review keys in json and print sample tweet\n",
    "print(data[0].keys())\n",
    "print(data[0][\"text\"])"
   ]
  },
  {
   "cell_type": "code",
   "execution_count": null,
   "metadata": {
    "ExecuteTime": {
     "end_time": "2019-06-27T23:51:40.459448Z",
     "start_time": "2019-06-27T23:51:40.362Z"
    }
   },
   "outputs": [],
   "source": [
    "# count tweets\n",
    "tweets = []\n",
    "for item in data:\n",
    "    if \"text\" in item.keys():\n",
    "        tweet = item[\"text\"]\n",
    "        tweets.append(tweet)\n",
    "print(\"Total number of tweets extracted from json: {0}\".format(len(tweets)))"
   ]
  },
  {
   "cell_type": "markdown",
   "metadata": {},
   "source": [
    "<a id = 'Assignment-4'></a>"
   ]
  },
  {
   "cell_type": "markdown",
   "metadata": {},
   "source": [
    "# Assignment 4"
   ]
  },
  {
   "cell_type": "code",
   "execution_count": null,
   "metadata": {
    "ExecuteTime": {
     "end_time": "2019-06-27T23:51:40.464760Z",
     "start_time": "2019-06-27T23:51:40.363Z"
    },
    "scrolled": true
   },
   "outputs": [],
   "source": [
    "# tweets eminating around downtown Chicago, Illinois, United States. Write to file.\n",
    "import json\n",
    "\n",
    "f = open(\"./streamingData.json\", \"w\")\n",
    "for tweet in api.GetStreamFilter(\n",
    "    locations=[\"-87.672529, 41.848849, -87.586613, 41.913966\"]\n",
    "):\n",
    "    f.write(json.dumps(tweet))\n",
    "    f.write(\"\\n\")"
   ]
  },
  {
   "cell_type": "code",
   "execution_count": null,
   "metadata": {
    "ExecuteTime": {
     "end_time": "2019-06-27T23:51:40.466374Z",
     "start_time": "2019-06-27T23:51:40.365Z"
    }
   },
   "outputs": [],
   "source": [
    "# search Elmhurst, Illinois, United States, area for tweets, print # of results, show first result\n",
    "results = api.GetSearch(geocode=\"41.900456,-87.960835,10mi\")\n",
    "print(len(results))\n",
    "print(results[0])"
   ]
  },
  {
   "cell_type": "code",
   "execution_count": null,
   "metadata": {
    "ExecuteTime": {
     "end_time": "2019-06-27T23:51:40.467652Z",
     "start_time": "2019-06-27T23:51:40.367Z"
    }
   },
   "outputs": [],
   "source": [
    "# load downtown Chicago, Illinois, United States data into memory\n",
    "data = []\n",
    "with open(\"./streamingData.json\", \"r\") as jsonFile:\n",
    "    for line in jsonFile:\n",
    "        data.append(json.loads(line))\n",
    "print(\"Total number of tweets loaded: {0}\".format(len(data)))"
   ]
  },
  {
   "cell_type": "code",
   "execution_count": null,
   "metadata": {
    "ExecuteTime": {
     "end_time": "2019-06-27T23:51:40.471244Z",
     "start_time": "2019-06-27T23:51:40.369Z"
    }
   },
   "outputs": [],
   "source": [
    "# review keys available in a single tweet.\n",
    "for key in data[0].keys():\n",
    "    print(key)"
   ]
  },
  {
   "cell_type": "markdown",
   "metadata": {},
   "source": [
    "> Remarks - Of the keys shown here, I think the particularly interesting fields are reply_count, retweet_count, and favorite_count. These values speak to how popular a given tweet is, as well as how popular a given poster is."
   ]
  },
  {
   "cell_type": "code",
   "execution_count": null,
   "metadata": {
    "ExecuteTime": {
     "end_time": "2019-06-27T23:51:40.472825Z",
     "start_time": "2019-06-27T23:51:40.370Z"
    }
   },
   "outputs": [],
   "source": [
    "# unpack all tweets in data\n",
    "tweets = []\n",
    "for item in data:\n",
    "    if \"text\" in item.keys():\n",
    "        tweet = item[\"text\"]\n",
    "        tweets.append(tweet)\n",
    "print(\"Total number of tweets extracted from json: {0}\".format(len(tweets)))"
   ]
  },
  {
   "cell_type": "code",
   "execution_count": null,
   "metadata": {
    "ExecuteTime": {
     "end_time": "2019-06-27T23:51:40.477245Z",
     "start_time": "2019-06-27T23:51:40.372Z"
    }
   },
   "outputs": [],
   "source": [
    "# print all tweets\n",
    "for t in tweets:\n",
    "    print(t)"
   ]
  }
 ],
 "metadata": {
  "kernelspec": {
   "display_name": "Python 3",
   "language": "python",
   "name": "python3"
  },
  "language_info": {
   "codemirror_mode": {
    "name": "ipython",
    "version": 3
   },
   "file_extension": ".py",
   "mimetype": "text/x-python",
   "name": "python",
   "nbconvert_exporter": "python",
   "pygments_lexer": "ipython3",
   "version": "3.6.8"
  },
  "toc": {
   "base_numbering": 1,
   "nav_menu": {},
   "number_sections": true,
   "sideBar": true,
   "skip_h1_title": false,
   "title_cell": "Table of Contents",
   "title_sidebar": "Contents",
   "toc_cell": false,
   "toc_position": {},
   "toc_section_display": true,
   "toc_window_display": false
  }
 },
 "nbformat": 4,
 "nbformat_minor": 2
}
