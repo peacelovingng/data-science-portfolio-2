{
 "cells": [
  {
   "cell_type": "markdown",
   "metadata": {},
   "source": [
    "# Chapter 2 - Training simple machine learning algorithms for classification\n",
    "\n",
    "This notebook includes code featured in chapter 2, along with my annotations and additional explorations. All text was typed by me because it's hard to learn from copying/pasting.\n",
    "\n",
    "Key topics:\n",
    "* Build a perceptron from scratch"
   ]
  },
  {
   "cell_type": "markdown",
   "metadata": {},
   "source": [
    "## Topic: artificial neuron"
   ]
  },
  {
   "cell_type": "markdown",
   "metadata": {},
   "source": [
    "### Intuition: perceptron\n",
    "\n",
    "#### Decision function \n",
    "\n",
    "A basic perceptron is a binary classifier that uses the decision function...\n",
    "\n",
    "$\\phi(z) =\n",
    "\\left\\{\n",
    "    \\begin{array}{ll}\n",
    "        1  & \\mbox{if } z >= \\theta \\\\\n",
    "        -1  & \\mbox{otherwise}\n",
    "    \\end{array}\n",
    "\\right.$\n",
    "\n",
    "...to designate an observation $x^i$ as belonging to the positive class '1' or the negative class '-1'. The input $z$ is the dot product of a weight vector  $\\mathbf{w}$ and an input vector $\\mathbf{x}$. Each value in vector $\\mathbf{x}$ represents a specific feature value of the observation $x^i$ and vector $\\mathbf{w}$ represents the weights associated with each feature.The equation for $z$ is...\n",
    "\n",
    "$$z = w_0x_0 + w_1x_1 + ... + w_nx_n = \\mathbf{w}^T\\mathbf{x}$$\n",
    "\n",
    "...where $n$ is the number of features associated with $x^i$. If the value of $z$ for a particular observation $x^i$ is greater than or equal to a pre-defined theshold $\\theta$, class '1' is predicted, otherwise class '-1' is predicted. \n",
    "\n",
    "#### Learning rule\n",
    "\n",
    "The perceptron 'learns' by updating its weights after each epoch, or iteration. The learning rule updates each of the $n$ weights by...\n",
    "\n",
    "$$w_j := w_j + \\Delta w_j$$\n",
    "\n",
    "...where $\\Delta w_j$ is determined by...\n",
    "\n",
    "$$\\Delta w_j = \\eta(y^i - \\hat{y}^i)x_j^i$$\n",
    "\n",
    "In this equation, \n",
    "- $w_j$ is the initial weight for the $j$th of $n$ features\n",
    "- $\\eta$ is the learning rate (typically a value between 0.0 and 1.0)\n",
    "- $y^i$ is the true class label for observation $x^i$\n",
    "- $\\hat{y}^i$ is the class label estimated by the decision function $\\phi(z)$\n",
    "- $x_j^i$ is the value of the $j$th feature for the $i$th observation and acts as a multipicative factor\n",
    "\n",
    "If $\\phi(z)$ returns the correct class label, the weight remains unchanged. If the true class is positive, but the prediction is negative, the weight is pushed in the direction of the positive class by making $x_j^i \\times w_j$ more positive by...\n",
    "\n",
    "$$\\Delta w_j = \\eta(1 - (-1))x_j^i = \\eta(2)x_j^i$$\n",
    "\n",
    "...and if the true class is negative, but the prediction is positive, the weight is pushed in the direction of the positive class by making $x_j^i \\times w_j$ more negative by...\n",
    "\n",
    "$$\\Delta w_j = \\eta(-1 - 1)x_j^i = \\eta(-2)x_j^i$$\n",
    "\n",
    "\n"
   ]
  },
  {
   "cell_type": "markdown",
   "metadata": {},
   "source": [
    "### Code: object-oriented perceptron API"
   ]
  },
  {
   "cell_type": "code",
   "execution_count": 1,
   "metadata": {
    "ExecuteTime": {
     "end_time": "2018-06-09T18:28:27.014724Z",
     "start_time": "2018-06-09T18:28:25.275435Z"
    }
   },
   "outputs": [],
   "source": [
    "import numpy as np\n",
    "\n",
    "class Perceptron(object):\n",
    "    \"\"\"\n",
    "    Perceptron classifier written from scratch.\n",
    "    \n",
    "    Parameters:\n",
    "    -eta: learning rate\n",
    "    -n_iter: number of passes through the training data\n",
    "    -random_state: seed for random weight initialization\n",
    "    \n",
    "    Attributes:\n",
    "    -w_: weights after fitting\n",
    "    -errors_: number of misclassifications in each epoch (iter)\n",
    "    \"\"\"\n",
    "    \n",
    "    def __init__(self, eta = 0.01, n_iter = 50, random_state = 1):\n",
    "        self.eta = eta\n",
    "        self.n_iter = n_iter\n",
    "        self.random_state = random_state\n",
    "    \n",
    "    def fit(self, X, y):\n",
    "        \"\"\"\n",
    "        Parameters:\n",
    "        -X: m x n matrix containing training data. Includes m samples and n features\n",
    "        \n",
    "        -y: Vector of target values. Contain m values.\n",
    "        \n",
    "        Returns:\n",
    "        self\n",
    "         \"\"\"\n",
    "        \n",
    "        rgen = np.random.RandomState(self.random_state)\n",
    "        self.w_ = rgen.normal(loc = 0.0\n",
    "                             ,scale = 0.01\n",
    "                             ,size = 1 + X.shape[1])\n",
    "        self.errors_ = []\n",
    "        \n",
    "        for _ in range(self.n_iter):\n",
    "            errors_ = 0\n",
    "            for xi, target in zip (X,y):\n",
    "                update = self.eta * (target - self.predict(xi))\n",
    "                self.w_[1:] += update * xi\n",
    "                self.w_[0] += update\n",
    "                errors += int(update != 0.0)\n",
    "            self.errors_.append(errors)\n",
    "        return self\n",
    "    \n",
    "    def net_input(self, X):\n",
    "        \"\"\"Calc net input\"\"\"\n",
    "        return np.dot(X, self.w_[1:]) + self.w_[0]\n",
    "    \n",
    "    def predict(self, X):\n",
    "        \"\"\"Return class label after unit step\"\"\"\n",
    "        return np.where(self.net_input(X) >= 0.0, 1, -1)\n",
    "        "
   ]
  },
  {
   "cell_type": "markdown",
   "metadata": {},
   "source": [
    "#### Code - explain\n",
    "\n",
    "```python\n",
    "def net_input()\n",
    "```\n",
    "Returns the dot product of a sample $x^i$ from the training data $\\mathbf{X}$ and a weight vector containing weights $w_1$ ... $w_n$. The weight $w_0$ is added on to the dot product.\n",
    "\n",
    "```python\n",
    "def predict()\n",
    "```\n",
    "\n",
    "Returns \n",
    "\n",
    "```python\n",
    "def fit()\n",
    "```\n",
    "\n",
    "Takes in an *m* row by *n* column matrix $\\mathbf{X}$ and an *m* value vector $\\mathbf{y}$. Initial weights are set to random numbers drawn from a normal distribution with a standard deviation of 0.01. The number of values in the weight vector is equal the number of columns in $\\mathbf{X}$ plus 1 (for the bias unit).\n",
    "\n",
    "The fit method runs for a specified number of iterations. Each iteration begins with 0 errors. Within each iteration, each sample in the training data $\\mathbf{X}$ along with its corresponding label in vector $\\mathbf{y}$ is evaluated. The weights are adjusted after each training sample is evaluated"
   ]
  },
  {
   "cell_type": "code",
   "execution_count": 2,
   "metadata": {
    "ExecuteTime": {
     "end_time": "2018-06-09T18:28:33.449934Z",
     "start_time": "2018-06-09T18:28:33.273880Z"
    }
   },
   "outputs": [
    {
     "ename": "NameError",
     "evalue": "name 'df' is not defined",
     "output_type": "error",
     "traceback": [
      "\u001b[0;31m---------------------------------------------------------------------------\u001b[0m",
      "\u001b[0;31mNameError\u001b[0m                                 Traceback (most recent call last)",
      "\u001b[0;32m<ipython-input-2-53349e338d4d>\u001b[0m in \u001b[0;36m<module>\u001b[0;34m()\u001b[0m\n\u001b[1;32m      1\u001b[0m \u001b[0;31m# refine label vector\u001b[0m\u001b[0;34m\u001b[0m\u001b[0;34m\u001b[0m\u001b[0m\n\u001b[0;32m----> 2\u001b[0;31m \u001b[0my\u001b[0m \u001b[0;34m=\u001b[0m \u001b[0mdf\u001b[0m\u001b[0;34m.\u001b[0m\u001b[0miloc\u001b[0m\u001b[0;34m[\u001b[0m\u001b[0;36m0\u001b[0m\u001b[0;34m:\u001b[0m\u001b[0;36m100\u001b[0m\u001b[0;34m,\u001b[0m \u001b[0;36m4\u001b[0m\u001b[0;34m]\u001b[0m\u001b[0;34m.\u001b[0m\u001b[0mvalues\u001b[0m   \u001b[0;31m# set label vector equal to the first 100 values of the 4th column\u001b[0m\u001b[0;34m\u001b[0m\u001b[0m\n\u001b[0m\u001b[1;32m      3\u001b[0m \u001b[0my\u001b[0m \u001b[0;34m=\u001b[0m \u001b[0mnp\u001b[0m\u001b[0;34m.\u001b[0m\u001b[0mwhere\u001b[0m\u001b[0;34m(\u001b[0m\u001b[0my\u001b[0m \u001b[0;34m==\u001b[0m \u001b[0;34m'Iris-setosa'\u001b[0m\u001b[0;34m,\u001b[0m \u001b[0;34m-\u001b[0m\u001b[0;36m1\u001b[0m\u001b[0;34m,\u001b[0m \u001b[0;36m1\u001b[0m\u001b[0;34m)\u001b[0m   \u001b[0;31m# encode setosa as -1, versicolor as 1\u001b[0m\u001b[0;34m\u001b[0m\u001b[0m\n\u001b[1;32m      4\u001b[0m \u001b[0;34m\u001b[0m\u001b[0m\n\u001b[1;32m      5\u001b[0m \u001b[0;31m# refine feature matrix\u001b[0m\u001b[0;34m\u001b[0m\u001b[0;34m\u001b[0m\u001b[0m\n",
      "\u001b[0;31mNameError\u001b[0m: name 'df' is not defined"
     ]
    }
   ],
   "source": [
    "# refine label vector\n",
    "y = df.iloc[0:100, 4].values   # set label vector equal to the first 100 values of the 4th column\n",
    "y = np.where(y == 'Iris-setosa', -1, 1)   # encode setosa as -1, versicolor as 1\n",
    "\n",
    "# refine feature matrix\n",
    "X = df.iloc[0:100, [0, 2]].values   # set feature matrix to first 100 values of sepal length and petall length columns\n",
    "\n",
    "rgen = np.random.RandomState(1)\n",
    "w_ = rgen.normal(loc = 0.0\n",
    "                     ,scale = 0.01\n",
    "                     ,size = 1 + X.shape[1])"
   ]
  },
  {
   "cell_type": "code",
   "execution_count": 24,
   "metadata": {
    "ExecuteTime": {
     "end_time": "2018-05-29T04:22:25.328063Z",
     "start_time": "2018-05-29T04:22:25.323476Z"
    }
   },
   "outputs": [
    {
     "name": "stdout",
     "output_type": "stream",
     "text": [
      "Full weight vector:\n"
     ]
    },
    {
     "data": {
      "text/plain": [
       "(None, array([ 0.01624345, -0.00611756, -0.00528172]))"
      ]
     },
     "execution_count": 24,
     "metadata": {},
     "output_type": "execute_result"
    }
   ],
   "source": [
    "print('Full weight vector:'), w_"
   ]
  },
  {
   "cell_type": "code",
   "execution_count": 14,
   "metadata": {
    "ExecuteTime": {
     "end_time": "2018-05-29T04:20:36.546887Z",
     "start_time": "2018-05-29T04:20:36.541619Z"
    }
   },
   "outputs": [
    {
     "data": {
      "text/plain": [
       "array([-0.00611756, -0.00528172])"
      ]
     },
     "execution_count": 14,
     "metadata": {},
     "output_type": "execute_result"
    }
   ],
   "source": [
    "w_[1:]"
   ]
  },
  {
   "cell_type": "code",
   "execution_count": 12,
   "metadata": {
    "ExecuteTime": {
     "end_time": "2018-05-29T04:19:53.852628Z",
     "start_time": "2018-05-29T04:19:53.848768Z"
    }
   },
   "outputs": [
    {
     "data": {
      "text/plain": [
       "0.01624345363663242"
      ]
     },
     "execution_count": 12,
     "metadata": {},
     "output_type": "execute_result"
    }
   ],
   "source": [
    "w_[0]"
   ]
  },
  {
   "cell_type": "code",
   "execution_count": 8,
   "metadata": {
    "ExecuteTime": {
     "end_time": "2018-05-29T04:18:26.755991Z",
     "start_time": "2018-05-29T04:18:26.751489Z"
    }
   },
   "outputs": [
    {
     "data": {
      "text/plain": [
       "array([5.1, 1.4])"
      ]
     },
     "execution_count": 8,
     "metadata": {},
     "output_type": "execute_result"
    }
   ],
   "source": [
    "X[0]"
   ]
  },
  {
   "cell_type": "code",
   "execution_count": 9,
   "metadata": {
    "ExecuteTime": {
     "end_time": "2018-05-29T04:18:33.838097Z",
     "start_time": "2018-05-29T04:18:33.834080Z"
    }
   },
   "outputs": [
    {
     "data": {
      "text/plain": [
       "-1"
      ]
     },
     "execution_count": 9,
     "metadata": {},
     "output_type": "execute_result"
    }
   ],
   "source": [
    "y[0]"
   ]
  },
  {
   "cell_type": "code",
   "execution_count": 19,
   "metadata": {
    "ExecuteTime": {
     "end_time": "2018-05-29T04:21:04.714059Z",
     "start_time": "2018-05-29T04:21:04.709220Z"
    }
   },
   "outputs": [
    {
     "data": {
      "text/plain": [
       "-0.022350527991209804"
      ]
     },
     "execution_count": 19,
     "metadata": {},
     "output_type": "execute_result"
    }
   ],
   "source": [
    "np.dot(X[0], w_[1:]) + w_[0]"
   ]
  },
  {
   "cell_type": "code",
   "execution_count": null,
   "metadata": {},
   "outputs": [],
   "source": []
  },
  {
   "cell_type": "markdown",
   "metadata": {},
   "source": [
    "#### Code - execute"
   ]
  },
  {
   "cell_type": "code",
   "execution_count": 3,
   "metadata": {
    "ExecuteTime": {
     "end_time": "2018-06-09T18:28:56.826237Z",
     "start_time": "2018-06-09T18:28:52.282709Z"
    }
   },
   "outputs": [
    {
     "data": {
      "text/html": [
       "<div>\n",
       "<style scoped>\n",
       "    .dataframe tbody tr th:only-of-type {\n",
       "        vertical-align: middle;\n",
       "    }\n",
       "\n",
       "    .dataframe tbody tr th {\n",
       "        vertical-align: top;\n",
       "    }\n",
       "\n",
       "    .dataframe thead th {\n",
       "        text-align: right;\n",
       "    }\n",
       "</style>\n",
       "<table border=\"1\" class=\"dataframe\">\n",
       "  <thead>\n",
       "    <tr style=\"text-align: right;\">\n",
       "      <th></th>\n",
       "      <th>0</th>\n",
       "      <th>1</th>\n",
       "      <th>2</th>\n",
       "      <th>3</th>\n",
       "      <th>4</th>\n",
       "    </tr>\n",
       "  </thead>\n",
       "  <tbody>\n",
       "    <tr>\n",
       "      <th>0</th>\n",
       "      <td>5.1</td>\n",
       "      <td>3.5</td>\n",
       "      <td>1.4</td>\n",
       "      <td>0.2</td>\n",
       "      <td>Iris-setosa</td>\n",
       "    </tr>\n",
       "    <tr>\n",
       "      <th>1</th>\n",
       "      <td>4.9</td>\n",
       "      <td>3.0</td>\n",
       "      <td>1.4</td>\n",
       "      <td>0.2</td>\n",
       "      <td>Iris-setosa</td>\n",
       "    </tr>\n",
       "    <tr>\n",
       "      <th>2</th>\n",
       "      <td>4.7</td>\n",
       "      <td>3.2</td>\n",
       "      <td>1.3</td>\n",
       "      <td>0.2</td>\n",
       "      <td>Iris-setosa</td>\n",
       "    </tr>\n",
       "    <tr>\n",
       "      <th>3</th>\n",
       "      <td>4.6</td>\n",
       "      <td>3.1</td>\n",
       "      <td>1.5</td>\n",
       "      <td>0.2</td>\n",
       "      <td>Iris-setosa</td>\n",
       "    </tr>\n",
       "    <tr>\n",
       "      <th>4</th>\n",
       "      <td>5.0</td>\n",
       "      <td>3.6</td>\n",
       "      <td>1.4</td>\n",
       "      <td>0.2</td>\n",
       "      <td>Iris-setosa</td>\n",
       "    </tr>\n",
       "  </tbody>\n",
       "</table>\n",
       "</div>"
      ],
      "text/plain": [
       "     0    1    2    3            4\n",
       "0  5.1  3.5  1.4  0.2  Iris-setosa\n",
       "1  4.9  3.0  1.4  0.2  Iris-setosa\n",
       "2  4.7  3.2  1.3  0.2  Iris-setosa\n",
       "3  4.6  3.1  1.5  0.2  Iris-setosa\n",
       "4  5.0  3.6  1.4  0.2  Iris-setosa"
      ]
     },
     "execution_count": 3,
     "metadata": {},
     "output_type": "execute_result"
    }
   ],
   "source": [
    "import pandas as pd\n",
    "\n",
    "# import iris dataset\n",
    "df = pd.read_csv('https://archive.ics.uci.edu/ml/'\n",
    "       'machine-learning-databases/iris/iris.data',\n",
    "       header=None)\n",
    "df[:5]"
   ]
  },
  {
   "cell_type": "code",
   "execution_count": 34,
   "metadata": {
    "ExecuteTime": {
     "end_time": "2018-05-27T22:51:48.424993Z",
     "start_time": "2018-05-27T22:51:48.274457Z"
    }
   },
   "outputs": [
    {
     "data": {
      "image/png": "[encoded data removed]",
      "text/plain": [
       "<Figure size 432x288 with 1 Axes>"
      ]
     },
     "metadata": {},
     "output_type": "display_data"
    }
   ],
   "source": [
    "import matplotlib.pyplot as plt\n",
    "\n",
    "# refine label vector\n",
    "y = df.iloc[0:100, 4].values   # set label vector equal to the first 100 values of the 4th column\n",
    "y = np.where(y == 'Iris-setosa', -1, 1)   # encode setosa as -1, versicolor as 1\n",
    "\n",
    "# refine feature matrix\n",
    "X = df.iloc[0:100, [0, 2]].values   # set feature matrix to first 100 values of sepal length and petall length columns\n",
    "\n",
    "# plot\n",
    "plt.scatter(x = X[:50,0]   # first 50 rows, 0th column\n",
    "           ,y = X[:50,1]   # first 50 rows, 1st column\n",
    "           ,color = 'r'\n",
    "           ,marker = 'o'\n",
    "           ,label = 'setosa')\n",
    "plt.scatter(x = X[50:100, 0]\n",
    "           ,y = X[50:100, 1]\n",
    "           ,color = 'b'\n",
    "           ,marker = 'x'\n",
    "           ,label = 'versicolor')\n",
    "plt.xlabel('sepal length [cm]')\n",
    "plt.ylabel('petal length [cm]')\n",
    "plt.legend(loc='upper left')\n",
    "plt.show()"
   ]
  },
  {
   "cell_type": "code",
   "execution_count": null,
   "metadata": {
    "ExecuteTime": {
     "end_time": "2018-05-27T22:56:09.028573Z",
     "start_time": "2018-05-27T22:56:09.008047Z"
    },
    "scrolled": false
   },
   "outputs": [],
   "source": [
    "ppn = Perceptron(eta = 0.1, n_iter = 10)\n",
    "ppn.fit(X, y)\n",
    "plt.plot(x = range(1, len(ppn.errors_) + 1)\n",
    "        ,y = ppn.errors_\n",
    "        ,marker = 'o')\n",
    "plt.xlabel('Epochs')\n",
    "plt.ylabel('Number of updates')\n",
    "plt.show()"
   ]
  },
  {
   "cell_type": "code",
   "execution_count": null,
   "metadata": {},
   "outputs": [],
   "source": [
    "from matplotlib.colors import ListedColormap\n",
    "\n",
    "def plot_dfecision_regions(X, y, classifier, resolution = 0.02):\n",
    "    \n",
    "    # marker generator and colormap\n",
    "    markers = ['s', 'x', 'o', '^', 'v']\n",
    "    colors = ('red','blue','lightgreen','gray','cyan')\n",
    "    \n",
    "    # decision surface\n",
    "    x1_min, x1_max = X[:, 0].min() - 1, X[:, 0].max() + 1\n",
    "    x2_min, x2_max = X[:, 1].min() - 1, X[:, 1].max() + 1\n",
    "    xx1, xx2 = np.meshgrid(np.arange(x1_min, x1_max, resolution)\n",
    "                          ,np.arange(x1_min, x1_max, resolution))\n",
    "    Z = classifier.predict(np.array([xx1.ravel(), xx2.ravel()]).T)\n",
    "    Z = Z.reshape(xx1.shape)\n",
    "    \n",
    "    plt.contourf(xx1\n",
    "                ,xx2\n",
    "                ,Z\n",
    "                ,alpha = 0.3\n",
    "                ,cmap = cmap)\n",
    "    plt.xlim(xx1.min(), xx1.max())\n",
    "    plt.ylim(xx2.min(), xx2.max())\n",
    "    \n",
    "    # plot class samples\n",
    "    for idx, cl in enumerate(np.unique(y)):\n",
    "        plt.scatter(x = X[y == cl, 0]\n",
    "                   ,y = X[y == cl, 1]\n",
    "                   ,alpha = 0.8\n",
    "                   ,c = colors[idx]\n",
    "                   ,marker = markers[idx]\n",
    "                   ,label = class,edgecolor = 'black')\n",
    "    "
   ]
  },
  {
   "cell_type": "markdown",
   "metadata": {
    "heading_collapsed": true
   },
   "source": [
    "# Side quest - What are classes and why should I use them?\n",
    "\n",
    "I'll admit that I only have a basic understanding of Classes as I type this. Given that the perceptron API above is object-oriented in approach, I am making a side quest here to educate myself on Class and why I should use them."
   ]
  },
  {
   "cell_type": "code",
   "execution_count": null,
   "metadata": {
    "hidden": true
   },
   "outputs": [],
   "source": []
  },
  {
   "cell_type": "code",
   "execution_count": null,
   "metadata": {
    "hidden": true
   },
   "outputs": [],
   "source": []
  },
  {
   "cell_type": "code",
   "execution_count": null,
   "metadata": {
    "hidden": true
   },
   "outputs": [],
   "source": []
  }
 ],
 "metadata": {
  "author": "",
  "kernelspec": {
   "display_name": "Python 3",
   "language": "python",
   "name": "python3"
  },
  "language_info": {
   "codemirror_mode": {
    "name": "ipython",
    "version": 3
   },
   "file_extension": ".py",
   "mimetype": "text/x-python",
   "name": "python",
   "nbconvert_exporter": "python",
   "pygments_lexer": "ipython3",
   "version": "3.6.5"
  },
  "latex_envs": {
   "LaTeX_envs_menu_present": true,
   "autoclose": false,
   "autocomplete": true,
   "bibliofile": "biblio.bib",
   "cite_by": "apalike",
   "current_citInitial": 1,
   "eqLabelWithNumbers": true,
   "eqNumInitial": 1,
   "hotkeys": {
    "equation": "Ctrl-E",
    "itemize": "Ctrl-I"
   },
   "labels_anchors": false,
   "latex_user_defs": false,
   "report_style_numbering": false,
   "user_envs_cfg": false
  },
  "toc": {
   "base_numbering": 1,
   "nav_menu": {},
   "number_sections": true,
   "sideBar": true,
   "skip_h1_title": false,
   "title_cell": "Table of Contents",
   "title_sidebar": "Contents",
   "toc_cell": false,
   "toc_position": {
    "height": "calc(100% - 180px)",
    "left": "10px",
    "top": "150px",
    "width": "231px"
   },
   "toc_section_display": true,
   "toc_window_display": true
  },
  "varInspector": {
   "cols": {
    "lenName": 16,
    "lenType": 16,
    "lenVar": 40
   },
   "kernels_config": {
    "python": {
     "delete_cmd_postfix": "",
     "delete_cmd_prefix": "del ",
     "library": "var_list.py",
     "varRefreshCmd": "print(var_dic_list())"
    },
    "r": {
     "delete_cmd_postfix": ") ",
     "delete_cmd_prefix": "rm(",
     "library": "var_list.r",
     "varRefreshCmd": "cat(var_dic_list()) "
    }
   },
   "types_to_exclude": [
    "module",
    "function",
    "builtin_function_or_method",
    "instance",
    "_Feature"
   ],
   "window_display": false
  }
 },
 "nbformat": 4,
 "nbformat_minor": 2
}
